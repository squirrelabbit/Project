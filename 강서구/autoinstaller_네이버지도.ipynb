{
 "cells": [
  {
   "cell_type": "code",
   "execution_count": 1,
   "metadata": {
    "scrolled": true
   },
   "outputs": [
    {
     "name": "stdout",
     "output_type": "stream",
     "text": [
      "Requirement already satisfied: chromedriver_autoinstaller in c:\\programdata\\anaconda3\\lib\\site-packages (0.3.1)\n"
     ]
    }
   ],
   "source": [
    "!pip install chromedriver_autoinstaller"
   ]
  },
  {
   "cell_type": "code",
   "execution_count": 2,
   "metadata": {
    "id": "855Mo76s-kvl"
   },
   "outputs": [],
   "source": [
    "# 네이버에서 검색어 입력받아 검색 한 후 블로그 메뉴를 선택하고\n",
    "# 오른쪽에 있는 검색옵션 버튼을 눌러서\n",
    "# 정렬 방식과 기간을 입력하기\n",
    "\n",
    "#Step 0. 필요한 모듈과 라이브러리를 로딩합니다.\n",
    "import sys # 시스템\n",
    "import os  # 시스템\n",
    "\n",
    "import pandas as pd  # 판다스 : 데이터분석 라이브러리\n",
    "import numpy as np   # 넘파이 : 숫자, 행렬 데이터 라이브러리\n",
    "\n",
    "from bs4 import BeautifulSoup    # html 데이터를 전처리\n",
    "from selenium import webdriver   # 웹 브라우저 자동화\n",
    "from selenium.webdriver.common.keys import Keys\n",
    "import chromedriver_autoinstaller\n",
    "\n",
    "import time    # 서버와 통신할 때 중간중간 시간 지연. 보통은 1초\n",
    "from tqdm import tqdm_notebook   # for문 돌릴 때 진행상황을 %게이지로 알려준다.\n",
    "\n",
    "# 워닝 무시\n",
    "import warnings\n",
    "warnings.filterwarnings('ignore')"
   ]
  },
  {
   "cell_type": "code",
   "execution_count": 3,
   "metadata": {},
   "outputs": [],
   "source": [
    "# !pip install selenium"
   ]
  },
  {
   "cell_type": "markdown",
   "metadata": {
    "id": "MniuiSeb-kvp"
   },
   "source": [
    "# 1. 크롤링할 블로그 url 수집하기"
   ]
  },
  {
   "cell_type": "code",
   "execution_count": 4,
   "metadata": {
    "code_folding": [],
    "colab": {
     "base_uri": "https://localhost:8080/",
     "height": 239
    },
    "executionInfo": {
     "elapsed": 5,
     "status": "error",
     "timestamp": 1622793307717,
     "user": {
      "displayName": "Hyeok Lee",
      "photoUrl": "",
      "userId": "09184002132621914803"
     },
     "user_tz": -540
    },
    "id": "buplEXzx-kvq",
    "outputId": "11751daa-2f59-4a1d-d6a7-ca9282d20c33"
   },
   "outputs": [],
   "source": [
    "# Step 1. 크롬 웹브라우저 실행\n",
    "# pip install chromedriver_autoinstaller\n",
    "chrome_path = chromedriver_autoinstaller.install()\n",
    "driver = webdriver.Chrome(chrome_path)\n",
    "\n",
    "# 사이트 주소는 네이버\n",
    "driver.get('https://map.naver.com/')\n",
    "time.sleep(2)  # 2초간 정지"
   ]
  },
  {
   "cell_type": "code",
   "execution_count": 5,
   "metadata": {},
   "outputs": [],
   "source": [
    "keywords = ['신림동 1516-7번지 ','흑석역','용인시 기흥구 동백8로 90']  # 크롤링하고 싶은 아이돌 이름 추가\n",
    "\n",
    "destinations=[]"
   ]
  },
  {
   "cell_type": "code",
   "execution_count": 28,
   "metadata": {
    "scrolled": true
   },
   "outputs": [
    {
     "data": {
      "text/html": [
       "<div>\n",
       "<style scoped>\n",
       "    .dataframe tbody tr th:only-of-type {\n",
       "        vertical-align: middle;\n",
       "    }\n",
       "\n",
       "    .dataframe tbody tr th {\n",
       "        vertical-align: top;\n",
       "    }\n",
       "\n",
       "    .dataframe thead th {\n",
       "        text-align: right;\n",
       "    }\n",
       "</style>\n",
       "<table border=\"1\" class=\"dataframe\">\n",
       "  <thead>\n",
       "    <tr style=\"text-align: right;\">\n",
       "      <th></th>\n",
       "      <th>전철역코드</th>\n",
       "      <th>전철역명</th>\n",
       "      <th>호선</th>\n",
       "      <th>외부코드</th>\n",
       "    </tr>\n",
       "  </thead>\n",
       "  <tbody>\n",
       "    <tr>\n",
       "      <th>0</th>\n",
       "      <td>0159</td>\n",
       "      <td>동묘앞</td>\n",
       "      <td>01호선</td>\n",
       "      <td>127</td>\n",
       "    </tr>\n",
       "    <tr>\n",
       "      <th>1</th>\n",
       "      <td>0416</td>\n",
       "      <td>미아사거리</td>\n",
       "      <td>04호선</td>\n",
       "      <td>416</td>\n",
       "    </tr>\n",
       "    <tr>\n",
       "      <th>2</th>\n",
       "      <td>0423</td>\n",
       "      <td>충무로</td>\n",
       "      <td>04호선</td>\n",
       "      <td>423</td>\n",
       "    </tr>\n",
       "    <tr>\n",
       "      <th>3</th>\n",
       "      <td>1004</td>\n",
       "      <td>노량진</td>\n",
       "      <td>01호선</td>\n",
       "      <td>136</td>\n",
       "    </tr>\n",
       "    <tr>\n",
       "      <th>4</th>\n",
       "      <td>1010</td>\n",
       "      <td>한남</td>\n",
       "      <td>경의선</td>\n",
       "      <td>K113</td>\n",
       "    </tr>\n",
       "    <tr>\n",
       "      <th>...</th>\n",
       "      <td>...</td>\n",
       "      <td>...</td>\n",
       "      <td>...</td>\n",
       "      <td>...</td>\n",
       "    </tr>\n",
       "    <tr>\n",
       "      <th>754</th>\n",
       "      <td>4512</td>\n",
       "      <td>운동장.송담대</td>\n",
       "      <td>용인경전철</td>\n",
       "      <td>Y120</td>\n",
       "    </tr>\n",
       "    <tr>\n",
       "      <th>755</th>\n",
       "      <td>4513</td>\n",
       "      <td>고진</td>\n",
       "      <td>용인경전철</td>\n",
       "      <td>Y121</td>\n",
       "    </tr>\n",
       "    <tr>\n",
       "      <th>756</th>\n",
       "      <td>4514</td>\n",
       "      <td>보평</td>\n",
       "      <td>용인경전철</td>\n",
       "      <td>Y123</td>\n",
       "    </tr>\n",
       "    <tr>\n",
       "      <th>757</th>\n",
       "      <td>4515</td>\n",
       "      <td>둔전</td>\n",
       "      <td>용인경전철</td>\n",
       "      <td>Y125</td>\n",
       "    </tr>\n",
       "    <tr>\n",
       "      <th>758</th>\n",
       "      <td>4601</td>\n",
       "      <td>발곡</td>\n",
       "      <td>의정부경전철</td>\n",
       "      <td>U110</td>\n",
       "    </tr>\n",
       "  </tbody>\n",
       "</table>\n",
       "<p>759 rows × 4 columns</p>\n",
       "</div>"
      ],
      "text/plain": [
       "    전철역코드     전철역명      호선  외부코드\n",
       "0    0159      동묘앞    01호선   127\n",
       "1    0416    미아사거리    04호선   416\n",
       "2    0423      충무로    04호선   423\n",
       "3    1004      노량진    01호선   136\n",
       "4    1010       한남     경의선  K113\n",
       "..    ...      ...     ...   ...\n",
       "754  4512  운동장.송담대   용인경전철  Y120\n",
       "755  4513       고진   용인경전철  Y121\n",
       "756  4514       보평   용인경전철  Y123\n",
       "757  4515       둔전   용인경전철  Y125\n",
       "758  4601       발곡  의정부경전철  U110\n",
       "\n",
       "[759 rows x 4 columns]"
      ]
     },
     "execution_count": 28,
     "metadata": {},
     "output_type": "execute_result"
    }
   ],
   "source": [
    "# \"seoul_subway.csv\" 불러오기\n",
    "data = pd.read_csv(\"seoul_subway.csv\",encoding='cp949')\n",
    "data"
   ]
  },
  {
   "cell_type": "code",
   "execution_count": 29,
   "metadata": {},
   "outputs": [
    {
     "name": "stdout",
     "output_type": "stream",
     "text": [
      "0          동묘앞역\n",
      "1        미아사거리역\n",
      "2          충무로역\n",
      "3          노량진역\n",
      "4           한남역\n",
      "         ...   \n",
      "754    운동장.송담대역\n",
      "755         고진역\n",
      "756         보평역\n",
      "757         둔전역\n",
      "758         발곡역\n",
      "Name: 전철역명, Length: 759, dtype: object\n"
     ]
    },
    {
     "data": {
      "text/plain": [
       "759"
      ]
     },
     "execution_count": 29,
     "metadata": {},
     "output_type": "execute_result"
    }
   ],
   "source": [
    "data['전철역명']=data['전철역명']+'역'\n",
    "destinations=data['전철역명']\n",
    "print(destinations)\n",
    "len(destinations)"
   ]
  },
  {
   "cell_type": "code",
   "execution_count": 83,
   "metadata": {},
   "outputs": [
    {
     "name": "stdout",
     "output_type": "stream",
     "text": [
      "['1시간 11분']\n"
     ]
    },
    {
     "ename": "AttributeError",
     "evalue": "'dict' object has no attribute 'info'",
     "output_type": "error",
     "traceback": [
      "\u001b[1;31m---------------------------------------------------------------------------\u001b[0m",
      "\u001b[1;31mAttributeError\u001b[0m                            Traceback (most recent call last)",
      "\u001b[1;32m~\\AppData\\Local\\Temp/ipykernel_9080/195297248.py\u001b[0m in \u001b[0;36m<module>\u001b[1;34m\u001b[0m\n\u001b[0;32m      6\u001b[0m \u001b[0mprint\u001b[0m\u001b[1;33m(\u001b[0m\u001b[0mb_list\u001b[0m\u001b[1;33m)\u001b[0m\u001b[1;33m\u001b[0m\u001b[1;33m\u001b[0m\u001b[0m\n\u001b[0;32m      7\u001b[0m \u001b[0mdict\u001b[0m\u001b[1;33m=\u001b[0m\u001b[1;33m{\u001b[0m\u001b[0mdestination\u001b[0m\u001b[1;33m:\u001b[0m\u001b[0mb_list\u001b[0m\u001b[1;33m}\u001b[0m\u001b[1;33m\u001b[0m\u001b[1;33m\u001b[0m\u001b[0m\n\u001b[1;32m----> 8\u001b[1;33m \u001b[0mprint\u001b[0m\u001b[1;33m(\u001b[0m\u001b[0mdict\u001b[0m\u001b[1;33m.\u001b[0m\u001b[0minfo\u001b[0m\u001b[1;33m)\u001b[0m\u001b[1;33m\u001b[0m\u001b[1;33m\u001b[0m\u001b[0m\n\u001b[0m",
      "\u001b[1;31mAttributeError\u001b[0m: 'dict' object has no attribute 'info'"
     ]
    }
   ],
   "source": [
    "a=driver.find_elements_by_xpath('//*[@id=\"container\"]/shrinkable-layout/div/directions-layout/directions-result/div[1]/directions-summary-list/directions-hover-scroll/div/div/directions-summary-item-pubtransit[1]/div[1]/strong/readable-duration')\n",
    "b_list=[]\n",
    "for i in a:\n",
    "    b=i.text\n",
    "    b_list.append(b)\n",
    "print(b_list)\n",
    "dict={destination:b_list}\n",
    "print(dict.info)"
   ]
  },
  {
   "cell_type": "code",
   "execution_count": 85,
   "metadata": {
    "scrolled": true
   },
   "outputs": [
    {
     "data": {
      "application/vnd.jupyter.widget-view+json": {
       "model_id": "7b889384c646474d9e4d1473834e7022",
       "version_major": 2,
       "version_minor": 0
      },
      "text/plain": [
       "  0%|          | 0/3 [00:00<?, ?it/s]"
      ]
     },
     "metadata": {},
     "output_type": "display_data"
    },
    {
     "data": {
      "application/vnd.jupyter.widget-view+json": {
       "model_id": "9830c801ff2b49659afce1d500f9c85f",
       "version_major": 2,
       "version_minor": 0
      },
      "text/plain": [
       "  0%|          | 0/759 [00:00<?, ?it/s]"
      ]
     },
     "metadata": {},
     "output_type": "display_data"
    },
    {
     "name": "stdout",
     "output_type": "stream",
     "text": [
      "동묘앞역 ['1시간 1분']\n",
      "미아사거리역 ['1시간 1분']\n",
      "충무로역 ['58분']\n",
      "노량진역 ['35분']\n",
      "한남역 ['58분']\n",
      "운정역 ['58분']\n",
      "금촌역 ['58분']\n",
      "문산역 ['58분']\n",
      "청량리역 ['1시간 10분']\n",
      "망우역 ['1시간 10분']\n",
      "신내역 ['1시간 10분']\n",
      "별내역 ['1시간 10분']\n",
      "퇴계원역 ['1시간 10분']\n",
      "사릉역 ['1시간 10분']\n",
      "금곡역 ['1시간 10분']\n",
      "평내호평역 ['1시간 10분']\n",
      "천마산역 ['1시간 10분']\n",
      "마석역 ['1시간 10분']\n",
      "대성리역 ['1시간 10분']\n",
      "청평역 ['1시간 10분']\n",
      "상천역 ['1시간 10분']\n",
      "굴봉산역 ['1시간 10분']\n",
      "백양리역 ['1시간 10분']\n",
      "강촌역 ['1시간 10분']\n",
      "남춘천역 ['1시간 10분']\n",
      "춘천역 ['1시간 10분']\n",
      "봉명역 ['1시간 10분']\n",
      "아산역 ['1시간 10분']\n",
      "탕정역 ['2시간 19분']\n",
      "배방역 ['2시간 19분']\n",
      "신창역 ['2시간 19분']\n",
      "판교역 ['2시간 19분']\n",
      "구로역 ['31분']\n"
     ]
    },
    {
     "ename": "KeyboardInterrupt",
     "evalue": "",
     "output_type": "error",
     "traceback": [
      "\u001b[1;31m---------------------------------------------------------------------------\u001b[0m",
      "\u001b[1;31mKeyboardInterrupt\u001b[0m                         Traceback (most recent call last)",
      "\u001b[1;32m~\\AppData\\Local\\Temp/ipykernel_9080/1319097506.py\u001b[0m in \u001b[0;36m<module>\u001b[1;34m\u001b[0m\n\u001b[0;32m     31\u001b[0m \u001b[1;33m\u001b[0m\u001b[0m\n\u001b[0;32m     32\u001b[0m         \u001b[0mend_box\u001b[0m\u001b[1;33m.\u001b[0m\u001b[0mclear\u001b[0m\u001b[1;33m(\u001b[0m\u001b[1;33m)\u001b[0m\u001b[1;33m\u001b[0m\u001b[1;33m\u001b[0m\u001b[0m\n\u001b[1;32m---> 33\u001b[1;33m         \u001b[0mtime\u001b[0m\u001b[1;33m.\u001b[0m\u001b[0msleep\u001b[0m\u001b[1;33m(\u001b[0m\u001b[1;36m2\u001b[0m\u001b[1;33m)\u001b[0m\u001b[1;33m\u001b[0m\u001b[1;33m\u001b[0m\u001b[0m\n\u001b[0m\u001b[0;32m     34\u001b[0m \u001b[1;33m\u001b[0m\u001b[0m\n\u001b[0;32m     35\u001b[0m \u001b[1;33m\u001b[0m\u001b[0m\n",
      "\u001b[1;31mKeyboardInterrupt\u001b[0m: "
     ]
    }
   ],
   "source": [
    "\n",
    "element = driver.find_element_by_xpath('//*[@id=\"sidebar\"]/navbar/perfect-scrollbar/div/div[1]/div/ul/li[2]/a')\n",
    "element.click()\n",
    "time.sleep(1)\n",
    "for keyword in tqdm_notebook(keywords):\n",
    "    # 검색창에 검색어 입력하기\n",
    "\n",
    "    start_box = driver.find_element_by_xpath('//*[@id=\"directionStart0\"]')\n",
    "    start_box.send_keys(keyword)\n",
    "    time.sleep(1)\n",
    "    start_box.send_keys(Keys.ENTER)\n",
    "    start_box.send_keys(Keys.ENTER)\n",
    "    time.sleep(1)\n",
    "    \n",
    "    for destination in tqdm_notebook(destinations):\n",
    "        end_box = driver.find_element_by_xpath('//*[@id=\"directionGoal1\"]')\n",
    "        end_box.send_keys(destination)\n",
    "        time.sleep(1)\n",
    "        end_box.send_keys(Keys.ENTER)\n",
    "        end_box.send_keys(Keys.ENTER)\n",
    "        time.sleep(1)\n",
    "        end_box.send_keys(Keys.ENTER)\n",
    "        time.sleep(1)\n",
    "        timing=driver.find_elements_by_xpath('//*[@id=\"container\"]/shrinkable-layout/div/directions-layout/directions-result/div[1]/directions-summary-list/directions-hover-scroll/div/div/directions-summary-item-pubtransit[1]/div[1]/strong/readable-duration')\n",
    "\n",
    "        for i in timing:\n",
    "            t_list=[]\n",
    "            b=i.text\n",
    "            t_list.append(b)\n",
    "            time.sleep(1)\n",
    "        print(destination, t_list)\n",
    "       \n",
    "        end_box.clear()\n",
    "        time.sleep(2)    \n",
    "        \n",
    "    \n",
    "    "
   ]
  },
  {
   "cell_type": "code",
   "execution_count": 34,
   "metadata": {
    "scrolled": true
   },
   "outputs": [
    {
     "ename": "NameError",
     "evalue": "name 'title_list' is not defined",
     "output_type": "error",
     "traceback": [
      "\u001b[1;31m---------------------------------------------------------------------------\u001b[0m",
      "\u001b[1;31mNameError\u001b[0m                                 Traceback (most recent call last)",
      "\u001b[1;32m~\\AppData\\Local\\Temp/ipykernel_34116/57707518.py\u001b[0m in \u001b[0;36m<module>\u001b[1;34m\u001b[0m\n\u001b[0;32m      1\u001b[0m \u001b[1;31m# 판다스로 만들기\u001b[0m\u001b[1;33m\u001b[0m\u001b[1;33m\u001b[0m\u001b[0m\n\u001b[1;32m----> 2\u001b[1;33m \u001b[0mdf\u001b[0m \u001b[1;33m=\u001b[0m \u001b[0mpd\u001b[0m\u001b[1;33m.\u001b[0m\u001b[0mDataFrame\u001b[0m\u001b[1;33m(\u001b[0m\u001b[1;33m{\u001b[0m\u001b[1;34m'title'\u001b[0m\u001b[1;33m:\u001b[0m\u001b[0mtitle_list\u001b[0m\u001b[1;33m,\u001b[0m \u001b[1;34m'view'\u001b[0m\u001b[1;33m:\u001b[0m\u001b[0mview_list\u001b[0m\u001b[1;33m}\u001b[0m\u001b[1;33m)\u001b[0m\u001b[1;33m\u001b[0m\u001b[1;33m\u001b[0m\u001b[0m\n\u001b[0m\u001b[0;32m      3\u001b[0m \u001b[1;33m\u001b[0m\u001b[0m\n\u001b[0;32m      4\u001b[0m \u001b[1;31m# csv파일로 저장\u001b[0m\u001b[1;33m\u001b[0m\u001b[1;33m\u001b[0m\u001b[0m\n\u001b[0;32m      5\u001b[0m \u001b[0mdf\u001b[0m\u001b[1;33m.\u001b[0m\u001b[0mto_csv\u001b[0m\u001b[1;33m(\u001b[0m\u001b[1;34m'youtube_view({}).csv'\u001b[0m\u001b[1;33m.\u001b[0m\u001b[0mformat\u001b[0m\u001b[1;33m(\u001b[0m\u001b[0mkeyword\u001b[0m\u001b[1;33m)\u001b[0m\u001b[1;33m,\u001b[0m \u001b[0mencoding\u001b[0m\u001b[1;33m=\u001b[0m\u001b[1;34m'utf-8-sig'\u001b[0m\u001b[1;33m)\u001b[0m\u001b[1;33m\u001b[0m\u001b[1;33m\u001b[0m\u001b[0m\n",
      "\u001b[1;31mNameError\u001b[0m: name 'title_list' is not defined"
     ]
    }
   ],
   "source": [
    "    # 판다스로 만들기\n",
    "    df = pd.DataFrame({'title':title_list, 'view':view_list})\n",
    "    \n",
    "    # csv파일로 저장\n",
    "    df.to_csv('youtube_view({}).csv'.format(keyword), encoding='utf-8-sig')"
   ]
  },
  {
   "cell_type": "code",
   "execution_count": null,
   "metadata": {},
   "outputs": [],
   "source": []
  },
  {
   "cell_type": "code",
   "execution_count": null,
   "metadata": {},
   "outputs": [],
   "source": []
  },
  {
   "cell_type": "code",
   "execution_count": 22,
   "metadata": {
    "code_folding": [],
    "id": "uiwhXvob-kvq"
   },
   "outputs": [],
   "source": [
    "# Step 2. 네이버 검색창에 \"검색어\" 검색\n",
    "element = driver.find_element_by_css_selector(\".link_navbar directions\"\")\n",
    "element.send_keys(query_txt)  # query_txt는 위에서 입력한 키워드\n",
    "element.submit()\n",
    "time.sleep(1)"
   ]
  },
  {
   "cell_type": "code",
   "execution_count": 23,
   "metadata": {
    "code_folding": [],
    "id": "uiwhXvob-kvq"
   },
   "outputs": [],
   "source": [
    "# 'VIEW' 클릭\n",
    "driver.find_element_by_link_text(\"VIEW\").click( )\n",
    "time.sleep(1)"
   ]
  },
  {
   "cell_type": "code",
   "execution_count": 24,
   "metadata": {
    "code_folding": [],
    "id": "uiwhXvob-kvq"
   },
   "outputs": [],
   "source": [
    "# '블로그' 클릭\n",
    "driver.find_element_by_link_text(\"블로그\").click( )\n",
    "time.sleep(1)"
   ]
  },
  {
   "cell_type": "code",
   "execution_count": 25,
   "metadata": {
    "code_folding": [],
    "id": "uiwhXvob-kvq"
   },
   "outputs": [],
   "source": [
    "# '옵션' 클릭\n",
    "driver.find_element_by_link_text(\"옵션\").click( )\n",
    "time.sleep(1)"
   ]
  },
  {
   "cell_type": "code",
   "execution_count": 26,
   "metadata": {
    "code_folding": [],
    "id": "X537FPoE-kvq",
    "outputId": "2e7df665-1fd7-4fd0-dcc9-65b6a12c7a6d"
   },
   "outputs": [
    {
     "name": "stdout",
     "output_type": "stream",
     "text": [
      "전체\n",
      "블로그\n",
      "카페\n",
      "관련도순\n",
      "최신순\n",
      "전체\n",
      "1시간\n",
      "1일\n",
      "1주\n",
      "1개월\n",
      "3개월\n",
      "6개월\n",
      "1년\n",
      "직접입력옵션펼치기\n"
     ]
    }
   ],
   "source": [
    "# 검색옵션 확인\n",
    "item_li = driver.find_elements_by_css_selector('.option .txt')\n",
    "\n",
    "for i in range(0, len(item_li)):\n",
    "    print(item_li[i].text)"
   ]
  },
  {
   "cell_type": "code",
   "execution_count": 27,
   "metadata": {
    "id": "YNdHtrki-kvr",
    "outputId": "e7fde35f-3b2b-4cde-a4f6-006975ff383c"
   },
   "outputs": [
    {
     "name": "stdout",
     "output_type": "stream",
     "text": [
      "6개월\n"
     ]
    }
   ],
   "source": [
    "# 검색기간 '3개월' 클릭\n",
    "print(item_li[11].text)"
   ]
  },
  {
   "cell_type": "code",
   "execution_count": 28,
   "metadata": {
    "id": "YNdHtrki-kvr",
    "outputId": "e7fde35f-3b2b-4cde-a4f6-006975ff383c",
    "scrolled": true
   },
   "outputs": [],
   "source": [
    "item_li[11].click()"
   ]
  },
  {
   "cell_type": "code",
   "execution_count": 20,
   "metadata": {
    "id": "OyFhrsrA-kvr"
   },
   "outputs": [],
   "source": [
    "# 스크롤 다운\n",
    "# driver.execute_script(\"window.scrollTo(0, 500)\")\n",
    "# time.sleep(2)\n",
    "\n",
    "# 스크롤을 밑으로 내려주는 함수\n",
    "def scroll_down(driver):\n",
    "    driver.execute_script(\"window.scrollTo(0, 19431049)\")\n",
    "    time.sleep(1)\n",
    "\n",
    "# n: 스크롤할 횟수 설정\n",
    "n = 4  # 스크롤 1번 당 30개씩\n",
    "i = 0\n",
    "while i < n: # 이 조건이 만족되는 동안 반복 실행\n",
    "    scroll_down(driver) # 스크롤 다운\n",
    "    i = i+1"
   ]
  },
  {
   "cell_type": "code",
   "execution_count": 29,
   "metadata": {
    "id": "35cdGv2g-kvr",
    "outputId": "b04e2570-7061-4bc9-fdaf-d0862d6d2e7e"
   },
   "outputs": [
    {
     "data": {
      "text/plain": [
       "<selenium.webdriver.remote.webelement.WebElement (session=\"435131abbbd5eaf6f719641a20e0f89b\", element=\"95ce6edf-b9ec-4d1d-be52-73e562a2915b\")>"
      ]
     },
     "execution_count": 29,
     "metadata": {},
     "output_type": "execute_result"
    }
   ],
   "source": [
    "# 블로그 글 url들 수집\n",
    "url_list = []\n",
    "title_list = []\n",
    "\n",
    "# URL_raw 크롤링 시작\n",
    "articles = \".api_txt_lines.total_tit\"\n",
    "article_raw = driver.find_elements_by_css_selector(articles)\n",
    "article_raw[0]"
   ]
  },
  {
   "cell_type": "code",
   "execution_count": 30,
   "metadata": {
    "id": "lS4BWdhY-kvr",
    "outputId": "325f828f-c25d-46e4-89d2-df3cdf39dc3d"
   },
   "outputs": [
    {
     "data": {
      "text/plain": [
       "'https://blog.naver.com/ranboy?Redirect=Log&logNo=222576269453'"
      ]
     },
     "execution_count": 30,
     "metadata": {},
     "output_type": "execute_result"
    }
   ],
   "source": [
    "article_raw[0].get_attribute('href')"
   ]
  },
  {
   "cell_type": "code",
   "execution_count": 73,
   "metadata": {
    "id": "c4oJ0A0S-kvs",
    "outputId": "bd3015c2-0b1e-472e-f2a5-1df89f81cf67",
    "scrolled": true
   },
   "outputs": [
    {
     "name": "stdout",
     "output_type": "stream",
     "text": [
      "여의도 더현대 맛집 :: 취향대로 골라 먹기, 잇샐러드\n",
      "여의도 더현대 맛집 혼자 먹은 쌀국수 미쳤다\n",
      "일품이었던 여의도 더현대 맛집\n",
      "손꼽았던 더현대 서울 맛집\n",
      "여의도 더현대 카페 레이어드 서울 스콘 맛집 인정\n",
      "더현대 수제버거 맛집 - 번패티번 사진 및 후기\n",
      "여의도 중식 헤이웍by초류향 더현대 맛집으로 인정!\n",
      "[여의도 더현대 맛집] 로바 - 회식하기 딱이야 125,000원...\n",
      "더현대 맛집 냄비요리연구소 내돈내산\n",
      "더현대 서울 맛집모음 \"마츠노하나, 수티, 번패티번, 카페\"\n",
      "더현대 서울 지하 1층 맛집과 카페들(Feat. 카페 레이어드)\n",
      "더현대 맛집, 번패티번 카멜커피 아기랑 핫플투어\n",
      "여의도 더현대 맛집 중식 헤이웍 by 초류향\n",
      "여의도 더현대 맛집, 여의도중식 헤이웍by 초류향 별미네요!\n",
      "여의도 더현대 맛집 헤이웍by초류향 중식 추천\n",
      "맛집;) 여의도 더현대 #에그슬럿 #카멜커피 #태극당\n",
      "여의도 더현대 맛집 헤이웍 by 초류향 중식 추천\n",
      "[서울] 여의도 더현대 호우섬 (왜 맛집이죠?)\n",
      "여의도 맛집 콩국수 명가 진주집과 더현대 서울 블루보틀...\n",
      "(여의도맛집) 더현대 나이스타임 '올드페리 도넛' 후기\n",
      "여의도 더현대 호우섬_딤섬맛집_내돈내산후기\n",
      "여의도 더현대 근처 맛집 한암동\n",
      "♥여의도 더현대 맛집 - '헤이웍 BY 초류향'에서 중식 1인정식...\n",
      "더현대 맛집 호우섬 / 솥밥 필수 홍콩 맛집\n",
      "[여의도 더현대 맛집] 코리안 바베큐 전문점 : Sooty (수티)\n",
      "와필레 더현대 서울 와플 맛집\n",
      "[더현대 맛집] 미쉐린 가이드에... 한식 맛집(칼국수&고기덮밥)\n",
      "[테일러 커피] 더현대 서울 크림모카 커피 맛집\n",
      "여의도 더현대 맛집 베트남 쌀국수 @효뜨(HIEUTU)\n",
      "여의도 맛집 핫플 : IFC 쓰리버즈 브런치, 더현대 블루보틀...\n",
      "(여의도 더현대) TAILOR COFFEE 테일러커피 크림모카커피 맛집\n",
      "더현대 디저트 맛집 더플레이트디저트 밀푀유슈\n",
      "더현대 맛집 SMT라운지,홍콩+멕시코 음식점이지만 칵테일에...\n",
      "여의도 더현대 빵투어 1탄: 스콘맛집 '카페 레이어드'\n",
      "여의도 더현대 맛집추천 호우섬 테일러커피\n",
      "중식 메뉴로 핫한 여의도 더현대 맛집 헤이웍 by 초류향\n",
      "여의도 더현대 맛집] 라그릴리아 더현대서울점\n",
      "더현대 디저트 특색 있는 달콤한 선물용 디저트 맛집 추천!\n",
      "여의도 더현대 맛집 '랑만' 푸짐행\n",
      "더현대 맛집 번패티번, 여의도, 서초, 세종, 현백 수제햄버거 맛집\n",
      "여의도 더현대 맛집 호우삼 딤섬정복(웨이팅팁)\n",
      "여의도 더현대 맛집, 이탈리 (커플메뉴 후기) 실망\n",
      "여의도 더현대 맛집 : SMT LOUNGE\n",
      "홍콩식 쌀국수 / 여의도 쌀국수 / IFC 맛집 / 더현대 맛집 추천...\n",
      "더현대 맛집 르프리크 딥하고힙해 자극적인\n",
      "더현대 서울의 햄버거 맛집, 번패티번\n",
      "여의도 더현대 맛집, 빵집 모음.zip - 호우섬/카멜커피/수티...\n",
      "[더현대 맛집] 유방녕\n",
      "더현대 맛집 호우섬 후기\n",
      "[서울 영등포/여의도] 더현대 햄버거 맛집 '르프리크' 재방문!\n",
      "여의도 더현대 / 더현대맛집 / 순옥이네명가 / 한식이 당길때 추천!\n",
      "더현대 맛집 추천 이탈리아 생면 파스타 맛집 이탈리\n",
      "여의도 더현대 맛집] 잇샐러드 더현대서울점\n",
      "여의도 더현대 근처맛집 진주집 콩국수 솔직리뷰\n",
      "여의도 중식 더현대 맛집 헤이웍\n",
      "여의도 더현대 맛집, 호우섬 시그니처 메뉴 도전~\n",
      "여의도 수제버거 맛집 추천 번패티번 햄버거 더현대 서울점\n",
      "[더현대 맛집] 르프리크 캐주얼 : 다른 지점에서 다시 먹어도...\n",
      "[내돈내산-여의도 맛집] 더현대 백화점 일식당 - ROBA 로바\n",
      "[더현대 맛집] 르프리크 LE FREAK, 치킨버거가 이리도...\n",
      "여의도 맛집,여의도역 맛집,더현대 맛집 탐광\n",
      "여의도 더현대 맛집, 여의도 중식 :: 헤이웍by초류향\n",
      "[여의도 더현대 맛집]... 추천 ‘헤이웍by초류향 더현대서울점’\n",
      "여의도 맛집 - 여의도 더현대 맛집 6층 이탈리(EATALY)\n",
      "[더현대 맛집] 호우섬 진짜 완전 솔직후기입니다..비추천...\n",
      "[더현대 맛집] 카페 레이어드(Cafe Layered) & 미켈레...\n",
      "여의도 맛집 [더현대 호우섬] 메뉴추천 후기!!\n",
      "더현대 맛집 레이어드 드디어가봤어요\n",
      "[더현대 맛집] 지하 1층 - '스트릿' & 푸드트럭 '메이루...\n",
      "필링가득♬ 서울 도넛 맛집 더현대 올드페리도넛\n",
      "여의도 더현대 맛집 수제버거 르프리크 캐주얼 제대로 찾은...\n",
      "더현대 맛집 - 랑만\n",
      "[더현대 맛집] 카페 레이어드\n",
      "[더현대 맛집] 60년 전통이 담긴 담양식 떡갈비 맛집, 덕인관\n",
      "여의도 더현대 맛집] 르프리크 캐주얼 더현대서울점\n",
      "여의도 맛집, 와인웍스 더현대 서울 - 콜키지 프리\n",
      "더현대 서울 티파니 홀리데이 팝업 과카몰레 멕시코 맛집 방문\n",
      "더현대 맛집 추천, 따뜻한 국물이 생각날 때 강호연파\n",
      "더현대 빵수니필수 카페레이어드 스콘맛집\n",
      "더현대 수제버거 맛집 번패티번 닭가슴살 버거 맛있다\n",
      "여의도점-고급스러운 더현대 인근 여의도 점심 맛집!!\n",
      "[서울]여의도 더현대 가성비 맛집 '현선이네 프리미엄...\n",
      "최애 케이크 스콘 맛집♬ 더현대 카페 레이어드 대파스콘...\n",
      "여의도 더현대 맛집] 헤이웍 by 초류향 더현대서울점\n",
      "더현대 돈까스 맛집 긴자바이린 솔직후기\n",
      "여의도 더현대 맛집] 슈퍼말차 더현대서울점\n",
      "여의도 더현대 디저트 맛집 플리퍼스의 부드러운 시간!\n",
      "[ 일상 ] 여의도 현대백화점 더현대 서울, 더현대 맛집, 번패티번...\n",
      "[더현대 맛집] 더현대 디저트 스콘맛집 '카페레이어드'\n",
      "힙한 여의도 햄버거 맛집♬ 더현대 폴트버거 크레올 치킨버거...\n",
      "주말 일상 :: 여의도 더현대 맛집 레이어드 포장\n",
      "맛집;) 여의도 더현대 #블루보틀 #하동관 그리고 삼프로TV\n",
      "[더현대 맛집] 돈모노 | 대창덮밥, 회덮밥 맛집\n",
      "더현대 맛집 중식당 도원스타일 방문후기 !\n",
      "맛집, 카페) 여의도 더현대 이탈리 EATALY +메뉴, 로라스블랑...\n",
      "[ 여의도 맛집 / 더현대 서울 맛집 ] 수티 Sooty\n",
      "[더현대 맛집] 빵순이들 집합시키는 베이커리, 베즐리(VEZZLY)\n",
      "더현대 서울 현대백화점 여의도점 카페 이탈리\n",
      "더현대 서울 레스토랑 파스타 맛집 추천 [이탈리]\n",
      "여의도 더현대 맛집 효뜨 - 나도 드디어 효뜨 가봤다아!\n",
      "<더현대 맛집> 내돈내산ㅣ번패티번, 카멜커피 웨이팅\n",
      "더현대 맛집 탕미엔, 탄탄면/마라크림탕면/멘보샤 후기\n",
      "더현대 서울 먹킷리스트: 효뜨, 카페레이어드\n",
      "여의도 더현대 서울 맛집 | 호우섬 + 빵어니스타 + 카멜커피\n",
      "<여의도> 더현대 맛집?!, 수티 Sooty\n",
      "[더현대 서울 맛집] 여의도 현백 맛집 \"도원스타일\"\n",
      "더현대 여의도 카페 레이어드,호우섬 맛집추천\n",
      "[더현대 맛집] 크림치즈 듬뿍 다양한 베이글이 모여있는...\n",
      "더현대 서울 슈퍼말차 꼭먹기\n",
      "Novembre (여의도 더현대서울, 더현대 맛집 호우섬, 더현대...\n",
      "더현대 구경하고, 맛집 호우섬 간 날!\n",
      "여의도 더현대 수제버거 맛집 번패티번\n",
      "[맛집/여의도] 더현대 맛집 비교 (랑만, 이틀리, 수티, 비어캔치킨)\n",
      "[여의도 맛집 / 이탈리]더현대 파스타 맛집 이탈리\n",
      "(여의도맛집) 더현대 맛집 '헤이웍 by 초류향'\n",
      "fridayynight, 여의도 돈가츠 맛집 <더현대 긴자바이린>\n",
      "여의도 더현대 크로와상 맛집 - 시간을들이다\n",
      "[더현대 맛집] 여의도 더현대서울 쌀국수 그뤠잇!! '랑만' 조졌ㅎ\n",
      "[더현대 맛집] 이탈리: 티본스테이크 및 4종 메뉴\n",
      "여의도 더현대 맛집 : 강호연파\n",
      "[여의도] 더현대 서울 맛집 투어 :: 수티/카멜커피/번패티번...\n",
      "그렇게 유명하대서 다녀온 더현대 맛집 카페레이어드 솔직후기\n",
      "[일상] 더현대 수제버거 맛집 BUNPATTYBUN 번패티번 후기\n",
      "더현대 서울 번패티번, 카멜커피 :: 더현대 맛집\n",
      "여의도 더현대 맛집, 제주 순옥이네명가 여기서!\n",
      "홍콩 음식 맛집 여의도 더현대 “호우섬” 후기\n",
      "비오는날 여의도 더현대 삼성혈해물탕,스콘 맛집 핫플 카페...\n",
      "[여의도 더현대 서울 맛집] 밀본- 메뉴 칼국수 비빔물국수...\n",
      "여의도 더현대 맛집 중식은 헤이웍by초류향\n",
      "더현대 맛집 비교적 한산했던 밀본 만두국 고기덮밥 / 수퍼말차...\n",
      "더현대 맛집추천/카페/여의도 갈만한곳\n",
      "더현대 갔다가 여의도 한우 맛집 서울로인 여의도 방문했어요\n",
      "[여의도] 더현대 맛집 한 번에 맛보기\n",
      "더현대 맛집 / 스트릿 strEAT / 꿔바로우 존맛탱 (메뉴, 가격...\n",
      "여의도 더현대 맛집 - 긴자바이린\n",
      "여의도 더현대 맛집 : 헤이웍by초류향,여의도중식으로 제격\n",
      "올드페리도넛부터 카멜커피까지 줄서먹는 더현대 서울 맛집\n",
      "여의도 중식 헤이웍by초류향 / 여의도 더현대 맛집\n",
      "[여의도] 더현대 맛집 스트릿\n",
      "여의도 더현대 맛집 헤이웍 by 초류향\n",
      "더현대 맛집 쌀국수 '랑만' 솔직후기, 웨이팅 (베트남 쌀국수)\n",
      "[꽁빵 맛집] 여의도 더현대 서울 홍콩음식 맛집 - 호우섬\n",
      "더현대 맛집 호우섬\n",
      "더 현대서울 맛집 -SMT 라운지 ~! 피해가야할 메뉴알려드림 !!!...\n",
      "[서울] 더현대 맛집 수티 리뷰\n",
      "여의도 더현대 맛집 과카몰레 돈까스1985\n",
      "여의도 더현대 수제버거 맛집 번패티번\n",
      "여의도 더현대 서울 맛집 - 밀본, 태극당 모나카\n",
      "더현대 서울 첫방문 : 가는길, 맛집, 슈퍼말차, 아르켓...\n",
      "더현대 맛집 추천 : 페어몬트 앰배서더 서울 호텔 연말 모임 추천\n",
      "\n",
      "url갯수:  150\n",
      "title갯수:  150\n"
     ]
    }
   ],
   "source": [
    "# 크롤링한 url 정제 시작\n",
    "for article in article_raw:\n",
    "    url = article.get_attribute('href')\n",
    "    url_list.append(url)\n",
    "time.sleep(1)\n",
    "\n",
    "# 제목 크롤링 시작\n",
    "for article in article_raw:\n",
    "    title = article.text\n",
    "    title_list.append(title)\n",
    "\n",
    "    print(title)\n",
    "\n",
    "print(\"\")\n",
    "print('url갯수: ', len(url_list))\n",
    "print('title갯수: ', len(title_list))"
   ]
  },
  {
   "cell_type": "code",
   "execution_count": 74,
   "metadata": {
    "id": "R2yjlm_5-kvs",
    "outputId": "efd2bab6-67e5-4d04-d826-4f878de28658"
   },
   "outputs": [
    {
     "data": {
      "text/plain": [
       "['https://blog.naver.com/weeeunjee?Redirect=Log&logNo=222543947474',\n",
       " 'https://blog.naver.com/megkis?Redirect=Log&logNo=222583135441',\n",
       " 'https://blog.naver.com/wjd_dms01?Redirect=Log&logNo=222534571338',\n",
       " 'https://blog.naver.com/iam_swoniii?Redirect=Log&logNo=222566308484',\n",
       " 'https://blog.naver.com/by_bien?Redirect=Log&logNo=222600057580',\n",
       " 'https://blog.naver.com/yoojinhwang9?Redirect=Log&logNo=222600965946',\n",
       " 'https://blog.naver.com/seven76543?Redirect=Log&logNo=222551086541',\n",
       " 'https://blog.naver.com/sielle83?Redirect=Log&logNo=222579158394',\n",
       " 'https://blog.naver.com/ariel_0402?Redirect=Log&logNo=222584761194',\n",
       " 'https://blog.naver.com/sunny84512?Redirect=Log&logNo=222598243060',\n",
       " 'https://blog.naver.com/cutetnwls?Redirect=Log&logNo=222495028063',\n",
       " 'https://blog.naver.com/kallilogue?Redirect=Log&logNo=222572668868',\n",
       " 'https://blog.naver.com/vivid0716?Redirect=Log&logNo=222572330872',\n",
       " 'https://blog.naver.com/redcherry88?Redirect=Log&logNo=222569224108',\n",
       " 'https://blog.naver.com/qnwkalswn?Redirect=Log&logNo=222564917587',\n",
       " 'https://blog.naver.com/publikum?Redirect=Log&logNo=222605283276',\n",
       " 'https://blog.naver.com/ekdlschl?Redirect=Log&logNo=222555214224',\n",
       " 'https://blog.naver.com/kme0916?Redirect=Log&logNo=222597289892',\n",
       " 'https://blog.naver.com/oompa77?Redirect=Log&logNo=222592861055',\n",
       " 'https://blog.naver.com/tlsduswjd88?Redirect=Log&logNo=222560066987',\n",
       " 'https://blog.naver.com/yourang5177?Redirect=Log&logNo=222601884514',\n",
       " 'https://blog.naver.com/ahy4880?Redirect=Log&logNo=222471076537',\n",
       " 'https://blog.naver.com/jdhee0?Redirect=Log&logNo=222591435127',\n",
       " 'https://blog.naver.com/77chance77?Redirect=Log&logNo=222422941665',\n",
       " 'https://blog.naver.com/skyhygy?Redirect=Log&logNo=222493068939',\n",
       " 'https://blog.naver.com/bluerose0328?Redirect=Log&logNo=222433872047',\n",
       " 'https://blog.naver.com/baba101203?Redirect=Log&logNo=222579150543',\n",
       " 'https://blog.naver.com/sinjiwung?Redirect=Log&logNo=222596747822',\n",
       " 'https://blog.naver.com/kahichoi?Redirect=Log&logNo=222607036439',\n",
       " 'https://blog.naver.com/dldb7?Redirect=Log&logNo=222553265112',\n",
       " 'https://blog.naver.com/kdr1691?Redirect=Log&logNo=222600722979',\n",
       " 'https://blog.naver.com/vicki79?Redirect=Log&logNo=222585380853',\n",
       " 'https://blog.naver.com/wise9140?Redirect=Log&logNo=222505844659',\n",
       " 'https://blog.naver.com/yujung2uu?Redirect=Log&logNo=222593398593',\n",
       " 'https://blog.naver.com/gracehyeon89?Redirect=Log&logNo=222593697173',\n",
       " 'https://blog.naver.com/heb9307?Redirect=Log&logNo=222579185314',\n",
       " 'https://blog.naver.com/sem0509?Redirect=Log&logNo=222587931279',\n",
       " 'https://blog.naver.com/ekfqhddl0911?Redirect=Log&logNo=222584629585',\n",
       " 'https://blog.naver.com/so_minii?Redirect=Log&logNo=222587943030',\n",
       " 'https://blog.naver.com/tmishaha?Redirect=Log&logNo=222469127730',\n",
       " 'https://blog.naver.com/assaok4?Redirect=Log&logNo=222587800529',\n",
       " 'https://blog.naver.com/dkfehdqkd?Redirect=Log&logNo=222595157645',\n",
       " 'https://blog.naver.com/ths0228?Redirect=Log&logNo=222599556187',\n",
       " 'https://blog.naver.com/lovesome223?Redirect=Log&logNo=222542212443',\n",
       " 'https://blog.naver.com/caubaba?Redirect=Log&logNo=222472666067',\n",
       " 'https://blog.naver.com/hjin_n2?Redirect=Log&logNo=222579376792',\n",
       " 'https://blog.naver.com/comwjdtn?Redirect=Log&logNo=222489922635',\n",
       " 'https://blog.naver.com/rod0r1004?Redirect=Log&logNo=222605575038',\n",
       " 'https://blog.naver.com/thecocoatree?Redirect=Log&logNo=222604960550',\n",
       " 'https://blog.naver.com/wjddk0124?Redirect=Log&logNo=222524628121',\n",
       " 'https://blog.naver.com/jcao?Redirect=Log&logNo=222554572211',\n",
       " 'https://blog.naver.com/elov_3?Redirect=Log&logNo=222527701147',\n",
       " 'https://blog.naver.com/sem0509?Redirect=Log&logNo=222593816236',\n",
       " 'https://blog.naver.com/manson1542?Redirect=Log&logNo=222499740134',\n",
       " 'https://blog.naver.com/bluecanada?Redirect=Log&logNo=222572397887',\n",
       " 'https://blog.naver.com/dkfehdqkd?Redirect=Log&logNo=222594194447',\n",
       " 'https://blog.naver.com/best_pb_han?Redirect=Log&logNo=222479125168',\n",
       " 'https://blog.naver.com/ji0408?Redirect=Log&logNo=222574831232',\n",
       " 'https://blog.naver.com/aiigami?Redirect=Log&logNo=222459467245',\n",
       " 'https://blog.naver.com/cococolsk?Redirect=Log&logNo=222599253338',\n",
       " 'https://blog.naver.com/sj751021?Redirect=Log&logNo=222453024331',\n",
       " 'https://blog.naver.com/yr1028?Redirect=Log&logNo=222592303793',\n",
       " 'https://blog.naver.com/tnwl6906?Redirect=Log&logNo=222603521998',\n",
       " 'https://blog.naver.com/imhm125?Redirect=Log&logNo=222602965229',\n",
       " 'https://blog.naver.com/sj2841826?Redirect=Log&logNo=222439383424',\n",
       " 'https://blog.naver.com/baba101203?Redirect=Log&logNo=222582257067',\n",
       " 'https://blog.naver.com/rlaxorwjd3?Redirect=Log&logNo=222602870735',\n",
       " 'https://blog.naver.com/prettystaarlove?Redirect=Log&logNo=222533808549',\n",
       " 'https://blog.naver.com/gumdang1234?Redirect=Log&logNo=222589747855',\n",
       " 'https://blog.naver.com/ggomangchh?Redirect=Log&logNo=222490031256',\n",
       " 'https://blog.naver.com/just_ah?Redirect=Log&logNo=222575724165',\n",
       " 'https://blog.naver.com/jung_su1106?Redirect=Log&logNo=222538018520',\n",
       " 'https://blog.naver.com/hata2o?Redirect=Log&logNo=222606936375',\n",
       " 'https://blog.naver.com/uzerina92?Redirect=Log&logNo=222599294865',\n",
       " 'https://blog.naver.com/sem0509?Redirect=Log&logNo=222595964675',\n",
       " 'https://blog.naver.com/todrkr08?Redirect=Log&logNo=222565320054',\n",
       " 'https://blog.naver.com/julhkjjh031?Redirect=Log&logNo=222595346367',\n",
       " 'https://blog.naver.com/jy14564?Redirect=Log&logNo=222608347576',\n",
       " 'https://blog.naver.com/sujin9246?Redirect=Log&logNo=222591342562',\n",
       " 'https://blog.naver.com/einsking?Redirect=Log&logNo=222607560201',\n",
       " 'https://blog.naver.com/choijg0921?Redirect=Log&logNo=222448359731',\n",
       " 'https://blog.naver.com/urban203?Redirect=Log&logNo=222541736114',\n",
       " 'https://blog.naver.com/ggomangchh?Redirect=Log&logNo=222501308807',\n",
       " 'https://blog.naver.com/sem0509?Redirect=Log&logNo=222599872732',\n",
       " 'https://blog.naver.com/kkhipp?Redirect=Log&logNo=222538005696',\n",
       " 'https://blog.naver.com/sem0509?Redirect=Log&logNo=222598857117',\n",
       " 'https://blog.naver.com/holicmuzik?Redirect=Log&logNo=222596790942',\n",
       " 'https://blog.naver.com/skye1?Redirect=Log&logNo=222478062976',\n",
       " 'https://blog.naver.com/yuami0801?Redirect=Log&logNo=222600446260',\n",
       " 'https://blog.naver.com/ggomangchh?Redirect=Log&logNo=222498398202',\n",
       " 'https://blog.naver.com/infoflow?Redirect=Log&logNo=222593630155',\n",
       " 'https://blog.naver.com/publikum?Redirect=Log&logNo=222606063550',\n",
       " 'https://blog.naver.com/ilovemealot8?Redirect=Log&logNo=222607958578',\n",
       " 'https://blog.naver.com/winner_aa?Redirect=Log&logNo=222587897591',\n",
       " 'https://blog.naver.com/chooojee88?Redirect=Log&logNo=222565035821',\n",
       " 'https://blog.naver.com/ehoajdcnd?Redirect=Log&logNo=222429081948',\n",
       " 'https://blog.naver.com/uzerina92?Redirect=Log&logNo=222602741761',\n",
       " 'https://blog.naver.com/armdaunai?Redirect=Log&logNo=222603965681',\n",
       " 'https://blog.naver.com/minqlli?Redirect=Log&logNo=222578631934',\n",
       " 'https://blog.naver.com/skywalker9526?Redirect=Log&logNo=222522188495',\n",
       " 'https://blog.naver.com/geniusjoanne?Redirect=Log&logNo=222593468067',\n",
       " 'https://blog.naver.com/think_of_you_?Redirect=Log&logNo=222598050728',\n",
       " 'https://blog.naver.com/dillakitchen?Redirect=Log&logNo=222608360053',\n",
       " 'https://blog.naver.com/ey404?Redirect=Log&logNo=222582105087',\n",
       " 'https://blog.naver.com/catch612?Redirect=Log&logNo=222583255752',\n",
       " 'https://blog.naver.com/dailylife_bsom?Redirect=Log&logNo=222596089133',\n",
       " 'https://blog.naver.com/gracehyeon89?Redirect=Log&logNo=222424186852',\n",
       " 'https://blog.naver.com/uzerina92?Redirect=Log&logNo=222601383618',\n",
       " 'https://blog.naver.com/mayboom?Redirect=Log&logNo=222592491108',\n",
       " 'https://blog.naver.com/pinkyozora?Redirect=Log&logNo=222558630362',\n",
       " 'https://blog.naver.com/kang0447?Redirect=Log&logNo=222485765297',\n",
       " 'https://blog.naver.com/woosuy1n?Redirect=Log&logNo=222575265832',\n",
       " 'https://blog.naver.com/melis93sa?Redirect=Log&logNo=222595682389',\n",
       " 'https://blog.naver.com/yy_da?Redirect=Log&logNo=222606437468',\n",
       " 'https://blog.naver.com/jh_0412?Redirect=Log&logNo=222568702386',\n",
       " 'https://blog.naver.com/fridayynight?Redirect=Log&logNo=222605287364',\n",
       " 'https://blog.naver.com/rnltnrtnr201?Redirect=Log&logNo=222539094245',\n",
       " 'https://blog.naver.com/guswn6789?Redirect=Log&logNo=222575936186',\n",
       " 'https://blog.naver.com/anastash2?Redirect=Log&logNo=222480919227',\n",
       " 'https://blog.naver.com/myjoker109?Redirect=Log&logNo=222582805813',\n",
       " 'https://blog.naver.com/ksl8905?Redirect=Log&logNo=222599559638',\n",
       " 'https://blog.naver.com/coals246?Redirect=Log&logNo=222585758813',\n",
       " 'https://blog.naver.com/noonsol123?Redirect=Log&logNo=222437038962',\n",
       " 'https://blog.naver.com/bora668?Redirect=Log&logNo=222566280560',\n",
       " 'https://blog.naver.com/h-jeje?Redirect=Log&logNo=222521325486',\n",
       " 'https://blog.naver.com/rachu?Redirect=Log&logNo=222457046935',\n",
       " 'https://blog.naver.com/maru0525?Redirect=Log&logNo=222421726041',\n",
       " 'https://blog.naver.com/dkgkssk11?Redirect=Log&logNo=222595104849',\n",
       " 'https://blog.naver.com/sosmall77?Redirect=Log&logNo=222588619906',\n",
       " 'https://blog.naver.com/power7999?Redirect=Log&logNo=222575898958',\n",
       " 'https://blog.naver.com/rijujo0?Redirect=Log&logNo=222600183487',\n",
       " 'https://blog.naver.com/solyba005?Redirect=Log&logNo=222582532309',\n",
       " 'https://blog.naver.com/mini_077?Redirect=Log&logNo=222578769417',\n",
       " 'https://blog.naver.com/jhj_1116?Redirect=Log&logNo=222570694526',\n",
       " 'https://blog.naver.com/azure_jini__?Redirect=Log&logNo=222564246214',\n",
       " 'https://blog.naver.com/tig03180?Redirect=Log&logNo=222589988915',\n",
       " 'https://blog.naver.com/slowerbutfarther?Redirect=Log&logNo=222594483087',\n",
       " 'https://blog.naver.com/lemont6599?Redirect=Log&logNo=222569619339',\n",
       " 'https://blog.naver.com/hanjunghun29?Redirect=Log&logNo=222545318846',\n",
       " 'https://blog.naver.com/bcato56?Redirect=Log&logNo=222581689999',\n",
       " 'https://blog.naver.com/hanjs1050?Redirect=Log&logNo=222580775378',\n",
       " 'https://blog.naver.com/ggongbbang823?Redirect=Log&logNo=222606869375',\n",
       " 'https://blog.naver.com/y_s1204?Redirect=Log&logNo=222581772978',\n",
       " 'https://blog.naver.com/ryukreon?Redirect=Log&logNo=222546619836',\n",
       " 'https://blog.naver.com/carlos3318?Redirect=Log&logNo=222577584730',\n",
       " 'https://blog.naver.com/ths631945?Redirect=Log&logNo=222550184286',\n",
       " 'https://blog.naver.com/eatearth?Redirect=Log&logNo=222586854141',\n",
       " 'https://blog.naver.com/jayyo78?Redirect=Log&logNo=222446266021',\n",
       " 'https://blog.naver.com/dlwldnjs268?Redirect=Log&logNo=222472392065',\n",
       " 'https://blog.naver.com/jiyeon9770?Redirect=Log&logNo=222587986184']"
      ]
     },
     "execution_count": 74,
     "metadata": {},
     "output_type": "execute_result"
    }
   ],
   "source": [
    "# 수집된 url들 확인\n",
    "url_list"
   ]
  },
  {
   "cell_type": "code",
   "execution_count": 75,
   "metadata": {
    "id": "Q491yek4-kvs",
    "outputId": "b8d88911-275c-4f8d-bd89-0c3831d666c7"
   },
   "outputs": [
    {
     "data": {
      "text/plain": [
       "['여의도 더현대 맛집 :: 취향대로 골라 먹기, 잇샐러드',\n",
       " '여의도 더현대 맛집 혼자 먹은 쌀국수 미쳤다',\n",
       " '일품이었던 여의도 더현대 맛집',\n",
       " '손꼽았던 더현대 서울 맛집',\n",
       " '여의도 더현대 카페 레이어드 서울 스콘 맛집 인정',\n",
       " '더현대 수제버거 맛집 - 번패티번 사진 및 후기',\n",
       " '여의도 중식 헤이웍by초류향 더현대 맛집으로 인정!',\n",
       " '[여의도 더현대 맛집] 로바 - 회식하기 딱이야 125,000원...',\n",
       " '더현대 맛집 냄비요리연구소 내돈내산',\n",
       " '더현대 서울 맛집모음 \"마츠노하나, 수티, 번패티번, 카페\"',\n",
       " '더현대 서울 지하 1층 맛집과 카페들(Feat. 카페 레이어드)',\n",
       " '더현대 맛집, 번패티번 카멜커피 아기랑 핫플투어',\n",
       " '여의도 더현대 맛집 중식 헤이웍 by 초류향',\n",
       " '여의도 더현대 맛집, 여의도중식 헤이웍by 초류향 별미네요!',\n",
       " '여의도 더현대 맛집 헤이웍by초류향 중식 추천',\n",
       " '맛집;) 여의도 더현대 #에그슬럿 #카멜커피 #태극당',\n",
       " '여의도 더현대 맛집 헤이웍 by 초류향 중식 추천',\n",
       " '[서울] 여의도 더현대 호우섬 (왜 맛집이죠?)',\n",
       " '여의도 맛집 콩국수 명가 진주집과 더현대 서울 블루보틀...',\n",
       " \"(여의도맛집) 더현대 나이스타임 '올드페리 도넛' 후기\",\n",
       " '여의도 더현대 호우섬_딤섬맛집_내돈내산후기',\n",
       " '여의도 더현대 근처 맛집 한암동',\n",
       " \"♥여의도 더현대 맛집 - '헤이웍 BY 초류향'에서 중식 1인정식...\",\n",
       " '더현대 맛집 호우섬 / 솥밥 필수 홍콩 맛집',\n",
       " '[여의도 더현대 맛집] 코리안 바베큐 전문점 : Sooty (수티)',\n",
       " '와필레 더현대 서울 와플 맛집',\n",
       " '[더현대 맛집] 미쉐린 가이드에... 한식 맛집(칼국수&고기덮밥)',\n",
       " '[테일러 커피] 더현대 서울 크림모카 커피 맛집',\n",
       " '여의도 더현대 맛집 베트남 쌀국수 @효뜨(HIEUTU)',\n",
       " '여의도 맛집 핫플 : IFC 쓰리버즈 브런치, 더현대 블루보틀...',\n",
       " '(여의도 더현대) TAILOR COFFEE 테일러커피 크림모카커피 맛집',\n",
       " '더현대 디저트 맛집 더플레이트디저트 밀푀유슈',\n",
       " '더현대 맛집 SMT라운지,홍콩+멕시코 음식점이지만 칵테일에...',\n",
       " \"여의도 더현대 빵투어 1탄: 스콘맛집 '카페 레이어드'\",\n",
       " '여의도 더현대 맛집추천 호우섬 테일러커피',\n",
       " '중식 메뉴로 핫한 여의도 더현대 맛집 헤이웍 by 초류향',\n",
       " '여의도 더현대 맛집] 라그릴리아 더현대서울점',\n",
       " '더현대 디저트 특색 있는 달콤한 선물용 디저트 맛집 추천!',\n",
       " \"여의도 더현대 맛집 '랑만' 푸짐행\",\n",
       " '더현대 맛집 번패티번, 여의도, 서초, 세종, 현백 수제햄버거 맛집',\n",
       " '여의도 더현대 맛집 호우삼 딤섬정복(웨이팅팁)',\n",
       " '여의도 더현대 맛집, 이탈리 (커플메뉴 후기) 실망',\n",
       " '여의도 더현대 맛집 : SMT LOUNGE',\n",
       " '홍콩식 쌀국수 / 여의도 쌀국수 / IFC 맛집 / 더현대 맛집 추천...',\n",
       " '더현대 맛집 르프리크 딥하고힙해 자극적인',\n",
       " '더현대 서울의 햄버거 맛집, 번패티번',\n",
       " '여의도 더현대 맛집, 빵집 모음.zip - 호우섬/카멜커피/수티...',\n",
       " '[더현대 맛집] 유방녕',\n",
       " '더현대 맛집 호우섬 후기',\n",
       " \"[서울 영등포/여의도] 더현대 햄버거 맛집 '르프리크' 재방문!\",\n",
       " '여의도 더현대 / 더현대맛집 / 순옥이네명가 / 한식이 당길때 추천!',\n",
       " '더현대 맛집 추천 이탈리아 생면 파스타 맛집 이탈리',\n",
       " '여의도 더현대 맛집] 잇샐러드 더현대서울점',\n",
       " '여의도 더현대 근처맛집 진주집 콩국수 솔직리뷰',\n",
       " '여의도 중식 더현대 맛집 헤이웍',\n",
       " '여의도 더현대 맛집, 호우섬 시그니처 메뉴 도전~',\n",
       " '여의도 수제버거 맛집 추천 번패티번 햄버거 더현대 서울점',\n",
       " '[더현대 맛집] 르프리크 캐주얼 : 다른 지점에서 다시 먹어도...',\n",
       " '[내돈내산-여의도 맛집] 더현대 백화점 일식당 - ROBA 로바',\n",
       " '[더현대 맛집] 르프리크 LE FREAK, 치킨버거가 이리도...',\n",
       " '여의도 맛집,여의도역 맛집,더현대 맛집 탐광',\n",
       " '여의도 더현대 맛집, 여의도 중식 :: 헤이웍by초류향',\n",
       " '[여의도 더현대 맛집]... 추천 ‘헤이웍by초류향 더현대서울점’',\n",
       " '여의도 맛집 - 여의도 더현대 맛집 6층 이탈리(EATALY)',\n",
       " '[더현대 맛집] 호우섬 진짜 완전 솔직후기입니다..비추천...',\n",
       " '[더현대 맛집] 카페 레이어드(Cafe Layered) & 미켈레...',\n",
       " '여의도 맛집 [더현대 호우섬] 메뉴추천 후기!!',\n",
       " '더현대 맛집 레이어드 드디어가봤어요',\n",
       " \"[더현대 맛집] 지하 1층 - '스트릿' & 푸드트럭 '메이루...\",\n",
       " '필링가득♬ 서울 도넛 맛집 더현대 올드페리도넛',\n",
       " '여의도 더현대 맛집 수제버거 르프리크 캐주얼 제대로 찾은...',\n",
       " '더현대 맛집 - 랑만',\n",
       " '[더현대 맛집] 카페 레이어드',\n",
       " '[더현대 맛집] 60년 전통이 담긴 담양식 떡갈비 맛집, 덕인관',\n",
       " '여의도 더현대 맛집] 르프리크 캐주얼 더현대서울점',\n",
       " '여의도 맛집, 와인웍스 더현대 서울 - 콜키지 프리',\n",
       " '더현대 서울 티파니 홀리데이 팝업 과카몰레 멕시코 맛집 방문',\n",
       " '더현대 맛집 추천, 따뜻한 국물이 생각날 때 강호연파',\n",
       " '더현대 빵수니필수 카페레이어드 스콘맛집',\n",
       " '더현대 수제버거 맛집 번패티번 닭가슴살 버거 맛있다',\n",
       " '여의도점-고급스러운 더현대 인근 여의도 점심 맛집!!',\n",
       " \"[서울]여의도 더현대 가성비 맛집 '현선이네 프리미엄...\",\n",
       " '최애 케이크 스콘 맛집♬ 더현대 카페 레이어드 대파스콘...',\n",
       " '여의도 더현대 맛집] 헤이웍 by 초류향 더현대서울점',\n",
       " '더현대 돈까스 맛집 긴자바이린 솔직후기',\n",
       " '여의도 더현대 맛집] 슈퍼말차 더현대서울점',\n",
       " '여의도 더현대 디저트 맛집 플리퍼스의 부드러운 시간!',\n",
       " '[ 일상 ] 여의도 현대백화점 더현대 서울, 더현대 맛집, 번패티번...',\n",
       " \"[더현대 맛집] 더현대 디저트 스콘맛집 '카페레이어드'\",\n",
       " '힙한 여의도 햄버거 맛집♬ 더현대 폴트버거 크레올 치킨버거...',\n",
       " '주말 일상 :: 여의도 더현대 맛집 레이어드 포장',\n",
       " '맛집;) 여의도 더현대 #블루보틀 #하동관 그리고 삼프로TV',\n",
       " '[더현대 맛집] 돈모노 | 대창덮밥, 회덮밥 맛집',\n",
       " '더현대 맛집 중식당 도원스타일 방문후기 !',\n",
       " '맛집, 카페) 여의도 더현대 이탈리 EATALY +메뉴, 로라스블랑...',\n",
       " '[ 여의도 맛집 / 더현대 서울 맛집 ] 수티 Sooty',\n",
       " '[더현대 맛집] 빵순이들 집합시키는 베이커리, 베즐리(VEZZLY)',\n",
       " '더현대 서울 현대백화점 여의도점 카페 이탈리',\n",
       " '더현대 서울 레스토랑 파스타 맛집 추천 [이탈리]',\n",
       " '여의도 더현대 맛집 효뜨 - 나도 드디어 효뜨 가봤다아!',\n",
       " '<더현대 맛집> 내돈내산ㅣ번패티번, 카멜커피 웨이팅',\n",
       " '더현대 맛집 탕미엔, 탄탄면/마라크림탕면/멘보샤 후기',\n",
       " '더현대 서울 먹킷리스트: 효뜨, 카페레이어드',\n",
       " '여의도 더현대 서울 맛집 | 호우섬 + 빵어니스타 + 카멜커피',\n",
       " '<여의도> 더현대 맛집?!, 수티 Sooty',\n",
       " '[더현대 서울 맛집] 여의도 현백 맛집 \"도원스타일\"',\n",
       " '더현대 여의도 카페 레이어드,호우섬 맛집추천',\n",
       " '[더현대 맛집] 크림치즈 듬뿍 다양한 베이글이 모여있는...',\n",
       " '더현대 서울 슈퍼말차 꼭먹기',\n",
       " 'Novembre (여의도 더현대서울, 더현대 맛집 호우섬, 더현대...',\n",
       " '더현대 구경하고, 맛집 호우섬 간 날!',\n",
       " '여의도 더현대 수제버거 맛집 번패티번',\n",
       " '[맛집/여의도] 더현대 맛집 비교 (랑만, 이틀리, 수티, 비어캔치킨)',\n",
       " '[여의도 맛집 / 이탈리]더현대 파스타 맛집 이탈리',\n",
       " \"(여의도맛집) 더현대 맛집 '헤이웍 by 초류향'\",\n",
       " 'fridayynight, 여의도 돈가츠 맛집 <더현대 긴자바이린>',\n",
       " '여의도 더현대 크로와상 맛집 - 시간을들이다',\n",
       " \"[더현대 맛집] 여의도 더현대서울 쌀국수 그뤠잇!! '랑만' 조졌ㅎ\",\n",
       " '[더현대 맛집] 이탈리: 티본스테이크 및 4종 메뉴',\n",
       " '여의도 더현대 맛집 : 강호연파',\n",
       " '[여의도] 더현대 서울 맛집 투어 :: 수티/카멜커피/번패티번...',\n",
       " '그렇게 유명하대서 다녀온 더현대 맛집 카페레이어드 솔직후기',\n",
       " '[일상] 더현대 수제버거 맛집 BUNPATTYBUN 번패티번 후기',\n",
       " '더현대 서울 번패티번, 카멜커피 :: 더현대 맛집',\n",
       " '여의도 더현대 맛집, 제주 순옥이네명가 여기서!',\n",
       " '홍콩 음식 맛집 여의도 더현대 “호우섬” 후기',\n",
       " '비오는날 여의도 더현대 삼성혈해물탕,스콘 맛집 핫플 카페...',\n",
       " '[여의도 더현대 서울 맛집] 밀본- 메뉴 칼국수 비빔물국수...',\n",
       " '여의도 더현대 맛집 중식은 헤이웍by초류향',\n",
       " '더현대 맛집 비교적 한산했던 밀본 만두국 고기덮밥 / 수퍼말차...',\n",
       " '더현대 맛집추천/카페/여의도 갈만한곳',\n",
       " '더현대 갔다가 여의도 한우 맛집 서울로인 여의도 방문했어요',\n",
       " '[여의도] 더현대 맛집 한 번에 맛보기',\n",
       " '더현대 맛집 / 스트릿 strEAT / 꿔바로우 존맛탱 (메뉴, 가격...',\n",
       " '여의도 더현대 맛집 - 긴자바이린',\n",
       " '여의도 더현대 맛집 : 헤이웍by초류향,여의도중식으로 제격',\n",
       " '올드페리도넛부터 카멜커피까지 줄서먹는 더현대 서울 맛집',\n",
       " '여의도 중식 헤이웍by초류향 / 여의도 더현대 맛집',\n",
       " '[여의도] 더현대 맛집 스트릿',\n",
       " '여의도 더현대 맛집 헤이웍 by 초류향',\n",
       " \"더현대 맛집 쌀국수 '랑만' 솔직후기, 웨이팅 (베트남 쌀국수)\",\n",
       " '[꽁빵 맛집] 여의도 더현대 서울 홍콩음식 맛집 - 호우섬',\n",
       " '더현대 맛집 호우섬',\n",
       " '더 현대서울 맛집 -SMT 라운지 ~! 피해가야할 메뉴알려드림 !!!...',\n",
       " '[서울] 더현대 맛집 수티 리뷰',\n",
       " '여의도 더현대 맛집 과카몰레 돈까스1985',\n",
       " '여의도 더현대 수제버거 맛집 번패티번',\n",
       " '여의도 더현대 서울 맛집 - 밀본, 태극당 모나카',\n",
       " '더현대 서울 첫방문 : 가는길, 맛집, 슈퍼말차, 아르켓...',\n",
       " '더현대 맛집 추천 : 페어몬트 앰배서더 서울 호텔 연말 모임 추천']"
      ]
     },
     "execution_count": 75,
     "metadata": {},
     "output_type": "execute_result"
    }
   ],
   "source": [
    "# 수집된 블로그 제목 확인\n",
    "title_list"
   ]
  },
  {
   "cell_type": "code",
   "execution_count": 76,
   "metadata": {
    "id": "MvgyX_pk-kvt",
    "outputId": "7749cfef-5aa7-45f6-db8a-e94b444998d8",
    "scrolled": false
   },
   "outputs": [
    {
     "data": {
      "text/html": [
       "<div>\n",
       "<style scoped>\n",
       "    .dataframe tbody tr th:only-of-type {\n",
       "        vertical-align: middle;\n",
       "    }\n",
       "\n",
       "    .dataframe tbody tr th {\n",
       "        vertical-align: top;\n",
       "    }\n",
       "\n",
       "    .dataframe thead th {\n",
       "        text-align: right;\n",
       "    }\n",
       "</style>\n",
       "<table border=\"1\" class=\"dataframe\">\n",
       "  <thead>\n",
       "    <tr style=\"text-align: right;\">\n",
       "      <th></th>\n",
       "      <th>url</th>\n",
       "      <th>title</th>\n",
       "    </tr>\n",
       "  </thead>\n",
       "  <tbody>\n",
       "    <tr>\n",
       "      <th>0</th>\n",
       "      <td>https://blog.naver.com/weeeunjee?Redirect=Log&amp;...</td>\n",
       "      <td>여의도 더현대 맛집 :: 취향대로 골라 먹기, 잇샐러드</td>\n",
       "    </tr>\n",
       "    <tr>\n",
       "      <th>1</th>\n",
       "      <td>https://blog.naver.com/megkis?Redirect=Log&amp;log...</td>\n",
       "      <td>여의도 더현대 맛집 혼자 먹은 쌀국수 미쳤다</td>\n",
       "    </tr>\n",
       "    <tr>\n",
       "      <th>2</th>\n",
       "      <td>https://blog.naver.com/wjd_dms01?Redirect=Log&amp;...</td>\n",
       "      <td>일품이었던 여의도 더현대 맛집</td>\n",
       "    </tr>\n",
       "    <tr>\n",
       "      <th>3</th>\n",
       "      <td>https://blog.naver.com/iam_swoniii?Redirect=Lo...</td>\n",
       "      <td>손꼽았던 더현대 서울 맛집</td>\n",
       "    </tr>\n",
       "    <tr>\n",
       "      <th>4</th>\n",
       "      <td>https://blog.naver.com/by_bien?Redirect=Log&amp;lo...</td>\n",
       "      <td>여의도 더현대 카페 레이어드 서울 스콘 맛집 인정</td>\n",
       "    </tr>\n",
       "    <tr>\n",
       "      <th>...</th>\n",
       "      <td>...</td>\n",
       "      <td>...</td>\n",
       "    </tr>\n",
       "    <tr>\n",
       "      <th>145</th>\n",
       "      <td>https://blog.naver.com/ths631945?Redirect=Log&amp;...</td>\n",
       "      <td>여의도 더현대 맛집 과카몰레 돈까스1985</td>\n",
       "    </tr>\n",
       "    <tr>\n",
       "      <th>146</th>\n",
       "      <td>https://blog.naver.com/eatearth?Redirect=Log&amp;l...</td>\n",
       "      <td>여의도 더현대 수제버거 맛집 번패티번</td>\n",
       "    </tr>\n",
       "    <tr>\n",
       "      <th>147</th>\n",
       "      <td>https://blog.naver.com/jayyo78?Redirect=Log&amp;lo...</td>\n",
       "      <td>여의도 더현대 서울 맛집 - 밀본, 태극당 모나카</td>\n",
       "    </tr>\n",
       "    <tr>\n",
       "      <th>148</th>\n",
       "      <td>https://blog.naver.com/dlwldnjs268?Redirect=Lo...</td>\n",
       "      <td>더현대 서울 첫방문 : 가는길, 맛집, 슈퍼말차, 아르켓...</td>\n",
       "    </tr>\n",
       "    <tr>\n",
       "      <th>149</th>\n",
       "      <td>https://blog.naver.com/jiyeon9770?Redirect=Log...</td>\n",
       "      <td>더현대 맛집 추천 : 페어몬트 앰배서더 서울 호텔 연말 모임 추천</td>\n",
       "    </tr>\n",
       "  </tbody>\n",
       "</table>\n",
       "<p>150 rows × 2 columns</p>\n",
       "</div>"
      ],
      "text/plain": [
       "                                                   url  \\\n",
       "0    https://blog.naver.com/weeeunjee?Redirect=Log&...   \n",
       "1    https://blog.naver.com/megkis?Redirect=Log&log...   \n",
       "2    https://blog.naver.com/wjd_dms01?Redirect=Log&...   \n",
       "3    https://blog.naver.com/iam_swoniii?Redirect=Lo...   \n",
       "4    https://blog.naver.com/by_bien?Redirect=Log&lo...   \n",
       "..                                                 ...   \n",
       "145  https://blog.naver.com/ths631945?Redirect=Log&...   \n",
       "146  https://blog.naver.com/eatearth?Redirect=Log&l...   \n",
       "147  https://blog.naver.com/jayyo78?Redirect=Log&lo...   \n",
       "148  https://blog.naver.com/dlwldnjs268?Redirect=Lo...   \n",
       "149  https://blog.naver.com/jiyeon9770?Redirect=Log...   \n",
       "\n",
       "                                    title  \n",
       "0          여의도 더현대 맛집 :: 취향대로 골라 먹기, 잇샐러드  \n",
       "1                여의도 더현대 맛집 혼자 먹은 쌀국수 미쳤다  \n",
       "2                        일품이었던 여의도 더현대 맛집  \n",
       "3                          손꼽았던 더현대 서울 맛집  \n",
       "4             여의도 더현대 카페 레이어드 서울 스콘 맛집 인정  \n",
       "..                                    ...  \n",
       "145               여의도 더현대 맛집 과카몰레 돈까스1985  \n",
       "146                  여의도 더현대 수제버거 맛집 번패티번  \n",
       "147           여의도 더현대 서울 맛집 - 밀본, 태극당 모나카  \n",
       "148    더현대 서울 첫방문 : 가는길, 맛집, 슈퍼말차, 아르켓...  \n",
       "149  더현대 맛집 추천 : 페어몬트 앰배서더 서울 호텔 연말 모임 추천  \n",
       "\n",
       "[150 rows x 2 columns]"
      ]
     },
     "execution_count": 76,
     "metadata": {},
     "output_type": "execute_result"
    }
   ],
   "source": [
    "# 수집된 url_list, title_list로 판다스 데이터프레임 만들기\n",
    "df = pd.DataFrame({'url':url_list, 'title':title_list})\n",
    "df"
   ]
  },
  {
   "cell_type": "code",
   "execution_count": 77,
   "metadata": {
    "id": "0gl5A-pW-kvt",
    "outputId": "a559e994-03d4-4012-87d8-13ff86500cd9"
   },
   "outputs": [
    {
     "data": {
      "text/plain": [
       "'C:\\\\Users\\\\eunwon\\\\Desktop\\\\크롤링'"
      ]
     },
     "execution_count": 77,
     "metadata": {},
     "output_type": "execute_result"
    }
   ],
   "source": [
    "pwd"
   ]
  },
  {
   "cell_type": "code",
   "execution_count": 78,
   "metadata": {
    "id": "utM15Eos-kvt"
   },
   "outputs": [],
   "source": [
    "# 저장하기\n",
    "df.to_excel(\"blog_url.xlsx\", encoding='utf-8-sig')\n",
    "# df.to_csv(\"blog_url.csv\")"
   ]
  },
  {
   "cell_type": "markdown",
   "metadata": {
    "id": "hXNfrK-L-kvt"
   },
   "source": [
    "# 2. 블로그 내용 크롤링하기"
   ]
  },
  {
   "cell_type": "code",
   "execution_count": 92,
   "metadata": {
    "id": "wueBlU75-kvt"
   },
   "outputs": [],
   "source": [
    "import sys\n",
    "import os\n",
    "import pandas as pd\n",
    "import numpy as np"
   ]
  },
  {
   "cell_type": "code",
   "execution_count": 93,
   "metadata": {
    "id": "nRD3qDF5-kvt",
    "outputId": "9630a68d-e501-4865-eaa2-3112a51d78ab",
    "scrolled": true
   },
   "outputs": [
    {
     "name": "stdout",
     "output_type": "stream",
     "text": [
      "150\n"
     ]
    },
    {
     "data": {
      "text/html": [
       "<div>\n",
       "<style scoped>\n",
       "    .dataframe tbody tr th:only-of-type {\n",
       "        vertical-align: middle;\n",
       "    }\n",
       "\n",
       "    .dataframe tbody tr th {\n",
       "        vertical-align: top;\n",
       "    }\n",
       "\n",
       "    .dataframe thead th {\n",
       "        text-align: right;\n",
       "    }\n",
       "</style>\n",
       "<table border=\"1\" class=\"dataframe\">\n",
       "  <thead>\n",
       "    <tr style=\"text-align: right;\">\n",
       "      <th></th>\n",
       "      <th>url</th>\n",
       "      <th>title</th>\n",
       "    </tr>\n",
       "  </thead>\n",
       "  <tbody>\n",
       "    <tr>\n",
       "      <th>0</th>\n",
       "      <td>https://blog.naver.com/weeeunjee?Redirect=Log&amp;...</td>\n",
       "      <td>여의도 더현대 맛집 :: 취향대로 골라 먹기, 잇샐러드</td>\n",
       "    </tr>\n",
       "    <tr>\n",
       "      <th>1</th>\n",
       "      <td>https://blog.naver.com/megkis?Redirect=Log&amp;log...</td>\n",
       "      <td>여의도 더현대 맛집 혼자 먹은 쌀국수 미쳤다</td>\n",
       "    </tr>\n",
       "    <tr>\n",
       "      <th>2</th>\n",
       "      <td>https://blog.naver.com/wjd_dms01?Redirect=Log&amp;...</td>\n",
       "      <td>일품이었던 여의도 더현대 맛집</td>\n",
       "    </tr>\n",
       "    <tr>\n",
       "      <th>3</th>\n",
       "      <td>https://blog.naver.com/iam_swoniii?Redirect=Lo...</td>\n",
       "      <td>손꼽았던 더현대 서울 맛집</td>\n",
       "    </tr>\n",
       "    <tr>\n",
       "      <th>4</th>\n",
       "      <td>https://blog.naver.com/by_bien?Redirect=Log&amp;lo...</td>\n",
       "      <td>여의도 더현대 카페 레이어드 서울 스콘 맛집 인정</td>\n",
       "    </tr>\n",
       "    <tr>\n",
       "      <th>...</th>\n",
       "      <td>...</td>\n",
       "      <td>...</td>\n",
       "    </tr>\n",
       "    <tr>\n",
       "      <th>145</th>\n",
       "      <td>https://blog.naver.com/ths631945?Redirect=Log&amp;...</td>\n",
       "      <td>여의도 더현대 맛집 과카몰레 돈까스1985</td>\n",
       "    </tr>\n",
       "    <tr>\n",
       "      <th>146</th>\n",
       "      <td>https://blog.naver.com/eatearth?Redirect=Log&amp;l...</td>\n",
       "      <td>여의도 더현대 수제버거 맛집 번패티번</td>\n",
       "    </tr>\n",
       "    <tr>\n",
       "      <th>147</th>\n",
       "      <td>https://blog.naver.com/jayyo78?Redirect=Log&amp;lo...</td>\n",
       "      <td>여의도 더현대 서울 맛집 - 밀본, 태극당 모나카</td>\n",
       "    </tr>\n",
       "    <tr>\n",
       "      <th>148</th>\n",
       "      <td>https://blog.naver.com/dlwldnjs268?Redirect=Lo...</td>\n",
       "      <td>더현대 서울 첫방문 : 가는길, 맛집, 슈퍼말차, 아르켓...</td>\n",
       "    </tr>\n",
       "    <tr>\n",
       "      <th>149</th>\n",
       "      <td>https://blog.naver.com/jiyeon9770?Redirect=Log...</td>\n",
       "      <td>더현대 맛집 추천 : 페어몬트 앰배서더 서울 호텔 연말 모임 추천</td>\n",
       "    </tr>\n",
       "  </tbody>\n",
       "</table>\n",
       "<p>150 rows × 2 columns</p>\n",
       "</div>"
      ],
      "text/plain": [
       "                                                   url  \\\n",
       "0    https://blog.naver.com/weeeunjee?Redirect=Log&...   \n",
       "1    https://blog.naver.com/megkis?Redirect=Log&log...   \n",
       "2    https://blog.naver.com/wjd_dms01?Redirect=Log&...   \n",
       "3    https://blog.naver.com/iam_swoniii?Redirect=Lo...   \n",
       "4    https://blog.naver.com/by_bien?Redirect=Log&lo...   \n",
       "..                                                 ...   \n",
       "145  https://blog.naver.com/ths631945?Redirect=Log&...   \n",
       "146  https://blog.naver.com/eatearth?Redirect=Log&l...   \n",
       "147  https://blog.naver.com/jayyo78?Redirect=Log&lo...   \n",
       "148  https://blog.naver.com/dlwldnjs268?Redirect=Lo...   \n",
       "149  https://blog.naver.com/jiyeon9770?Redirect=Log...   \n",
       "\n",
       "                                    title  \n",
       "0          여의도 더현대 맛집 :: 취향대로 골라 먹기, 잇샐러드  \n",
       "1                여의도 더현대 맛집 혼자 먹은 쌀국수 미쳤다  \n",
       "2                        일품이었던 여의도 더현대 맛집  \n",
       "3                          손꼽았던 더현대 서울 맛집  \n",
       "4             여의도 더현대 카페 레이어드 서울 스콘 맛집 인정  \n",
       "..                                    ...  \n",
       "145               여의도 더현대 맛집 과카몰레 돈까스1985  \n",
       "146                  여의도 더현대 수제버거 맛집 번패티번  \n",
       "147           여의도 더현대 서울 맛집 - 밀본, 태극당 모나카  \n",
       "148    더현대 서울 첫방문 : 가는길, 맛집, 슈퍼말차, 아르켓...  \n",
       "149  더현대 맛집 추천 : 페어몬트 앰배서더 서울 호텔 연말 모임 추천  \n",
       "\n",
       "[150 rows x 2 columns]"
      ]
     },
     "execution_count": 93,
     "metadata": {},
     "output_type": "execute_result"
    }
   ],
   "source": [
    "# \"url_list.csv\" 불러오기\n",
    "url_load = pd.read_excel(\"blog_url.xlsx\")\n",
    "url_load = url_load.drop(\"Unnamed: 0\", axis=1)  # 불필요한 칼럼 삭제\n",
    "\n",
    "num_list = len(url_load)\n",
    "\n",
    "print(num_list)\n",
    "url_load"
   ]
  },
  {
   "cell_type": "code",
   "execution_count": 94,
   "metadata": {},
   "outputs": [
    {
     "data": {
      "text/plain": [
       "0      https://blog.naver.com/weeeunjee?Redirect=Log&...\n",
       "1      https://blog.naver.com/megkis?Redirect=Log&log...\n",
       "2      https://blog.naver.com/wjd_dms01?Redirect=Log&...\n",
       "3      https://blog.naver.com/iam_swoniii?Redirect=Lo...\n",
       "4      https://blog.naver.com/by_bien?Redirect=Log&lo...\n",
       "                             ...                        \n",
       "145    https://blog.naver.com/ths631945?Redirect=Log&...\n",
       "146    https://blog.naver.com/eatearth?Redirect=Log&l...\n",
       "147    https://blog.naver.com/jayyo78?Redirect=Log&lo...\n",
       "148    https://blog.naver.com/dlwldnjs268?Redirect=Lo...\n",
       "149    https://blog.naver.com/jiyeon9770?Redirect=Log...\n",
       "Name: url, Length: 150, dtype: object"
      ]
     },
     "execution_count": 94,
     "metadata": {},
     "output_type": "execute_result"
    }
   ],
   "source": [
    "url_load['url']"
   ]
  },
  {
   "cell_type": "code",
   "execution_count": 100,
   "metadata": {},
   "outputs": [],
   "source": [
    "i = 5\n",
    "\n",
    "url = url_load['url'][i]\n",
    "chrome_path = chromedriver_autoinstaller.install()\n",
    "driver = webdriver.Chrome(chrome_path)\n",
    "\n",
    "driver.get(url)   # 글 띄우기\n",
    "time.sleep(1)\n",
    "\n",
    "# iframe 접근\n",
    "driver.switch_to.frame('mainFrame')\n",
    "time.sleep(1)"
   ]
  },
  {
   "cell_type": "code",
   "execution_count": 101,
   "metadata": {},
   "outputs": [],
   "source": [
    "dict = {}  # 전체 180개 크롤링 데이터를 담을 그릇\n",
    "\n",
    "target_info = {}  # 개별 블로그 내용을 담을 딕셔너리 생성"
   ]
  },
  {
   "cell_type": "code",
   "execution_count": 102,
   "metadata": {},
   "outputs": [
    {
     "data": {
      "text/plain": [
       "'더현대 수제버거 맛집 - 번패티번 사진 및 후기'"
      ]
     },
     "execution_count": 102,
     "metadata": {},
     "output_type": "execute_result"
    }
   ],
   "source": [
    "# 제목 크롤링 시작\n",
    "overlays = \".se-module.se-module-text.se-title-text\"                         \n",
    "tit = driver.find_element_by_css_selector(overlays)          # title\n",
    "title = tit.text\n",
    "title"
   ]
  },
  {
   "cell_type": "code",
   "execution_count": 103,
   "metadata": {},
   "outputs": [
    {
     "data": {
      "text/plain": [
       "'황꼬'"
      ]
     },
     "execution_count": 103,
     "metadata": {},
     "output_type": "execute_result"
    }
   ],
   "source": [
    "# 글쓴이 크롤링 시작\n",
    "overlays = \".link.pcol2\"                                 \n",
    "nick = driver.find_element_by_css_selector(overlays)         # nickname\n",
    "nickname = nick.text\n",
    "nickname"
   ]
  },
  {
   "cell_type": "code",
   "execution_count": 104,
   "metadata": {},
   "outputs": [
    {
     "data": {
      "text/plain": [
       "<selenium.webdriver.remote.webelement.WebElement (session=\"ff2f83674a7fabc35efd2c3ce5a54048\", element=\"18ebed7e-5f45-4565-bf52-245623039910\")>"
      ]
     },
     "execution_count": 104,
     "metadata": {},
     "output_type": "execute_result"
    }
   ],
   "source": [
    "# 날짜 크롤링\n",
    "overlays = \".se_publishDate.pcol2\"                                 \n",
    "date = driver.find_element_by_css_selector(overlays)         # datetime\n",
    "date"
   ]
  },
  {
   "cell_type": "code",
   "execution_count": 105,
   "metadata": {},
   "outputs": [
    {
     "data": {
      "text/plain": [
       "'2021. 12. 21. 15:16'"
      ]
     },
     "execution_count": 105,
     "metadata": {},
     "output_type": "execute_result"
    }
   ],
   "source": [
    "datetime = date.text\n",
    "datetime"
   ]
  },
  {
   "cell_type": "code",
   "execution_count": 106,
   "metadata": {
    "scrolled": true
   },
   "outputs": [
    {
     "data": {
      "text/plain": [
       "[<selenium.webdriver.remote.webelement.WebElement (session=\"ff2f83674a7fabc35efd2c3ce5a54048\", element=\"bf4e3635-d2b2-497a-b684-9b4be2475c3a\")>,\n",
       " <selenium.webdriver.remote.webelement.WebElement (session=\"ff2f83674a7fabc35efd2c3ce5a54048\", element=\"d50cfda3-1c33-4479-9b9f-9d5edb8139a3\")>,\n",
       " <selenium.webdriver.remote.webelement.WebElement (session=\"ff2f83674a7fabc35efd2c3ce5a54048\", element=\"151cd3b4-2555-46e7-a9ea-731754bdd1fc\")>,\n",
       " <selenium.webdriver.remote.webelement.WebElement (session=\"ff2f83674a7fabc35efd2c3ce5a54048\", element=\"583b1f60-c558-497c-8f5e-e67771fae36a\")>,\n",
       " <selenium.webdriver.remote.webelement.WebElement (session=\"ff2f83674a7fabc35efd2c3ce5a54048\", element=\"cc745ef6-3aa9-4731-a161-bc78bdc181d9\")>,\n",
       " <selenium.webdriver.remote.webelement.WebElement (session=\"ff2f83674a7fabc35efd2c3ce5a54048\", element=\"2a96d918-f346-4956-8a14-d6981a879460\")>,\n",
       " <selenium.webdriver.remote.webelement.WebElement (session=\"ff2f83674a7fabc35efd2c3ce5a54048\", element=\"bf728040-1131-4c92-a293-5e8638ac172f\")>,\n",
       " <selenium.webdriver.remote.webelement.WebElement (session=\"ff2f83674a7fabc35efd2c3ce5a54048\", element=\"3e2f5aeb-a51a-4341-82bf-6d98de697b9e\")>,\n",
       " <selenium.webdriver.remote.webelement.WebElement (session=\"ff2f83674a7fabc35efd2c3ce5a54048\", element=\"ced06b41-58fe-4ec1-a48e-9e26a2c13b10\")>,\n",
       " <selenium.webdriver.remote.webelement.WebElement (session=\"ff2f83674a7fabc35efd2c3ce5a54048\", element=\"b32e5594-bd3a-44b9-8afb-2c269fb5c4dc\")>,\n",
       " <selenium.webdriver.remote.webelement.WebElement (session=\"ff2f83674a7fabc35efd2c3ce5a54048\", element=\"03182584-b8e9-4a46-a3d6-7e32f3af3634\")>,\n",
       " <selenium.webdriver.remote.webelement.WebElement (session=\"ff2f83674a7fabc35efd2c3ce5a54048\", element=\"61febfa9-e2d2-40d0-a404-e46887d5057f\")>,\n",
       " <selenium.webdriver.remote.webelement.WebElement (session=\"ff2f83674a7fabc35efd2c3ce5a54048\", element=\"c7a9d4e8-634c-4aa9-b985-8e8d93aa0dbc\")>,\n",
       " <selenium.webdriver.remote.webelement.WebElement (session=\"ff2f83674a7fabc35efd2c3ce5a54048\", element=\"401c402e-73e6-4c45-a29e-9fe8321fd833\")>,\n",
       " <selenium.webdriver.remote.webelement.WebElement (session=\"ff2f83674a7fabc35efd2c3ce5a54048\", element=\"9dc48b86-a250-4246-a46c-79589b2c344d\")>,\n",
       " <selenium.webdriver.remote.webelement.WebElement (session=\"ff2f83674a7fabc35efd2c3ce5a54048\", element=\"16d33245-cdb7-474f-a597-28a87bac51b5\")>,\n",
       " <selenium.webdriver.remote.webelement.WebElement (session=\"ff2f83674a7fabc35efd2c3ce5a54048\", element=\"8e0c540a-7c80-46ed-b932-a535bf2f12a5\")>,\n",
       " <selenium.webdriver.remote.webelement.WebElement (session=\"ff2f83674a7fabc35efd2c3ce5a54048\", element=\"594aa757-fc3f-4b3d-9993-9b9a33ab3d4e\")>,\n",
       " <selenium.webdriver.remote.webelement.WebElement (session=\"ff2f83674a7fabc35efd2c3ce5a54048\", element=\"1a12b069-3510-4b5f-961f-f6cb0f4a3b34\")>,\n",
       " <selenium.webdriver.remote.webelement.WebElement (session=\"ff2f83674a7fabc35efd2c3ce5a54048\", element=\"af514a8d-67e6-42b9-9260-8b0113daddef\")>,\n",
       " <selenium.webdriver.remote.webelement.WebElement (session=\"ff2f83674a7fabc35efd2c3ce5a54048\", element=\"ba2c86f9-b16a-474b-9c29-04b4aaf8c77f\")>,\n",
       " <selenium.webdriver.remote.webelement.WebElement (session=\"ff2f83674a7fabc35efd2c3ce5a54048\", element=\"4fb3fb17-eb02-4713-9597-4460159339d8\")>,\n",
       " <selenium.webdriver.remote.webelement.WebElement (session=\"ff2f83674a7fabc35efd2c3ce5a54048\", element=\"3769a754-4fe4-4b68-a0f0-709b9024fbd1\")>,\n",
       " <selenium.webdriver.remote.webelement.WebElement (session=\"ff2f83674a7fabc35efd2c3ce5a54048\", element=\"9194290e-f8ba-4086-9463-33c0b7827e7a\")>,\n",
       " <selenium.webdriver.remote.webelement.WebElement (session=\"ff2f83674a7fabc35efd2c3ce5a54048\", element=\"232c4262-09d6-4305-a8c4-ec8a4411689b\")>,\n",
       " <selenium.webdriver.remote.webelement.WebElement (session=\"ff2f83674a7fabc35efd2c3ce5a54048\", element=\"194a59f1-10c3-4ee0-b8dd-90ae835e1df9\")>,\n",
       " <selenium.webdriver.remote.webelement.WebElement (session=\"ff2f83674a7fabc35efd2c3ce5a54048\", element=\"8be06d5c-466d-41a5-8a64-7324a01d6b86\")>,\n",
       " <selenium.webdriver.remote.webelement.WebElement (session=\"ff2f83674a7fabc35efd2c3ce5a54048\", element=\"d5505aa0-3655-4adc-bc6a-a9decc436909\")>]"
      ]
     },
     "execution_count": 106,
     "metadata": {},
     "output_type": "execute_result"
    }
   ],
   "source": [
    "# 내용 크롤링\n",
    "overlays = \".se-component.se-text.se-l-default\"                                 \n",
    "contents = driver.find_elements_by_css_selector(overlays)    # contents\n",
    "contents"
   ]
  },
  {
   "cell_type": "code",
   "execution_count": 107,
   "metadata": {},
   "outputs": [
    {
     "data": {
      "text/plain": [
       "'안녕하세요!\\n레이첼입니다'"
      ]
     },
     "execution_count": 107,
     "metadata": {},
     "output_type": "execute_result"
    }
   ],
   "source": [
    "contents[0].text"
   ]
  },
  {
   "cell_type": "code",
   "execution_count": 108,
   "metadata": {},
   "outputs": [
    {
     "data": {
      "text/plain": [
       "'안녕하세요!\\n레이첼입니다 오늘은\\n더현대 버거 맛집\\n번 패티 번\\n후기를 갖고 왔습니다 서울 더현대 백화점에 위치하고 있는 번패티번 입니다 이것이 진짜 수제버거다!\\n라는 슬로건과 함께 배고픈 저랑 친구의 눈길을 사로잡았답니당 번패티번은 다른 더현대의 먹거리와는 다르게\\n웨이팅이 10년이 걸리지 않는다는 점이 아주 강점입니다\\n맛집에 있어서 웨이팅을 매우 싫어하는 저랑 친구로써는 \\n번 패티 번이 얼마나 반갑던지\\n번 패티 번 메뉴 및 가격 참고하세용 앉을 수 있는 공간도 충분하게 많습니다\\n바로 옆에 블루보틀도 있습니당 앞으로 가서 주문을 하면 됩니다 QR코드 혹은 안심콜로 체크인을 하시면 됩니당 저는 저녁시간대에 갔는데도\\n사람들이 생각보다 많이 있지 않아서 아주 좋았답니당 주문 후에는 주어진 공간에서 알아서 앉아서 먹으면 됩니다\\n진동벨을 주기 때문에 알아서 갖고 가서 먹으면 끝 번 패티 번의 번들이 진열되어 있는 모습입니당\\n아마도 가짜 전시용 번이지 않을까 싶어용 친구랑 너무 멀리 가지 않고 자리에 장착 각 테이블에는 케찹과 머스터드가 이렇게 있습니다\\n핫소스가 없어서 살짝쿵 아쉬웠습니당 빵과 패티에 대한 고집이 담겨진 수제버거 맛집이라고 합니다\\n번의 경우 매일 신선하게 생산을 하고 있으며\\n패티의 경우 저온숙성을 통해서 100% 프리미언 쇠고기를 사용을 하고 있다고 합니당 미니 메뉴 및 가격이 또 이렇게 있습니당\\n대체적으로 너무 비싼 가격이 아닌 것 같아용 아가들을 위한 베이비 체어도 있습니다\\n그래서 아이들과 함께 식사를 즐길 수 있습니당 지동벨\\n친구랑 차분하게 배고픈 마음을 갖고 기다렸습니당 그리고 등장 저는 친구랑 반반씩 버거를 나눠 먹기 위해서 \\n버거 2개 + 세트 1개 + 윙 주문을 했습니다\\n세트에 나오는 프라이즈의 경우, 치즈 프아이즈로 변경을 했습니다\\n금액은 당연히 발생합니다\\n하지만 후회 없은 소비 번패티번 버거와 과카몰리 버거를 주문을 했습니당  과카몰리버거 속에 있는 과카몰리의 모습이 잘 보이나욤? 번패티번 버거의 속 모습입니다\\n진짜 맛있습니다\\n검색이란 1도 하지 않고 그냥 웨이팅이 없어서 찾아온 맛집이라\\n기대할 틈이 없어서 그런지 진짜 너무 맛있더라구요 과카몰리 버거의 내부 모습입니당\\n생각보다 과카몰리가 많이 들어 있지 않아서 친구랑 저랑은 실몽쓰\\n하지만, 그래도 너무나도 맛있게 먹었습니당 진자 모든 것을 순삭을 했습니다\\n윙도 맛있고 (버펄로 소스가 없는 그냥 일반 윙이랍니다)\\n치즈 프라이즈의 경우, 치즈가 진짜 마지막 감튀를 먹을때까지\\n치즈를 찍어먹을 수 있을만큼 엄청 풍족하게 줘서 아주 굿!\\n총평\\n맛 ⭐️⭐️⭐️⭐️⭐️\\n기대 이상입니다\\n다른 수제버거 집보다 더맛있는것 같은데\\n왜 별로 각광을 못 받는지...\\n치즈 프라이즈로 꼭 변경을 해서 함께 드십시오\\n가격 ⭐️⭐️⭐️⭐️\\n나쁘지 않아요\\n수제 버거의 가격이 뭐 이정도 되는 것 같아용\\n재구매의사 100%\\n웨이팅 없고, 빠르고, 맛있고!\\n위치 그리고\\n집에서 즐길 수 있는 햄버거 놀이 추천합니다 위 사진 클릭하면 구매처로 이동\\n그리고\\n가장 최근에 올린 제 브이로그 한번 보세용\\n좋아요랑 구독은 사랑입니다 그럼 이만!\\n감사합니다 이 포스팅은 쿠팡 파트너스 활동의 일환으로, 이에 따른 일정액의 수수료를 제공받습니다'"
      ]
     },
     "execution_count": 108,
     "metadata": {},
     "output_type": "execute_result"
    }
   ],
   "source": [
    "content_list = []\n",
    "for content in contents:\n",
    "    content_list.append(content.text)\n",
    "\n",
    "content_str = ' '.join(content_list)                         # content_str\n",
    "content_str"
   ]
  },
  {
   "cell_type": "code",
   "execution_count": null,
   "metadata": {},
   "outputs": [],
   "source": []
  },
  {
   "cell_type": "code",
   "execution_count": null,
   "metadata": {},
   "outputs": [],
   "source": []
  },
  {
   "cell_type": "code",
   "execution_count": null,
   "metadata": {},
   "outputs": [],
   "source": []
  },
  {
   "cell_type": "code",
   "execution_count": null,
   "metadata": {},
   "outputs": [],
   "source": []
  },
  {
   "cell_type": "code",
   "execution_count": null,
   "metadata": {},
   "outputs": [],
   "source": []
  },
  {
   "cell_type": "code",
   "execution_count": 109,
   "metadata": {
    "colab": {
     "referenced_widgets": [
      "90fd656a8c42421bbe133fdcd0598bc6"
     ]
    },
    "id": "XFXmQgE8-kvu",
    "outputId": "132915b2-033b-43b1-997c-cc5609dbf776",
    "scrolled": true
   },
   "outputs": [
    {
     "data": {
      "application/vnd.jupyter.widget-view+json": {
       "model_id": "2a4bd04eb7d94c58a868a80773c2471e",
       "version_major": 2,
       "version_minor": 0
      },
      "text/plain": [
       "  0%|          | 0/30 [00:00<?, ?it/s]"
      ]
     },
     "metadata": {},
     "output_type": "display_data"
    },
    {
     "name": "stdout",
     "output_type": "stream",
     "text": [
      "0 여의도 더현대 맛집 :: 취향대로 골라 먹기, 잇샐러드\n",
      "1 여의도 더현대 맛집 혼자 먹은 쌀국수 미쳤다\n",
      "2 일품이었던 여의도 더현대 맛집\n",
      "3 손꼽았던 더현대 서울 맛집\n",
      "4 여의도 더현대 카페 레이어드 서울 스콘 맛집 인정 \n",
      "5 더현대 수제버거 맛집 - 번패티번 사진 및 후기\n",
      "6 여의도 중식 헤이웍by초류향 더현대 맛집으로 인정!\n",
      "7 [여의도 더현대 맛집] 로바  - 회식하기 딱이야 125,000원 단독룸 디너코스B\n",
      "8 더현대 맛집 냄비요리연구소 내돈내산\n",
      "9 더현대 서울 맛집모음 \"마츠노하나, 수티, 번패티번, 카페\"\n",
      "10 더현대 서울 지하 1층 맛집과 카페들(Feat. 카페 레이어드)\n",
      "11 더현대 맛집, 번패티번 카멜커피 아기랑 핫플투어\n",
      "12 여의도 더현대 맛집 중식 헤이웍 by 초류향\n",
      "13 여의도 더현대 맛집, 여의도중식 헤이웍by 초류향 별미네요!\n",
      "14 여의도 더현대 맛집 헤이웍by초류향 중식 추천\n",
      "15 맛집;) 여의도 더현대 #에그슬럿 #카멜커피 #태극당\n",
      "16 여의도 더현대 맛집 헤이웍 by 초류향 중식 추천\n",
      "17 [서울] 여의도 더현대 호우섬 (왜 맛집이죠?)\n",
      "18 여의도 맛집 콩국수 명가 진주집과 더현대 서울 블루보틀 티파니 팝업스토어 답사기 \n",
      "19 (여의도맛집) 더현대 나이스타임 '올드페리 도넛' 후기\n",
      "20 여의도 더현대 호우섬_딤섬맛집_내돈내산후기\n",
      "21 여의도 더현대 근처 맛집 한암동 \n",
      "22 ♥여의도 더현대 맛집 - '헤이웍 BY 초류향'에서 중식 1인정식 혼밥 추천♥\n",
      "23 더현대 맛집 호우섬 / 솥밥 필수 홍콩 맛집\n",
      "24 [여의도 더현대 맛집] 코리안 바베큐 전문점 : Sooty (수티) \n",
      "25 와필레 더현대 서울 와플 맛집\n",
      "26 [더현대 맛집] 미쉐린 가이드에 나온 \"밀본\"에 다녀오다! 여의도 생활의달인 한식 맛집(칼국수&고기덮밥)\n",
      "27 [테일러 커피] 더현대 서울 크림모카 커피 맛집\n",
      "28 여의도 더현대 맛집 베트남 쌀국수 @효뜨(HIEUTU)\n",
      "29 여의도 맛집 핫플 : IFC 쓰리버즈 브런치, 더현대 블루보틀, 워킹맘연차\n",
      "수집한 글 갯수:  30\n",
      "{0: {'title': '여의도 더현대 맛집 :: 취향대로 골라 먹기, 잇샐러드', 'nickname': '로폰', 'datetime': '2021. 10. 21. 16:39', 'content': '오늘은 일전에 비욘더로드 전시회를 관람하면서 들러본 여의도 더현대 맛집, 잇샐러드 후기를 올려볼까 한다. 가게는 지하 2층에 위치해 있는데 여의도역에서 지하 통로를 이용해 들어가면 바로 같은 층에 위치해 있어서 찾아가기에 쉽다. 인테리어도 깔끔하고 분위기도 혼밥을 즐기기에도 부담 없는 느낌이라서 꽤 좋았던 곳인데 그럼 아래 상세 후기를 적어봐야지. +\\n주소 : 서울 영등포구 여의대로 108 지하2층\\n영업시간 : 오전 10시 반 ~ 저녁 8시\\n(주말에는 8시 반까지, \\n라스트오더는 마감 30분 전까지) 여의도 더현대 맛집 인테리어는 전반적으로 샐러드 파는 곳이구나~ 싶은 느낌이 연상되도록 초록색을 중심으로 깔끔하게 꾸며진 편이다. 의자는 다소 딱딱한 편이고 자리가 아주 편한 느낌은 아닌 듯. 다른 테이블은 손님들이 다 한 자리씩 차지하고 있어서 키가 높은 쉐어테이블에 앉았는데, 테이블 아래에 이렇게 철로 단이 져있어서 다리를 올려둘 수 있던 점이 괜찮았다. 주문은 카운터에서 선불로 진행되고, 주문을 받으면 진동벨을 준다. 음식을 받아서 자리로 가져오고 식사 후에는 퇴식구에 직접 가져다 두는 시스템이다. 참고로 기재되어 있는 메뉴들은 그냥 주문하면 되고 커스텀 주문을 원하는 분들은 카운터 쪽에 주문지가 있으니 펜으로 체크해서 드리면 된다. 난 에너자이저를 먹을까 하다가 거기에 내가 좋아하지 않는 야채들이 몇 가지 섞여 있어서 커스텀으로 주문하기로 했다. 베이스로 로메인과 구운 양배추를 선택하고, 아보카도 올리브 레드 쿠스쿠스, 구운 돼지고기, 구운 두부, 옥수수 콘 등을 넣었던 것으로 기억한다. 드레싱은 홈메이드 바질 페스토로 선택하고 여기에 그릭요거트와 꿀스틱도 주문했다. 후식으로는 요거트를 먹을 참이기에~ㅎㅎ 여튼 받아온 먹거리들 사진도 자세히 찍어보았음. 그릭요거트에 곁들여진 꿀은 이렇게 스틱으로 따로 포장된 걸로 주시는데 먹다보니 양이 조금 부족하게 여겨져서 아쉽긴 했다. ㅠ 취향에 따라 하나 더 사먹을 수 있게 개별판매해주면 더 좋겠단 생각은 들었음. 그리고 샐러드볼은 얼핏 보면 그리 커보이진 않지만 먹다보면 양이 꽤나 실한 편이다. 쉐낏쉐낏 열심히 섞어보는 영상도 담아봄. 참고로 더현대 잇샐러드는 샐러드가 메인이긴 하지만 수프나 샌드위치 종류도 판매하고 있다. 찾아보니 성수 쪽에도 지점이 있던데 여의도는 너무 머니 다음 번에는 남편이랑 같이 성수 지점으로 가서 주문해보고 싶단 생각도 드네. 여튼, 토핑 중에서 라이스 토핑도 쿠스쿠스며 보리 등등 선택지가 꽤나 다양했는데 레드 쿠스쿠스를 골랐던 것이 신의 한수였던 것 같다. 쌀알이 흰색 계열이면 솔직히 비주얼이 밋밋한데 빨간색이라 그런가 색깔도 알록달록 너무 예쁘고 먹음직스러워보임. 촵촵 열심히 섞어본 샐러드. 엄청 촉촉해보인다. 본인은 병아리콩, 양파 등을 싫어하는데 여의도 더현대 맛집 잇샐러드는 기본 베이스 야채도 종류가 다양해서 골라보기에 좋았고 토핑 야채도 가짓수가 많아서 내 입맛대로 선택하기 좋았다. 사실 닭고기도 여기다 추가할까 하다가 너무 과해질 것 같아서 말았는데 섞어보니 걍 이 정도가 딱 적당했던 듯. 아보카도도 실하게 들어 있고 바질 드레싱 특유의 향이 풍미를 돋구어주는데다 야채도 아삭하니 맛남. 올리브랑 스위트콘도 들어가 있어서 단짠한 맛도 팡팡 터지고~ 스푼샷도 한 번 찍어보고요? 이날 제대로 된 첫 끼니로 저녁이 되어서야 이걸 먹으니 양은 많아도 술술 다 들어가더란..ㅎㅎ 마음 같아서는 넘 맛있어서 두 그릇도 먹을 수 있을 것 같은데 적당히 자제하기로 했다. ㅠ 그래도 양이 생각보다 많아서 먹고나니 아쉽다거나 하는 느낌은 들지 않았고, 배도 든든하게 불러서 만족스러웠다. 후식인 그릭요거트에도 꿀 뿌려서 찰칵~ 그릭요거트는 음. 맛은 있는데 먹다보니 살짝 느끼한 부분이 없잖아 있었다. 분명히 맛이 아주 새콤한 편인데도 우유 향이 확 농축된 느낌이라 그런가 살짝 부담스럽고 입 안이 좀 텁텁해졌음. 만약에 여길 다시 가게 된다면 그땐 요거트보다는 버섯 크림 수프 같은 걸 주문하는 게 낫겠단 생각이 든다. 물론, 맛이 없는 것은 아님.   요거트 스푼샷도 찍어봄. 그런데 요거트가 워낙에 단단하고 꾸덕해서 저 종이 스푼은 힘아리가 1도 없어서 제대로 떠지질 않는다. 결국 사진만 한 장 남겨보고 남은 것은 샐러드 스푼으로 떠먹었음 ㅠㅎㅎ 이렇게 더현대 잇샐러드 후기를 맺어본다. 토핑 종류가 다양해서 취향껏 커스텀해먹을 수 있다는 게 가장 큰 장점인 듯. 덧붙여서 더현대를 들를 때 같이 관람해보면 좋을 비욘더로드 전시회 후기 링크도 함께 첨부해본다~ '}, 1: {'title': '여의도 더현대 맛집 혼자 먹은 쌀국수 미쳤다', 'nickname': '문지기', 'datetime': '2021. 11. 30. 19:57', 'content': '11월 12일 금요일 연차날, 아침부터 바쁘다 바뻐\\n난 쉬는 날 왜 집에 있지를 못하는 걸까 🤔\\n전시회 보고 맛있는 점심을 먹을 계획이었으나 오픈전부터 줄서있는 사람들 보고는 일단 먹자.\\n이게 정말 탁월한 선택이었던게 전시를 보고 식당 갔으면 웨이팅 겁나 할뻔 했네요 그만큼 사람들 가득. 지하에는 벌써 크리스마스 분위기가 나더라고요.\\n그 사이사이에서 사람들 사진 많이 찍던데 전 혼자니까 쿨하게 패쓰를 해줬답니다.\\n그리고는 지하 1층을 몇 바퀴 돌아다녔는지.. 맛나보이는 식당이 어찌나 많은지 고민 안 할수가 없어서요. 결정장애로 힘들어하는 순간에도 사람들은 무진장 들어와 매장들을 하나둘씩 채우고 있었어요.\\n이러다가 웨이팅을 할 수는 없으니 에잇 결정했어...\\n여의도 더현대 맛집 효뜨를 들어갔어요 면류가 갑자기 땡기는거 있죠 쌀국수 먹어보자구요. 매장안은 베트남 현지 분위기 나던데요 인테리어가 소소한데도 마음에 들었어요.\\n그나저나 언제 또 해외 나가보나... 베트남도 또 가고 싶고 아니 어디든지 나갈수 있으면 좋겠어요 ㅎㅎ 2인용 테이블에 눈치껏 자릴 하고는 메뉴판을 스캔했어요 먹고 싶은게 왜 이렇게나 많은지 또 장애가 ㅠㅜ\\n양껏 주문하고 싶은 마음을 가슴 한켠에 꾹꾹 눌러주고는 기본 소고기쌀국수를 시켰어요.\\n하나만 시키는건 뭔가 허전하니 사이드로 넴을 추가로 주문했어요.   주문하고 조금 있으니 시킨 메뉴들이 제 테이블에 세팅이 되었어요.\\n이제 효뜨, 여의도 더현대 맛집을어디 한 번 즐겨볼까요 나온 효뜨의 소고기쌀국수, 보기엔 특별한게 없었어요\\n그냥 일반적인 쌀국수 비쥬얼에 양파, 숙주나물, 파, 부추, 소고기가 들어있었어요 보통의 그것처럼\\n그런데 먹어보니 특별하지 않은게 아니더라고요 정말 맛있어요 쌀국수 이런 반응을 보일줄이야 ㅋㅋ 국물이 너무 진하고 맛있어서 정말 매력적이었어요. 흔한 그런 국물 육수가 아니더라고요.\\n진하고 시원 담백한게 이건 미쳤다 국물로 게임끝!!\\n거기에 촉촉하고 부드러운 쌀국수, 식감이 부드러운게 먹는데 기분 좋아졌어요. 거기다가 고기도 적은 편은 아니고 각종 토핑된 것들과 같이 먹어주면 그 맛이 새로웠어요.\\n달달한 양파, 아삭한 숙주 등 재료 하나하나가 개인적으로 만족스러웠어요.   쌀국수는 미쳤다 정말 어느 하나 불만스런게 없었어요 육수, 면, 고기 및 각종 토핑까지!\\n그럼 넴은 얼마나 맛있을까 만두를 좋아하는 저의 기대치가 쭈우욱 올라간 상태에서 먹어봤어요. 하아... 이건 진짜 별거 없던데요 ㅎㅎ 그냥 만두튀김!\\n그냥 먹을때는 그저 그랬고, 소스 찍어 먹으면 그나마 낫긴 하더라고요.\\n그리고 고수가 몇개 올려져 있는데 그정도는 먹을만, 못 드시는 분들은 미리 이야기하셔야 할듯 하네요. 넴에서 약간의 실망감을 얻게 되었지만 그래도 워낙 쌀국수가 맛나서 전체적으로 좋게 느껴졌어요.\\n쌀국수는 면과 육수 국물까지 끝장내버렸답니다 워낙 만족한 상태라 얼큰이도 상당히 궁금하더라고요. 울 두여인네도 쌀국수 다들 좋아하니 여의도 더현대 맛집에 데리고 오면 굉장히 좋아할 것 같아요.\\n이렇게 혼자 먹으러 다니면서 만족하고 맛있는건 가족과 함께 또 오는게 얼마나 기쁘고 보람있는지 ㅎㅎ\\n앞으로 계속 내가 테스트하면서 좋은 곳 찾아볼께 지원 좀 해주라 제발 ㅋㅋ '}, 2: {'title': '일품이었던 여의도 더현대 맛집', 'nickname': '심콩', 'datetime': '2021. 10. 12. 14:03', 'content': '지난 주말에 친구와 여의도에서 쇼핑하고서 여의도 더현대 맛집에서 점심을 먹었어요 :-)\\n 깔끔한 분위기에서 제주 흑돼지로 만든 카츠를\\n맛볼 수 있는 곳이었는데 소개해볼게요 ^^ㅎㅎ 이날 찾았던 긴자바이린은 여의나루역 1번출구에서\\n도보로 5분거리에있는 더현대백화점 지하에 위치해 있었어요\\n외관에서부터 깔끔한 오픈식의 내부가 훤히 보였는데\\n첫인상부터 저희들의 시선을 잡았어요! 보다시피 들어가는 입구에는 외부 메뉴판과 웨이티시 이용할 수 있는 순번시스템이 갖춰져 있었는데요ㅎ\\n기본 편의 서비스가 잘 되어 있는게 센스있었어요. 물론 방역적인 부분도 잘 지켜지고 있었는데요~~\\n손소독제도 눈에 띄는 곳에 있어 냉큼 사용했답니다~ 손소독제를 사용하고서 안으로 들어와 내부를 살펴보았어요\\n테이블마다 투명 칸막이가 셋팅되어 있어 보다 안심하고 식사할 수 있었네요  또한 반대편에는 긴 바테이블이 놓여져 있었는데요.\\n여의도 더현대 맛집은 혼자 방문해서 혼밥 하기에도 어색하지 않은 곳이었어요~ 우선 자리를 잡고 네모난 메뉴판을 살펴보며 어떤 음식을 먹을지 고민해보았어요^^\\n무엇보다 카츠 정식이 메인이었던지라\\n바이린정식과\\n로스카츠정식 그리고\\n가츠샌드를\\n하나 주문했어요 ~~ 주문을 하고 음식이 나오기만을 기다리며 주변을 살펴보다 배너를 보게 되었는데요~\\n최상급 제주흑돼지와 당일생산 빵가루, 천연재료로 만든 특제소스를 사용한다는 부분이 더 믿음갔어요 :-0 곧 주문한 메뉴들이 테이블 위로 하나 둘씩 올라오기 시작했어요 ~~~\\n보다시피 정식은 1인 스타일로 깔끔하게 나왔는데 풍족한 모습에 연신 사진부터 찍게 되었네요🥴 먼저 여의도 더현대 맛집의 기본 상차림부터 하나씩 살펴봤어요ㅎ\\n밑반찬은 물기 빠진 단무지와 할라피뇨가 있었는데 두가지만으로도 부족하지 않았어요 ㅎㅎ 옆에는 새콤한 타르타르소스가 놓여져 있었는데요 바사삭한 새우튀김을 먹을때 없어서는 안될 소스였어요  또 야채에 뿌려 먹을 수 있는 드레싱소스도 따로 준비되어 있었어요\\n짭쪼름하면서도 살짝 달큰한 맛이 있는 오리엔탈소스였는데 듬뿍 뿌려 먹으니 촉촉하니 괜찮더라구요  우선 바이린정식을 살펴보았는데 길쭉한 새우튀김과 안심, 멘츠카츠가 하나씩 자리를 잡고 있었어요\\n노르스름한 색상이 눈에 띄었는데 절로 군침이 돌았다죠  이 중 어떤것부터 먹을까 살짝 고민하다 길쭉한 길이감을 뽐내는 새우튀김부터 집어 들었어요\\n살짝만 집어도 바사삭한 소리가 귓가에 들려왔는데 여의도 더현대 맛집의 첫 한입이 기대되는 순간이었어요  무엇보다 새우튀김은 새콤한 타르타르소스와 궁합이 잘 맞는지라 크림소스에 푹 찍어 먹었는데요\\n겉은 바사삭하면서도 속은 촉촉하고 탱글탱글한에 제 취향을 만족시켰어요ㅎ 또 머리부분까지 바삭하게 튀겨져 나왔던지라 머리부터 꼬리까지 남김없이 먹을 수 있었어요\\n꼭꼭 씹어 먹을때마다 새우 자체의 고소함에 미소가 절로 돌았네요  튀김만 먹다보면 느끼할 수 있는지라 중간에 야채샐러드도 곁들여 먹었어요\\n입안에서 싱그러움과 아삭함이 춤을 추듯 어우러지더라구요 :) 다음으로 도톰한 두께의 안심카츠에 손이 향했는데요\\n여의도 더현대 맛집에서 엄선한 제주 흑돼지로 만든 음식인만큼\\n높은 기대감을 만족시켜주는 맛이었어요 😜 옆에 있는 맨츠카츠도 빼놓지 않고 먹었는데요\\n튀김옷은 얇고 고기는 두툼한 스타일이라\\n한조각만 먹어도 배부름이 꽉 채워지는 듯 했어요  한참 먹다 목이 막힌다 싶을때는 따끈한 장국을 후루룩 떠먹었어요.\\n 따뜻함과 부드러움이 입안을 적셔주었는데 속을 편안하게 만들어주었어요 ㅎㅎ 또한 함께 주문했던 로스카츠정식도 맛보았는데요\\n등심 부위라 하던데 이 역시 어떤 맛일지 궁금하더라구요  먼저 본연의 맛을 충분히 음미하기 위해 여의도 더현대 맛집의 시그니처 돈카츠 소스에\\n흠뻑 적셔 한입에 넣었어요 짭쪼름하면서도 깊은 향이 담긴 소스가 감칠맛을 한단계 업 시켜주었어요ㅎㅎ 더불어 히말라야소금에도 콕 찍어 먹었는데요\\n짭쪼름하면서도 깔끔한 맛에 돼지고기의 담백한 맛이 가득하니 박수가 나왔다죠 여기에다 알싸한 맛이 스며든 겨자소스에 곁들여 먹어도 색달랐는데요\\n소스에 따라 맛이 다르게 느껴지니 골라 먹는 재미까지 쏠쏠했어요ㅎㅎ 두툼한 카츠 먹으면서 고슬고슬한 밥도 중간중간 먹었는데\\n더불어 배부름까지 꽉 채울 수 있었네요 ㅠㅠ 마지막으로는 쌀식빵 사이사이로 두툼한 안심이 샌드되어 있는 가츠샌드에 시선이 향했어요\\n단면 사이로 촉촉한 육즙과 두툼함이 확연히 눈에 띄어 군침이 돌았어요 도톰한 카츠샌드를 한입씩 물어 먹었는데 퍽퍽함은 없이 부드러움과 촉촉함에 반하는 맛이었어요ㅎ\\n원조라는 명성과 1백년의 전통이 고스란히 담긴 여의도 더현대 맛집 오랫동안 기억하고 싶어요 ㅎ   주소 : 서울 영등포구 여의도동22 지하1층\\n번호 : 02-3277-0762\\n영업시간 : 평일 10:30~22:00 (금요일10:30-20:30) \\n#더현대서울맛집 #긴자바이린  '}, 3: {'title': '손꼽았던 더현대 서울 맛집', 'nickname': '떵워닝\\n(iam_swoniii)', 'datetime': '2021. 11. 12. 18:06', 'content': '며칠전 절친과 함께 쇼핑을 갔다가 더현대 서울 맛집에서 협찬을 받아 저녁식사를 먹고 왔어요.\\n수준 높은 아시아음식은 물론 친절한 서비스까지 모두를 만족시켰던 곳이라 소개하려고 해요. 이날 찾아간 식당은 여의나루역 1번출구에서 걸어서 6분정도 가니 도착했어요.\\n더현대서울 백화점 지하1층에 위치하고 상호명이 크게 적혀져 여렵지 않게 찾았어요. 매장 입구에서 입간판에 세워져 있었는데요.\\n비주얼이 뛰어나서 과연 맛이 어떨지 궁금하더라고요. 내부는 생각보다 넓고 원목으로 된 깔끔한 홀이 인상적이었어요.\\n테이블수도 많고 공간도 여유로워서 모임을 하기에도 손색이 없었답니다. 이미 많은 사람들이 식사를 하시고 계셨어요.\\n인기가 실감나고 더현대 서울 맛집에 찾아오길 잘했단 생각이 들더군요. 쇼파자리도 마련되어 편한곳에 골라 앉았어요.\\n정리정돈도 잘되었고 위생적으로도 말끔해서 첫인상이 좋았답니다. 몇걸음 옮겨보면 다양한 맥주와 음료가 준비되었더라고요.\\n대중적인것부터 처음보는 것까지 여러가지를 취급해 선택의 폭이 넓더라고요. 한쪽에는 쇼핑백이 나란히 진열되었어요.\\n모든 메뉴는 포장과 배달이 된다고 하니 집에서도 즐길수 있겠더라고요. 한바퀴 둘러보고 주문을 하려고 매장 카운터로 향했어요.\\n오픈주방 형태로 안이 훤히 들여다 보여 믿음이 갔던 더현대 서울 맛집이었어요. 메뉴판을 자세히 읽어보니 쌀국수부터 덮밥,사이드 메뉴까지 다양하게 준비되었더라고요.\\n사진과 설명이 자세하게 적혀져 고르기 수월했어요. 가성비 좋게 세트메뉴도 구성되었더라고요.\\n저희는 뭘 먹을까 고민하다가 대만 스폐셜 세트를 주문했답니다. 수다를 떨고 있으니 주문한 요리들이 한꺼번에 테이블위로 가득찼어요.\\n가격에 비해 양도 많은데다가 플레이팅까지 이뻐서 입이 떡 벌어졌어요. 테이블위에 빈공간 없이 꽉채워져 어떤거부터 먹어야될지 고민이 되었어요.\\n고급스러운 식기에 나와 대접 받는 기분이 들더라고요. 제일 먼저 파이구볶음밥부터 시식을 해주었는데요.\\n얼굴만한 크기의 돼지고기튀김을 보기만해도 군침이 흘렀던 더현대 서울 맛집이었어요. 아래에 계란 볶음밥도 한큰술 떠서 맛보았는데요.\\n갓 지어낸 밥이라 고슬고슬하고 고소한 풍미가 입안 가득 채워줬어요.  곧장 고기 한조각을 집어 한입 베어 물었는데 특제소스로 양념한 등심을 겉은 바삭하고 속은 촉촉하게 튀겨내어 클래스가 돋보였어요.\\n등급 높은 미국산 육류라서 그런지 육즙이 풍부하고 고소함이 일품이었어요.\\n육질이 너무 부드러워 몇번 씹지도 않았는데 사르르 녹아 없어지더군요. 짭조름하게 조려진 계란 조림도 별미였어요.\\n양념이 진하게 녹아들어 간이 딱맞고 담백하면서도 탄력적이라 물개박수가 쳐졌어요.  이어서 토마토 우육탕면을 먹어볼 차례였는데요.\\n토핑을 아낌없이 넣어주셔서 후한 인심에 감동했던 더현대 서울 맛집이었어요. 따끈한 국물부터 얼른 먹어주었는데 오랜시간 우려낸 깊은 맛에 행복한 미소가 지어졌어요.\\n상큼한 토마토 소스와 어우러져 감칠맛이 상당해 중독성이 장난 아니더라고요.  살코기는 먹기 좋은 크기로 찢으니 스무스하게 나뉘어졌어요.\\n대만 정통방식으로 아롱사태를 조리하여 차별화된 맛을 경험했어요.\\n면발을 적당한 시간에 삶아져 탱글하고 불지않아 흠잡을데가 전혀 없었답니다. 드디어 오매불망하던 홍유완탕을 즐겨보기로 했는데요.\\n고추기름과 고수가 곁들여져 특유의 풍미가 예사롭지 않았어요. 새우완탕은 피가 얇고 오동통한 속도 실하게 들었더라고요.\\n쫀득한 텍스쳐에 칼칼한 끝맛이 잘어울려 젓가락질이 점차 빨라졌네요. 고수가 들어가 이국적인 향이 입안에 감돌아 매력적이었어요.\\n얼얼한 소스로 저희의 입맛을 단번에 사로 잡았답니다. 이번에는 진한 치즈가 듬뿍 올려진 치즈감자에 손을 대보았어요.\\n위에는 옥수수콘,베이컨을 골고루 뿌려놔서 다채로운 식감을 더해주어  더현대 서울 맛집은 남다르구나 싶더라고요. 감자 고로케는 표면을 바삭하게 튀겨놓아서 자연스레 시선이 향했어요.\\n포슬포슬하면서도 소스가 곁들여져 미식가인 친구도 칭찬일색이었어요. 짭조름한 베이컨과 톡톡 터지는 옥수수 콘까지 입이 심심할 틈이 없더군요.\\n감자 사이사이에 소스가 짙게 배어서 감탄사가 절로 터져 나왔답니다. 마지막으로 대만맥주와 레몬티로 입가심을 해주었어요.\\n맥주는 청량한 목넘김과 곡류의 풍부한 향으로 사랑 받는 이유를 알겠더라고요.\\n레몬이 들어간 차는 상큼하면서도 시원해 입안을 깔끔하게 정돈시켜주었네요. 근사한 분위기, 뛰어난 음식의 맛까지 모든게 우수했던 더현대 서울 맛집이라 한번 방문하면 그 뒤부터는 단골이 되는곳이랍니다. <본 포스팅은 SPC로부터 지원받아 작성되었습니다>\\n#더현대서울맛집#스트릿여의도현대파크원점'}, 4: {'title': '여의도 더현대 카페 레이어드 서울 스콘 맛집 인정 ', 'nickname': '바이비엥', 'datetime': '2021. 12. 20. 15:31', 'content': ' 얼마 전 여의도 더현대에 다녀왔습니다  \\n평일 낮 시간대의 방문이라 \\n예상한 것보다는 사람이 많지 않아 보였는데   \\n유독 사람이 많은 곳이 몇몇 눈에 띄었어요 \\n그중 하나가 서울 스콘 맛집으로 알려진 \\n여의도 더현대 카페 레이어드 입구부터 사람들이 줄을 서있는 모습에 \\n궁금해서 괜히 기웃거리다가, \\n정면에 진열되어 있는 스콘들을 보고 \\n저도 바로 줄을 섰답니다. \\nㅎㅎㅎㅎㅎ  저의 발걸음을 사로잡은 스콘들 ❤\\n정말 하나하나 다 너무 맛있어 보였어요  \\n매장 입구에서 트레이와 집게를 챙겨서 \\n스콘과 케이크 진열대를 차례로 지나 \\n카운터에서 결제를 하도록 되어있습니다 \\n이미 제 앞으로도 줄이 길었는데  \\n뒤로도 계속해서 사람들이 늘어나서 \\n여유 있게 스콘 사진을 찍을 수가 없었어요\\nㅠㅠ 갈릭 크림치즈, 잠봉뵈르, 말차 앙버터, \\n스프링어니언 크림치즈, 크랜베리 크림치즈,\\n 카라멜버터, 말차 화이트초콜렛 등등 \\n정말 다양한 종류의 스콘들이 있었어요 \\n일반 스콘들보다 사이즈가 큰 편이지만 \\n그만큼 가격도 저렴하지 않아요..  \\n스콘 두 개 담으면 만원 훌쩍 넘어가고.. \\n인기 있는 제품들은 트레이가 비어있었는데 \\n직원분이 바로바로 채워주시는 듯했어요 :)  저는 하필 점심 식사 직후에 방문해서 \\n이미 배가 많이 부른 상태였어요 ㅠ.ㅠ \\n너무 무거워 보이는 스콘은 \\n별로 당기지 않아서 패스했는데 \\n지금 보니까 잠봉뵈르랑 갈릭크림치즈 \\n너무 맛있어 보이구요... 서울 스콘 맛집 카페 레이어드에서 \\n제가 pick 한 두 가지의 스콘은 \\n 스프링 어니언 크림치즈 스콘과 \\n크랜베리 크림치즈 스콘  그 당시에는 두 가지만 맛봐도 충분하다 생각했는데 \\n지금 보니 트레이 너무 볼품없네요.. \\n달랑 스콘 두 개라니.... 줄을 따라가면서 오히려 케이크 쪽은 \\n사진을 여유롭게 찍을 수 있었습니다 \\n케이크들은 전체적으로 상당히 묵직한 스타일..\\n하나같이 다 너무 먹음직스러워 보였어요 \\n  왼쪽은 당근케이크, \\n오른쪽은 말차치즈케이크 \\n스콘 계산하기 위해 케이크 옆에 줄 서있다가 \\n나도 모르게 하나 집어 올릴 것 같은 비주얼!!!\\n여의도 더현대 카페 레이어드는 \\n스콘 맛집일 뿐만 아니라 \\n케이크도 맛있다고 하더라구요 :) 배가 너무 불러서 스콘 두 개도 간신히 샀건만, \\n역시나 집에 와서 케이크도 사 올걸 후회... \\n포스팅하면서 케이크 사진 보고 또 후회...\\n리얼초콜릿케이크.. \\n꼭 먹어볼 거예요...  트레이에 담겨있는 티라미수와 레몬케이크도 \\n너무 맛있어 보였답니다 :)\\n스콘만큼이나 다양한 종류의 케이크들..\\n디저트만으로 배 채우기 완전 가능..\\nbut, 조각 케이크 가격도 제법 사악한 편.. 음료 가격은 아메리카노 5천 원 \\n라떼와 티종류는 6천 원대 \\n가장 비싼 음료는 7천 원이었어요 \\n매장 이용 시 1인 1음료 주문 필수, \\n외부 음식 반입과 상업용 촬영은 금지되어 있습니다 여의도 더현대 카페 레이어드는 \\n서울 스콘 맛집으로 유명하지만, \\n매장 특유의 분위기와 감성이 \\n인기에 한몫을 더하는 느낌이에요 결제 카운터 옆으로 머그컵과 에코백 등, \\n카페 레이어드 굿즈도 볼 수 있답니다 :)\\n음료와 스콘, 케이크를 먹을 수 있는 공간이 \\n내부에 마련되어 있긴 하지만 넓지 않았구요, \\n평일 낮에도 줄 서서 사 먹는 스콘 맛집이라 \\n앉을 자리가 전혀 없었던 것이 함정... \\n디스플레이와 매장 분위기 너무 좋지만 \\n여유 있게 즐기기에는 조금 힘들어 보였습니다 \\n테이크아웃해서 먹어야지...  집에 돌아와서 스콘을 먹어봅니다 :) 먼저 크랜베리 크림치즈 스콘 \\n크랜베리와 크림치즈의 조합이라니 \\n의심할 필요도 없는 메뉴입니다.. 겉바속촉 스콘에 크랜베리가 콕콕 박혀있고  \\n속 안에 크림치즈가 가득 채워져있어요 \\n적당히 짭짤한 스콘에 달콤한 크랜베리와 \\n크림치즈의 풍미까지 가득 더해주면... \\n어떻게 먹어도 맛이 없을 수가 없는 조합..  따로 잼이나 클로티드크림 등을 곁들이지 않고 \\n그냥 있는 그대로 먹어도 충분히 맛있었어요  그 다음에 먹어본 건 스프링어니언 스콘\\n 이름 그대로 대파 스콘입니다!! \\n신랑은 보자마자 인상 찌푸렸지만 ㅋㅋㅋ \\n제 입에는 맛있었던 스프링어니언 스콘  속 안에 다른 부재료가 들어가 있지 않고 \\n대파만 풍성하게 들어가 있습니다 ㅎㅎㅎ\\n중간중간 작게 크림치즈가 얹어져 있어요 \\n짭짤한 스콘과 스프링어니언의 향, \\n중간중간 함께 먹는 크림치즈까지 \\n전체적인 합이 꽤 괜찮은 느낌\\n비주얼부터 호불호가 뚜렷하게 갈리는 메뉴, \\n저는 극호 신랑은 불호였답니다 ㅎㅎㅎ 카페 레이어드의 스콘은 \\n바삭한 식감이 적당히 살아있는 편으로, \\n딱 겉바속촉 스타일의 스콘이었어요 \\n플레인 스콘을 먹어보지 않았지만 \\n대충 어떤 느낌일지 상상이 됩니다 \\n뻑뻑한 스타일의 스콘을 좋아하는 분들에게는\\n오히려 약간 아쉽게 느껴질 수도 있을 것 같아요 \\n스콘 취향이나 식감 취향에 따라서 \\n평이 갈릴 수도 있을 듯해요 :) 지점마다 맛 차이가 있다는 말도 있던데 \\n다른 지점을 가보지 않아서 비교 불가능, \\n저는 구매한 두 가지 모두 너무 맛있게 먹어서 \\n더 다양하게 많이 사 오지 않은 게 후회됐어요 \\n여의도 더현대 카페 레이어드 \\n서울 스콘 맛집 인정..!!\\n물론 어디까지나 제 입맛대로 제 마음대로.. \\n리뷰는 어디까지나 그냥 참고만 해주세요 :) 다음에 가게 되면 필링 가득한 스콘들과 \\n케이크까지 먹어보고 또 포스팅 해볼게요 ! '}, 5: {'title': '더현대 수제버거 맛집 - 번패티번 사진 및 후기', 'nickname': '황꼬', 'datetime': '2021. 12. 21. 15:16', 'content': '안녕하세요!\\n레이첼입니다 오늘은\\n더현대 버거 맛집\\n번 패티 번\\n후기를 갖고 왔습니다 서울 더현대 백화점에 위치하고 있는 번패티번 입니다 이것이 진짜 수제버거다!\\n라는 슬로건과 함께 배고픈 저랑 친구의 눈길을 사로잡았답니당 번패티번은 다른 더현대의 먹거리와는 다르게\\n웨이팅이 10년이 걸리지 않는다는 점이 아주 강점입니다\\n맛집에 있어서 웨이팅을 매우 싫어하는 저랑 친구로써는 \\n번 패티 번이 얼마나 반갑던지\\n번 패티 번 메뉴 및 가격 참고하세용 앉을 수 있는 공간도 충분하게 많습니다\\n바로 옆에 블루보틀도 있습니당 앞으로 가서 주문을 하면 됩니다 QR코드 혹은 안심콜로 체크인을 하시면 됩니당 저는 저녁시간대에 갔는데도\\n사람들이 생각보다 많이 있지 않아서 아주 좋았답니당 주문 후에는 주어진 공간에서 알아서 앉아서 먹으면 됩니다\\n진동벨을 주기 때문에 알아서 갖고 가서 먹으면 끝 번 패티 번의 번들이 진열되어 있는 모습입니당\\n아마도 가짜 전시용 번이지 않을까 싶어용 친구랑 너무 멀리 가지 않고 자리에 장착 각 테이블에는 케찹과 머스터드가 이렇게 있습니다\\n핫소스가 없어서 살짝쿵 아쉬웠습니당 빵과 패티에 대한 고집이 담겨진 수제버거 맛집이라고 합니다\\n번의 경우 매일 신선하게 생산을 하고 있으며\\n패티의 경우 저온숙성을 통해서 100% 프리미언 쇠고기를 사용을 하고 있다고 합니당 미니 메뉴 및 가격이 또 이렇게 있습니당\\n대체적으로 너무 비싼 가격이 아닌 것 같아용 아가들을 위한 베이비 체어도 있습니다\\n그래서 아이들과 함께 식사를 즐길 수 있습니당 지동벨\\n친구랑 차분하게 배고픈 마음을 갖고 기다렸습니당 그리고 등장 저는 친구랑 반반씩 버거를 나눠 먹기 위해서 \\n버거 2개 + 세트 1개 + 윙 주문을 했습니다\\n세트에 나오는 프라이즈의 경우, 치즈 프아이즈로 변경을 했습니다\\n금액은 당연히 발생합니다\\n하지만 후회 없은 소비 번패티번 버거와 과카몰리 버거를 주문을 했습니당  과카몰리버거 속에 있는 과카몰리의 모습이 잘 보이나욤? 번패티번 버거의 속 모습입니다\\n진짜 맛있습니다\\n검색이란 1도 하지 않고 그냥 웨이팅이 없어서 찾아온 맛집이라\\n기대할 틈이 없어서 그런지 진짜 너무 맛있더라구요 과카몰리 버거의 내부 모습입니당\\n생각보다 과카몰리가 많이 들어 있지 않아서 친구랑 저랑은 실몽쓰\\n하지만, 그래도 너무나도 맛있게 먹었습니당 진자 모든 것을 순삭을 했습니다\\n윙도 맛있고 (버펄로 소스가 없는 그냥 일반 윙이랍니다)\\n치즈 프라이즈의 경우, 치즈가 진짜 마지막 감튀를 먹을때까지\\n치즈를 찍어먹을 수 있을만큼 엄청 풍족하게 줘서 아주 굿!\\n총평\\n맛 ⭐️⭐️⭐️⭐️⭐️\\n기대 이상입니다\\n다른 수제버거 집보다 더맛있는것 같은데\\n왜 별로 각광을 못 받는지...\\n치즈 프라이즈로 꼭 변경을 해서 함께 드십시오\\n가격 ⭐️⭐️⭐️⭐️\\n나쁘지 않아요\\n수제 버거의 가격이 뭐 이정도 되는 것 같아용\\n재구매의사 100%\\n웨이팅 없고, 빠르고, 맛있고!\\n위치 그리고\\n집에서 즐길 수 있는 햄버거 놀이 추천합니다 위 사진 클릭하면 구매처로 이동\\n그리고\\n가장 최근에 올린 제 브이로그 한번 보세용\\n좋아요랑 구독은 사랑입니다 그럼 이만!\\n감사합니다 이 포스팅은 쿠팡 파트너스 활동의 일환으로, 이에 따른 일정액의 수수료를 제공받습니다'}, 6: {'title': '여의도 중식 헤이웍by초류향 더현대 맛집으로 인정!', 'nickname': '거위', 'datetime': '2021. 10. 28. 14:00', 'content': \"여러분 안녕하세요:)\\n이번 주에는 아주아주 맛있는 중식을 먹고 왔습니다~\\n맛있는거 먹고 와서 기분 좋은 거위..\\n역시 전 거위(거대한 위) 입니다요 제가 이번에 다녀온 맛내미 맛집은!!!!\\n여의도 중식 헤이웍by초류향 더현대서울점 이라는 곳입니다!\\n여러분 여의도 더현대서울 가보셨나요~?\\n저는 이번이 두번째 방문이었어요,\\n더현대 자주 안가본 1인..\\n사실 전 백화점에 자주 가는 편은 아니라서,\\n(필요한 물건 있을때만 사러가는 편)\\n소비요정이 아닙니다.ㅎㅎㅎㅎ\\n더현대가 핫플 이지만 이번이 두번째 였어요!\\n이번에 좀 제대로 구경을 했어요,\\n예쁘게 해놔서 데이트 장소로도 좋았던 더현대!!\\n놀러갈만 하더라구요~ 더현대 안에서도 먹을거리가 참 많았지만,\\n전 이번에 중식이 넘 먹고싶어서\\n여의도 중식 헤이웍by초류향에 다녀왔습니다!!\\n알고보니 여의도 더현대 맛집으로도 유명하더라구요~\\n유명한덴 이유가 있자나요?\\n그래서 제가 ㅎ 검증하러 ㅎ 총총총 댕겨왔지요...호호호 여러분들 중식 좋아하시나요??\\n저는 진짜!!! 좋아한답니다:D\\n게다가 대만st 중식이라니...\\n더욱더 기대가 됐던 헤이웍by초류향 더현대서울점,\\n평소에 중국스타일 중식은 많이 먹어봤지만\\n대만스타일 중식은 자주 먹을 기회가 없었는데요~!\\n저는 대만 영화 볼 때, 자주 접했었어요\\n그래서 헤이웍by초류향에서 맛 볼 대만st 중식이 더욱 기대됐구요!! 더현대서울 돌아다니다보니 눈돌아가더라구요\\n맛있는 음식도, 디저트도 참 많았어요,\\n맘같아선 다 먹어보고 싶었지만..ㅎㅎ\\n갈때마다 하나씩 도장깨기 하고 오는걸로!!\\n더현대서울 지하 1층에 위치한 여의도 중식 헤이웍by초류향에 자리를 잡고\\n메뉴를 주문해보았습니다! 저희가 주문한 메뉴는 \\n1인정식 [파리머리볶음, 새우마파두부, 마늘새우, 공깃밥(무한리필)]\\n그리고 짬뽕쌀국수, 마지막으로 가지튀김 이었습니다!\\n1인정식 + 짬뽕쌀국수 + 가지튀김 !!\\n이렇게 두명이서 먹으니, 완전 배 터지게 먹었어요~\\n완벽한 조합이었구요 접시도 다 예뻤어요 ㅎㅎ 대만 여행 온 느낌~\\n와 여행 하니까, 대만 여행 갔던 것도 새록새록 떠오르구요!\\n이제 곧 해외여행 갈 수 있다는 생각에 설레기도 하구요~ 히히\\n아주 좋아요>.< 쨔쟌 메뉴 등장!!!\\n보자마자 와! 색감 너무 예뻐! 맛있어보여! 를 열심히 외쳤습니다,\\n볶음밥도 주문해볼까?\\n잠시 고민했었지만, 너무 많을 것 같아서 자제했어요 흐흐.. 여의도 더현대 맛집은 3대째 운영하는 중식당으로\\n올리브티비, EBS, 생생정보통 등에 다수 출연한 유의융 셰프님이 직접 운영하시는 매장이라고 해요!\\n어쩐지,, 달인의 향기가 난다했더니..!!!! 그랬더라구요~\\n다음에 친구들이랑 또 오려구요 ㅎ 그만큼 맛도 좋고 독특한 메뉴가 인상 깊었어요~\\n다른데서는 접하기 어려운 유니크한 대만 정식 느낌~ 너무 좋아요 짬뽕쌀국수도 어찌나 국물이 시원하고 얼큰하던지,\\n정식이랑도 아주 잘 어울렸어요!\\n튀김과도 환상의 짝꿍~ 가운데 보이시는 '마늘새우 토핑'은 모든 덮밥과 볶음밥에 어울리고 맛이 있어서,\\n단골들은 필수로 추가하는 사이드 메뉴라고 해요~\\n먹어보니 정말 왜 꼭 필수 주문해야되는지 알겠더라구요,\\n완전 맛나요~ 여의도 더현대 맛집 헤이웍by초류향 더현대서울점은\\n'건강한 중식'을 컨셉으로 꾸준히 천연소스를 개발하고, \\n시즌마다 새로운 메뉴를 선보이며 보다 다채로운 중식을 제공하는 음식점이라고 합니다,\\n그래서인지 건강에도 좋을 것 같다는 생각이 들더라구요,\\n먹으면서도 재료의 신선함과 아삭함이 인상깊었어요 제가 정말 좋아했던 가지튀김!!!\\n저 가지요리 정말 좋아하는데, 여러분은 어떠신가요?\\n가지가 매력있는 음식이더라구요,\\n아주아주 맛나죠 ㅎㅎ\\n게다가 튀김까지 입혀주니 캬~ 최고에요~\\n그렇다고 엄청 기름지지도 않았고 담백한 튀김이었어요,\\n자칫하면 느끼할수도 있는데, \\n여의도 중식 헤이웍by초류향 가지튀김은 전혀~ 느끼하지 않아서 참 좋았어요 여의도 더현대 맛집은 중국 국빈을 대접하는 국연요리를 하는 사부님께 배워온 레시피와\\n사찰음식의 레시피를 더해 유의융 셰프님만의 요리를 맛 볼 수 있는 곳이었어요,\\n그래서 맛있었구낭^.^ 다시 한번 상기시켰구요,\\n왠지 호텔식과도 잘 어울릴 것 같은 맛이었어요,\\n접시부터 음식의 맛, 멋, 분위기까지~ 고급스러우면서도 깔끔했답니다 이게 바로 중식의 매력인 것 같아요!!\\n1인정식 중에서는 파리머리볶음이 제일 좋았어요,\\n건강해지는 느낌 +  밥과 함께 먹으니 짱맛!!\\n저 이거 영화에서 본 음식이었는데 ㅎㅎ 항상 먹어보고 싶었거든요~\\n직접 먹으니 감회가 남달랐어요,\\n그리고 정말 맛있네요^_^ 사이다도 같이 곁들여 먹어주니.. 정말 최고\\n중식에는 전 탄산 필수에여!!!ㅋㅋㅋㅋㅋ 1인 정식에 공깃밥은 무한리필이니, 그 점 또한 마음에 들었구요,\\n오픈키친이어서 안심하고 믿고 먹을 수 있었어요~\\n백화점에 입점한다는 자체가 우선 위생적으로 보장됐다는거인데,\\n그와 더불어 오픈키친이라 위생적으로 아주아주 신뢰할 수 있었어요,\\n맛도 좋고, 깔끔하고, 음식도 유니크해서, \\n또 가고 싶은 여의도 중식 헤이웍by초류향 더현대서울점 이었습니다! 여의도 더현대 맛집 좋아요>.<\\n같이 간 친구도 맛있다고 좋아해줘서 행복한 저녁시간을 보내고 왔습니다!\\n더현대 나들이 아주아주 즐거웠어욤 히힛\\n  #여의도중식 #여의도더현대맛집 #헤이웍by초류향 #헤이웍by초류향더현대서울점 #더현대맛집\"}, 7: {'title': '[여의도 더현대 맛집] 로바  - 회식하기 딱이야 125,000원 단독룸 디너코스B', 'nickname': '문썬\\n(sielle83)', 'datetime': '2021. 11. 30. 11:20', 'content': '로바 / 영등포구 여의대로 108 (여의도동 22) 더현대서울 6층\\n전화번호 02-3277-0652\\n영업시간 11:30-22:00 휴무 없음\\n12월에는 왠지 회식이 불가능해질 불길한 예감에\\n지난주 미리 송년회 회식을 앞당겨 치뤄버렸다\\n본의 아니게 내생애 첫 여의도 더현대 입성하게 됨 여의도 더현대 6층에 위치한 일식 다이닝 로바\\n청담동, 잠원동, 그리고 여의도 세 군데에 있음\\n더현대 말로만 들었지 실제 방문은 처음이었는데\\n길 한번 잘못 들었다가 한참 헤맬 뻔 했다 단독룸과 홀테이블 공간으로 이루어졌다는데\\n홀 공간은 어딘지 보지도 못했넴 디너코스A (165,000원)\\n디너코스B (125,000원)\\n두 코스로 주문하면 단독룸 예약 가능하다\\n우리는 법카가 계산할거니까 당당히 룸으로 뭅뭅\\n콜키지는 병당 30,000원 벌써 곳곳에서 연말 느낌이 나기 시작했다리  따뜻한 녹차와 함께 차려진 깔끔한 개인세팅 3종 쯔께모노와 간장\\n▼ 여의도 더현대 로바 디너 B코스 (125,000원/인) ▼ 가리비 카이센\\n가리비, 새우, 문어, 아귀간에\\n산뜻한 토마토 드레싱을 올린 해산물냉채 차돌우동 샐러드\\n참깨드레싱에 버무린 쫄깃탱글 냉우동 위에\\n차돌박이와  새싹채소를 잘 섞어먹는 샐러드\\n드레싱에 뭔가를 가미하셨는지 살짝 매콤한 끝맛이 킥  우니매생이스프\\n성게알이 좀 쓴 맛이 나서 아쉬웠지만\\n쫄깃한 조개살과 부드러운 매생이 그리고 따뜻한 국물\\n추운 날씨에 지친 몸을 녹여주기 좋은 중간 타이밍 사시미 8피스\\n참치속살, 광어, 방어, 아까미, 삼치, 관자, 문어\\n취향에 따라 다시마소금과 감태, 시소잎을 곁들이고\\n나의 원픽은 초된장소스에 버물버물한 광어지느러미! 전복스테이크\\n버터향 뿜뿜 나는 겉바속쫄 큼지막한 전복구이\\n찐득한 전복내장소스 쓱싹 묻혀먹으면 맛없기도 힘들고 새우&관자 탕수\\n알싸한 파채를 달짝지근한 어향소스에 잘 버무려서\\n새우, 관자, 죽순과 함께 싹싹 긁어먹기 바쁘다 계절생선구이\\n다른 후기들 보니 금태가 많이 보이던데 이날은 삼치\\n새콤하게 무친 생양파와 바삭한 양파칩까지 곁들이니\\n일반적인 생선구이도 요리로 업그레이드된 느낌  한우스끼야끼\\n마무리로 1인용 미니화로에 세팅되는 소고기 스끼야끼 고기와 당면, 버섯, 양파 등을 노른자에 적셔도 먹고\\n달달한 육수에 본연의 맛으로만 먹기도 하고 디저트\\n마무리 입가심으로 진한 바닐라아이스크림까지\\n회사 사람들 모두 만족해하던 2021년 송년회 회식 끗!\\nSNS에서만 봐오던 여의도 더현대를 처음 가본건데\\n아직 구석구석 둘러보진 못했지만\\n깔끔모던 프리미엄 일식집 로바 디너코스는\\n단독룸 좋아하고 고급 일식 좋아하는\\n여의도 넥타이부대들에게 좋은 옵션이지 않을까 싶다 여의도 맛집 로바 더현대 디너& 주류 메뉴판 ▼ '}, 8: {'title': '더현대 맛집 냄비요리연구소 내돈내산', 'nickname': '알라미\\n(ariel_0402)', 'datetime': '2021. 12. 2. 13:00', 'content': '더현대 맛집 냄비요리연구소 내돈내산\\n몇일 전 다녀온줄 알았는데\\n알고보니 열흘이나 지났네 ㅋㅋㅋ\\n갑자기 추워진 날씨에 국물요리 생각나서\\n더현대 맛집 찾다가 발견한 냄비요리연구소 * 냄비요리연구소 더현대 서울\\n자세한 위치는 지도를 참고해 주세요 * 평일 저녁에 갔더니 여유롭고 좋았다.\\n웨이팅 있을까 싶었는데 없었고 바로 착석함\\n냄비요리연구소 다녀오신 분들의 글을\\n좀 읽어보다가 아 나도 소불고기냄비 먹어야지!\\n생각하고 방문한지라 바로 주문했다.\\n그녀와 나 모두 담백한맛으로 주문함 * 테이블에 앉으니 손 소독제 있었고\\n메뉴판이 보여서 찍어보았다.\\n더현대 냄비요리연구소 메뉴와 가격\\n고기와 야채 같이 추가할 수도 있는데\\n양 많은 내가 먹어보니 죽까지 먹으면\\n꽤 양이 많았으니 참고 * 1인 인덕션 설치되어있고\\n빈 그릇에는 취향껏 소스 덜어서 먹으면 된다.\\n깍두기는 친구에게 바로 전달함\\nㅋㅋㅋㅋㅋㅋㅋㅋㅋㅋㅋㅋ\\n죽 만들어먹는 밥 또한 양이\\n꽤 넉넉했다.\\n보이진 않지만 날계란 한 알도 같이 있음 * 그냥 냄비를 전달해주셔서\\n이거 강불로 끓이면 되나요? 하고 여쭤봄\\n팔팔 끓이고 어느정도 끓어오르면\\n고기 익을때까지 중약불로 낮춰서 조리하기\\n야채도 꽤 많았다 * 다 익으면 불을 낮추거나 끄고\\n취향껏 먹으면 되는데 껐다가 중간에 식으면\\n다시 인덕션 온도 높혀서 데우면 되니까 편함\\n당면도 푸짐하게 있고\\n버섯부터 청경채, 당근 등 다양한 야채가\\n골고루 들어있었음\\n육수는 짭짤하니 내 입맛엔 맞았는데\\n같이간 친구는 조금 센 느낌이라\\n물 붓고 더 끓여서 먹음 ㅋㅋㅋ * 칠리소스 콕 찍어서\\n따뜻하게 푹 익은 야채랑 먹으니 너무 맛있더라\\n친정집 갔다오고 위가 더 늘어서\\n싹싹 긁어먹는 내 모습보고 친구가 놀람\\nㅋㅋㅋㅋㅋㅋㅋㅋㅋㅋㅋㅋ * 국물이 좀 자박하게 많이 남아서\\n죽 만들 때 국물 덜어낼 그릇이 없길래\\n밥그릇같은거 요청함\\n죽을 만들어먹는 단계가 있다면\\n남은 국물이나 건더기 건져둘 대접도\\n같이 주시면 더 좋을 것 같음\\n약간 이런 후식 죽 (?) 느낌 만드는거에\\n혼자 자부심 넘쳐서 순식간에 만들어먹었는데\\n내가 만든거에 또 나 혼자 감탄\\nㅋㅋㅋㅋㅋㅋㅋㅋㅋㅋㅋㅋㅋ\\n배가 터질 것 같아도 다 먹고 나왔다.\\n추운 날 따뜻한 국물요리 먹기에 좋았던 곳'}, 9: {'title': '더현대 서울 맛집모음 \"마츠노하나, 수티, 번패티번, 카페\"', 'nickname': '충만', 'datetime': '2021. 12. 24. 0:00', 'content': ' 음식점, 카페 모음\\n더현대 서울은 집에서 버스 하나만 타면 한 번에 갈 수 있어 부담 없이 가는 곳 중 하나가 되었다.\\n그동안 방문하면서 먹고 마셨던 것들을 기록해 본다. 더현대는 제품군이 고가여서 막상 가면 살 건 없고 보통 지하 1~2층에서 주로 있는다. 그래도 구경하는 재미가 있는 곳이다. 🍤\\n일본식 덮밥집\\n{  마츠노하나  }\\n더현대 서울의 지하 1층에 위치한 일본식 덮밥집이다. 텐동을 기본 메뉴로 하고 있으며 간장 연어, 호르몬, 스테이크 등 돈부리 메뉴도 있다. 텐동은 먹으면 먹을수록 느끼해서 다음엔 다시는 안 먹겠다고 다짐하면서도 한 번씩 생각나는 음식이다. 나는 쇼유사케에비텐동을 주문했다. 텐동만 먹으면 너무 느끼할 것 같아서 간장 연어가 함께 있는 텐동을 골랐다.\\n새우, 단호박, 가지, 연근, 김, 꽈리고추, 온천 계란 튀김이 올려져 있다. 접시에 튀김을 덜어놓고 테이블에 준비된 소스와 함께 먹으니 간이 잘 맞아서 맛있다. 안에 있던 간장 연어와 같이 먹어서 그런지 평소 보다 덜 질렸다. 간장 연어 맛있었다. 그동안 연어가 먹고 싶었다는 친구를 위해 주문했는데 전날 연어를 먹었던 나역시 맛있게 먹었다. 친구는 스테이크동을 주문했다. 스테이크동은 계란 노른자와 양파, 파, 김튀김이 올려져 있었다. 고기도 큼직큼직하게 썰어줘서 맛있게 먹었다. 🍗\\n코리안 BBQ 전문점\\n{  수티  }\\n유독 치맥이 먹고 싶던 날이다. 다른 곳 찾기는 귀찮고 더현대에서 해결하고 싶었다. 아마 유일하게 치맥을 파는 곳이 아닐까. 솔직히 튀김옷 입힌 치킨을 먹고 싶었는데 할 수 없이 시킨 수티 로스트 치킨이었다. 스텔라 생맥주도 함께 주문했다. 통닭도 예쁘게 다리를 꼬고 있는 게 군더더기 없이 깔끔했던 수티 로스트 치킨의 첫인상이다. 처음에 음식이 나왔을 때 둘이서 먹기엔 부족한가 싶었지만 생각보다 양이 많았다.  별 기대 안 했는데 먹을수록 괜찮다고 생각된 곳이다. 겉바속촉! 치킨이 퍽퍽하지 않고 부드러워서 좋았다. 그리고 안에 찹쌀밥까지. 완벽했다.\\n그리고 고추장 소스도 맛있었다. 양념치킨 소스랑은 좀 다르다. 고추장 맛이 나는 매콤한 소스? 한국적인 맛이다. 🍔\\n수제버거\\n{ 번패티번 }\\n지상 5층, 블루보틀 바로 옆에 위치한 수제 버거집 번패티번에 다녀왔다. 이곳의 가장 큰 장점은 지상 5층에 있다는 게 아닐까. 지하 1,2층에 있는 식당과 달리 확 트이고 식물 많은 곳에서 좀 더 여유롭게 식사를 할 수 있는 게 제일 좋았다. 우리는 번패티번 버거 2개와 트러플머쉬룸버거를 주문했다. 여기에 프렌치프라이와 음료가 포함된 세트메뉴 2개를 추가했다.  음식 받자마자 맛있어 보이는 햄버거 비주얼을 보니까 군침 돈다. 안에 들어간 양파, 토마토, 양상추도 신선해 보인다. 번이 진짜 부들부들하니 너무 맛있었다. 패스트푸드 햄버거에서는 느낄 수 없는 번의 맛이다. 오랜만에 담백하고 깔끔한 햄버거를 먹었다. 패티는 살짝 누린내가 나는데 나는 누린내를 좋아해서 맛있게 잘 먹었다.  트러플향은 별로 나진 않아 아쉬웠지만 크림 버섯 소스가 맛있어서 만족스러웠다. 확실히 맛이 강해서 이거 먹고 번패티번 버거를 먹으면 아무 맛도 안 난다. 그래도 나는 담백했던 번패티번 버거가 더 마음에 들었다. 프렌치프라이가 제일 맛있었다. 두께, 식감 모두 좋았다. 테이블에 큰 케챱, 머스타드통이 비치되어 있어 소스 넉넉하게 뿌려먹을 수 있는 것도 마음에 든다.  ☕️\\n지상 2층 카페\\n{  카페 콘디토리오븐  }\\n더현대 서울의 지상 2층에 콘디토리오븐이라는 카페가 있는데 난간 쪽 자리에 앉으면 1층으로 물이 떨어지는 폭포와 그 위를 볼 수 있있다. 개방된 곳에서 답답하지 않고 자연물을 보며 커피를 마실 수 있어서 좋아하는 카페 중 하나다. 단, 자리가 나지 않을 때가 많다. 나는 여기서 아이스아메리카노와 밀크티를 주문했는데 밀크티 너무 향긋하니 맛있었다. 엄청 달지도 않고 고급스러운 밀크티 맛이었다. ☕️\\n지상 6층 카페\\n{  카페 이탈리  }\\n더현대 서울의 지상 6층인 탑 측에도 이탈리 카페가 있다. 이탈리는 카페와 레스토랑, 마켓까지 있다. 우리는 아메리카노와 시그니처 크림 라떼를 주문했다. 시그니처 크림라떼 엄마 드리려고 산 건데 너무 맛있어서 내가 다 마셔버렸다. 크림이 달달한 게 계속 마시게 되는 맛이다. 원래 커피 되게 천천히 마시는 편인데 빠르게 마셔버렸다. 다음에 또 시켜 먹을 듯.\\n그리고 여기는 개방감의 끝판왕이다. 매장에 너무 사람이 많고 시끄러워서 다른 자리로 옮겼다. 지상 6층은 음식을 들고 오면 앉아서 먹을 수 있게 만들어 놓은 공간이 있어서 너무 좋다. 이런 자리가 한적하고 전체 전망을 볼 수 있다. 근처에 이탈리 마켓도 있는데 이탈리아 식료품들을 파는 것 같다. 신기한 것들을 구경하는 재미가 있다. 귀여운 체리 쨈과 와인 컵을 구매! 요 작은 체리 쨈은 내가 생각한 생과일 체리 맛보다는 체리 사탕 맛에 가까워서 아쉬웠지만 좋은 도전이었다. 이거는 나 혼자 집에서 야금야금 마시려고 산 작은 와인 컵인데 생각보다 너무 드라이해서 아쉬웠지만 홀짝홀짝 마시기엔 좋았다.  '}, 10: {'title': '더현대 서울 지하 1층 맛집과 카페들(Feat. 카페 레이어드)', 'nickname': '여행작가 Sue\\n(cutetnwls)', 'datetime': '2021. 9. 6. 14:00', 'content': '사실 인기가 좀 시들해지면 가려 했던 여의도 현대백화점, 더현대 서울.\\n그런데 좀처럼 인기가 시들지 않더라고요.\\n그래서 사람 많은 곳을 싫어하지만 일단 가보기로 하고\\n아는 언니와 이곳에서 만나기로 했었어요.\\n워낙 백화점 내에 괜찮은 맛집, 카페들이 많다고하니\\n은근 기대가 되더라고요. 평일 이른 시간인데도 백화점에는 사람들이 많더라고요.\\n점심시간 지나면 좀 한가하겠지, 하는 생각은 저의 착각!\\n하아.. 여긴 오픈 오택만이 살길이 아닌가 싶을 정도였어요. 더현대 서울에는 맛집들이 꽤 많고, 푸드트럭 같은 컨셉의 식당들도 꽤 있었지만\\n일단 언니와 전 조금 조용한 곳에서 여유롭게 식사를 하고 싶더라고요.\\n그래서 찾아간 와인웍스는 한쪽에서는 와인을 판매하고\\n다른 한쪽에서는 와인과 함께 식사를 판매하고 있었는데\\n저희는 이곳에서 점심을 먹기로 했어요. 해산물 토마토 리소토. 26,000 원\\n문어를 비롯한 다양한 해산물과 토마토가 들어간 리소토인데\\n붉은색의 리소토가 나올 줄 알았는데 그렇지 않아서 조금 당황했어요.\\n맛은 역시 기대 이상 너무 부드럽고 고소하면서도 맛나더라고요. 해산물 토마토 뚝배기 파스타. 24,000 원\\n검색해보니, 와인웍스에서 가장 인기 있는 메뉴더라고요.\\n먹어보니 감칠맛 나는 얼큰한 파스타 맛이\\n왜 인기 있는지 알겠더라고요. 테일러 커피는 연남동과 홍대에서도 꽤 인기가 많아서\\n홍대점을 비롯해 서교점, 연남 1, 2호점이 줄줄이 있을 정도로\\n그 맛을 인정받은 카페 중 하나에요.\\n개인적으로 저는 테일러의 라테를 좋아하는데요. 정말 맛있는 카페지만\\n이미 아는 사람에게만 유명한 곳이라 그런지\\n다른 카페들보다는 자리가 여유 있는 편이었어요.\\n혹, 지나가다 보면은 꼭 한번 들러서 라테 한번 드셔보세요.\\n정말 고소하면서도 맛나고 양도 가득해요. 스콘이 맛있기로 유명한 카페 레이어드는\\n이미 그 인기로 안국역은 물론 연남동 그리고 더현대 서울에도 여전히 그 인기를 실감할 수 있었어요.\\n사실 먹을 때마다 느끼는 거지만 왜 여기가 스콘이 맛있기로 유명한 건지는 솔직히 잘은 모르겠어요. 가득 진열된 케이크들.\\n백화점 지하에다가 사람들이 많이 지나가는 곳이라\\n조금은 비위생적인 건 아닌가도 싶지만\\n일단 회전율이 빠르니 믿고 먹어보기로 했어요. 스콘 종류가 정말 다양한데\\n저는 버터가 올려진 버터 스콘을 주문했어요.\\n하아... 나중에는 커피와 함게 느끼해서 혼났네요.\\n그냥 케이크로 고를걸... 커피잔도 예쁘고 직원분들도 친절해서 마음에 들었던 카페 레이어드.\\n저처럼 자리에 앉아서 드시는 분들도 있었지만\\n대부분이 테이크아웃으로 포장해가는 분위기더라고요. 레이어드는 아직 연희동점은 가보지 못했고\\n안국역점에 오픈한지 얼마 되지 않았을 때 다녀왔었는데\\n꽤 괜찮았던 곳으로 기억돼서 다시 가봤는데\\n역시 여전히 시끄럽지만 분위기가 예쁘고 감성적인 건 여전하더라고요. 엘리베이터를 타고 지상 5층으로 올라가면\\n실내 가든이 보이는데\\n여기가 정말 포토 포인트더라고요.\\n바로 저번 주 다녀왔을 때는 디올이 오픈해서 더 감성적인\\n마치 유럽의 예쁜 디올 매장에 온 것 같이 꾸며졌더라고요. 하늘이 유리로 되어있어서 채광이 꽤 좋았는데\\n제대로 된 인증 사진은 아직 못 찍어봤어요.\\n다음에 오픈 어택해서 제대로 찍어봐야겠다며. 잠시 5층을 살펴봤으니\\n다시 지하 1층으로 가서\\n어떤 곳들이 있는지만 한번 살펴볼게요, 여기가 바로 푸드 트럭처럼 된 곳인데\\n햄버거와 떡볶이 등 다양한 메뉴들을 판매하는 푸드 트럭이 많아서\\n푸드코트 한번 컨셉 제대로 잡았다는 생각이 들더라고요. 한때 정말 핫했던 에그슬럿.\\nLA에서 건너온 맛난 샌드위치 점이죠. 성산에 본점이 있는 리치몬드 제과점.\\n밤파이와 까눌레가 유명한 곳이죠. 크로와상과 식빵이 맛있기로 유명한 폴앤폴리나도 있네요. 개인적으로 좋아하는 제과점 중 한 곳인\\n파리 크라상도 보이고요. 카멜 커피도 보이는데\\n여기는 기본 웨이팅이 있는 곳이라 일단 구경만 해둡니다.'}, 11: {'title': '더현대 맛집, 번패티번 카멜커피 아기랑 핫플투어', 'nickname': '유이\\n(kallilogue)', 'datetime': '2021. 11. 19. 9:57', 'content': '예전부터 넘 가보고 싶었던 여의도 더현대 서울\\n외쿡 분위기가 난다고도 하고\\n각종 핫플도 모여있다고 하고 ㅋㅋㅋ \\n아무튼 넘나리 가고싶었는데... 코시국이 무서워서 감히 엄두도 못냈다 ㅋㅋㅋ\\n어른이면 마스크 쓰고 가겠는데, 우리집은 상아가가 있었고요...\\n그 상아가가 자라서 이제 돌아기가 되었다\\n돌쯤 되면 한번쯤 가봐도 되지 않겠어 여보..? 하고 남편을 꼬셔봄\\n마침 평일 휴가라, 엄청 가기 싫어하는 남편탱 데리고 한번 다녀와봤다 다행이 오픈빨도 떨어지고 평일이라 그런지 사람이 정말 많지 않았다!\\n비까지 와서 그런지 ㅋㅋㅋ 여유로웠던 더현대 서울.\\n주차는 더현대 어플 받아서 했는데\\n여기 주차비 넘나 비싼것...★ 다행이 어플에 무료주차권 들어와서 그걸로 무료로 했다.\\n급 오는거라 일단 가긴 가는데 어디가 핫플인지 몰라...\\n차에서 검색하면서 오려고 했는데 카시트 빤짝쓰 울어대고요...\\n결국 대충 더현대 맛집 검색했더니 번패티번 나오길래 그냥 여기로 갔다  외국 느낌의...예쁜 건축물...\\n음..\\n내 눈에는 그냥 타임스퀘어랑 비슷?\\nㅋㅋㅋ 큰 차이는 잘 못느꼈따 평일이지만 점심시간이라 그런지 번패티번 가니까 그래도 사람이 좀 있더라\\n여보 뭐 먹을거야...? 아무거나!!!!\\n아기 보느라 대충 아무거나 주문하라는 남편탱\\n아무거나가 젤 어려운디... 결국 내가 먹고싶은거 두개 주문해봤따 번패티번 버거랑 베이컨 치즈버거 주문\\n감튀는 약간 버거킹의 진화형 느낌 하나는 셋트 하나는 단품으로 했더니 양은 딱 맞고 좋았따\\n맛도 좋았음\\n근데 막입이라 그런지 쉑쉑이랑 큰 차이를 모르겠고\\n굳이 따지자면 쉑쉑 쉑스택이 더 맛있었던 거 같은..?\\n근데 뭐 번패티번도 맛있었다\\n베이컨 치즈버거는 평범하게 맛있었고 번패티번 버거가 좀 더 맛있었던..\\n결론은 = 맛있음\\n근데 평범하게 맛있고 어마무시하게 핫플이다 여기는 꼭 가야해!!! 이런거슨 아님 여기 좀 특이한게 빵이 브리오슈번이라고\\n그래서 보들보들 맛있었다 부드럽고 감튀도 냠냠\\n따숩게 바로 나온거 먹으니까 존맛탱이었는데\\n문제는 우리가 아가랑 같이 있었다는거지...\\n땡깡을 부리기 시작하는 울 딸래미 덕분에\\n진짜 5분 흡입하고 나왔다 ^ㅠ^... 아기랑 같이 외식하는건 정말 사치...\\n맛을 느낄수 없고요? 그냥 공복만 채웁니다... 옴뇸뇸\\n그래도 맛있었다\\n또 먹고 싶네 츄릅 번패티번 있었던 층이 아기용품 있던 층이라\\n같이 돌아다니면서 구경도 하고\\n코로나 무섭다고 유모차는 급 레인커버 씌워서 돌아다님 ㅋㅋㅋ\\n사실 코시국 터지고 아기가 마스크를 하기 싫어해서\\n뭔가 커버가 있지 않으면 아무래도 실내인 쇼핑몰은 돌아다니기가 좀 그렇더라\\n그래서 오래 놀지는 못했음 그래도 야무지게 구경하고 사진도 찍어줬다\\n더현대 맛집 핫플 검색하니 가장 많이 나왔떤 카멜커피도 가려고\\n어플 받아서 웨이팅 걸어놨는데\\n웨이팅 대기시간 1시간...★\\n그래서 여기저기 돌아댕기면서 놀다가 지하로 갔음 그리고 겨우 시간맞춰 내려갔는데 여유롭게 갔다가 \\n잠깐 식품코너에서 아기 과자 산다고 어플 안 보고 있었더니\\n순식간에 우리 차례 끝나버렸고요?\\n하...존트 황당쓰 ㅠㅠㅠ 다행이 바로 앞에 있었는데\\n아기띠 하고 간 남편이 우리 번호 말했더니 사람이 그닥 많지 않은 평일이라 그런지\\n그냥 받아주셨따...ㅋㅋㅋ 여기 가려고 한시간동안 방황했는데 못갔으면 넘나 억울할뻔 주문하고 나서도 만드는 데 까지 한 10분정도 기다렸던 거 같다 번호표 받고 앞에서 대기하기\\n울애긔 마스크 잘 쓰고 있는것처럼 보이지만\\n아빠가 잡고있는 손 놓으면 바로 벗어버릴 기세 ㅠㅠ\\n코로나만 없어도 진짜 육아 훨씬 더 쉽겠다 진쯔 하나는 플랫화이트\\n하나는 젤 유명한 시그니처 카멜커피\\n가격은 둘 다 5500원\\n가격이 좀 싸게 느껴졌다 했더니 사이즈가 진짜 스몰하다 ㅋㅋㅋ 바로 테이크아웃해서 일단 차타고 차에서 옴뇸뇸\\n음... 왜유명한지 잘 모를\\nㅋㅋㅋㅋㅋ 번패티번이 차라리 더 나았다\\n굳이 웨이팅 하고 먹을 맛은 아닌 듯?\\n사실 이제 핫플투어 해도 뭔가 항상 만족했던 곳은 별로 없는듯\\n기다림의 기대심리때문에 그런가...그냥 쏘쏘?\\n암튼 아기랑 다녀온 첫 여의도 더현대 서울 핫플투어\\n한동안은.......그닥 안가는걸로......★ '}, 12: {'title': '여의도 더현대 맛집 중식 헤이웍 by 초류향', 'nickname': '달달비타민', 'datetime': '2021. 11. 18. 22:06', 'content': '서방이 다시 여의도에서 일하다보니\\n여의도 맛집들 찾게 되고\\n자연스럽게 더현대를 자주 가게되네요 :) 인공폭포 옆에 크~은 백곰도 보이고\\n눈 내린듯한 트리도 보이고\\n새하얗게 겨울 겨울해요  여의도 더현대 맛집들 모여있는\\n지하 1층 테이스티 서울에도\\n크리스마스 분위기 물씬~\\n최대 규모 식품관으로 다양한 메뉴들에\\n유명한 맛집들이 입점해있고\\n사람은 많지만 다른 백화점 식품관이랑 다르게\\n답답하지 않고 분위기 좋아서\\n저녁 데이트로 괜찮아요 ㅎㅎ  초류향은 1989년에 문을 연 이후\\n3대째 쭈욱 운영하고 있는\\n을지로의 유명한 중식당인데\\nEBS, 생생정보 등 방송에도 많이 출연하신\\n중화요리 전문 유의융 셰프님이 운영하는 곳이에요\\n‘건강한 중식’ 컨셉으로\\n꾸준히 천연 소스와 새로운 메뉴들을 개발해\\n다채롭고 맛있는 중식을 제공한다고 하는데\\n헤이웍 by 초류향이란 이름으로\\n더현대서울에서 캐쥬얼하게\\n여의도 중식 맛 볼 수 있어서 좋아요! 바 테이블 곳곳에 메뉴가 있어서\\n편하게 앉아서 고르고\\n옆쪽 카운터로 가서 주문하면 돼요\\n요즘 워낙 음식점 위생 문제가 많이 생겨서\\n밖에서 사먹을 때 더 예민해졌는데;;\\n바 테이블에 앉으니 화려한 웍질과 함께\\n 음식 만드는게 다 보여서\\n깔끔하게 안심하고 먹을 수 있었죠 ^-^  여의도 중식 맛집\\n헤이웍 by 초류향 메뉴\\n대만 여행을 다녀온 사람이라면\\n초류향에서 반가운 요리들을 볼 수 있는데\\n처음에 이름 보고 응?! 파리머리?!?!? 했지만\\n헤이웍 by 초류향 파리머리 볶음이\\n딱 대만의 유명한 밥도둑 파볶음 비주얼이길래\\n바로 먹으러 온거예요 ㅋ 음식들 받자마자 여행온 듯\\n맛 보기도 전에 기분 좋았다능~ 밥도둑 1인 정식\\n15000원\\n파리머리볶음, 새우 마파두부, 마늘새우까지\\n초류향에서 인기있는 메뉴를 모아모아\\n한번에 다 맛볼 수 있는 정식이라니\\n이건 완전 땡큐잖아요 후훗  기본으로 나오는 달걀국은\\n짜지않아서 좋았고\\n심지어 공깃밥은 무한 리필인데\\n나올 때부터 이미 양이 많아서\\n리필이 필요 없더라구요~ 파리머리 볶음\\n꺄악~ 이게 얼마만인지!!!\\n보자마자 대만 여행이 떠오르면서\\n서방한테 이거 진짜 맛있다고\\n꼭 내가 만든 것처럼 자랑한 ㅋㅋㅋㅋㅋ 돼지고기, 마늘종을 볶은건데\\n한국인이 좋아하는 대만 음식 중 하나로\\n먹어본 사람은 다 아는 찐 밥도둑이에요 여의도 더현대 맛집 헤이웍 by 초류향에는\\n청양고추가 같이 들어있어서\\n밥 위에 올려서 먹으면 매콤짭조름하게\\n대만에서 먹었던 것 보다 더 맛있맛있~  새우 마파두부\\n중식 밥도둑에 마파두부가 빠지면 섭하쥬~\\n올리브 기름으로 만든 고추기름을 써서\\n더 건강한 느낌의 마파두부인데 몽글몽글 부드러운 두부에\\n통통한 새우도 들어있고\\n1인 정식이라고 하기에는 진짜 양 많아서\\n이 밥도둑들~ 밥을 얼마나 먹으라는건지\\nㅋㅋㅋㅋㅋㅋㅋㅋㅋㅋㅋ 향신료 맛이 나면서\\n이국적인 맛을 제대로 느낄 수 있는데\\n마파두부 좋아하는 서방\\n다른데랑 맛이 다르다면서 엄청 잘 먹더라구요 :) 마늘새우\\n처음 보는 큼직한 새우 비주얼에\\n우와~ 했는데\\n초류향의 시그니처 새우요리로\\n헤이웍 by 초류향에서는\\n볶음밥이나 덮밥에 토핑으로 추가 가능한\\n인기 사이드 메뉴예요 오동통한 새우살에\\n튀김옷 완전 바삭바삭\\n그 위에 마늘 플레이크가 듬뿍 뿌려져있는데\\n요거요거 독특하게 맛있어서\\n진짜 꼭 먹어봐야해요  동파육 볶음밥\\n13000원\\n새우 볶음밥이랑 살짝 고민하다가\\n동파육 맛 궁금해서 주문~ 사실 예전에 대만에서\\n유명한 동파육 맛집 찾아갔을 때\\n넘 짜고 질겨서 실망한 기억이 있는데…\\n헤이웍 by 초류향 동파육은\\n고기 부드럽게 간도 딱 맞았어요 듬뿍 올려진 날치알은\\n꼭 캐비어 같아 보이는 ^^; 날치알 톡톡 터져 식감 좋고\\n고소고소하게 넘 맛있어요!\\n다른 메뉴 다 맛있었지만 이 동파육 볶음밥은\\n진촤 내 스따~일~~  가지튀김\\n9000원\\n마늘새우만큼 추천 많은 메뉴라\\n맛을 안 볼 수가 없었던 가지튀김 큼직한 가지 조각들이\\n보기만해도 노릇노릇 바삭하게\\n잘 튀겨졌는데 특제 소스에 찍어먹으면\\n완전 겉바속촉촉촉~\\n서방이랑 둘 다 물컹거리는 가지 별로 안좋아하는데\\n이건 너어어무 맛있어서\\n또 먹고 싶을거 같다면서\\n접시 싸악 비웠답니당 ㅋㅋㅋ 여의도 더현대 맛집 헤이웍 by 초류향\\n부담없이 먹을 수 있는 여의도 중식으로\\n메뉴들 다 맛있어서\\n자주 찾아갈 것 같아요 :D * 이 글은 스토리앤미디어를 통해 본 업체에서\\n서비스만을 제공받아 솔직하게 작성된 후기입니다.'}, 13: {'title': '여의도 더현대 맛집, 여의도중식 헤이웍by 초류향 별미네요!', 'nickname': '찡긋\\n(redcherry88)', 'datetime': '2021. 11. 15. 22:37', 'content': \"안녕하세요. 찡긋입니다. \\n여전히 가장 핫플레이스! 더현대서울. \\n주말에 남편이랑 슝- 가서 놀다가 다녀온 곳. \\n여의도 더현대 맛집으로 소문난 \\n헤이웍 by 초류향 을 다녀왔는데요. \\n여기 항상 궁금했던터라 먹어보고 싶었어요. \\n오늘 꼼꼼하게 리뷰 남겨볼게요.  더현대서울 지하1층에 위치하고 있는 헤이웍 입니다. \\n푸드코트 공용식탁에서도 먹을 수 있는 곳으로, \\n자리 먼저 잡고 헤이웍에 주문하러 갔습니다. \\n저는 1인정식, 짬뽕쌀국수, 가지튀김 \\n이렇게 주문을 했고요. \\n주문한 음식이 나오면 저에게 전화를 주시더라고요. \\n그러면 픽업해서 자리에서 먹으면 됩니다. \\n헤이웍은 3대째 운영하는 중식당으로 \\n올리브티비, EBS, 생생정보통 등에\\n 다수 출연한 유의융 셰프님이\\n 직접 운영하시는 매장이라고 해요.  저희는 바로 옆에 있는 다찌에 자리를 잡았어요.\\n역시 쾌적하고 깔끔한 더현대서울. \\n점심 때라서 그런지 사람들이 정말 많았습니다. \\n특히 헤이웍은 워낙 인기 매장이라 대기도 조금 했어요~  헤이웍은 '건강한 중식'을 컨셉으로\\n 꾸준히 천연소스를 개발하고, \\n시즌마다 새로운 메뉴를 선보이며\\n 보다 다채로운 중식을 제공하는 곳입니다. 헤이웍by초류향은 \\n중국 국빈을 대접하는 국연요리를 하는 사부님께\\n 배워온 레시피와 사찰음식의 레시피를 더해\\n 유의융 셰프님만의 요리를 선보입니다.  \\n여러가지 메뉴들이 있는데, 하나하나에서 \\n대만의 향기를 느낄 수 있었습니다.  주문하고 바로 조리에 들어간 후\\n뜨끈뜨끈하게 나온 메뉴들 입니다. \\n먼저 가지튀김과 특제소스, \\n그리고 짬뽕쌀국수가 나왔고요.  그리고 가성비 좋기로 소문난 \\n헤이웍 1인정식 입니다. \\n공기밥은 무한리필 된다는 것도 메리트!! \\n1인정식은 파리머리볶음, 새우마파두부,\\n마늘새우, 공깃밥 구성 입니다. \\n가성비가 아주 좋았고, 여러가지 다양하게 \\n요리를 먹을 수 있는 것도 장점이에요.  1인 정식 중에서 가장 눈에 가는 메뉴는 \\n역시 파리머리볶음 인데요.\\n마늘쫑을 볶아서 나오는 요리인데, \\n요거 먹어보니 아주 밥도둑이 따로 없더라고요.  그리고 뜨끈한 국물이 있으면 좋겠다고 \\n생각해서 주문한 빰뽕쌀국수 입니다. \\n푸짐한 해산물이 들어간 깔끔하고 얼큰한 \\n짬뽕이라고 보시면 됩니다.  그리고 워낙 중화권 대표메뉴라고 \\n할 수 있는 가지튀김도 인상적이었습니다. \\n바삭한 식감의 튀김옷, \\n그리고 속에는 부드러운 가지가 들어있어서 \\n겉바촉촉으로 먹을 수 있는 별미요리 입니다.\\n  가지 튀김은 뜨끈할 때 먹어야 \\n본연의 바삭함과 부드러움을 느낄 수 있죠. \\n그래서 음식 나오자마자 \\n가지튀김부터 옴늉뇽 하고 맛있게 먹었습니다.  소스를 찍어먹는게 차별점이 있는 것 같아요. \\n중국식 가지볶음은 끈적한 소스에 넣고 \\n볶은 것이 매력적인데요. \\n대만식 가지는 튀긴 후에 \\n소스 찍먹해서 먹는 것이 차이가 있더라고요. \\n확실히 아주 뜨끈하고 바삭해서 맛있더라고요. 특제소스에 찍어서 먹는 것 강추! \\n그리고 개인적으로는 1인정식을 \\n함께 주문한다면, 마파두부소스에 \\n찍어서 먹어보시는 것도 추천 합니다. \\n여튼 아주 바삭바삭하면서도 \\n속이 촉촉한 가지튀김을 제대로 느낄 수 있어요. 그리고 함께 곁들여 먹은 짬뽕입니다.\\n해산물이 일단 마음에 들었는데, \\n새우, 오징어 등 신선한 해산물이 들어있습니다.  오징어와 낙지가 들어가는데 \\n신선하고 통통한 식감이 마음에 들었구요.  일반 짬뽕면이 아니라 쌀국수 입니다. \\n숙주도 가득 들어있어서, 굉장히 시원 합니다, \\n너무 맵지 않고, 얼큰하다고 느낄 정도. \\n맵찔이들도 안심하고 먹을 수 있습니다. 1인 정식도 참 맛있었는데요. \\n새우마파두부 입니다. \\n개인적으로 마라소스의 맛이 느껴져서 \\n굉장히 맛있다고 생각한 메뉴 입니다. \\n밥에 슥슥 비벼 먹으면 밥도둑이 됩니다.  독특한 파리머리볶음 인데요. \\n마늘쫑, 고기, 청양고추 등의 야채와 \\n함께 짭조름하게 볶아져서 나온 메뉴 이구요. 마늘새우도 함께 나오는데, \\n요게 먹으면 먹을수록 별미 이더라고요.  바삭바삭한 새우에 크리스피한 마늘이 \\n뿌려진 메뉴 입니다. 맛있어요 :)  파리머리볶음은 넘 맛있어요. \\n덕분에 남편이랑 밥 한공기 더 리필했어요~ \\n워낙 맛있어서 계속 먹게 되는 \\n중독성이 짙은 메뉴 입니다.  더현대서울에서 맛있는 음식 찾으시면 \\n추천하고 싶은 대만 이색맛집 헤이웍 입니다. \\n주문과 동시에 조리에 들어가기 때문에 \\n딱 먹을 때 따끈따끈한 요리 맛을 \\n느낄 수 있어서 너무 좋았던 곳 입니다. \\n더현대맛집 갈 일이 있으면 헤이웍 \\n다시 가보려고요. 만족도 높았습니다 ><  FOOD   \"}, 14: {'title': '여의도 더현대 맛집 헤이웍by초류향 중식 추천', 'nickname': '철새양', 'datetime': '2021. 11. 11. 11:42', 'content': \"여의도 더현대 맛집 중식 찾고 \\n계시다면 초류향 어떠세요?\\n전국의 맛집이 다 모여 있다는 \\n더현대서울 중에서도 손꼽히는 중식 맛집,\\n초류향 후기 함께 보아요:)\\n  초류향\\n헤이웍by초류향 더현대서울 백화점 \\n포토제닉한 더현대서울 속 맛있는 중식 \\n 초류향은 지하 1층에 위치해 있어요. \\n식당들이 모여 있는데, \\n고객들은 자유롭게 자리를 선택하여\\n식사할 수 있는 시스템입니다. \\n어느 자리든 인테리어가 예뻐서\\n먹기 좋은 곳이었어요. \\n초류향은 '헤이웍 by 초류향'이란\\n이름으로 자리하고 있더라구요. 건강한 중식을 컨셉으로 꾸준히 천연소스를 \\n개발하고 시즌마다 새로운 메뉴를 제공하여 \\n다채로운 중식을 경험할 수 있는 곳입니다. \\n3대째 운영하는 중식당으로 올리브티비, \\nEBS, 생생정보통 등 다수 영상에 출연한\\n유의융 셰프님이 직접 운영하시는 매장이랍니다.  바 테이블에 앉으시면 요리가 \\n만들어지는 과정도 직접 보실 수 있어요.  메뉴로는 이렇게 다채로운 선택지가 있습니다.\\n파리머리 볶음 덮밥은 마늘쫑, 돼지고기, \\n청양고추를 매콤 짭조름하게 볶은 덮밥이에요. \\n마파두부 덮밥은 올리브 기름으로 만든\\n고추기름을 쓴 마파두부 덮밥이구요. \\n마늘 새우는 마늘 플레이크 베이스의\\n건식 새우 요리입니다. \\n저는 우선 이 세 가지 메뉴를 한번에 \\n즐길 수 있는 <밥도둑 1인 정식>을 골랐어요.  이렇게 모형이 마련되어 있었는데요. \\n밥도둑 1인 정식은 이렇게 파리머리 볶음, \\n새우 마파두부, 마늘새우, 공깃밥 1공기로 구성된 메뉴입니다. \\n공깃밥이 무한리필이라던데, \\n이미 처음 제공되는 밥 양도 어마어마해요. \\n좀 이따 사진 함께 보아요!\\n그리고 짬뽕 쌀국수랑 가지튀김이 \\n맛있다고 해서 이 두 메뉴도 함께 주문했습니다.\\n자유롭게 테이블을 고르고 \\n휴대폰 번호로 연락 오면 직접 \\n음식을 가지러 가시면 되세요. \\n그럼 짬뽕쌀국수와 가지튀김, \\n밥도둑 1인 정식 함께 보실까요? 우선 소개드릴 건, \\n짬뽕쌀국수와 가지튀김입니다. \\n어마어마한 양에 압도되는 \\n훌륭한 비주얼의 메뉴들.  짬뽕쌀국수는 불맛을 살린 해물 짬뽕과 \\n쌀국수가 조화를 이룬 메뉴인데요. \\n냄새도 기가 막히고 아주 넉넉한 재료와\\n많은 양의 짬뽕 국물에 벌써 든든해지는 메뉴였어요.\\n특히 배추와 양파 등 채소들 덕분에 \\n국물이 시원하면서 불맛도 깊어 계속 손이\\n가는 훌륭한 국물이었어요. \\n해산물은 보통의 퀄리티였고, 채소가 진짜 \\n톡톡히 제 역할을 했던 짬뽕 쌀국수.  짬뽕이나 쌀국수 좋아하시면 만족하실\\n깊은 국물의 맛난 요리였습니다.  겉바속촉을 제대로 보여주는 가지튀김입니다. \\n양상추와 특제 소스가 함께 제공되는데요, \\n이 가지튀김이 정말 상상 초월로 맛있었습니다. \\n 밀가루보다는 다른 전분으로 튀긴 것 같은데\\n어쩜 이리 가지랑 잘 어우러지는지 \\n첫입부터 마지막까지 계속 감탄하며 먹었던 \\n초류향 찐 추천 메뉴였습니다.  중식치고 느끼함이 심하지 않았으나\\n튀김 때문에 물릴 것 같을 때 양상추 \\n먹어주면 다시 리프레쉬되는 신기한 경험을 할 수 있습니다. ㅎㅎ\\n양상추가 푸릇푸릇하고 아삭아삭해서\\n아주 기분 좋게 먹을 수 있었어요.  안은 정말 촉촉하고 겉은 바삭해서 \\n가지가 가지처럼 느껴지지 않는 찐 맛있는 튀김.  평소에도 중국식 가지 요리 좋아하셨으면\\n초류향 가지튀김에 정말 대만족하실 거예요!\\n튀김 요리지만 건강해지는(?) \\n착각까지 주는 메뉴예요. 그 다음 메인메뉴는 밥도둑 1인 정식입니다. \\n세상에, 이게 1인 정식 양이라니 받자마자\\n엄청난 양에 놀란 메뉴입니다. \\n먹는 양이 적으신 분들은 두 명이어서도\\n먹으실 수 있는 양이었어요.  보시는 것처럼 마파두부, 파리머리볶음, \\n새우튀김이 다 푸짐하게 들어있었거든요. \\n마늘 새우는 1pc라고 하는데 굉장히 컸어요. \\n초류향은 진짜 너무나도 배부르게 먹을 수 있는 곳. 눈이 휘둥그레 지는 이름을 갖고 있던 파리머리볶음. \\n어째서 파리머리볶음인지는 아직도 이해는 안 가나, \\n대만의 인기 메뉴답게 진짜 밥도둑인 메뉴였어요. \\n마늘쫑 싫어하시는 분들도 이 요리의\\n마늘쫑 만큼은 계속 흡입하게 될 거예요.\\n짭쪼름한 양념이 마늘쫑과 돼지고기에 \\n아주 잘 어우러져 밥과 함께 먹기 안성맞춤이었답니다. \\n마늘쫑과 돼지고기를 이렇게도 먹을 수 있다니, \\n신선한 아이디어에 감탄하며 맛나게 먹은 메뉴입니다.  밥도둑의 또 다른 구성, 마파두부입니다. \\n초류향 마파두부는 중국식 향신료가 \\n제대로 느껴지는 마파두부여서 이색적이었어요. \\n역시 여의도 더현대 맛집답게 이국적 \\n맛을 경험할 수 있도록 제대로 된 중식을\\n만들어주시는 것 같아요.  되게 커다랗던 새우 튀김입니다. \\n바삭바삭하고 고추가루 튀김 같기도 한\\n마늘 플레이크가 아주 인상적인 메뉴였어요.  밥은 실제로 보면 동그랗게 솟아오른 게 \\n보일 정도로 아주 많이 담아주셨어요. \\n여의도 더현대 맛집 중 밥이 무한리필\\n되는 곳이 초류향 말고 또 있을까요?\\n그만큼 넉넉하고 맛있게 먹을 수 있는\\n여의도중식 맛집이랍니다.\\n  계란국도 맛있었어요. \\n근데 다른 것 먹다 보면 간이 \\n안 느껴지게 되는 게 함정 ㅎㅎ 여의도 더현대 맛집 찾고 계신다면\\n꼭 초류향으로 오세요. \\n여의도중식 맛집이라고 자신있게\\n소개드릴 수 있는 곳이었어요. \\n볶음 요리부터 국물 요리, \\n튀김 요리까지 모두 맛있었던 곳이에요. \\n식사 후에 더현대서울 쇼핑할 수 \\n있는 이점도 있구요.  정갈한 한 상 차림에 맛까지 담은 초류향.\\n 깨끗하고 정성 어린 맛에 기분 좋게 \\n중식을 즐길 수 있던 곳이에요.  여의도에서 약속 잡으실 거라면, \\n이곳 여의도중식 초류향에서 즐거운 시간 보내세요.\\n정독해주셔서 감사합니다:)  전화: 02-3277-0788\\n주소: 서울시 영등포구 여의대로 108 지하 1층 #여의도더현대맛집 #여의도중식 #초류향 #더현대서울맛집 #여의도맛집\"}, 15: {'title': '맛집;) 여의도 더현대 #에그슬럿 #카멜커피 #태극당', 'nickname': '북한산북극곰', 'datetime': '2021. 12. 26. 22:39', 'content': '파크원타워 오픈하고 바로 갔었던 더현대\\n그때 웨이팅이 어마어마하던 시절, 난 파크원타워에 외근을 가서 근무중에 현대식품관 어플로 예약하고 알람오면 뛰어가서 먹었다! 근데 블루보틀은 어플로 알람은 해주는데 예약은 안되서 직접 가야하는 번거로움이 있음. 블루보틀 사방팔방 많구만 더현대 웨이팅 무엇 지하 입구에 있는 에그슬럿\\n여긴 유명세에 비해 회전율이 좋아 금방금방 먹을 수 있었다. 메뉴판도 찍어옴. 정보가 없기에 노란색 형광펜 칠한 대표메뉴만 먹는다.  먼저 페어팩스 7,800원 기본메뉴인듯? 에그드랍이 더 맛있다! 이때 점심시간에 이걸 먹었는데 금방 배고픈맛 오렌지 쥬스5,500원 진짜오렌지 쥬스라고 해서 주문했는데 특별한거 없음 슬럿 6,800원 바싹 마른 바게트를 병안에 든 으깬감자를 발라먹는거다. \\n음 한번 경험으로 됐다. 경험1회로 끝 가장 대기시간이 길다는 카멜커피. 알람이 울리면 10분안에 뛰어가야 한다. 웨이팅하고 3시간걸렸나? 난 사무실에 있다 간건데 다른 사람들은 어디있다 오는거지? 백화점에 그렇게 오래있나? 파크원 근무자 아니고서야 먹기 힘들어 보인다. 그냥 커피만 사기 아쉬워서 앙버터빵도 주문해봤다. 오 맛남~ 이건 맛나다… 세명이 가서 2명이 사고 앉은 자리에서 클리어~ 코로나에 더현대는 넘 바글바글하다. 커피들고 사무실에 올라와서 찍어봤다. 3x층 꽤 높은데서 찍었는데 작게나옴. 근데 카멜커피도 왜 줄서는거지? 하프커피나 도웰커피 처럼 비슷한 느낌의 커피가 많은데 왜! 여의도 와서 줄서는지 모르겠다. 난 쉽게 먹어서 만족함~~ 나도가봤다 핫플~ 에그슬럿과 카멜커피 맞은편엔 태극당이 있다. 장충동에는 잘 안가니까 여기서 사먹어보기로!\\n지난번엔 회사사람들이 모나카를 사와서 먹었는데 모나카 보다 저 버터케익이 궁금했다. 어렸을 때 이후 먹어본적 없는 버터케익…\\n태극당은 가게도 크고 다른데도 있으니까 설마 케익이 매진될거란 생각은 못했다. 그것도 평일에!\\n점심때 이렇게 쉽게 생각했다가 3시에 다시 가보니 3호만 남았다… 누구 생일도 아닌데 3호는 부담… 어쩔수 없이 3시에 구매만 해두고 6시에 저거들고 집에갔다. 집까지 1시간반 와~ 30년만에 먹어보는 버터케익아닌가? 어렸을댄 버터케익이 넘 느끼해서 안좋아했는데 이 버터케익은 재료가 좋은건지 내 입맛이 변한건지 넘나 달고 맛나다. 이번주에 또 가는데 사와야겠음!!! '}, 16: {'title': '여의도 더현대 맛집 헤이웍 by 초류향 중식 추천', 'nickname': '꿀이언니', 'datetime': '2021. 11. 1. 14:52', 'content': '헤이웍 by 초류향 더현대서울점\\n# 여의도더현대맛집 # 더현대맛집\\n# 여의도중식 안녕하세요. 꿀이언니입니다.\\n주말에 여의도 더현대 서울점에\\n다녀왔어요.\\n겨울옷 쇼핑겸 갔다가\\n여의도 더현대 맛집인 초류향이\\n여의도중식 중에서 유명하길래\\n다녀왔어요.\\n초류향은 3대째 운영하는 중식당으로\\n유의융 셰프님이 운영하는 곳이라고 해요. 넘넘 예쁜 더현대 서울 백화점의 모습이에요.\\n백화점과 몰의 중간쯤인\\n곳이라 이름도 더현대인데\\n정말 다른 백화점이랑은\\n인테리어부터가 달라서\\n가보길 잘했다고 생각했어요. 이렇게 천장도 엄청 높고\\n위에서 환하게 빛이 들어와서\\n분위기가 너무 좋아요 ㅎㅎ\\n깔끔하고 쾌적하면서\\n야외같은 느낌이라 좋았어요. 더현대에는 워낙 유명한 맛집들이\\n많이 입점해 있어서 먹고 싶은 메뉴가\\n아주 많았어요!\\n그 중에서도 지하 1층에 있는\\n헤이웍 바이 초류향으로 갔습니다.\\n건강한 중식을 컨셉으로 하고\\n새로운 중식 메뉴가 많아서\\n너무 궁금했거든요 ㅎㅎ 바 자리에 앉아서 먹을 수도 있고\\n테이블 자리도 많았어요.\\n테이블 자리가 아주 넓고 쾌적해서\\n저희는 테이블 자리를 이용했어요. 여의도 더현대 맛집인\\n헤이웍 바이 초류향의 메뉴판입니다.\\n다 너무 맛있어보여서\\n너무 고민됐어요 ㅎㅎ 일단 제일 많이 주문하는\\n밥도둑 1인 정식은\\n메뉴가 다양하게 나오는 것 같아서\\n첫 번째로 골랐어요. 아주아주 푸짐하게 나온 저희의\\n한 상입니다 ㅎㅎ\\n메뉴 세개밖에 주문 안했는데\\n엄청 거대한 한 상이 차려졌어요. 우선 제가 너무 좋아하는\\n가지 튀김은 사이드 메뉴로 시켜봤는데\\n와 이거 진짜 꼭 시키세요!\\n원래 가지 튀김은 중식 메뉴 중에서도\\n좋아하는 메뉴 중 하나인데\\n헤이웍에서 먹은 가지튀김은\\n지금까지 중에 제일 맛있는 가지튀김이었어요. 보통 가지튀김이랑 소스를\\n부어서 같이 주는 경우가 많은데\\n헤이웍 바이 초류향에서는\\n소스가 따로 나오더라구요.\\n그래서 아주아주 바삭한 가지튀김의 식감을\\n끝까지 느낄 수 있고\\n소스도 너무 짜거나 진하지 않고\\n적당히 매콤달콤해서\\n너무 맛있더라구요.\\n원하는 만큼 소스 찍어서 먹으면 되니까\\n저는 찍먹이 훨씬 좋네요 ㅎㅎ 그리고 두번째 메뉴는 동파육 볶음밥이에요.\\n워낙 동파육을 좋아하는데\\n동파육 볶음밥이 있는게 신선해서\\n주문해봤어요. 동파육 고기와 청경채\\n그리고 캐비어같은 색의 날치알이\\n함께 나오는 볶음밥이에요. 이 메뉴도 감칠맛이 너무 좋고\\n고기도 맛있어서 아주 맛있게 먹었어요 ㅎㅎ\\n그리고 볶음밥 양이 먹다보니\\n정말 많더라구요.\\n양도 많아서 더 추천입니다. 그리고 마지막 메뉴는 메뉴판 앞에\\n샘플로도 나와있던\\n밥도둑 1인 정식이에요~ 엄청 푸짐하죠 !! 밥도둑 정식에는 마라두부가\\n나오는데 안에 새우도 들어있고\\n마라향이 적당해서\\n너무 맛있었어요.\\n저는 마라 잘 못먹는 마라 초보인데\\n여기 마라두부는 마라향이\\n엄청 쎄지 않고 적당해서\\n너무 맛있더라구요 ㅎㅎ 그리고 사이드 메뉴로는 마늘새우도 같이 나왔어요.\\n이 메뉴는 사이드 토핑으로도\\n주문 가능한데 모든 덮밥, 볶음밥에 \\n다 잘 어울리고 사이드로 먹기 좋아서\\n다들 추가하시더라구요~ 마지막 메뉴는 파리머리 볶음이에요.\\n마늘쫑이랑 고기를 같이 볶은 메뉴인데\\n반찬으로 먹으니까 엄청 맛있었어요. 둘이서 세개쯤이야 하고 주문했는데\\n메뉴 하나하나 다 양이 많아서\\n엄청 배부르게 먹었어요. 마지막으로 가장 맛있었던 메뉴인\\n가지 튀김 사진 더 올립니다 ㅎㅎ\\n소스도 고기가 들어있는 소스였는데\\n너무 맛있어서 저희 둘은\\n가지튀김을 베스트 메뉴로 뽑았어요 ㅎㅎ 배부르게 잘 먹고 옆에 있던\\n에그타르트 포장해서 집으로 갔어요~\\n여의도 더현대 맛집 찾으시는 분들께\\n여의도중식 헤이웍 by 초류향 추천해요!\\n헤이웍 바이 초류향의 메인 셰프인\\n유의융 셰프님의 요리는\\n중국 국빈을 대접하는 국연요리와\\n사찰음식의 레시피가 더해져서\\n건강하면서도 새로운 중식을\\n맛볼 수 있다는 장점이 있더라구요! 평일 10:30 - 20:00 \\n금요일 10:30 - 20:30\\n주말 10:30 - 20:30 서울 영등포구 여의대로 108\\n5여의나루역 1번 출구에서446m\\n여의도 더현대서울 지하 1층 푸드스퀘어  '}, 17: {'title': '[서울] 여의도 더현대 호우섬 (왜 맛집이죠?)', 'nickname': 'Eden', 'datetime': '23시간 전', 'content': '여의도 더현대 맛집으로 느므느므 유명한 곳이길래 한껏 기대하고 방문한 호우섬. 평일 점심에도 미친 웨이팅을 자랑한다. 약간의 팁이라면 현대식품관 앱을 미리 다운받으면 앱으로 줄서기 신청이 가능하다.. 그래도 웨이팅이 긴건 똑같다는 점 ..... 웨이팅을 한시간? 정도 하고 두시쯤 입장했는데 그때도 대기가 67팀 이더라....  wow... 메뉴는 많지않다.  주문하려는 메뉴를 체크해서 카운터에 가져가서 계산까지 하면 주문 완료다. 궁금해서 시켜본 밀크티는 존맛탱이다 ㅠㅠㅠ 밀크티 덕후라서 왠만한 밀크티는 다 좋아하기 하는데, 여기도 맛있었다. 다만 음식이랑은 잘 안어울려서 한두모금 마시고 나머지는 후식처럼 마셨다. 주문한 메뉴중에 제일 먼저 나왔고 제일 맛있었던 마늘칩 꿔바로우.바삭한듯 쫀득한 튀김옷과 달콤한 소스가 너무너무너무 찰떡이다. 위에 솔솔 뿌려진 마늘칩도 은은한 마늘향이 나서 좋았다. 시킬지 말지 고민하다가 모든 테이블에 있길래 주문해봤는데, 이거 주문 안했으면 큰일 날 뻔 했다. 쇼마이는 아-주 무난했다. 정말 예상가능한 정도의 맛. 크게 실패하지 않을 메뉴다. 약간 실망스러웠던 샤오롱바오.... 개인적으로 얇고 쫀득한 피를 좋아하는데, 여긴 얇은 찐빵 느낌의 피였다. 속은 그냥 고기만두에 들어있을만한.... 요즘은 딤섬을 잘하는데가 워낙 많아서 너무나도 평범하게 느껴졌다. 제일 실망스러웠던 메뉴인 홍콩식 솥밥ㅋㅋㅋㅋ 먹으면서 이게 뭔가.... 싶었다... 재료들이 어울어 진다는 느낌도 딱히 들지않고 이게 무슨맛일까 싶었다. 완자랑 밥의 조화도 조금 생뚱맞고... 라구짜장 도삭면시킬까 이거시킬까 고민하다 솥밥으로 했는데, 면 시킬껄~~~\\n아무튼 여기가 왜 이렇게나 인기가 많은지 잘 모르겠다.. '}, 18: {'title': '여의도 맛집 콩국수 명가 진주집과 더현대 서울 블루보틀 티파니 팝업스토어 답사기 ', 'nickname': '아슬란', 'datetime': '2021. 12. 11. 17:42', 'content': '두번째 회사가 여의도에 있었다. \\n증권회사들이 많았던 여의도 골목들 사이에... 그당시엔 IFC가 파크원 더현대 서울이 주차장이었고\\n여의도 벗꽃놀이, 불꽃놀이는 물론이었고 여의도 MBC에 큰 공연이 있는 날엔 차가 많이 막혀 나름의 스트레스를 받고 다녔는데\\n지금은 높아진 빌딩숲 사이에 오래된 아파트만.. \\n예나 지금이나 주말엔 삭막한 느낌이 드는 것은 왜일까 하핫.\\n여의도에 오래된 노포 맛집이 너무나도 많은데 단언코 가장 인기 있는 식당을 뽑으라면 여의도 백화점 지하1층 진주집을 꼽는다.\\n진주집은 다양한 소문이 많은데 서울 콩국수 3대 식당 중 하나인 을지로에 있는 진주식당과 형제간 이라는 소문과 \\n사장님 아드님께서 미국에서 유학하고 오셨는데 식당이 너무 잘되어 이것을 물려받았다는? (이건 사실 무근일수도)\\n암튼 처음 갔을때보다 규모도 넓어지고 사람은 늘 많은 그런 여의도 대표 맛집 식당이다. \\n여의도 백화점 내부는 백화점이 아니라 쇼핑센터 정도로 보여진다. 회사를 옮기고 여의도백화점 7층이었나... 실내 골프 연습장을 끊어서 나름 처음으로 골프를 배웠던 기억이 또 새록새록.\\n그때부터 정말 열심히 했으면 지금 싱글? 수준은 되었을지도 :) \\n지하 1층에 오니 반가운 진주집 간판 \\n여름철에는 주중, 주말 할 것 없이 줄이 한바퀴 정도 돌아야 입장할 수 있다. \\n겨울에는 콩국수를 안팔았던 기억인데 오늘 가보니 겨울인데도 팔아서 나이스~ 요즘 코로나 때문인가 토요일 점심 시간에 생각보다 여유로운 모습  3명이 입장하여 콩국수, 비빔국수, 닭칼국수 3종세트를 시켰다.\\n여의도 진주집 고기 만두도 일품인데 성인 남자들 3명이면 만두까지 추천.\\n일단 앉아서 따듯하게 대워진 보리차를 마시며 기다린다. \\n예전에는 식당에서 나오는 물 아무렇지 않게 생각했는데 보리차나 옥수수차 등 차 종류가 있으면 식당의 정성이 느껴져서 기분이 더 좋아진다. \\n주문한 3종세트 입장! 겨울철 따듯하고 감칠맛 나는 육수의 닭칼국수!\\n여기에 만두가 두개 들어있어 만두를 주문하지 않아도 나름 맛볼 수 있는 장점! 매콤 달콤 새콤 비빔국수의 정석이다.\\n여의도 맛집 진주집의 비빔국수는 맛에 비해 많이 알려져 있지 않아 아쉬울 정도다. \\n개인적으로는 단맛이 조금 강한 면이 있지만 그 단맛 때문에 또 생각나고, 칼칼하게 매운 정도는 아니라 초등학생 입맛에도 잘 맞는다.  여의도 진주집 메인 음식 콩국수. \\n찐득하게 고소함을 담고 있는 콩국물에 쫄깃한 면발과 소금을 식탁에 놓지 않을 정도로 간에 자신감이 있다.\\n물론 소금은 갖다달라고 요청하면 주긴 함. 취향에 맞추어 섞어서 먹다보면 어느새 국물까지 떠먹게 되는 나를 발견.. \\n한때는 콩국물만 따로 팔아서 사서 집에서 먹기도 했는데 요즘엔 파는지 잘 모르겠다.   여의도 백화점 진주집 김치를 빼놓으면 아쉽다.\\n싱싱한 김치가 접시에 정갈하게 나오고 콩국수는 물론이고 닭칼국수와도 잘 어울린다.  만족스럽게 배부르게 먹고 다음 장소인 여의도 더현대 서울로 발걸음을 옮긴다. \\n파크원은 소송기간도 길었고, 도대체 언제 다 지어지나 싶었는데 소송 해결되니 주중, 주말, 주간, 야간 할 것 없이 휘리릭 완공. \\n대단한 스피드로 완성되어 빌딩 오피스들도 꽤 찼다는 소식이 들리던 곳.  교차로를 건너기 전에 보이는 쌍마 스튜디오.\\n얼마전에 놀면뭐하니에서 다같이 모여 사진찍는 장소로 나오는 것보니 나도 증명사진 찍은적 있었는데 했던 기억이 새록. ㅎㅎ 나름 사진찍겠다고 라이카 카메라 들고갔으니 느낌 좋은 샷들 몇장  더현대 서울 1층에서 진행된 바이올린과 하프 공연. \\n고품격 라이브 음악이 이곳 저곳에서 들리는 더현대 서울 백화점. \\n눈과 귀가 즐거워 괜히 사람들이 많은게 아니다는 생각이 :) 리빙 매거진 보면 늘 보이는 프리츠 한센, 매장이 있어 잠시 들러 사진을~ 옆에 사장님 의자인 허먼밀러 등등도 있구요~ 티파니 팝업스토어도 보이는데 \\n대기줄이 있어 티파니 팝업스토어는 밖에서만 보는 것으로~\\n안에서 아카펠라 공연도 하고 티파니 팝업스토어 알차게 구성했구나 하는 생각이 들었다.  그옆에 블루보틀~\\n더현대 서울 처음 개장 했을때는 정말 블루보틀 대기줄이 1,000명이어 대기할 엄두도 나지 않았다.\\n맛보려면 5층으로 올라가서 블루보틀 먼저 대기 걸어두고 한바퀴 돌면 된다고 할 정도였는데.. 이젠 블루보틀 바로 입장 가능하고, 잠시만 줄서면 맛 볼 수 있는 상황이 되었다.\\n접근성이 이리 좋아지니 기분 좋게 하나씩 주문~ 문제는 블루보틀 내에 앉을 자리가 없다는것~ \\n테이블에서 일어나는 분들 없나 눈치 싸움하다가 몇번 지고는 에잇 나와서 먹자하고 \\n옆에 의자에 앉아서 티파니 팝업스토어에서 나오는 아카펠라 캐럴 들으며 마시고 집으로 돌아왔다. 가까이 있어도 자주 안갔는데 더현대 서울에는 명품샵도 많고 볼거리가 다양해서 마냥 걷고 싶을때 한바퀴씩 돌면 재밌는 시간이 될 것 같다.\\n#여의도\\n#진주집\\n#콩국수\\n#더현대\\n#더현대서울\\n#블루보틀'}, 19: {'title': \"(여의도맛집) 더현대 나이스타임 '올드페리 도넛' 후기\", 'nickname': '정이\\n(tlsduswjd88)', 'datetime': '2021. 11. 6. 9:51', 'content': \"더현대 나이스타임 '올드페리 도넛' 후기\\n오랜만에 다녀온 #더현대서울 \\n서울에 결혼식 있어서 갔다가 오랜만에 들렀는데\\n오픈초기보다 입점브랜드도 많이 바뀌고  #인더숲 팝업스토어도 생겨서\\n구경하다가 2층 내려갔더니 나이스타임앞애 줄이 길게 늘어서 있길래\\n#올드페리도넛 구입줄이라는걸 알고\\n나도 부랴부랴 따라 서봄 ㅋㅋㅋㅋㅋㅋㅋㅋ \\n진짜 작고 좁은 나이스타임 건물을 외관을 따라\\n길게 줄이 늘어져서 \\n이거 살수나 있나? 했는데\\n다행히 도넛재고가 많아서 구입성공! #나이스타임올드페리도넛 판매는\\n정해진 시간에 판매를 시작하는데\\n입날은 1시에 판매 시작이라\\n1시 7분정도에 줄서서 \\n20분정도 기다리고 구입할 수 있었음(주말기준) 기다리는동안 사서커피 먹으려고 웨이팅 예약하는데\\n카멜커피는 아직도 149팀 실화...?\\n#카멜커피 가실분들은 꼭 아래 현대식품관투홈 어플로\\n미리 웨이팅 걸어두시고 방문하시길\\n↓더현대 서울 웨이팅 거는 어플 \\nhttps://tohome.thehyundai.com/front/cua/front/joinStep3Hpoint.do?utm_source=kakaotalk&utm_medium=event&utm_content=friend&ReferCode=111&tcCode=0000000027&RCMM_CUST_NO=202103014823&SEARCH_RCMM_TXT=tlsduswjd88  드디어 내차례쯤 되었는데\\n지난번에도 구입했었는데\\n이번에 보니 위층에 신상도넛들이 대거 들어왔네? 기존 도넛들은 가격도 오천원대 이상이고\\n크기도 커서 부담스러웠는데\\n#올드페리신상도넛 들은 크기도 작아지고\\n가격도 3,500원이라\\n약간 노티드 도넛 같은 느낌  드디어 내차례인데 \\n뭘사야할지 고민엄청했는데\\n옆에 당도랑 맛후기, 추천이 있어서\\n신상 도넛 네개랑\\n당도가 적었던 피스타치오 도넛을 구입했다 20분 기다려서 산 도넛..뿌듯.. 도넛들고 돌아다니기 귀찮아서\\n처음으로 #더현대서울물품보관함 이용해봤는데\\n이거 무료인데 공간도 넓어서  짱좋다! 다만, 인기가 많아서 빈자리 찾기는 힘든편..\\nㅋㅋㅋㅋㅋㅋㅋㅋ\\n우리는 운좋게 바로 맡아서 이용했는데\\n쇼핑많이하고나면 #더현대물품보관함 꼭 이용해보시길 집에 와서 개시해본 도넛들\\n예전엔 4개사면 4구상자에 담아줬는데\\n빠르게 판매하기위함인지\\n다 개별 포장되서 \\n약간 종이 낭비같은 너낌.. #올드페리뉴도넛 들은\\n레몬,보스톤,카스테라,초코볼 도넛 하나씩 사왔는데 먼저 제일 궁금했던 #올드페리초코볼 도넛과\\n#올드페리카스테라 도넛먼저 시식 초코볼은 말그대로 초코가 들어있는데\\n평소 생각한느 초코맛이 아니라\\n굉장히 쌉싸름한 다크초코맛인데\\n단맛보단 쌉싸름한맛이 강해서 별로..\\n#카스테라도넛 맛은 무난무난 했는데\\n약간 노티드 따라한듯한 느낌이지만\\n개인적으론 노티드가 더맛있다... 기존 #올드페리도넛 메뉴중에 사온 #피스타치오도넛\\n개인적으론 올드페리도넛중엔 크림브뤨레랑\\n이 피스타치오 도넛이 제일 맛있는듯?! 이건 지난번에 찍었던 사진인데\\n전체적으로 너무 달았는데\\n달고 필링이 많이든 도넛을 좋아하시는 분들이라면\\n올드페리 도넛 좋아하실듯!\\n한남동 올드페리 까지 가기 먼데\\n가까운 여의도에서 판매하고 있어서\\n#올드페리 도넛 궁금하신 분들은\\n#더현대서울 나이스타임에서 구입해보시길-\\n↓더현대 주차 및 웨이팅 팁 참고\\nhttps://blog.naver.com/tlsduswjd88/222271802685  맛 ★★★☆☆\\n분위기 ★★☆☆☆\\n서비스 ★★★☆☆\\n재방문의사 ★★★☆☆\\nCopyright ⓒ jeong2 all rights reserved\\n공감과 댓글은 저에게 큰 힘이 됩니다 ♥\"}, 20: {'title': '여의도 더현대 호우섬_딤섬맛집_내돈내산후기', 'nickname': '뽀또군의 유학사랑\\n(yourang5177)', 'datetime': '2021. 12. 22. 15:22', 'content': '안녕하세요!!\\n뽀또군의 유학사랑입니다^^ 서울출장을 가게되면 꼭 맛집을 다녀오려고 노력하는데요\\n이번에는 새로 오픈한 여의도 더 현대 호우섬을 다녀왔어요!!\\n여의도 더현대 지하1층에 위치하고 있는 호우섬은\\n홍콩식 음식점이랍니다\\n대기인원이 많기 때문에 미리 대기해놓고 여의도 더 현대를 구경했어요!  호우섬 식당 모습이예요\\n역시나 사람이 가득!\\n맛집 인정입니다 ㅎㅎ 메뉴판이예요\\n사진으로도 잘 나와있어서 먹고싶은 음식을 잘 고를수 있어요\\n저흰 3명이니 먹고싶은걸 최대한 시켰답니다~\\n맥주한잔도 빠질수 없죠 ㅎㅎ  소롱포\\n쇼마이\\n블랙하가우\\n쯔란 오징어 튀김\\n맑은 우육탕면\\n마파두부 도삭면\\n칭따오\\n밀크티도 유명하다해서 주문해서 먹으려했는데\\n음식을 먹다보니 잊어버렸네요 ㅎㅎ 전체 식당모습도 한번 찍어보았어요\\n사람들이 꽉차있다보니 모자이크로 사람들 얼굴을 살짝 가려주었어요~\\n사생활보호는 중요하니까요^^ 음식이 나오기전에 맥주부터 서빙해주네요^^\\n칭따오로 시원하게 한잔 시작해봅니다\\n   왼쪽은 마파두부 도삭면\\n오른쪽은 맑은 우육탕면\\n입니다^^ 오른쪽 사진이 바로 쯔란 오징어튀김이예요\\n생각보다 너무 맛있었답니다~\\n정말 맥주안주로 딱!!이였어요 ㅎㅎ 제가 좋아하는 딤섬인데요\\n사실 딤섬은...제 기대에는 못미친듯해요\\n맛있긴하지만 개인적으로는 딤딤섬의 딤섬이 제 입맛엔 더 맞더라구요^^  한상가득 차려놓고보니 괜히 뿌듯해지네요^^\\n이상 여의도 더현대 호우섬 내돈내산 후기였습니다!!  '}, 21: {'title': '여의도 더현대 근처 맛집 한암동 ', 'nickname': '에일리 AILEE\\n(ahy4880)', 'datetime': '2021. 8. 15. 12:32', 'content': \"안녕하세요 에일리 입니다. \\n오늘은 여의도 더현대서울 근처 한우맛집 한암동 후기를 \\n남겨볼까 해요. \\n여의도는 회사들이 밀집해 있는 곳이잖아요.\\n그 중에서도 정갈하고 깔끔한 맛집을 찾고 있던 찰나, \\n프리미엄 전통주를 판매하고 있으면서도 \\n단독룸까지 있는 이 곳 여의도 더현대 근처 한우맛집 \\n한암동으로 왔어요.   📞 02-6747-8324\\n주차 : 여의도 파이낸스 타워 건물 \\n저희는 이 날 전통 막걸리를 먹을 계획이었기에 대중교통을 이용했어요. \\n워낙 여의도 역에서도 가까워 대중교통으로도 충분히 \\n올 수 있는 거리라는 점!\\n특히 여의도의 쇼핑메카인 더 현대서울,  IFC 몰과에서 \\n도보 5분 정도 거리에 위치하고 있어 근처에서 \\n쇼핑하고 밥먹는 코스로 딱인듯해요.   여의도 한암동 내부 인테리어도 참 깔끔한 느낌이죠. \\n단독룸도 따로 있어 미리 예약을 하면, 조용한 식사도 가능할 것으로 보여요. \\n인테리어도 식당 내부도 모두 모던한 느낌이라  \\n어르신 모시고 오면 진짜 좋겠다. 라는 생각이 들었던 그런 인테리어.   메뉴를 주문하기 위해 메뉴판을 봤어요. \\n여기 한암동 여의도점은 전통 프리미엄 술과 한우로 \\n유명하다고 하여 기대를 많이 하고 왔어요! 이 세 주류가 여기 이 한암동 여의도점의 대표 술이라고 \\n해요!\\n뭔가 패킹도 고급진 느낌 물씬.\\n저희는 육전과 함께 곁들일 담은 막걸리를 \\n주문하기로 했어요.  전통주 말고도 다양한 술들을 판매하고 있구요. \\n저희가 흔하게 먹을 수 있는 소주와 맥주 역시 판매하고 \\n있습니다. \\n지금은 코로나라 회식을 하진 못하지만 \\n근처 회사들이 회식할때 여기와도 참 좋겠다는 생각이 \\n들었어요.  여의도 한우맛집 답게 한우 암소 곰탕, 한우 육회 비빔밥, \\n암소 화로구이 등 \\n한우 요리들이 많이 있었구요. \\n저희는 한우 암소육전과 함께 먹을 도미솥밥, 미니 곰탕을 주문해 보기로 합니다. \\n그리고 빼놓을 수 없는 막걸리, 담은 막걸리를 함께 \\n주문했어요.  가격 : 27,000 정갈한 세팅과 함께 고급스러워 보이는 그릇들이 \\n세팅되었구요. \\n기대했던 프리미엄 막걸리 담은 막걸리가 먼저 등장했어요. \\n딱 패킹부터 엄청 이쁘다고 생각했는데, \\n역시나 맛도 일품이었어요. \\n오래 숙성(?)되었구나 라는 느낌이 드는 그런 막걸리.   퇴근 후 고단한 심신을 달래줄 \\n막걸리 한잔. \\n오늘 하루도 고생했는데, 막걸리로 위로를 해봅니다. ㅋ.ㅋ  가격 : 55,000 막걸리와 함께 곁들일 음식이 생각날때쯔음 한우육전이 \\n등장했어요. \\n명절때 육전을 먹어보았지만 \\n한우육전이라는 고급진 메뉴를 먹어보진 않아서 \\n맛이 궁금했거든요. \\n진짜 진짜 맛있었어요. \\n일단 전 특유의 기름진 맛이 별로 나지 않고 \\n깔끔하면서도 또 먹고 싶은 맛. \\n부추와 장아찌 함께 싸먹어도 너무 맛있구요. \\n기본 찬들과 함께 꼍들여도 진짜 맛있었어요. \\n역시 여의도 한우맛집 맞네요. 이곳  :)   가격 : 8,000 전을 먹다보면 살짝 국물이 먹고싶잖아요. \\n그럴때 딱맞게 등장한 미니곰탕이었어요. \\n남편이랑 같이 갔었는데, 곰탕을 단독으로 양이 많을 거 \\n같아 미니로 주문했는데 다 먹고 나서 참 적절한 주문이었다 \\n싶어요. \\n시원하고 뜨끈한 국물과 육전의 조화. \\n진짜 행복한 저녁식사였습니다.  가격 : 35,000 비주얼부터 예사롭지 않은 도미솥밥. \\n맛있는 향기가 솔솔 났었는데요. \\n일단 너무 이뻐, 사진으로 담아봅니다.  사진을 찍고 나면 직원분께서 직접 도미솥밥을 먹을 수 있게 섞어주십니다. \\n(직원분 센스있게 사진 찍고 다시 불러달라고 해주시고, \\n정말 친절했어요) \\n앞에 있는 참기름을 적절히 섞어 비벼주시니 \\n진짜 도미솥밥 너무 맛있고, 건강한 느낌의 맛이더라구요. \\n그리고 처음엔 양이 작을까 걱정했는데 웬걸\\n남녀 두명이서 갔는데 엄청 배불리 먹었다능...\\n밥이 끊임없이 계속 나오더라구요.  비벼진 도미솥밥과 함께 찰칵. \\n정말 만족스러운 여의도 한우맛집\\n한정식 식사였습니다.  코시국이라 요즘 외식해서 음식먹기가 쉽지 않은데 \\n정말 오랜만에 괜찮은 식당에서 대접받으며 \\n배불리 먹은 것 같아 기분이 좋았어요. \\n보기좋은 떡이 먹기도 좋다고 하잖아요. \\n사진찍어도 너무 이쁘게 나와서 또 한번 가게를 잘 왔구나\\n하는 만족감이 가득 😌\\n친절한 직원에, 깔끔한 인테리어에 모두를 충족시켜주는\\n식사였습니다.  여의도에서 일하시는 직장인들 곰탕으로 점심을 해도 \\n너무 좋을 것 같구요. \\n퇴근 후 맛있는 여의도 한우맛집인 이 곳에서 한우와 육전,\\n전통주 한잔이 그리울 때 먹어도 참 좋을 것 같아요. \\n또한 더현대서울 이나 ifc몰 구경 왔다 근처에서 식사하기도\\n너무 좋을거같구요 👏\\n'한암동 여의도점' 카톡 채널 등록 시 다양한 혜택이 \\n있다고 하니, 놓치지 마세요!\\n↘ 한암동 카톡 채널링크 : \\nhttp://pf.kakao.com/_QgbPs\\n↘ 8월 혜택 - 식사금액 10만원 초과 시, 2만원 할인 \\n막걸리 무제한 제공 서비스 (7.27~8.8)\\n이상 여의도 더현대서울 근처 한우맛집 한암동\\n 후기였습니다. \\n오늘도 글 읽어주셔서 감사해요. :) \\n* 공감과 댓글은 창작자에게 힘이 됩니다. ✌️\\n* 해당 리뷰는 업체로부터 초대를 받고 \\n솔직하게 작성하는 후기임을 알려드립니다. \"}, 22: {'title': \"♥여의도 더현대 맛집 - '헤이웍 BY 초류향'에서 중식 1인정식 혼밥 추천♥\", 'nickname': '하듸', 'datetime': '2021. 12. 9. 22:06', 'content': '여의도 더현대가 생기면서\\n초창기에 방문했다가 사람 개많아서\\n더이상 안 온다 했던 나,,,🥲\\n근데 저번 평일에 오니까\\n사람이 많이 없어서 드디어\\n와볼만한 곳이 되었다 ><\\n할머니, 할아버지는 더현대에 안 와보셔서\\n이번기회에 여의도 더현대 맛집 갈 겸 들려봤당\\n헤이웍이라는 여의도중식 파는 곳인데\\n초류향이라는 유명한 중식점에서 하는곳이다\\n그럼 후기 고고🧡 헤이웍\\nBY 초류향 여의도 더현대 지하1층 푸드코너 매일 10:30 - 20:00\\n[라스트 오더  19:30] 여의도 더현대 맛집 헤이웍은\\n3대째 운영하는 중식당인 초류향의 셰프\\n유의융 셰프가 직접 운영하는 매장이라구 한다 ^.^ 이분이 올리브티비, EBS, 생생정보통 등등\\n매체에서도 많이 등장하신 분이라구 한다\\n유의융 셰프는 중국 국빈을 대접하는\\n국연요리를 하시는 사부한테 배워온 레시피를 활용해서\\n요리를 만드신다\\n그래서 맛이 너무 궁금했다🥰 헤이웍 BY 초류향은\\n더현대 지하 1층 푸드코트에 있다\\n음식점들이 다 외관이 비슷하고\\n간판도 작아서 찾기가 나름 어렵다\\nㅋㅋㅋㅋㅋㅋㅋㅋ😂\\n주문은 매장 앞에서 진행❗ 요즘 코로나 확진자수가 넘 많아서\\n백신 접종을 완료한 사람만 매장 내 이용이 가능하다\\n만약 백신 미 접종이면\\n테이크 아웃만 가능 여의도 중식 답게 다양한 대만식 음식이 있는데\\n밥도둑 1인 정식이 젤 잘 나가는 듯☺️\\n유린기도 먹고싶었지만 넘 배부를까봐\\n밥도둑 1인 정식\\n짬뽕 쌀국수\\n가지 튀김\\n을 주문했다 밥도둑 1인정식에는\\n새우마파두부, 마늘새우, 파리머리볶음이 나오구\\n밥은 무한리필이라구 한다^.^\\n뭔가 혼밥하면서 든든하게 먹고싶으면\\n밥도둑 1인정식 강추👍 신기하게 밖에 따로\\n세면대도 있어서 손을 닦을 수 있다 물은 셀프고\\n종이컵에 받아오면 된다\\n다행히 우리 자리 바로 옆에 정수기가 있어서\\n안 일어나고도 먹을 수 있었당\\n개꿀 ㅋ 드디어 등장한 우리가 시킨 메뉴들❤️ 뭔가 대만식 요리집이라 그런지\\n그릇들이 새빨개\\nㅋㅋㅋㅋㅋㅋㅋㅋㅋㅋㅋㅋ 요건 짬뽕 쌀국수인데\\n다양한 해산물에 짬뽕 육수로\\n되게 얼큰하다 난 향신료를 거의 못 먹는데\\n쌀국수이지만 국물이 짬뽕이다보니\\n맛있게 먹을 수 있었당 ^.^ 가지튀김은 양상추랑 같이 나오고\\n새콤달콤 칠리소스도 나온다\\n가지가 수분이 차 있어서\\n말랑말랑 하면서도 식감이 좋았다\\n할머니께서 생각보다 제일 맛있었던게\\n가지튀김이라구 하셨당☺️ 파리머리볶음인데\\n고기랑 고추, 마늘쫑 등을 볶은 음식이다\\n처음에 파리라고 해서 엥,,,? 설마? 했고\\n오빠도 놀려서 진짜 믿었다가 ㅡㅡ\\n고기라는걸 알게됨,,,ㅋ\\n파리머리볶음은 매콤하면서도\\n약간 짤 수 있어서 밥이랑 같이 먹는걸 추천 새우 마파두부인데\\n이건 의외로 향신료 맛이 약간 나서 놀랬당\\n근데 나도 먹을 정도로 조금 나기때문에\\n다행히(?) 먹을 수 있었당 ><\\n할아부지께서 넘 맛있다구\\n밥이랑 비벼서 드셨당 ㅎㅎ 요건 계란국이었나,,,?\\n여튼 국물도 나온당 이건 뭐지,,,? 했었다가\\n뒤늦게 새우라는걸 알게됨,,,\\nㅋㅋㅋㅋㅋㅋㅋㅋㅋㅋㅋㅋ\\n마늘새우라는 메뉴인데\\n모든 덮밥, 볶음밥이랑 어울리고 맛도 좋아서\\n단골들은 필수적으로 주문하는 메뉴라고 한당\\n나는 가지튀김에 나온\\n칠릴소스에 찍어먹었당 ㅋㅋ 진짜 구성이 너무 알차서\\n든든한 한끼를 먹을 수 있었다\\n여의도 더현대 맛집 진짜 인정 >< 사이드로 시킨 메뉴들도 너무 맛있었는데\\n여의도 중식 먹으려면 헤이웍 완전 강추👍\\n1인 정식도 있어서 더현대 혼밥하기에도\\n완전 딱인 곳 ^.^\\n더현대도 오랜만에 구경하구\\n점심도 맛있게 먹어서 넘 행복했다🧡\\n후기 끄읏 #여의도더현대맛집 #더현대중식 #여의도중식\\n#헤이웍 #헤이웍더현대 #더현대대만식\\n#더현대마파두부 #여의도혼밥 #더현대혼밥  '}, 23: {'title': '더현대 맛집 호우섬 / 솥밥 필수 홍콩 맛집', 'nickname': '로디\\n(77chance77)', 'datetime': '2021. 7. 7. 7:09', 'content': '이제야 사람이 좀 적어진 더현대서울! \\n평일에 문 닫기 전에 \\n저녁 먹으러 가면 사람도 덜하구 딱이다 😊 여의도에서 일하는 언니를 만나게 되어 방문한 \\n더현대 맛집으로 유명한 호우섬!\\n여의도 맛집이니 호우섬 웨이팅도 악명이 높은데 \\n언니가 먼저 현대식품관 어플로 대기를 걸어준 덕분에 \\n우리는 도착하자마자 거의 바로 들어갔다 주문하는 디테일이 귀엽다 \\n언뜻 보면 나 대학교 앞에 있던 고른햇살이라는 분식집 이 생각나기도 한데.... 그 주문서를 또 세련되게 해석했다  호우섬에서 우리가 주문한 건 \\n소룡포 3pcs 7.0\\n마늘칩 꿔바육 18.0\\n맑은 우육탕면 9.0 - 비추\\n닭고기 조림 뽀짜이판(솥밥) 11.0 - 강추\\n(나중에 여의도 근무하는 친구한테 듣기로는\\n라구짜장 도삭면을 꼭 주문하랜다) 그린 컬러의 귀여운 물잔과 앞접시  언니가 호우섬 밀크티도 사줬어요 뀨! \\n맛은 사실 살짝 고급진 데자와와 가깝다  마늘칩 꿔바육 18.0\\n양꼬치집에서 먹는 꿔바로우랑은 살짝 다른 느낌\\n얇은 돈까스 같기도 하고 슈니첼 같기도 하고... 마늘칩이 들어가서 양념은 맛있었는데 \\n찹쌀이 강하게 느껴지지는 않았다\\n고기가 얇아서 조금 아쉬움 소룡포는 먹기 바빠서 사진도 못 찍곸ㅋㅋㅋㅋ\\n맑은 우육탕면.\\n근데 소룡포나 우육탕면이나 좀 애매했다.\\n소룡포는 여기보다 맛있는 곳이 너무 많고 \\n우육탕면도 연남동에 맛있는 곳이 너무 많고...!\\n특히 우육탕면은 면이 너무 아쉬웠다. 비추! 가장 기대했던 닭고기 조림 솥밥\\n정말정말로 맛있었다!!!! 사실 달콤짭짤한 닭고기 조림이면 뭔들이겠냐마는\\n솥밥 특유의 누룽지와 \\n재료들이 한데 어우러지는 은은한 향이랑\\n정말 잘 어울렸다 ☺️❤️ 누룽지 되기 전에 얼른얼른 먹어야 하는 게 단점!이지만 \\n충분히 맛있었음 \\n사진 더 자세히 찍어놓을걸 \\n집에서 재현하게....ㅋㅋㅋㅋㅋㅋ\\n일단 기억나는 건 \\n데리야끼 양념의 닭다리살 \\n청경채 브로콜리 표고 대나무순 물밤 기대에 비해서는 전체적으로 아쉬웠던\\n그치만 더현대 맛집 중에서는 핫한 곳이니 \\n한번쯤은 방문을 추천한다 ☺️ #더현대서울 #더현대맛집 #여의도맛집 #호우섬'}, 24: {'title': '[여의도 더현대 맛집] 코리안 바베큐 전문점 : Sooty (수티) ', 'nickname': '금성키친', 'datetime': '2021. 9. 2. 22:09', 'content': '[여의도 더현대 맛집] 코리안 바베큐 전문점 : Sooty (수티)  오랜만에 잠시 여의도 더현대를 다녀왔어요. 두번째 방문인데요. \\n이전에 처음 오픈했을 때만해도 사람이 진짜 많았는데, 평일에 가서 그런지 아님 사람이 빠져서 그런지 이번에 갔을 때는 사람이 그리 많지 않았어요. \\n더현대는 지하에 진짜 맛집들이 많은데요. 이번에 제가 다녀온 곳은 수티 SOOTY입니다. \\n수티는 돼지고기로 유명한 금돼지, 삼각지에 우대 갈비로 유명한 몽탄 그리고 청담동 한우 맛집 뜨락\\n이 세가지 브랜드가 콜라보하여 만든 새로운 컨셉의 코리안 바베큐 전문점입니다.  실내 사진은 많이 못 찍었어요. 여기는 그냥 혼자 앉기 좋은 테이블이구요. 그 뒤로는 그냥 빨간 테이블로 2~3인이 앉을 수 있는 자리가 한 6~7테이블 정도 있습니다. 한 2시 20분에 가니 웨이팅은 전혀 없었고, 널럴하게 앉을 수 있었어요  메뉴는 많지 않아요. 대신 코리안 바베큐 전문점이라 오븐에서 구운 소고기, 닭을 즐길 수 있는 곳입니다.  이렇게 오븐에서 구운 닭을 미리 구경할 수 있어요.  세개 주문한 메뉴가 다 나왔습니다. \\n아 참고로 물을 따로 주지 않기 때문에 물도 따로 구매해야해요  음식은 미리 준비되어 있어서 그런지 빨리 나오더라고요  로메인 시저 샐러드입니다.  로메인이 큼지막하게 담아서 나오구요. 그 위에 드레싱과 아몬드를 곁들인 시저 샐러드입니다. \\n샐러드는 적당히 아삭하고 맛있었어요. 드레싱이 조금 느끼할 것 같았는데, 느끼하지 않고 무난했습니다.  수티 아란치니입니다. 여기 아란치니는 소고기랑 찹쌀을 완전 꽉채운 느낌이었어요  거의 미트볼을 튀긴 느낌이랄까. 그래서 그런지 크기도 생각보다 크고, 엄청 든든한 양이더라고요.\\n같이 나오는 토마토 소스도 새콤하니 조합이 괜찮았어요  그리고 오늘의 주인공이죠. 로스트 치킨입니다  초고추장 소스랑 같이 나와요. 우선 로스트 치킨이 진짜 생각보다 컸구요. 살 비닐장갑으로 막 분해하면서 먹는데 살도 엄청 많았어요. \\n그리고 먹다보니까 안건데, 안에 김치밥도 있더라고요 ㅋㅋ 뭔가 삼계탕 느낌으로 속을 꽉 채워줬습니다. \\n오븐에서 구워서 그런지 확실히 맛있었고, 가끔 밖에서 닭 먹을 때 덜 익은것 같은데? 생각 많이 했는데, 여기는 완벽히 익은 것 같아서 좋았어요  제일 맛잇었던건 로스트 치킨 > 아란치니 > 로메인 샐러드였습니다. \\n근데 사실 세 브랜드의 명성에 비해서는 막 그다지 놀라운 맛은 아니었어요. \\n엄청 맛있을걸 기대해서 그런지, 그정도는 아니였구요. 그냥 무난하게 먹을 수 있는 곳이었습니다\\n영업시간 및 오시는 길  '}, 25: {'title': '와필레 더현대 서울 와플 맛집', 'nickname': '사과꽃', 'datetime': '2021. 7. 16. 17:21', 'content': \"더현대 서울 와플 맛집\\n와필레\\nWAFILLE 안녕하세요, 사과꽃입니당\\n그동안 미뤄놨던 블로그 관리하면서\\n밀렸던 포스팅도 차근차근 ㅋㅋㅋ\\n이것도 진작 쓰고 싶었는데 늦어진!\\n오늘의 포스팅은 여의도 와플 맛집 와필레 !\\n바디프로필 촬영 끝나고 다음날 더현대 갔다가\\n이것저것 열심히 구경하고 맛있는 거 사먹었어용\\n그동안 정말 먹고 싶었던 와플을 드디어 :)\\n식단 관리한다고 그 흔한 크로플과 로제 떡볶이도\\n제대로 못 먹어본 사람 ㅋ컼ㅋㅋㅋㅋ\\n로제는 심지어 아직도임... + 운영정보 +\\n평일 10:30 - 20:00\\n주말 10:30 - 20:30 백화점 안에 있는 만큼 백화점 휴무일 확인하기!\\n와필레는 이태원 맛집으로 시작했는데\\n지금은 더현대 서울 & 스타필드 안성\\n이렇게 두 곳에 입점해있습니당 XD\\n  5층은 초록초록 식물원 정원 느낌!\\n포토 스팟도 여러 곳인데 사람이 많...많...\\n5층에서 가장 유명한 가게! 블루보틀\\n블루보틀 다녀온 후기는 아래에\\n주말 웨이팅 후기 ^*^\\n블루보틀 여의도 카페 주말 웨이팅 후기\\n▼  생각보다 되게 쪼끄미한 가게에요\\n사실 저는 유명한 곳인 줄 모르고\\n그냥 와플 자체를 워낙 좋아해서 사먹었어요\\nㅋㅋㅋㅋ 사먹고 보니 이태원 맛집이었던 거시다... 젤라또 또한 여러 종류를 팔고 있어요\\n이런 저런 맛이 많았는데\\n결론부터 말하면 젤라또는 먹지 못했습니다\\n이유는 뒤에 ㅠㅠㅠㅠㅠㅠ ▲\\n와필레 더현대서울점 메뉴\\n와플은 총 다섯 종류!\\n   플레인 / 블루베리 / 초코필링 / 넛츠 / 젤라또  \\n블루베리가 베스트 메뉴라고 합니당 '-'\\n젤라또는 총 여덟 종류!\\n프렌치 바닐라 / 밀크 초콜렛 / 마스카포네 치즈 / 리조\\n딸기 밀크 / 딸기 소르베 / 요거트 / 피스타치오\\n음료 종류도 팔고 있어서 같이 즐기면 좋을 거 같아요!\\n블루보틀 웨이팅 걸어놓고 여기 온 건데\\n대기가 어마어마해서 여기서 사먹을까 싶었네요\\n하 ㅋㅋ ㅠㅠ 제가 젤라또를 먹지 못한 이유\\n먹을 수 있는 공간이 한정적이에요\\n6층에 취식 가능한 공간이 있지만\\n밀려오는 손님이 비해 좌석이 적음\\n테이블 회전률도 너무 낮음 ㅠㅠ\\n>> 금방 녹는 건 먹기 힘들다 와플만 골라서 샤샤삭 포장합니다\\n포장지가 매우 예쁘더라구요\\n체크무늬 좋아해...\\n공대생 감성..ㅎ... 와플 사고 기뻐서 열심히 사진 찍음 ㅋㅋㅋ\\n근데 저때나 지금이나 체중 별로 안 달라유..\\n많이 먹는데 운동도 그만큼 해서 그런가봐요\\n바프 끝나고 부작용 오는 사람도 꽤 많은데\\n아예 입맛이 바뀌어버린 새럼~ 플레인 / 3,800\\n제가 구매한 건 두 종류인데\\n그래도 정석부터 먹어야 하지 않겠냐고!\\n플레인부터 집어왔습니당 ㅎㅎ\\n쫀득쫀득한 와플의 맛\\n굽자마자 먹었으면 더 맛있었을텐데\\n받고 나서 시간이 쬐금 지났음에도\\n눅눅하지 않아 좋았어요! 블루베리  / 4,800\\n여기서 잘 나간다는 블루베리\\n베스트 메뉴는 또 한 번 먹어야죵\\n블루베리가 반죽 사이에 콕콕 박혀있어요\\n살짝 시럽 같은 게 발려서 달콤한데\\n단맛이 강하지 않아 좋았어요 :) IFC 잔디밭에서 먹은 건데 색감 넘 예쁘죠 ♥\\n담백하고 쫄깃한 맛이라 좋았지만\\n와플 두 개 먹었더니 거의 만원... 다소 비쌈\\n기회가 되면 다른 맛도 도전할 의향이 있지만\\n대기가 엄청 많으면 굳이 줄 서지는 않을 듯!\\n이 정도의 설명이면 감이 오시려나용 ㅎㅎㅎ\\n와플 맛집 와필레 후기 끝!\"}, 26: {'title': '[더현대 맛집] 미쉐린 가이드에 나온 \"밀본\"에 다녀오다! 여의도 생활의달인 한식 맛집(칼국수&고기덮밥)', 'nickname': '야티파오', 'datetime': '2021. 12. 26. 7:40', 'content': '지난번에 포스팅했던 \"더현대서울 가볼만한 곳\" 포스팅 기억하시나요?!\\n그때 자세히 다루지 못했던 더현대 맛집 \"밀본\" 리뷰를 해보려고 합니다! 밀본은 성수동에 본점이 있는 맛집인데요! 무려 \"미슐랭 1스타\"를 받은 식당이고, SBS 생활의달인에서 고기덮밥 달인으로 출연하셨다고 해요!\\n대표메뉴는 칼국수와 고기덮밥인데, 한식을 좋아하는 저로서는 완전 가보고 싶은 식당이었어요! 더현대 서울에 마침 밀본 분점이 있다는 소식에 댕겨와보았습니다!\\n칼국수라면 바지락칼국수도 좋아하고, 사골칼국수도 좋아하지만 개인적으로는 명동칼국수 같은 진한 사골육수가 더 땡기더라고요! 밀본은 사골육수인 칼국수랍니다. 더현대 지하1층 푸드코트에 위치해있어요!\\n그럼 바로 리뷰 시작해보겠습니다! 밀본\\n더현대서울 지하1층  인테리어가 완전 깔끔하고, 세련되어서 좋았습니다! 식당 앞에는 생활의달인 명패와 미슐랭 명패가 딱! 붙어있습니다. 그런데 여러분 혹시 미슐랭과 미쉐린의 차이가 뭔지 아시나요?! 저 이거 두개가 같은 말이라는거 이번에 처음 알았어요ㅋㅋㅋㅋㅋㅋ 영어를 그대로 읽으면 미쉐린, 프랑스 발음으로 읽으면 미슐랭이라고 하더라고요! 점심시간에는 손님이 많아서 대기를 해야하는 경우가 많습니다!\\n칼국수는 10000원, 고기덮밥은 10000원, 비빔물국수 10000원, 만둣국은 12000원, 갈비탕은 16000원이었습니다.\\n군만두 한접시에는 8개가 들어있는데 14000원이었고, 녹두전은 13000원이었어요! 반찬은 요렇게 나온답니다! 저희는 고기덮밥 2개랑 비빔물국수 1개, 칼국수 1개랑 군만두 한접시를 주문했습니다! 저는 고기덮밥을 주문했어요! \\n고기덮밥위에 아스파라거스가 한개 올라가 있습니다. 칼국수 국물도 제공되어서 좋았어요!\\n친구들이ㅋㅋㅋㅋ 살짝 비주얼이 개밥같다고ㅋㅋㅋㅋ 하긴 했지만 고기에 양념이 잘 배어있었습니다!\\n전 개인적으로 군만두가 엄청 맛있었어요! 한개에 거의 2000원 꼴이어서 살짝 비싸긴 하지만 비싼 값어치를 하더라고요! 군만두 꼭 드시는 걸 추천드립니당 한상차림입니다! 칼국수 국물을 먹어봤는데 계속 땡기는 국물 맛이었습니다!\\n비빔물국수 시킨 친구도 맛있다고 하더라고요! 더현대 서울에서 적당한 가격대에 깔끔하고, 정갈한 한식을 드시고 싶다면 \"밀본\" 추천드립니다!'}, 27: {'title': '[테일러 커피] 더현대 서울 크림모카 커피 맛집', 'nickname': '신지곰', 'datetime': '2021. 12. 16. 10:10', 'content': '안녕하세요. \\n지난번에 여의도에 다녀왔을때 다녀온 테일러 커피입니다. \\n처음에 더현대 서울(현대백화점)이 오픈했을때 사람들이 엄청 많았다고 했는데, 제가 방문했을때는 그정도는 아니였어요. ㅎㅎ \\n아무튼 더현대 서울에는 고급스러운 브랜드 들이 많이 입점해 있더라고요. \\n구경하다가 지쳐서 커피한잔 하려고 방문했습니다. \\n와이프가 맛있는 카페라고 해서요. \\n찾아보니 몇몇 지점을 보유한 유명한 카페네요.  메뉴판입니다. \\n시그니처 메뉴는 크림모카입니다. \\n테일러커피는 쫀득한 크림이 돋보이는 카페라고 하네요. \\n아메리카노 가격으로보면 4,500원으로 되게 비싼 느낌은 아닙니다. \\n그리고 더현대 서울이라는 고급 백화점임을 감안하면 더 그렇죠. 매장은 세련되고 깔끔하긴합니다. \\n주문한 메뉴를 기다리는 동안 매장을 둘러봅니다. \\n(사실 테일러 커피에 사람들이 좀 있는 편이더라고요. ) 요렇게 디저트류도 있네요. \\n그러나 분위기는 여유있게 디저트를 먹고 그럴만한 분위기는 아닙니다. \\n뭔가 백화점 내에 있는 매장이라 그런지, 편하게 쉬다가는 매장이라기보단 딱 커피 한잔 마시고 얼른 일어나야할거 같은 느낌까지 듭니다.  카운터쪽은  괜찮은데, 앉을 수 있는 자리가 참 불편하게 되어있달까요. \\n저희도 커피한잔 마시는 20분 정도 앉아있다가 일어난거 같아요 ㅎㅎ  테일러커피의 다양한 제품들이 전시되어있더라고요. \\n네스프레소 캡슐머신에 사용가능한 캡슐을 비롯하여 드립백도 있네요.  컵과 원두도 구매할 수 있네요. \\n그냥 구경만 합니다. ㅎㅎ  저희가 주문한 크림모카가 나왔습니다. \\n잔이 큰편은 아니라 양이 많지는 않습니다.\\n그래도 쫀쫀한 크림이 커피 위를 포옥 덮고 있네요.  크림은 쫀쫀하고 맛있긴 하더라고요 ㅎㅎㅎ\\n왜 시그니처 메뉴인지 알 수 있었어요. \\n요런 크림은 어떻게 만드는지 저도 배워보고 싶네요.  쇼핑으로 지친 몸에 카페인과 당분이 들어오니깐 다시 힘이 도는거 같습니다. \\n편하게 앉아서 쉬긴 힘들지만.... \\n딱 커피 한잔으로 체력을 보충해서, 다시 열심히 쇼핑을 !!! 하시면 좋을거 같네요.  커피 맛은 진짜 맛있네요. \\n다른 매장을 찾아가봐야겠습니다. \\n좀 여유롭게 커피를 음미하고 싶어요 ㅎㅎ \\n제가 계속 이렇게 이야기 하는 이유는 자리 때문인데요. \\n아래 사진을 보시면... ㅎㅎ \\n저희 등뒤로 또 다른 사람들이 오붓하게 등을 맞대며 안는 구조입니다.  와이프랑 마주보며 앉을수도 없지요 ㅎㅎ \\n공간적인 제약과 회전률을 고려한 세팅이겠지만 ㅎㅎ \\n좀 너무하단 생각이 듭니다. \\n자리도 돌땡이라 편하지 않아요 ㅠㅠ  매장 한편에는 더치기구들이 있네요. \\n제가 방문했을때는 인테리어용인지 잠시 쉬고 있는 중인지 더치기구를 사용하진 않더라고요 ㅎㅎ  더티 기구에서 더치 커피 한반울씩 떨어지는거 보는 재미도 있는데 말이죠 ㅎㅎ \\n아무튼 더현대 서울 방문해서 아이쇼핑도 즐기고, 맛있는 커피를 한잔 하고 왔네요. \\n더현대 서울에서 잠깐의 쉽을 느끼고 싶으신 분은 테일러 커피 방문해보시길 추천드립니다. \\n크림이 정말맛있습니다!!!  #더현대서울 #현대백화점 #테일러커피 #크림모카'}, 28: {'title': '여의도 더현대 맛집 베트남 쌀국수 @효뜨(HIEUTU)', 'nickname': '맛초이\\n(kahichoi)', 'datetime': '2021. 12. 28. 21:45', 'content': '크리스마스 다음날, \\n서울에 한파주의보가 내린 주말.\\n크리스마스를 같이 즐기지 못한 남자친구와 나는\\n강추위를 뚫고 꾸역꾸역 여의도 <더 현대 서울>에 다녀왔다.\\n추위에 머리가 지끈해질 즈음\\n남자친구는 따끈한 국물을 먹자며\\n수많은 맛집 중 <효뜨>로 나를 이끌었다.\\n효뜨는 여의도 더 현대 서울 이외에도\\n신용산 본점, 정자동 효뜨관, 압구정 현대백화점 본점\\n에서도 맛볼 수 있다. 런치메뉴\\n디너에 비해 주문할 수 있는 메뉴의 가짓수가 적다. 디너메뉴\\n런치와 디너로 주문할 수 있는 메뉴가 나뉘어져 있다.\\n디너 메뉴는 4시 이후 부터 주문가능하고,\\n우리는 5시쯤 방문하여 디너메뉴를 이용했다. 넴 5,000\\n사이드 메뉴로 주문한 넴.\\n피쉬소스와 양파피클을 같이 내어주신다.\\n내용물도 알차고, 고소하다.\\n일행과 하나씩 나눠먹기에 좋다. 얼큰 소고기 쌀국수 14,000\\n남자친구의 주문메뉴.\\n최근 성수 <타논55>를 다녀온 후로 매운맛 쌀국수에 푹 빠진 사람.\\n국물맛이 깔끔하고 얼큰하니 추운 날씨에 먹기 제격.\\n면과 파채, 양파, 숙주를 같이 어울리면 아삭아삭한 식감이 좋다. 퍼싸오 23,000\\n내가 주문한 볶음면.\\n같이 주는 피시소스를 부어먹는 방식이다.\\n새우와 돼지고기 그리고 면까지 양이 꽤 많다.\\n센불에서 볶아 그런지 불향이 좋고, 짭짤한 메뉴. 고수를 추가하면 조금씩 접시에 내어주신다(+0) 홀 테이블 간격은 넓지 않은 편이었고,\\n주말 5시 이후에 방문해서 웨이팅 없이 식사가능했다.\\n(입장시 백화점 입장과는 별개로 한번 더 QR코드 체크한다.)\\n이렇게 먹는데 총 42,000원이 나왔고,\\n맛있고 배부르게 먹었지만, 쌀국수치고는 비싼편이라고 생각한다. ✔더현대 효뜨 영업시간\\n평일 10:30~20:00 (15:00~16:30 브레이크타임)\\n                                  (19:30 라스트 오더)\\n주말 10:30~20:30 (14:00~17:00 브레이크타임)\\n                                  (20:00 라스트 오더)\\n✔더현대 효뜨 위치 ✔효뜨 인스타그램 '}, 29: {'title': '여의도 맛집 핫플 : IFC 쓰리버즈 브런치, 더현대 블루보틀, 워킹맘연차', 'nickname': '삐삐', 'datetime': '2021. 10. 30. 12:54', 'content': '여의도 맛집 핫플\\nIFC 쓰리버즈 브런치, 더현대 블루보틀, 워킹맘연차 \\n2021.10.07\\n와우 연차다!\\n얼마만의 연차인지\\n자부요정이랑 찐하게 만나려면 이렇게 연차정도는 써야함\\n정말 가끔은 나도 아이와 집에 집중하고 싶은 때가 많아진다.\\n뭔가 심숭생숭 드렁드렁하던 10월\\n힐링과 쉼이 필요해 - \\n요정님이랑 데이트 고고\\n이날은 연차니깐 나도 마음이 좀 느긋해져서 -\\n우리 꾸꾸 늦잠좀 재웠다.\\n매일 7시부터 부지런히 준비해서 7시 30분이면 차타는데..\\n이날은 8시까지 푹 재움 마음이 편하다.\\n등원시키고, 엄마 회사다녀올께 빠이빠이 하고 \\n엄마는 여의도로 케케\\n아 남들 출근할때 쉬는 공기 너무 좋구나\\n평일 여의도 한산하고 아주좋다.\\nIFC 오픈하자마자 옴 ㅋㅋ\\n먼저 IFC 브런치카페 쓰리버즈부터 고고 IFC몰 내부에 없고, 외부에 있다.\\n쉽게 찾는 방법은 L1에서 나가는게 제일 빠름 ㅎㅎ 지난번 가족끼리 왔던 삼거리푸줏간이랑 같은 공간을 쓰고있다.\\n그때는 밤에 왔었는데, 이번에는 낮에 ㅎ 꺅 아침에 내가 브런치라니 \\nㅠㅠㅠ감동적이야 감격적\\n우리 진짜 힐링하잣 ㅎ\\n쓰리버즈 들어오자마자 벌써 공기가 달라 ㅋㅋ 역시 출근을 안하니 때깔부터 다르네 ㅋㅋ\\n피부 아직 살아있네 ㅋㅋㅋㅋㅋㅋㅋ 연차를 쓰니 모든것이 아름다워 보이는 마법 ㅋㅋㅋ\\n브런치 메뉴는 11시가 되야된다고 했다.\\n그래서 일단 크로아상이랑 뺑오쇼콜라에 아아  라자냐\\n홈메이드 미트소스랑 모짜렐라치즈, 구운가지를 켜켜이 올려서 만든 메뉴\\n진짜 맛있었다.\\n여기 시그니처  시즈널브라타샐러드\\nㅠㅠ 샐러드도 너무 좋아 ㅠ \\n크리미한 브라타와 시즌과일, 그리고 루꼴라\\n진짜 맛있었다.  둘다 포토타임 가지고 ㅋㅋㅋ\\n이게 바로 행복이지요 ㅋㅋㅋㅋ 표정관리 못하는거봐 ㅋㅋㅋ\\n겁나 신났군 ㅋ\\n요정님이랑 함께라 더 신나고 행복해 ㅎ\\n나 근데 이제 평일연차 당분간 못써 ㅠ ㅠ 흑흑\\n1월쯤 되면 평일데이트 할수있을까 ㅠㅠㅠ  그리고 이제 빠르게 더현대로 무브무브\\n주말에 오면 박터질테니 평일에 오기 \\n정말 더현대 생긴지 반년도 넘은 것 같은데...이제서야 발을 들인다. ㅠ\\n아 슬퍼 ㅠ 너무 늦게왔쪙 ㅠ \\n블루보틀로 돌진!\\n여기는 우리 요정님 추천장소 \\n고고씽  오자마자 일단 대기번호 적고, 카톡오면 바로 대기줄 서기 ㅋ\\n평일이라 그나마 짧았던듯  헤헤\\n블루보틀 뿌셔뿌셔 남들 다 찍는 자리에서 나도 찍기 ㅎ 우리는 놀라플로트랑 뉴올리언스를 주문했다.  헤헤 맛있담 ㅎㅎ\\n이날 진짜 표정관리 안되고 신났네 ㅎㅎ 더현대 5층에서 천천히 산책하고 놀멍쉬멍\\n아니 시간 왜이렇게 잘가  역시 여사친 요정님과 함께라 사진도 많이 찍고 놀고 ㅋㅋ\\n재밌다 재밌어 ㅋㅋ 시간 너무 잘간다\\n놀다보니 정말 화살같네 시간이\\n벌써 하원시간됨 ㅠ \\n애데렐라 모드로 변신 ㅋㅋ\\n다음에 꼭 우리 꾸꾸 데리구 와야지\\n하원길에 중간에 여기와서 놀면 되겠네  정말 며칠뒤 아이랑 더현대에서 놀게됐는데...ㅋ\\n그후기는 또 언제쓰나 ㅋㅋㅋㅋ\\n아무튼 연차 덕분에 여의도에서 너무너무 신나게 잘 놀았다.\\n우리 요정님과의 자부타임은 또 언제가 될까 \\n우리 또 약속잡아보잣 ♥♥♥♥♥♥ '}}\n"
     ]
    }
   ],
   "source": [
    "dict = {}    # 전체 크롤링 데이터를 담을 그릇\n",
    "\n",
    "# 수집할 글 갯수 정하기\n",
    "number = 30\n",
    "\n",
    "# 수집한 url 돌면서 데이터 수집\n",
    "for i in tqdm_notebook(range(0, number)):\n",
    "    # 글 띄우기\n",
    "    url = url_load['url'][i]\n",
    "    chrome_path = chromedriver_autoinstaller.install()\n",
    "    driver = webdriver.Chrome(chrome_path)\n",
    "\n",
    "    driver.get(url)   # 글 띄우기\n",
    "    \n",
    "    # 크롤링\n",
    "    \n",
    "    try : \n",
    "        # iframe 접근\n",
    "        driver.switch_to.frame('mainFrame')\n",
    "\n",
    "        target_info = {}  # 개별 블로그 내용을 담을 딕셔너리 생성\n",
    "\n",
    "        # 제목 크롤링 시작\n",
    "        overlays = \"#contents > div > div.careers-area > div.careers-new > div.border > div.left > div.tit-area > p\"                                \n",
    "        tit = driver.find_element_by_css_selector(overlays)          # title\n",
    "        title = tit.text\n",
    "\n",
    "        # 글쓴이 크롤링 시작\n",
    "        overlays = \".nick\"                                 \n",
    "        nick = driver.find_element_by_css_selector(overlays)         # nickname\n",
    "        nickname = nick.text\n",
    "\n",
    "        # 날짜 크롤링\n",
    "        overlays = \".se_publishDate.pcol2\"                                 \n",
    "        date = driver.find_element_by_css_selector(overlays)         # datetime\n",
    "        datetime = date.text\n",
    "\n",
    "        # 내용 크롤링\n",
    "        overlays = \".se-component.se-text.se-l-default\"                                 \n",
    "        contents = driver.find_elements_by_css_selector(overlays)    # contents\n",
    "\n",
    "        content_list = []\n",
    "        for content in contents:\n",
    "            content_list.append(content.text)\n",
    " \n",
    "        content_str = ' '.join(content_list)                         # content_str\n",
    "\n",
    "        # 글 하나는 target_info라는 딕셔너리에 담기게 되고,\n",
    "        target_info['title'] = title\n",
    "        target_info['nickname'] = nickname\n",
    "        target_info['datetime'] = datetime\n",
    "        target_info['content'] = content_str\n",
    "\n",
    "        # 각각의 글은 dict라는 딕셔너리에 담기게 됩니다.\n",
    "        dict[i] = target_info\n",
    "        time.sleep(1)\n",
    "        \n",
    "        # 크롤링이 성공하면 글 제목을 출력하게 되고,\n",
    "        print(i, title)\n",
    "\n",
    "        # 글 하나 크롤링 후 크롬 창을 닫습니다.\n",
    "        driver.close()       \n",
    "    \n",
    "    # 에러나면 현재 크롬창을 닫고 다음 글(i+1)로 이동합니다.\n",
    "    except:\n",
    "        driver.close()\n",
    "        time.sleep(1)\n",
    "        continue\n",
    "    \n",
    "    # 중간,중간에 파일로 저장하기ii\n",
    "    if i == 30 or 50 or 80:\n",
    "        # 판다스로 만들기\n",
    "        import pandas as pd\n",
    "        result_df = pd.DataFrame.from_dict(dict, 'index')\n",
    "\n",
    "        # 저장하기\n",
    "        result_df.to_excel(\"blog_content.xlsx\", encoding='utf-8-sig')\n",
    "        time.sleep(3)\n",
    "\n",
    "print('수집한 글 갯수: ', len(dict))\n",
    "print(dict)"
   ]
  },
  {
   "cell_type": "code",
   "execution_count": 110,
   "metadata": {
    "id": "aw9T8hPW-kvu",
    "outputId": "afb45d8f-9a0d-442f-a02a-f848f1ce8e6f"
   },
   "outputs": [
    {
     "data": {
      "text/plain": [
       "{0: {'title': '여의도 더현대 맛집 :: 취향대로 골라 먹기, 잇샐러드',\n",
       "  'nickname': '로폰',\n",
       "  'datetime': '2021. 10. 21. 16:39',\n",
       "  'content': '오늘은 일전에 비욘더로드 전시회를 관람하면서 들러본 여의도 더현대 맛집, 잇샐러드 후기를 올려볼까 한다. 가게는 지하 2층에 위치해 있는데 여의도역에서 지하 통로를 이용해 들어가면 바로 같은 층에 위치해 있어서 찾아가기에 쉽다. 인테리어도 깔끔하고 분위기도 혼밥을 즐기기에도 부담 없는 느낌이라서 꽤 좋았던 곳인데 그럼 아래 상세 후기를 적어봐야지. +\\n주소 : 서울 영등포구 여의대로 108 지하2층\\n영업시간 : 오전 10시 반 ~ 저녁 8시\\n(주말에는 8시 반까지, \\n라스트오더는 마감 30분 전까지) 여의도 더현대 맛집 인테리어는 전반적으로 샐러드 파는 곳이구나~ 싶은 느낌이 연상되도록 초록색을 중심으로 깔끔하게 꾸며진 편이다. 의자는 다소 딱딱한 편이고 자리가 아주 편한 느낌은 아닌 듯. 다른 테이블은 손님들이 다 한 자리씩 차지하고 있어서 키가 높은 쉐어테이블에 앉았는데, 테이블 아래에 이렇게 철로 단이 져있어서 다리를 올려둘 수 있던 점이 괜찮았다. 주문은 카운터에서 선불로 진행되고, 주문을 받으면 진동벨을 준다. 음식을 받아서 자리로 가져오고 식사 후에는 퇴식구에 직접 가져다 두는 시스템이다. 참고로 기재되어 있는 메뉴들은 그냥 주문하면 되고 커스텀 주문을 원하는 분들은 카운터 쪽에 주문지가 있으니 펜으로 체크해서 드리면 된다. 난 에너자이저를 먹을까 하다가 거기에 내가 좋아하지 않는 야채들이 몇 가지 섞여 있어서 커스텀으로 주문하기로 했다. 베이스로 로메인과 구운 양배추를 선택하고, 아보카도 올리브 레드 쿠스쿠스, 구운 돼지고기, 구운 두부, 옥수수 콘 등을 넣었던 것으로 기억한다. 드레싱은 홈메이드 바질 페스토로 선택하고 여기에 그릭요거트와 꿀스틱도 주문했다. 후식으로는 요거트를 먹을 참이기에~ㅎㅎ 여튼 받아온 먹거리들 사진도 자세히 찍어보았음. 그릭요거트에 곁들여진 꿀은 이렇게 스틱으로 따로 포장된 걸로 주시는데 먹다보니 양이 조금 부족하게 여겨져서 아쉽긴 했다. ㅠ 취향에 따라 하나 더 사먹을 수 있게 개별판매해주면 더 좋겠단 생각은 들었음. 그리고 샐러드볼은 얼핏 보면 그리 커보이진 않지만 먹다보면 양이 꽤나 실한 편이다. 쉐낏쉐낏 열심히 섞어보는 영상도 담아봄. 참고로 더현대 잇샐러드는 샐러드가 메인이긴 하지만 수프나 샌드위치 종류도 판매하고 있다. 찾아보니 성수 쪽에도 지점이 있던데 여의도는 너무 머니 다음 번에는 남편이랑 같이 성수 지점으로 가서 주문해보고 싶단 생각도 드네. 여튼, 토핑 중에서 라이스 토핑도 쿠스쿠스며 보리 등등 선택지가 꽤나 다양했는데 레드 쿠스쿠스를 골랐던 것이 신의 한수였던 것 같다. 쌀알이 흰색 계열이면 솔직히 비주얼이 밋밋한데 빨간색이라 그런가 색깔도 알록달록 너무 예쁘고 먹음직스러워보임. 촵촵 열심히 섞어본 샐러드. 엄청 촉촉해보인다. 본인은 병아리콩, 양파 등을 싫어하는데 여의도 더현대 맛집 잇샐러드는 기본 베이스 야채도 종류가 다양해서 골라보기에 좋았고 토핑 야채도 가짓수가 많아서 내 입맛대로 선택하기 좋았다. 사실 닭고기도 여기다 추가할까 하다가 너무 과해질 것 같아서 말았는데 섞어보니 걍 이 정도가 딱 적당했던 듯. 아보카도도 실하게 들어 있고 바질 드레싱 특유의 향이 풍미를 돋구어주는데다 야채도 아삭하니 맛남. 올리브랑 스위트콘도 들어가 있어서 단짠한 맛도 팡팡 터지고~ 스푼샷도 한 번 찍어보고요? 이날 제대로 된 첫 끼니로 저녁이 되어서야 이걸 먹으니 양은 많아도 술술 다 들어가더란..ㅎㅎ 마음 같아서는 넘 맛있어서 두 그릇도 먹을 수 있을 것 같은데 적당히 자제하기로 했다. ㅠ 그래도 양이 생각보다 많아서 먹고나니 아쉽다거나 하는 느낌은 들지 않았고, 배도 든든하게 불러서 만족스러웠다. 후식인 그릭요거트에도 꿀 뿌려서 찰칵~ 그릭요거트는 음. 맛은 있는데 먹다보니 살짝 느끼한 부분이 없잖아 있었다. 분명히 맛이 아주 새콤한 편인데도 우유 향이 확 농축된 느낌이라 그런가 살짝 부담스럽고 입 안이 좀 텁텁해졌음. 만약에 여길 다시 가게 된다면 그땐 요거트보다는 버섯 크림 수프 같은 걸 주문하는 게 낫겠단 생각이 든다. 물론, 맛이 없는 것은 아님.   요거트 스푼샷도 찍어봄. 그런데 요거트가 워낙에 단단하고 꾸덕해서 저 종이 스푼은 힘아리가 1도 없어서 제대로 떠지질 않는다. 결국 사진만 한 장 남겨보고 남은 것은 샐러드 스푼으로 떠먹었음 ㅠㅎㅎ 이렇게 더현대 잇샐러드 후기를 맺어본다. 토핑 종류가 다양해서 취향껏 커스텀해먹을 수 있다는 게 가장 큰 장점인 듯. 덧붙여서 더현대를 들를 때 같이 관람해보면 좋을 비욘더로드 전시회 후기 링크도 함께 첨부해본다~ '},\n",
       " 1: {'title': '여의도 더현대 맛집 혼자 먹은 쌀국수 미쳤다',\n",
       "  'nickname': '문지기',\n",
       "  'datetime': '2021. 11. 30. 19:57',\n",
       "  'content': '11월 12일 금요일 연차날, 아침부터 바쁘다 바뻐\\n난 쉬는 날 왜 집에 있지를 못하는 걸까 🤔\\n전시회 보고 맛있는 점심을 먹을 계획이었으나 오픈전부터 줄서있는 사람들 보고는 일단 먹자.\\n이게 정말 탁월한 선택이었던게 전시를 보고 식당 갔으면 웨이팅 겁나 할뻔 했네요 그만큼 사람들 가득. 지하에는 벌써 크리스마스 분위기가 나더라고요.\\n그 사이사이에서 사람들 사진 많이 찍던데 전 혼자니까 쿨하게 패쓰를 해줬답니다.\\n그리고는 지하 1층을 몇 바퀴 돌아다녔는지.. 맛나보이는 식당이 어찌나 많은지 고민 안 할수가 없어서요. 결정장애로 힘들어하는 순간에도 사람들은 무진장 들어와 매장들을 하나둘씩 채우고 있었어요.\\n이러다가 웨이팅을 할 수는 없으니 에잇 결정했어...\\n여의도 더현대 맛집 효뜨를 들어갔어요 면류가 갑자기 땡기는거 있죠 쌀국수 먹어보자구요. 매장안은 베트남 현지 분위기 나던데요 인테리어가 소소한데도 마음에 들었어요.\\n그나저나 언제 또 해외 나가보나... 베트남도 또 가고 싶고 아니 어디든지 나갈수 있으면 좋겠어요 ㅎㅎ 2인용 테이블에 눈치껏 자릴 하고는 메뉴판을 스캔했어요 먹고 싶은게 왜 이렇게나 많은지 또 장애가 ㅠㅜ\\n양껏 주문하고 싶은 마음을 가슴 한켠에 꾹꾹 눌러주고는 기본 소고기쌀국수를 시켰어요.\\n하나만 시키는건 뭔가 허전하니 사이드로 넴을 추가로 주문했어요.   주문하고 조금 있으니 시킨 메뉴들이 제 테이블에 세팅이 되었어요.\\n이제 효뜨, 여의도 더현대 맛집을어디 한 번 즐겨볼까요 나온 효뜨의 소고기쌀국수, 보기엔 특별한게 없었어요\\n그냥 일반적인 쌀국수 비쥬얼에 양파, 숙주나물, 파, 부추, 소고기가 들어있었어요 보통의 그것처럼\\n그런데 먹어보니 특별하지 않은게 아니더라고요 정말 맛있어요 쌀국수 이런 반응을 보일줄이야 ㅋㅋ 국물이 너무 진하고 맛있어서 정말 매력적이었어요. 흔한 그런 국물 육수가 아니더라고요.\\n진하고 시원 담백한게 이건 미쳤다 국물로 게임끝!!\\n거기에 촉촉하고 부드러운 쌀국수, 식감이 부드러운게 먹는데 기분 좋아졌어요. 거기다가 고기도 적은 편은 아니고 각종 토핑된 것들과 같이 먹어주면 그 맛이 새로웠어요.\\n달달한 양파, 아삭한 숙주 등 재료 하나하나가 개인적으로 만족스러웠어요.   쌀국수는 미쳤다 정말 어느 하나 불만스런게 없었어요 육수, 면, 고기 및 각종 토핑까지!\\n그럼 넴은 얼마나 맛있을까 만두를 좋아하는 저의 기대치가 쭈우욱 올라간 상태에서 먹어봤어요. 하아... 이건 진짜 별거 없던데요 ㅎㅎ 그냥 만두튀김!\\n그냥 먹을때는 그저 그랬고, 소스 찍어 먹으면 그나마 낫긴 하더라고요.\\n그리고 고수가 몇개 올려져 있는데 그정도는 먹을만, 못 드시는 분들은 미리 이야기하셔야 할듯 하네요. 넴에서 약간의 실망감을 얻게 되었지만 그래도 워낙 쌀국수가 맛나서 전체적으로 좋게 느껴졌어요.\\n쌀국수는 면과 육수 국물까지 끝장내버렸답니다 워낙 만족한 상태라 얼큰이도 상당히 궁금하더라고요. 울 두여인네도 쌀국수 다들 좋아하니 여의도 더현대 맛집에 데리고 오면 굉장히 좋아할 것 같아요.\\n이렇게 혼자 먹으러 다니면서 만족하고 맛있는건 가족과 함께 또 오는게 얼마나 기쁘고 보람있는지 ㅎㅎ\\n앞으로 계속 내가 테스트하면서 좋은 곳 찾아볼께 지원 좀 해주라 제발 ㅋㅋ '},\n",
       " 2: {'title': '일품이었던 여의도 더현대 맛집',\n",
       "  'nickname': '심콩',\n",
       "  'datetime': '2021. 10. 12. 14:03',\n",
       "  'content': '지난 주말에 친구와 여의도에서 쇼핑하고서 여의도 더현대 맛집에서 점심을 먹었어요 :-)\\n 깔끔한 분위기에서 제주 흑돼지로 만든 카츠를\\n맛볼 수 있는 곳이었는데 소개해볼게요 ^^ㅎㅎ 이날 찾았던 긴자바이린은 여의나루역 1번출구에서\\n도보로 5분거리에있는 더현대백화점 지하에 위치해 있었어요\\n외관에서부터 깔끔한 오픈식의 내부가 훤히 보였는데\\n첫인상부터 저희들의 시선을 잡았어요! 보다시피 들어가는 입구에는 외부 메뉴판과 웨이티시 이용할 수 있는 순번시스템이 갖춰져 있었는데요ㅎ\\n기본 편의 서비스가 잘 되어 있는게 센스있었어요. 물론 방역적인 부분도 잘 지켜지고 있었는데요~~\\n손소독제도 눈에 띄는 곳에 있어 냉큼 사용했답니다~ 손소독제를 사용하고서 안으로 들어와 내부를 살펴보았어요\\n테이블마다 투명 칸막이가 셋팅되어 있어 보다 안심하고 식사할 수 있었네요  또한 반대편에는 긴 바테이블이 놓여져 있었는데요.\\n여의도 더현대 맛집은 혼자 방문해서 혼밥 하기에도 어색하지 않은 곳이었어요~ 우선 자리를 잡고 네모난 메뉴판을 살펴보며 어떤 음식을 먹을지 고민해보았어요^^\\n무엇보다 카츠 정식이 메인이었던지라\\n바이린정식과\\n로스카츠정식 그리고\\n가츠샌드를\\n하나 주문했어요 ~~ 주문을 하고 음식이 나오기만을 기다리며 주변을 살펴보다 배너를 보게 되었는데요~\\n최상급 제주흑돼지와 당일생산 빵가루, 천연재료로 만든 특제소스를 사용한다는 부분이 더 믿음갔어요 :-0 곧 주문한 메뉴들이 테이블 위로 하나 둘씩 올라오기 시작했어요 ~~~\\n보다시피 정식은 1인 스타일로 깔끔하게 나왔는데 풍족한 모습에 연신 사진부터 찍게 되었네요🥴 먼저 여의도 더현대 맛집의 기본 상차림부터 하나씩 살펴봤어요ㅎ\\n밑반찬은 물기 빠진 단무지와 할라피뇨가 있었는데 두가지만으로도 부족하지 않았어요 ㅎㅎ 옆에는 새콤한 타르타르소스가 놓여져 있었는데요 바사삭한 새우튀김을 먹을때 없어서는 안될 소스였어요  또 야채에 뿌려 먹을 수 있는 드레싱소스도 따로 준비되어 있었어요\\n짭쪼름하면서도 살짝 달큰한 맛이 있는 오리엔탈소스였는데 듬뿍 뿌려 먹으니 촉촉하니 괜찮더라구요  우선 바이린정식을 살펴보았는데 길쭉한 새우튀김과 안심, 멘츠카츠가 하나씩 자리를 잡고 있었어요\\n노르스름한 색상이 눈에 띄었는데 절로 군침이 돌았다죠  이 중 어떤것부터 먹을까 살짝 고민하다 길쭉한 길이감을 뽐내는 새우튀김부터 집어 들었어요\\n살짝만 집어도 바사삭한 소리가 귓가에 들려왔는데 여의도 더현대 맛집의 첫 한입이 기대되는 순간이었어요  무엇보다 새우튀김은 새콤한 타르타르소스와 궁합이 잘 맞는지라 크림소스에 푹 찍어 먹었는데요\\n겉은 바사삭하면서도 속은 촉촉하고 탱글탱글한에 제 취향을 만족시켰어요ㅎ 또 머리부분까지 바삭하게 튀겨져 나왔던지라 머리부터 꼬리까지 남김없이 먹을 수 있었어요\\n꼭꼭 씹어 먹을때마다 새우 자체의 고소함에 미소가 절로 돌았네요  튀김만 먹다보면 느끼할 수 있는지라 중간에 야채샐러드도 곁들여 먹었어요\\n입안에서 싱그러움과 아삭함이 춤을 추듯 어우러지더라구요 :) 다음으로 도톰한 두께의 안심카츠에 손이 향했는데요\\n여의도 더현대 맛집에서 엄선한 제주 흑돼지로 만든 음식인만큼\\n높은 기대감을 만족시켜주는 맛이었어요 😜 옆에 있는 맨츠카츠도 빼놓지 않고 먹었는데요\\n튀김옷은 얇고 고기는 두툼한 스타일이라\\n한조각만 먹어도 배부름이 꽉 채워지는 듯 했어요  한참 먹다 목이 막힌다 싶을때는 따끈한 장국을 후루룩 떠먹었어요.\\n 따뜻함과 부드러움이 입안을 적셔주었는데 속을 편안하게 만들어주었어요 ㅎㅎ 또한 함께 주문했던 로스카츠정식도 맛보았는데요\\n등심 부위라 하던데 이 역시 어떤 맛일지 궁금하더라구요  먼저 본연의 맛을 충분히 음미하기 위해 여의도 더현대 맛집의 시그니처 돈카츠 소스에\\n흠뻑 적셔 한입에 넣었어요 짭쪼름하면서도 깊은 향이 담긴 소스가 감칠맛을 한단계 업 시켜주었어요ㅎㅎ 더불어 히말라야소금에도 콕 찍어 먹었는데요\\n짭쪼름하면서도 깔끔한 맛에 돼지고기의 담백한 맛이 가득하니 박수가 나왔다죠 여기에다 알싸한 맛이 스며든 겨자소스에 곁들여 먹어도 색달랐는데요\\n소스에 따라 맛이 다르게 느껴지니 골라 먹는 재미까지 쏠쏠했어요ㅎㅎ 두툼한 카츠 먹으면서 고슬고슬한 밥도 중간중간 먹었는데\\n더불어 배부름까지 꽉 채울 수 있었네요 ㅠㅠ 마지막으로는 쌀식빵 사이사이로 두툼한 안심이 샌드되어 있는 가츠샌드에 시선이 향했어요\\n단면 사이로 촉촉한 육즙과 두툼함이 확연히 눈에 띄어 군침이 돌았어요 도톰한 카츠샌드를 한입씩 물어 먹었는데 퍽퍽함은 없이 부드러움과 촉촉함에 반하는 맛이었어요ㅎ\\n원조라는 명성과 1백년의 전통이 고스란히 담긴 여의도 더현대 맛집 오랫동안 기억하고 싶어요 ㅎ   주소 : 서울 영등포구 여의도동22 지하1층\\n번호 : 02-3277-0762\\n영업시간 : 평일 10:30~22:00 (금요일10:30-20:30) \\n#더현대서울맛집 #긴자바이린  '},\n",
       " 3: {'title': '손꼽았던 더현대 서울 맛집',\n",
       "  'nickname': '떵워닝\\n(iam_swoniii)',\n",
       "  'datetime': '2021. 11. 12. 18:06',\n",
       "  'content': '며칠전 절친과 함께 쇼핑을 갔다가 더현대 서울 맛집에서 협찬을 받아 저녁식사를 먹고 왔어요.\\n수준 높은 아시아음식은 물론 친절한 서비스까지 모두를 만족시켰던 곳이라 소개하려고 해요. 이날 찾아간 식당은 여의나루역 1번출구에서 걸어서 6분정도 가니 도착했어요.\\n더현대서울 백화점 지하1층에 위치하고 상호명이 크게 적혀져 여렵지 않게 찾았어요. 매장 입구에서 입간판에 세워져 있었는데요.\\n비주얼이 뛰어나서 과연 맛이 어떨지 궁금하더라고요. 내부는 생각보다 넓고 원목으로 된 깔끔한 홀이 인상적이었어요.\\n테이블수도 많고 공간도 여유로워서 모임을 하기에도 손색이 없었답니다. 이미 많은 사람들이 식사를 하시고 계셨어요.\\n인기가 실감나고 더현대 서울 맛집에 찾아오길 잘했단 생각이 들더군요. 쇼파자리도 마련되어 편한곳에 골라 앉았어요.\\n정리정돈도 잘되었고 위생적으로도 말끔해서 첫인상이 좋았답니다. 몇걸음 옮겨보면 다양한 맥주와 음료가 준비되었더라고요.\\n대중적인것부터 처음보는 것까지 여러가지를 취급해 선택의 폭이 넓더라고요. 한쪽에는 쇼핑백이 나란히 진열되었어요.\\n모든 메뉴는 포장과 배달이 된다고 하니 집에서도 즐길수 있겠더라고요. 한바퀴 둘러보고 주문을 하려고 매장 카운터로 향했어요.\\n오픈주방 형태로 안이 훤히 들여다 보여 믿음이 갔던 더현대 서울 맛집이었어요. 메뉴판을 자세히 읽어보니 쌀국수부터 덮밥,사이드 메뉴까지 다양하게 준비되었더라고요.\\n사진과 설명이 자세하게 적혀져 고르기 수월했어요. 가성비 좋게 세트메뉴도 구성되었더라고요.\\n저희는 뭘 먹을까 고민하다가 대만 스폐셜 세트를 주문했답니다. 수다를 떨고 있으니 주문한 요리들이 한꺼번에 테이블위로 가득찼어요.\\n가격에 비해 양도 많은데다가 플레이팅까지 이뻐서 입이 떡 벌어졌어요. 테이블위에 빈공간 없이 꽉채워져 어떤거부터 먹어야될지 고민이 되었어요.\\n고급스러운 식기에 나와 대접 받는 기분이 들더라고요. 제일 먼저 파이구볶음밥부터 시식을 해주었는데요.\\n얼굴만한 크기의 돼지고기튀김을 보기만해도 군침이 흘렀던 더현대 서울 맛집이었어요. 아래에 계란 볶음밥도 한큰술 떠서 맛보았는데요.\\n갓 지어낸 밥이라 고슬고슬하고 고소한 풍미가 입안 가득 채워줬어요.  곧장 고기 한조각을 집어 한입 베어 물었는데 특제소스로 양념한 등심을 겉은 바삭하고 속은 촉촉하게 튀겨내어 클래스가 돋보였어요.\\n등급 높은 미국산 육류라서 그런지 육즙이 풍부하고 고소함이 일품이었어요.\\n육질이 너무 부드러워 몇번 씹지도 않았는데 사르르 녹아 없어지더군요. 짭조름하게 조려진 계란 조림도 별미였어요.\\n양념이 진하게 녹아들어 간이 딱맞고 담백하면서도 탄력적이라 물개박수가 쳐졌어요.  이어서 토마토 우육탕면을 먹어볼 차례였는데요.\\n토핑을 아낌없이 넣어주셔서 후한 인심에 감동했던 더현대 서울 맛집이었어요. 따끈한 국물부터 얼른 먹어주었는데 오랜시간 우려낸 깊은 맛에 행복한 미소가 지어졌어요.\\n상큼한 토마토 소스와 어우러져 감칠맛이 상당해 중독성이 장난 아니더라고요.  살코기는 먹기 좋은 크기로 찢으니 스무스하게 나뉘어졌어요.\\n대만 정통방식으로 아롱사태를 조리하여 차별화된 맛을 경험했어요.\\n면발을 적당한 시간에 삶아져 탱글하고 불지않아 흠잡을데가 전혀 없었답니다. 드디어 오매불망하던 홍유완탕을 즐겨보기로 했는데요.\\n고추기름과 고수가 곁들여져 특유의 풍미가 예사롭지 않았어요. 새우완탕은 피가 얇고 오동통한 속도 실하게 들었더라고요.\\n쫀득한 텍스쳐에 칼칼한 끝맛이 잘어울려 젓가락질이 점차 빨라졌네요. 고수가 들어가 이국적인 향이 입안에 감돌아 매력적이었어요.\\n얼얼한 소스로 저희의 입맛을 단번에 사로 잡았답니다. 이번에는 진한 치즈가 듬뿍 올려진 치즈감자에 손을 대보았어요.\\n위에는 옥수수콘,베이컨을 골고루 뿌려놔서 다채로운 식감을 더해주어  더현대 서울 맛집은 남다르구나 싶더라고요. 감자 고로케는 표면을 바삭하게 튀겨놓아서 자연스레 시선이 향했어요.\\n포슬포슬하면서도 소스가 곁들여져 미식가인 친구도 칭찬일색이었어요. 짭조름한 베이컨과 톡톡 터지는 옥수수 콘까지 입이 심심할 틈이 없더군요.\\n감자 사이사이에 소스가 짙게 배어서 감탄사가 절로 터져 나왔답니다. 마지막으로 대만맥주와 레몬티로 입가심을 해주었어요.\\n맥주는 청량한 목넘김과 곡류의 풍부한 향으로 사랑 받는 이유를 알겠더라고요.\\n레몬이 들어간 차는 상큼하면서도 시원해 입안을 깔끔하게 정돈시켜주었네요. 근사한 분위기, 뛰어난 음식의 맛까지 모든게 우수했던 더현대 서울 맛집이라 한번 방문하면 그 뒤부터는 단골이 되는곳이랍니다. <본 포스팅은 SPC로부터 지원받아 작성되었습니다>\\n#더현대서울맛집#스트릿여의도현대파크원점'},\n",
       " 4: {'title': '여의도 더현대 카페 레이어드 서울 스콘 맛집 인정 ',\n",
       "  'nickname': '바이비엥',\n",
       "  'datetime': '2021. 12. 20. 15:31',\n",
       "  'content': ' 얼마 전 여의도 더현대에 다녀왔습니다  \\n평일 낮 시간대의 방문이라 \\n예상한 것보다는 사람이 많지 않아 보였는데   \\n유독 사람이 많은 곳이 몇몇 눈에 띄었어요 \\n그중 하나가 서울 스콘 맛집으로 알려진 \\n여의도 더현대 카페 레이어드 입구부터 사람들이 줄을 서있는 모습에 \\n궁금해서 괜히 기웃거리다가, \\n정면에 진열되어 있는 스콘들을 보고 \\n저도 바로 줄을 섰답니다. \\nㅎㅎㅎㅎㅎ  저의 발걸음을 사로잡은 스콘들 ❤\\n정말 하나하나 다 너무 맛있어 보였어요  \\n매장 입구에서 트레이와 집게를 챙겨서 \\n스콘과 케이크 진열대를 차례로 지나 \\n카운터에서 결제를 하도록 되어있습니다 \\n이미 제 앞으로도 줄이 길었는데  \\n뒤로도 계속해서 사람들이 늘어나서 \\n여유 있게 스콘 사진을 찍을 수가 없었어요\\nㅠㅠ 갈릭 크림치즈, 잠봉뵈르, 말차 앙버터, \\n스프링어니언 크림치즈, 크랜베리 크림치즈,\\n 카라멜버터, 말차 화이트초콜렛 등등 \\n정말 다양한 종류의 스콘들이 있었어요 \\n일반 스콘들보다 사이즈가 큰 편이지만 \\n그만큼 가격도 저렴하지 않아요..  \\n스콘 두 개 담으면 만원 훌쩍 넘어가고.. \\n인기 있는 제품들은 트레이가 비어있었는데 \\n직원분이 바로바로 채워주시는 듯했어요 :)  저는 하필 점심 식사 직후에 방문해서 \\n이미 배가 많이 부른 상태였어요 ㅠ.ㅠ \\n너무 무거워 보이는 스콘은 \\n별로 당기지 않아서 패스했는데 \\n지금 보니까 잠봉뵈르랑 갈릭크림치즈 \\n너무 맛있어 보이구요... 서울 스콘 맛집 카페 레이어드에서 \\n제가 pick 한 두 가지의 스콘은 \\n 스프링 어니언 크림치즈 스콘과 \\n크랜베리 크림치즈 스콘  그 당시에는 두 가지만 맛봐도 충분하다 생각했는데 \\n지금 보니 트레이 너무 볼품없네요.. \\n달랑 스콘 두 개라니.... 줄을 따라가면서 오히려 케이크 쪽은 \\n사진을 여유롭게 찍을 수 있었습니다 \\n케이크들은 전체적으로 상당히 묵직한 스타일..\\n하나같이 다 너무 먹음직스러워 보였어요 \\n  왼쪽은 당근케이크, \\n오른쪽은 말차치즈케이크 \\n스콘 계산하기 위해 케이크 옆에 줄 서있다가 \\n나도 모르게 하나 집어 올릴 것 같은 비주얼!!!\\n여의도 더현대 카페 레이어드는 \\n스콘 맛집일 뿐만 아니라 \\n케이크도 맛있다고 하더라구요 :) 배가 너무 불러서 스콘 두 개도 간신히 샀건만, \\n역시나 집에 와서 케이크도 사 올걸 후회... \\n포스팅하면서 케이크 사진 보고 또 후회...\\n리얼초콜릿케이크.. \\n꼭 먹어볼 거예요...  트레이에 담겨있는 티라미수와 레몬케이크도 \\n너무 맛있어 보였답니다 :)\\n스콘만큼이나 다양한 종류의 케이크들..\\n디저트만으로 배 채우기 완전 가능..\\nbut, 조각 케이크 가격도 제법 사악한 편.. 음료 가격은 아메리카노 5천 원 \\n라떼와 티종류는 6천 원대 \\n가장 비싼 음료는 7천 원이었어요 \\n매장 이용 시 1인 1음료 주문 필수, \\n외부 음식 반입과 상업용 촬영은 금지되어 있습니다 여의도 더현대 카페 레이어드는 \\n서울 스콘 맛집으로 유명하지만, \\n매장 특유의 분위기와 감성이 \\n인기에 한몫을 더하는 느낌이에요 결제 카운터 옆으로 머그컵과 에코백 등, \\n카페 레이어드 굿즈도 볼 수 있답니다 :)\\n음료와 스콘, 케이크를 먹을 수 있는 공간이 \\n내부에 마련되어 있긴 하지만 넓지 않았구요, \\n평일 낮에도 줄 서서 사 먹는 스콘 맛집이라 \\n앉을 자리가 전혀 없었던 것이 함정... \\n디스플레이와 매장 분위기 너무 좋지만 \\n여유 있게 즐기기에는 조금 힘들어 보였습니다 \\n테이크아웃해서 먹어야지...  집에 돌아와서 스콘을 먹어봅니다 :) 먼저 크랜베리 크림치즈 스콘 \\n크랜베리와 크림치즈의 조합이라니 \\n의심할 필요도 없는 메뉴입니다.. 겉바속촉 스콘에 크랜베리가 콕콕 박혀있고  \\n속 안에 크림치즈가 가득 채워져있어요 \\n적당히 짭짤한 스콘에 달콤한 크랜베리와 \\n크림치즈의 풍미까지 가득 더해주면... \\n어떻게 먹어도 맛이 없을 수가 없는 조합..  따로 잼이나 클로티드크림 등을 곁들이지 않고 \\n그냥 있는 그대로 먹어도 충분히 맛있었어요  그 다음에 먹어본 건 스프링어니언 스콘\\n 이름 그대로 대파 스콘입니다!! \\n신랑은 보자마자 인상 찌푸렸지만 ㅋㅋㅋ \\n제 입에는 맛있었던 스프링어니언 스콘  속 안에 다른 부재료가 들어가 있지 않고 \\n대파만 풍성하게 들어가 있습니다 ㅎㅎㅎ\\n중간중간 작게 크림치즈가 얹어져 있어요 \\n짭짤한 스콘과 스프링어니언의 향, \\n중간중간 함께 먹는 크림치즈까지 \\n전체적인 합이 꽤 괜찮은 느낌\\n비주얼부터 호불호가 뚜렷하게 갈리는 메뉴, \\n저는 극호 신랑은 불호였답니다 ㅎㅎㅎ 카페 레이어드의 스콘은 \\n바삭한 식감이 적당히 살아있는 편으로, \\n딱 겉바속촉 스타일의 스콘이었어요 \\n플레인 스콘을 먹어보지 않았지만 \\n대충 어떤 느낌일지 상상이 됩니다 \\n뻑뻑한 스타일의 스콘을 좋아하는 분들에게는\\n오히려 약간 아쉽게 느껴질 수도 있을 것 같아요 \\n스콘 취향이나 식감 취향에 따라서 \\n평이 갈릴 수도 있을 듯해요 :) 지점마다 맛 차이가 있다는 말도 있던데 \\n다른 지점을 가보지 않아서 비교 불가능, \\n저는 구매한 두 가지 모두 너무 맛있게 먹어서 \\n더 다양하게 많이 사 오지 않은 게 후회됐어요 \\n여의도 더현대 카페 레이어드 \\n서울 스콘 맛집 인정..!!\\n물론 어디까지나 제 입맛대로 제 마음대로.. \\n리뷰는 어디까지나 그냥 참고만 해주세요 :) 다음에 가게 되면 필링 가득한 스콘들과 \\n케이크까지 먹어보고 또 포스팅 해볼게요 ! '},\n",
       " 5: {'title': '더현대 수제버거 맛집 - 번패티번 사진 및 후기',\n",
       "  'nickname': '황꼬',\n",
       "  'datetime': '2021. 12. 21. 15:16',\n",
       "  'content': '안녕하세요!\\n레이첼입니다 오늘은\\n더현대 버거 맛집\\n번 패티 번\\n후기를 갖고 왔습니다 서울 더현대 백화점에 위치하고 있는 번패티번 입니다 이것이 진짜 수제버거다!\\n라는 슬로건과 함께 배고픈 저랑 친구의 눈길을 사로잡았답니당 번패티번은 다른 더현대의 먹거리와는 다르게\\n웨이팅이 10년이 걸리지 않는다는 점이 아주 강점입니다\\n맛집에 있어서 웨이팅을 매우 싫어하는 저랑 친구로써는 \\n번 패티 번이 얼마나 반갑던지\\n번 패티 번 메뉴 및 가격 참고하세용 앉을 수 있는 공간도 충분하게 많습니다\\n바로 옆에 블루보틀도 있습니당 앞으로 가서 주문을 하면 됩니다 QR코드 혹은 안심콜로 체크인을 하시면 됩니당 저는 저녁시간대에 갔는데도\\n사람들이 생각보다 많이 있지 않아서 아주 좋았답니당 주문 후에는 주어진 공간에서 알아서 앉아서 먹으면 됩니다\\n진동벨을 주기 때문에 알아서 갖고 가서 먹으면 끝 번 패티 번의 번들이 진열되어 있는 모습입니당\\n아마도 가짜 전시용 번이지 않을까 싶어용 친구랑 너무 멀리 가지 않고 자리에 장착 각 테이블에는 케찹과 머스터드가 이렇게 있습니다\\n핫소스가 없어서 살짝쿵 아쉬웠습니당 빵과 패티에 대한 고집이 담겨진 수제버거 맛집이라고 합니다\\n번의 경우 매일 신선하게 생산을 하고 있으며\\n패티의 경우 저온숙성을 통해서 100% 프리미언 쇠고기를 사용을 하고 있다고 합니당 미니 메뉴 및 가격이 또 이렇게 있습니당\\n대체적으로 너무 비싼 가격이 아닌 것 같아용 아가들을 위한 베이비 체어도 있습니다\\n그래서 아이들과 함께 식사를 즐길 수 있습니당 지동벨\\n친구랑 차분하게 배고픈 마음을 갖고 기다렸습니당 그리고 등장 저는 친구랑 반반씩 버거를 나눠 먹기 위해서 \\n버거 2개 + 세트 1개 + 윙 주문을 했습니다\\n세트에 나오는 프라이즈의 경우, 치즈 프아이즈로 변경을 했습니다\\n금액은 당연히 발생합니다\\n하지만 후회 없은 소비 번패티번 버거와 과카몰리 버거를 주문을 했습니당  과카몰리버거 속에 있는 과카몰리의 모습이 잘 보이나욤? 번패티번 버거의 속 모습입니다\\n진짜 맛있습니다\\n검색이란 1도 하지 않고 그냥 웨이팅이 없어서 찾아온 맛집이라\\n기대할 틈이 없어서 그런지 진짜 너무 맛있더라구요 과카몰리 버거의 내부 모습입니당\\n생각보다 과카몰리가 많이 들어 있지 않아서 친구랑 저랑은 실몽쓰\\n하지만, 그래도 너무나도 맛있게 먹었습니당 진자 모든 것을 순삭을 했습니다\\n윙도 맛있고 (버펄로 소스가 없는 그냥 일반 윙이랍니다)\\n치즈 프라이즈의 경우, 치즈가 진짜 마지막 감튀를 먹을때까지\\n치즈를 찍어먹을 수 있을만큼 엄청 풍족하게 줘서 아주 굿!\\n총평\\n맛 ⭐️⭐️⭐️⭐️⭐️\\n기대 이상입니다\\n다른 수제버거 집보다 더맛있는것 같은데\\n왜 별로 각광을 못 받는지...\\n치즈 프라이즈로 꼭 변경을 해서 함께 드십시오\\n가격 ⭐️⭐️⭐️⭐️\\n나쁘지 않아요\\n수제 버거의 가격이 뭐 이정도 되는 것 같아용\\n재구매의사 100%\\n웨이팅 없고, 빠르고, 맛있고!\\n위치 그리고\\n집에서 즐길 수 있는 햄버거 놀이 추천합니다 위 사진 클릭하면 구매처로 이동\\n그리고\\n가장 최근에 올린 제 브이로그 한번 보세용\\n좋아요랑 구독은 사랑입니다 그럼 이만!\\n감사합니다 이 포스팅은 쿠팡 파트너스 활동의 일환으로, 이에 따른 일정액의 수수료를 제공받습니다'},\n",
       " 6: {'title': '여의도 중식 헤이웍by초류향 더현대 맛집으로 인정!',\n",
       "  'nickname': '거위',\n",
       "  'datetime': '2021. 10. 28. 14:00',\n",
       "  'content': \"여러분 안녕하세요:)\\n이번 주에는 아주아주 맛있는 중식을 먹고 왔습니다~\\n맛있는거 먹고 와서 기분 좋은 거위..\\n역시 전 거위(거대한 위) 입니다요 제가 이번에 다녀온 맛내미 맛집은!!!!\\n여의도 중식 헤이웍by초류향 더현대서울점 이라는 곳입니다!\\n여러분 여의도 더현대서울 가보셨나요~?\\n저는 이번이 두번째 방문이었어요,\\n더현대 자주 안가본 1인..\\n사실 전 백화점에 자주 가는 편은 아니라서,\\n(필요한 물건 있을때만 사러가는 편)\\n소비요정이 아닙니다.ㅎㅎㅎㅎ\\n더현대가 핫플 이지만 이번이 두번째 였어요!\\n이번에 좀 제대로 구경을 했어요,\\n예쁘게 해놔서 데이트 장소로도 좋았던 더현대!!\\n놀러갈만 하더라구요~ 더현대 안에서도 먹을거리가 참 많았지만,\\n전 이번에 중식이 넘 먹고싶어서\\n여의도 중식 헤이웍by초류향에 다녀왔습니다!!\\n알고보니 여의도 더현대 맛집으로도 유명하더라구요~\\n유명한덴 이유가 있자나요?\\n그래서 제가 ㅎ 검증하러 ㅎ 총총총 댕겨왔지요...호호호 여러분들 중식 좋아하시나요??\\n저는 진짜!!! 좋아한답니다:D\\n게다가 대만st 중식이라니...\\n더욱더 기대가 됐던 헤이웍by초류향 더현대서울점,\\n평소에 중국스타일 중식은 많이 먹어봤지만\\n대만스타일 중식은 자주 먹을 기회가 없었는데요~!\\n저는 대만 영화 볼 때, 자주 접했었어요\\n그래서 헤이웍by초류향에서 맛 볼 대만st 중식이 더욱 기대됐구요!! 더현대서울 돌아다니다보니 눈돌아가더라구요\\n맛있는 음식도, 디저트도 참 많았어요,\\n맘같아선 다 먹어보고 싶었지만..ㅎㅎ\\n갈때마다 하나씩 도장깨기 하고 오는걸로!!\\n더현대서울 지하 1층에 위치한 여의도 중식 헤이웍by초류향에 자리를 잡고\\n메뉴를 주문해보았습니다! 저희가 주문한 메뉴는 \\n1인정식 [파리머리볶음, 새우마파두부, 마늘새우, 공깃밥(무한리필)]\\n그리고 짬뽕쌀국수, 마지막으로 가지튀김 이었습니다!\\n1인정식 + 짬뽕쌀국수 + 가지튀김 !!\\n이렇게 두명이서 먹으니, 완전 배 터지게 먹었어요~\\n완벽한 조합이었구요 접시도 다 예뻤어요 ㅎㅎ 대만 여행 온 느낌~\\n와 여행 하니까, 대만 여행 갔던 것도 새록새록 떠오르구요!\\n이제 곧 해외여행 갈 수 있다는 생각에 설레기도 하구요~ 히히\\n아주 좋아요>.< 쨔쟌 메뉴 등장!!!\\n보자마자 와! 색감 너무 예뻐! 맛있어보여! 를 열심히 외쳤습니다,\\n볶음밥도 주문해볼까?\\n잠시 고민했었지만, 너무 많을 것 같아서 자제했어요 흐흐.. 여의도 더현대 맛집은 3대째 운영하는 중식당으로\\n올리브티비, EBS, 생생정보통 등에 다수 출연한 유의융 셰프님이 직접 운영하시는 매장이라고 해요!\\n어쩐지,, 달인의 향기가 난다했더니..!!!! 그랬더라구요~\\n다음에 친구들이랑 또 오려구요 ㅎ 그만큼 맛도 좋고 독특한 메뉴가 인상 깊었어요~\\n다른데서는 접하기 어려운 유니크한 대만 정식 느낌~ 너무 좋아요 짬뽕쌀국수도 어찌나 국물이 시원하고 얼큰하던지,\\n정식이랑도 아주 잘 어울렸어요!\\n튀김과도 환상의 짝꿍~ 가운데 보이시는 '마늘새우 토핑'은 모든 덮밥과 볶음밥에 어울리고 맛이 있어서,\\n단골들은 필수로 추가하는 사이드 메뉴라고 해요~\\n먹어보니 정말 왜 꼭 필수 주문해야되는지 알겠더라구요,\\n완전 맛나요~ 여의도 더현대 맛집 헤이웍by초류향 더현대서울점은\\n'건강한 중식'을 컨셉으로 꾸준히 천연소스를 개발하고, \\n시즌마다 새로운 메뉴를 선보이며 보다 다채로운 중식을 제공하는 음식점이라고 합니다,\\n그래서인지 건강에도 좋을 것 같다는 생각이 들더라구요,\\n먹으면서도 재료의 신선함과 아삭함이 인상깊었어요 제가 정말 좋아했던 가지튀김!!!\\n저 가지요리 정말 좋아하는데, 여러분은 어떠신가요?\\n가지가 매력있는 음식이더라구요,\\n아주아주 맛나죠 ㅎㅎ\\n게다가 튀김까지 입혀주니 캬~ 최고에요~\\n그렇다고 엄청 기름지지도 않았고 담백한 튀김이었어요,\\n자칫하면 느끼할수도 있는데, \\n여의도 중식 헤이웍by초류향 가지튀김은 전혀~ 느끼하지 않아서 참 좋았어요 여의도 더현대 맛집은 중국 국빈을 대접하는 국연요리를 하는 사부님께 배워온 레시피와\\n사찰음식의 레시피를 더해 유의융 셰프님만의 요리를 맛 볼 수 있는 곳이었어요,\\n그래서 맛있었구낭^.^ 다시 한번 상기시켰구요,\\n왠지 호텔식과도 잘 어울릴 것 같은 맛이었어요,\\n접시부터 음식의 맛, 멋, 분위기까지~ 고급스러우면서도 깔끔했답니다 이게 바로 중식의 매력인 것 같아요!!\\n1인정식 중에서는 파리머리볶음이 제일 좋았어요,\\n건강해지는 느낌 +  밥과 함께 먹으니 짱맛!!\\n저 이거 영화에서 본 음식이었는데 ㅎㅎ 항상 먹어보고 싶었거든요~\\n직접 먹으니 감회가 남달랐어요,\\n그리고 정말 맛있네요^_^ 사이다도 같이 곁들여 먹어주니.. 정말 최고\\n중식에는 전 탄산 필수에여!!!ㅋㅋㅋㅋㅋ 1인 정식에 공깃밥은 무한리필이니, 그 점 또한 마음에 들었구요,\\n오픈키친이어서 안심하고 믿고 먹을 수 있었어요~\\n백화점에 입점한다는 자체가 우선 위생적으로 보장됐다는거인데,\\n그와 더불어 오픈키친이라 위생적으로 아주아주 신뢰할 수 있었어요,\\n맛도 좋고, 깔끔하고, 음식도 유니크해서, \\n또 가고 싶은 여의도 중식 헤이웍by초류향 더현대서울점 이었습니다! 여의도 더현대 맛집 좋아요>.<\\n같이 간 친구도 맛있다고 좋아해줘서 행복한 저녁시간을 보내고 왔습니다!\\n더현대 나들이 아주아주 즐거웠어욤 히힛\\n  #여의도중식 #여의도더현대맛집 #헤이웍by초류향 #헤이웍by초류향더현대서울점 #더현대맛집\"},\n",
       " 7: {'title': '[여의도 더현대 맛집] 로바  - 회식하기 딱이야 125,000원 단독룸 디너코스B',\n",
       "  'nickname': '문썬\\n(sielle83)',\n",
       "  'datetime': '2021. 11. 30. 11:20',\n",
       "  'content': '로바 / 영등포구 여의대로 108 (여의도동 22) 더현대서울 6층\\n전화번호 02-3277-0652\\n영업시간 11:30-22:00 휴무 없음\\n12월에는 왠지 회식이 불가능해질 불길한 예감에\\n지난주 미리 송년회 회식을 앞당겨 치뤄버렸다\\n본의 아니게 내생애 첫 여의도 더현대 입성하게 됨 여의도 더현대 6층에 위치한 일식 다이닝 로바\\n청담동, 잠원동, 그리고 여의도 세 군데에 있음\\n더현대 말로만 들었지 실제 방문은 처음이었는데\\n길 한번 잘못 들었다가 한참 헤맬 뻔 했다 단독룸과 홀테이블 공간으로 이루어졌다는데\\n홀 공간은 어딘지 보지도 못했넴 디너코스A (165,000원)\\n디너코스B (125,000원)\\n두 코스로 주문하면 단독룸 예약 가능하다\\n우리는 법카가 계산할거니까 당당히 룸으로 뭅뭅\\n콜키지는 병당 30,000원 벌써 곳곳에서 연말 느낌이 나기 시작했다리  따뜻한 녹차와 함께 차려진 깔끔한 개인세팅 3종 쯔께모노와 간장\\n▼ 여의도 더현대 로바 디너 B코스 (125,000원/인) ▼ 가리비 카이센\\n가리비, 새우, 문어, 아귀간에\\n산뜻한 토마토 드레싱을 올린 해산물냉채 차돌우동 샐러드\\n참깨드레싱에 버무린 쫄깃탱글 냉우동 위에\\n차돌박이와  새싹채소를 잘 섞어먹는 샐러드\\n드레싱에 뭔가를 가미하셨는지 살짝 매콤한 끝맛이 킥  우니매생이스프\\n성게알이 좀 쓴 맛이 나서 아쉬웠지만\\n쫄깃한 조개살과 부드러운 매생이 그리고 따뜻한 국물\\n추운 날씨에 지친 몸을 녹여주기 좋은 중간 타이밍 사시미 8피스\\n참치속살, 광어, 방어, 아까미, 삼치, 관자, 문어\\n취향에 따라 다시마소금과 감태, 시소잎을 곁들이고\\n나의 원픽은 초된장소스에 버물버물한 광어지느러미! 전복스테이크\\n버터향 뿜뿜 나는 겉바속쫄 큼지막한 전복구이\\n찐득한 전복내장소스 쓱싹 묻혀먹으면 맛없기도 힘들고 새우&관자 탕수\\n알싸한 파채를 달짝지근한 어향소스에 잘 버무려서\\n새우, 관자, 죽순과 함께 싹싹 긁어먹기 바쁘다 계절생선구이\\n다른 후기들 보니 금태가 많이 보이던데 이날은 삼치\\n새콤하게 무친 생양파와 바삭한 양파칩까지 곁들이니\\n일반적인 생선구이도 요리로 업그레이드된 느낌  한우스끼야끼\\n마무리로 1인용 미니화로에 세팅되는 소고기 스끼야끼 고기와 당면, 버섯, 양파 등을 노른자에 적셔도 먹고\\n달달한 육수에 본연의 맛으로만 먹기도 하고 디저트\\n마무리 입가심으로 진한 바닐라아이스크림까지\\n회사 사람들 모두 만족해하던 2021년 송년회 회식 끗!\\nSNS에서만 봐오던 여의도 더현대를 처음 가본건데\\n아직 구석구석 둘러보진 못했지만\\n깔끔모던 프리미엄 일식집 로바 디너코스는\\n단독룸 좋아하고 고급 일식 좋아하는\\n여의도 넥타이부대들에게 좋은 옵션이지 않을까 싶다 여의도 맛집 로바 더현대 디너& 주류 메뉴판 ▼ '},\n",
       " 8: {'title': '더현대 맛집 냄비요리연구소 내돈내산',\n",
       "  'nickname': '알라미\\n(ariel_0402)',\n",
       "  'datetime': '2021. 12. 2. 13:00',\n",
       "  'content': '더현대 맛집 냄비요리연구소 내돈내산\\n몇일 전 다녀온줄 알았는데\\n알고보니 열흘이나 지났네 ㅋㅋㅋ\\n갑자기 추워진 날씨에 국물요리 생각나서\\n더현대 맛집 찾다가 발견한 냄비요리연구소 * 냄비요리연구소 더현대 서울\\n자세한 위치는 지도를 참고해 주세요 * 평일 저녁에 갔더니 여유롭고 좋았다.\\n웨이팅 있을까 싶었는데 없었고 바로 착석함\\n냄비요리연구소 다녀오신 분들의 글을\\n좀 읽어보다가 아 나도 소불고기냄비 먹어야지!\\n생각하고 방문한지라 바로 주문했다.\\n그녀와 나 모두 담백한맛으로 주문함 * 테이블에 앉으니 손 소독제 있었고\\n메뉴판이 보여서 찍어보았다.\\n더현대 냄비요리연구소 메뉴와 가격\\n고기와 야채 같이 추가할 수도 있는데\\n양 많은 내가 먹어보니 죽까지 먹으면\\n꽤 양이 많았으니 참고 * 1인 인덕션 설치되어있고\\n빈 그릇에는 취향껏 소스 덜어서 먹으면 된다.\\n깍두기는 친구에게 바로 전달함\\nㅋㅋㅋㅋㅋㅋㅋㅋㅋㅋㅋㅋ\\n죽 만들어먹는 밥 또한 양이\\n꽤 넉넉했다.\\n보이진 않지만 날계란 한 알도 같이 있음 * 그냥 냄비를 전달해주셔서\\n이거 강불로 끓이면 되나요? 하고 여쭤봄\\n팔팔 끓이고 어느정도 끓어오르면\\n고기 익을때까지 중약불로 낮춰서 조리하기\\n야채도 꽤 많았다 * 다 익으면 불을 낮추거나 끄고\\n취향껏 먹으면 되는데 껐다가 중간에 식으면\\n다시 인덕션 온도 높혀서 데우면 되니까 편함\\n당면도 푸짐하게 있고\\n버섯부터 청경채, 당근 등 다양한 야채가\\n골고루 들어있었음\\n육수는 짭짤하니 내 입맛엔 맞았는데\\n같이간 친구는 조금 센 느낌이라\\n물 붓고 더 끓여서 먹음 ㅋㅋㅋ * 칠리소스 콕 찍어서\\n따뜻하게 푹 익은 야채랑 먹으니 너무 맛있더라\\n친정집 갔다오고 위가 더 늘어서\\n싹싹 긁어먹는 내 모습보고 친구가 놀람\\nㅋㅋㅋㅋㅋㅋㅋㅋㅋㅋㅋㅋ * 국물이 좀 자박하게 많이 남아서\\n죽 만들 때 국물 덜어낼 그릇이 없길래\\n밥그릇같은거 요청함\\n죽을 만들어먹는 단계가 있다면\\n남은 국물이나 건더기 건져둘 대접도\\n같이 주시면 더 좋을 것 같음\\n약간 이런 후식 죽 (?) 느낌 만드는거에\\n혼자 자부심 넘쳐서 순식간에 만들어먹었는데\\n내가 만든거에 또 나 혼자 감탄\\nㅋㅋㅋㅋㅋㅋㅋㅋㅋㅋㅋㅋㅋ\\n배가 터질 것 같아도 다 먹고 나왔다.\\n추운 날 따뜻한 국물요리 먹기에 좋았던 곳'},\n",
       " 9: {'title': '더현대 서울 맛집모음 \"마츠노하나, 수티, 번패티번, 카페\"',\n",
       "  'nickname': '충만',\n",
       "  'datetime': '2021. 12. 24. 0:00',\n",
       "  'content': ' 음식점, 카페 모음\\n더현대 서울은 집에서 버스 하나만 타면 한 번에 갈 수 있어 부담 없이 가는 곳 중 하나가 되었다.\\n그동안 방문하면서 먹고 마셨던 것들을 기록해 본다. 더현대는 제품군이 고가여서 막상 가면 살 건 없고 보통 지하 1~2층에서 주로 있는다. 그래도 구경하는 재미가 있는 곳이다. 🍤\\n일본식 덮밥집\\n{  마츠노하나  }\\n더현대 서울의 지하 1층에 위치한 일본식 덮밥집이다. 텐동을 기본 메뉴로 하고 있으며 간장 연어, 호르몬, 스테이크 등 돈부리 메뉴도 있다. 텐동은 먹으면 먹을수록 느끼해서 다음엔 다시는 안 먹겠다고 다짐하면서도 한 번씩 생각나는 음식이다. 나는 쇼유사케에비텐동을 주문했다. 텐동만 먹으면 너무 느끼할 것 같아서 간장 연어가 함께 있는 텐동을 골랐다.\\n새우, 단호박, 가지, 연근, 김, 꽈리고추, 온천 계란 튀김이 올려져 있다. 접시에 튀김을 덜어놓고 테이블에 준비된 소스와 함께 먹으니 간이 잘 맞아서 맛있다. 안에 있던 간장 연어와 같이 먹어서 그런지 평소 보다 덜 질렸다. 간장 연어 맛있었다. 그동안 연어가 먹고 싶었다는 친구를 위해 주문했는데 전날 연어를 먹었던 나역시 맛있게 먹었다. 친구는 스테이크동을 주문했다. 스테이크동은 계란 노른자와 양파, 파, 김튀김이 올려져 있었다. 고기도 큼직큼직하게 썰어줘서 맛있게 먹었다. 🍗\\n코리안 BBQ 전문점\\n{  수티  }\\n유독 치맥이 먹고 싶던 날이다. 다른 곳 찾기는 귀찮고 더현대에서 해결하고 싶었다. 아마 유일하게 치맥을 파는 곳이 아닐까. 솔직히 튀김옷 입힌 치킨을 먹고 싶었는데 할 수 없이 시킨 수티 로스트 치킨이었다. 스텔라 생맥주도 함께 주문했다. 통닭도 예쁘게 다리를 꼬고 있는 게 군더더기 없이 깔끔했던 수티 로스트 치킨의 첫인상이다. 처음에 음식이 나왔을 때 둘이서 먹기엔 부족한가 싶었지만 생각보다 양이 많았다.  별 기대 안 했는데 먹을수록 괜찮다고 생각된 곳이다. 겉바속촉! 치킨이 퍽퍽하지 않고 부드러워서 좋았다. 그리고 안에 찹쌀밥까지. 완벽했다.\\n그리고 고추장 소스도 맛있었다. 양념치킨 소스랑은 좀 다르다. 고추장 맛이 나는 매콤한 소스? 한국적인 맛이다. 🍔\\n수제버거\\n{ 번패티번 }\\n지상 5층, 블루보틀 바로 옆에 위치한 수제 버거집 번패티번에 다녀왔다. 이곳의 가장 큰 장점은 지상 5층에 있다는 게 아닐까. 지하 1,2층에 있는 식당과 달리 확 트이고 식물 많은 곳에서 좀 더 여유롭게 식사를 할 수 있는 게 제일 좋았다. 우리는 번패티번 버거 2개와 트러플머쉬룸버거를 주문했다. 여기에 프렌치프라이와 음료가 포함된 세트메뉴 2개를 추가했다.  음식 받자마자 맛있어 보이는 햄버거 비주얼을 보니까 군침 돈다. 안에 들어간 양파, 토마토, 양상추도 신선해 보인다. 번이 진짜 부들부들하니 너무 맛있었다. 패스트푸드 햄버거에서는 느낄 수 없는 번의 맛이다. 오랜만에 담백하고 깔끔한 햄버거를 먹었다. 패티는 살짝 누린내가 나는데 나는 누린내를 좋아해서 맛있게 잘 먹었다.  트러플향은 별로 나진 않아 아쉬웠지만 크림 버섯 소스가 맛있어서 만족스러웠다. 확실히 맛이 강해서 이거 먹고 번패티번 버거를 먹으면 아무 맛도 안 난다. 그래도 나는 담백했던 번패티번 버거가 더 마음에 들었다. 프렌치프라이가 제일 맛있었다. 두께, 식감 모두 좋았다. 테이블에 큰 케챱, 머스타드통이 비치되어 있어 소스 넉넉하게 뿌려먹을 수 있는 것도 마음에 든다.  ☕️\\n지상 2층 카페\\n{  카페 콘디토리오븐  }\\n더현대 서울의 지상 2층에 콘디토리오븐이라는 카페가 있는데 난간 쪽 자리에 앉으면 1층으로 물이 떨어지는 폭포와 그 위를 볼 수 있있다. 개방된 곳에서 답답하지 않고 자연물을 보며 커피를 마실 수 있어서 좋아하는 카페 중 하나다. 단, 자리가 나지 않을 때가 많다. 나는 여기서 아이스아메리카노와 밀크티를 주문했는데 밀크티 너무 향긋하니 맛있었다. 엄청 달지도 않고 고급스러운 밀크티 맛이었다. ☕️\\n지상 6층 카페\\n{  카페 이탈리  }\\n더현대 서울의 지상 6층인 탑 측에도 이탈리 카페가 있다. 이탈리는 카페와 레스토랑, 마켓까지 있다. 우리는 아메리카노와 시그니처 크림 라떼를 주문했다. 시그니처 크림라떼 엄마 드리려고 산 건데 너무 맛있어서 내가 다 마셔버렸다. 크림이 달달한 게 계속 마시게 되는 맛이다. 원래 커피 되게 천천히 마시는 편인데 빠르게 마셔버렸다. 다음에 또 시켜 먹을 듯.\\n그리고 여기는 개방감의 끝판왕이다. 매장에 너무 사람이 많고 시끄러워서 다른 자리로 옮겼다. 지상 6층은 음식을 들고 오면 앉아서 먹을 수 있게 만들어 놓은 공간이 있어서 너무 좋다. 이런 자리가 한적하고 전체 전망을 볼 수 있다. 근처에 이탈리 마켓도 있는데 이탈리아 식료품들을 파는 것 같다. 신기한 것들을 구경하는 재미가 있다. 귀여운 체리 쨈과 와인 컵을 구매! 요 작은 체리 쨈은 내가 생각한 생과일 체리 맛보다는 체리 사탕 맛에 가까워서 아쉬웠지만 좋은 도전이었다. 이거는 나 혼자 집에서 야금야금 마시려고 산 작은 와인 컵인데 생각보다 너무 드라이해서 아쉬웠지만 홀짝홀짝 마시기엔 좋았다.  '},\n",
       " 10: {'title': '더현대 서울 지하 1층 맛집과 카페들(Feat. 카페 레이어드)',\n",
       "  'nickname': '여행작가 Sue\\n(cutetnwls)',\n",
       "  'datetime': '2021. 9. 6. 14:00',\n",
       "  'content': '사실 인기가 좀 시들해지면 가려 했던 여의도 현대백화점, 더현대 서울.\\n그런데 좀처럼 인기가 시들지 않더라고요.\\n그래서 사람 많은 곳을 싫어하지만 일단 가보기로 하고\\n아는 언니와 이곳에서 만나기로 했었어요.\\n워낙 백화점 내에 괜찮은 맛집, 카페들이 많다고하니\\n은근 기대가 되더라고요. 평일 이른 시간인데도 백화점에는 사람들이 많더라고요.\\n점심시간 지나면 좀 한가하겠지, 하는 생각은 저의 착각!\\n하아.. 여긴 오픈 오택만이 살길이 아닌가 싶을 정도였어요. 더현대 서울에는 맛집들이 꽤 많고, 푸드트럭 같은 컨셉의 식당들도 꽤 있었지만\\n일단 언니와 전 조금 조용한 곳에서 여유롭게 식사를 하고 싶더라고요.\\n그래서 찾아간 와인웍스는 한쪽에서는 와인을 판매하고\\n다른 한쪽에서는 와인과 함께 식사를 판매하고 있었는데\\n저희는 이곳에서 점심을 먹기로 했어요. 해산물 토마토 리소토. 26,000 원\\n문어를 비롯한 다양한 해산물과 토마토가 들어간 리소토인데\\n붉은색의 리소토가 나올 줄 알았는데 그렇지 않아서 조금 당황했어요.\\n맛은 역시 기대 이상 너무 부드럽고 고소하면서도 맛나더라고요. 해산물 토마토 뚝배기 파스타. 24,000 원\\n검색해보니, 와인웍스에서 가장 인기 있는 메뉴더라고요.\\n먹어보니 감칠맛 나는 얼큰한 파스타 맛이\\n왜 인기 있는지 알겠더라고요. 테일러 커피는 연남동과 홍대에서도 꽤 인기가 많아서\\n홍대점을 비롯해 서교점, 연남 1, 2호점이 줄줄이 있을 정도로\\n그 맛을 인정받은 카페 중 하나에요.\\n개인적으로 저는 테일러의 라테를 좋아하는데요. 정말 맛있는 카페지만\\n이미 아는 사람에게만 유명한 곳이라 그런지\\n다른 카페들보다는 자리가 여유 있는 편이었어요.\\n혹, 지나가다 보면은 꼭 한번 들러서 라테 한번 드셔보세요.\\n정말 고소하면서도 맛나고 양도 가득해요. 스콘이 맛있기로 유명한 카페 레이어드는\\n이미 그 인기로 안국역은 물론 연남동 그리고 더현대 서울에도 여전히 그 인기를 실감할 수 있었어요.\\n사실 먹을 때마다 느끼는 거지만 왜 여기가 스콘이 맛있기로 유명한 건지는 솔직히 잘은 모르겠어요. 가득 진열된 케이크들.\\n백화점 지하에다가 사람들이 많이 지나가는 곳이라\\n조금은 비위생적인 건 아닌가도 싶지만\\n일단 회전율이 빠르니 믿고 먹어보기로 했어요. 스콘 종류가 정말 다양한데\\n저는 버터가 올려진 버터 스콘을 주문했어요.\\n하아... 나중에는 커피와 함게 느끼해서 혼났네요.\\n그냥 케이크로 고를걸... 커피잔도 예쁘고 직원분들도 친절해서 마음에 들었던 카페 레이어드.\\n저처럼 자리에 앉아서 드시는 분들도 있었지만\\n대부분이 테이크아웃으로 포장해가는 분위기더라고요. 레이어드는 아직 연희동점은 가보지 못했고\\n안국역점에 오픈한지 얼마 되지 않았을 때 다녀왔었는데\\n꽤 괜찮았던 곳으로 기억돼서 다시 가봤는데\\n역시 여전히 시끄럽지만 분위기가 예쁘고 감성적인 건 여전하더라고요. 엘리베이터를 타고 지상 5층으로 올라가면\\n실내 가든이 보이는데\\n여기가 정말 포토 포인트더라고요.\\n바로 저번 주 다녀왔을 때는 디올이 오픈해서 더 감성적인\\n마치 유럽의 예쁜 디올 매장에 온 것 같이 꾸며졌더라고요. 하늘이 유리로 되어있어서 채광이 꽤 좋았는데\\n제대로 된 인증 사진은 아직 못 찍어봤어요.\\n다음에 오픈 어택해서 제대로 찍어봐야겠다며. 잠시 5층을 살펴봤으니\\n다시 지하 1층으로 가서\\n어떤 곳들이 있는지만 한번 살펴볼게요, 여기가 바로 푸드 트럭처럼 된 곳인데\\n햄버거와 떡볶이 등 다양한 메뉴들을 판매하는 푸드 트럭이 많아서\\n푸드코트 한번 컨셉 제대로 잡았다는 생각이 들더라고요. 한때 정말 핫했던 에그슬럿.\\nLA에서 건너온 맛난 샌드위치 점이죠. 성산에 본점이 있는 리치몬드 제과점.\\n밤파이와 까눌레가 유명한 곳이죠. 크로와상과 식빵이 맛있기로 유명한 폴앤폴리나도 있네요. 개인적으로 좋아하는 제과점 중 한 곳인\\n파리 크라상도 보이고요. 카멜 커피도 보이는데\\n여기는 기본 웨이팅이 있는 곳이라 일단 구경만 해둡니다.'},\n",
       " 11: {'title': '더현대 맛집, 번패티번 카멜커피 아기랑 핫플투어',\n",
       "  'nickname': '유이\\n(kallilogue)',\n",
       "  'datetime': '2021. 11. 19. 9:57',\n",
       "  'content': '예전부터 넘 가보고 싶었던 여의도 더현대 서울\\n외쿡 분위기가 난다고도 하고\\n각종 핫플도 모여있다고 하고 ㅋㅋㅋ \\n아무튼 넘나리 가고싶었는데... 코시국이 무서워서 감히 엄두도 못냈다 ㅋㅋㅋ\\n어른이면 마스크 쓰고 가겠는데, 우리집은 상아가가 있었고요...\\n그 상아가가 자라서 이제 돌아기가 되었다\\n돌쯤 되면 한번쯤 가봐도 되지 않겠어 여보..? 하고 남편을 꼬셔봄\\n마침 평일 휴가라, 엄청 가기 싫어하는 남편탱 데리고 한번 다녀와봤다 다행이 오픈빨도 떨어지고 평일이라 그런지 사람이 정말 많지 않았다!\\n비까지 와서 그런지 ㅋㅋㅋ 여유로웠던 더현대 서울.\\n주차는 더현대 어플 받아서 했는데\\n여기 주차비 넘나 비싼것...★ 다행이 어플에 무료주차권 들어와서 그걸로 무료로 했다.\\n급 오는거라 일단 가긴 가는데 어디가 핫플인지 몰라...\\n차에서 검색하면서 오려고 했는데 카시트 빤짝쓰 울어대고요...\\n결국 대충 더현대 맛집 검색했더니 번패티번 나오길래 그냥 여기로 갔다  외국 느낌의...예쁜 건축물...\\n음..\\n내 눈에는 그냥 타임스퀘어랑 비슷?\\nㅋㅋㅋ 큰 차이는 잘 못느꼈따 평일이지만 점심시간이라 그런지 번패티번 가니까 그래도 사람이 좀 있더라\\n여보 뭐 먹을거야...? 아무거나!!!!\\n아기 보느라 대충 아무거나 주문하라는 남편탱\\n아무거나가 젤 어려운디... 결국 내가 먹고싶은거 두개 주문해봤따 번패티번 버거랑 베이컨 치즈버거 주문\\n감튀는 약간 버거킹의 진화형 느낌 하나는 셋트 하나는 단품으로 했더니 양은 딱 맞고 좋았따\\n맛도 좋았음\\n근데 막입이라 그런지 쉑쉑이랑 큰 차이를 모르겠고\\n굳이 따지자면 쉑쉑 쉑스택이 더 맛있었던 거 같은..?\\n근데 뭐 번패티번도 맛있었다\\n베이컨 치즈버거는 평범하게 맛있었고 번패티번 버거가 좀 더 맛있었던..\\n결론은 = 맛있음\\n근데 평범하게 맛있고 어마무시하게 핫플이다 여기는 꼭 가야해!!! 이런거슨 아님 여기 좀 특이한게 빵이 브리오슈번이라고\\n그래서 보들보들 맛있었다 부드럽고 감튀도 냠냠\\n따숩게 바로 나온거 먹으니까 존맛탱이었는데\\n문제는 우리가 아가랑 같이 있었다는거지...\\n땡깡을 부리기 시작하는 울 딸래미 덕분에\\n진짜 5분 흡입하고 나왔다 ^ㅠ^... 아기랑 같이 외식하는건 정말 사치...\\n맛을 느낄수 없고요? 그냥 공복만 채웁니다... 옴뇸뇸\\n그래도 맛있었다\\n또 먹고 싶네 츄릅 번패티번 있었던 층이 아기용품 있던 층이라\\n같이 돌아다니면서 구경도 하고\\n코로나 무섭다고 유모차는 급 레인커버 씌워서 돌아다님 ㅋㅋㅋ\\n사실 코시국 터지고 아기가 마스크를 하기 싫어해서\\n뭔가 커버가 있지 않으면 아무래도 실내인 쇼핑몰은 돌아다니기가 좀 그렇더라\\n그래서 오래 놀지는 못했음 그래도 야무지게 구경하고 사진도 찍어줬다\\n더현대 맛집 핫플 검색하니 가장 많이 나왔떤 카멜커피도 가려고\\n어플 받아서 웨이팅 걸어놨는데\\n웨이팅 대기시간 1시간...★\\n그래서 여기저기 돌아댕기면서 놀다가 지하로 갔음 그리고 겨우 시간맞춰 내려갔는데 여유롭게 갔다가 \\n잠깐 식품코너에서 아기 과자 산다고 어플 안 보고 있었더니\\n순식간에 우리 차례 끝나버렸고요?\\n하...존트 황당쓰 ㅠㅠㅠ 다행이 바로 앞에 있었는데\\n아기띠 하고 간 남편이 우리 번호 말했더니 사람이 그닥 많지 않은 평일이라 그런지\\n그냥 받아주셨따...ㅋㅋㅋ 여기 가려고 한시간동안 방황했는데 못갔으면 넘나 억울할뻔 주문하고 나서도 만드는 데 까지 한 10분정도 기다렸던 거 같다 번호표 받고 앞에서 대기하기\\n울애긔 마스크 잘 쓰고 있는것처럼 보이지만\\n아빠가 잡고있는 손 놓으면 바로 벗어버릴 기세 ㅠㅠ\\n코로나만 없어도 진짜 육아 훨씬 더 쉽겠다 진쯔 하나는 플랫화이트\\n하나는 젤 유명한 시그니처 카멜커피\\n가격은 둘 다 5500원\\n가격이 좀 싸게 느껴졌다 했더니 사이즈가 진짜 스몰하다 ㅋㅋㅋ 바로 테이크아웃해서 일단 차타고 차에서 옴뇸뇸\\n음... 왜유명한지 잘 모를\\nㅋㅋㅋㅋㅋ 번패티번이 차라리 더 나았다\\n굳이 웨이팅 하고 먹을 맛은 아닌 듯?\\n사실 이제 핫플투어 해도 뭔가 항상 만족했던 곳은 별로 없는듯\\n기다림의 기대심리때문에 그런가...그냥 쏘쏘?\\n암튼 아기랑 다녀온 첫 여의도 더현대 서울 핫플투어\\n한동안은.......그닥 안가는걸로......★ '},\n",
       " 12: {'title': '여의도 더현대 맛집 중식 헤이웍 by 초류향',\n",
       "  'nickname': '달달비타민',\n",
       "  'datetime': '2021. 11. 18. 22:06',\n",
       "  'content': '서방이 다시 여의도에서 일하다보니\\n여의도 맛집들 찾게 되고\\n자연스럽게 더현대를 자주 가게되네요 :) 인공폭포 옆에 크~은 백곰도 보이고\\n눈 내린듯한 트리도 보이고\\n새하얗게 겨울 겨울해요  여의도 더현대 맛집들 모여있는\\n지하 1층 테이스티 서울에도\\n크리스마스 분위기 물씬~\\n최대 규모 식품관으로 다양한 메뉴들에\\n유명한 맛집들이 입점해있고\\n사람은 많지만 다른 백화점 식품관이랑 다르게\\n답답하지 않고 분위기 좋아서\\n저녁 데이트로 괜찮아요 ㅎㅎ  초류향은 1989년에 문을 연 이후\\n3대째 쭈욱 운영하고 있는\\n을지로의 유명한 중식당인데\\nEBS, 생생정보 등 방송에도 많이 출연하신\\n중화요리 전문 유의융 셰프님이 운영하는 곳이에요\\n‘건강한 중식’ 컨셉으로\\n꾸준히 천연 소스와 새로운 메뉴들을 개발해\\n다채롭고 맛있는 중식을 제공한다고 하는데\\n헤이웍 by 초류향이란 이름으로\\n더현대서울에서 캐쥬얼하게\\n여의도 중식 맛 볼 수 있어서 좋아요! 바 테이블 곳곳에 메뉴가 있어서\\n편하게 앉아서 고르고\\n옆쪽 카운터로 가서 주문하면 돼요\\n요즘 워낙 음식점 위생 문제가 많이 생겨서\\n밖에서 사먹을 때 더 예민해졌는데;;\\n바 테이블에 앉으니 화려한 웍질과 함께\\n 음식 만드는게 다 보여서\\n깔끔하게 안심하고 먹을 수 있었죠 ^-^  여의도 중식 맛집\\n헤이웍 by 초류향 메뉴\\n대만 여행을 다녀온 사람이라면\\n초류향에서 반가운 요리들을 볼 수 있는데\\n처음에 이름 보고 응?! 파리머리?!?!? 했지만\\n헤이웍 by 초류향 파리머리 볶음이\\n딱 대만의 유명한 밥도둑 파볶음 비주얼이길래\\n바로 먹으러 온거예요 ㅋ 음식들 받자마자 여행온 듯\\n맛 보기도 전에 기분 좋았다능~ 밥도둑 1인 정식\\n15000원\\n파리머리볶음, 새우 마파두부, 마늘새우까지\\n초류향에서 인기있는 메뉴를 모아모아\\n한번에 다 맛볼 수 있는 정식이라니\\n이건 완전 땡큐잖아요 후훗  기본으로 나오는 달걀국은\\n짜지않아서 좋았고\\n심지어 공깃밥은 무한 리필인데\\n나올 때부터 이미 양이 많아서\\n리필이 필요 없더라구요~ 파리머리 볶음\\n꺄악~ 이게 얼마만인지!!!\\n보자마자 대만 여행이 떠오르면서\\n서방한테 이거 진짜 맛있다고\\n꼭 내가 만든 것처럼 자랑한 ㅋㅋㅋㅋㅋ 돼지고기, 마늘종을 볶은건데\\n한국인이 좋아하는 대만 음식 중 하나로\\n먹어본 사람은 다 아는 찐 밥도둑이에요 여의도 더현대 맛집 헤이웍 by 초류향에는\\n청양고추가 같이 들어있어서\\n밥 위에 올려서 먹으면 매콤짭조름하게\\n대만에서 먹었던 것 보다 더 맛있맛있~  새우 마파두부\\n중식 밥도둑에 마파두부가 빠지면 섭하쥬~\\n올리브 기름으로 만든 고추기름을 써서\\n더 건강한 느낌의 마파두부인데 몽글몽글 부드러운 두부에\\n통통한 새우도 들어있고\\n1인 정식이라고 하기에는 진짜 양 많아서\\n이 밥도둑들~ 밥을 얼마나 먹으라는건지\\nㅋㅋㅋㅋㅋㅋㅋㅋㅋㅋㅋ 향신료 맛이 나면서\\n이국적인 맛을 제대로 느낄 수 있는데\\n마파두부 좋아하는 서방\\n다른데랑 맛이 다르다면서 엄청 잘 먹더라구요 :) 마늘새우\\n처음 보는 큼직한 새우 비주얼에\\n우와~ 했는데\\n초류향의 시그니처 새우요리로\\n헤이웍 by 초류향에서는\\n볶음밥이나 덮밥에 토핑으로 추가 가능한\\n인기 사이드 메뉴예요 오동통한 새우살에\\n튀김옷 완전 바삭바삭\\n그 위에 마늘 플레이크가 듬뿍 뿌려져있는데\\n요거요거 독특하게 맛있어서\\n진짜 꼭 먹어봐야해요  동파육 볶음밥\\n13000원\\n새우 볶음밥이랑 살짝 고민하다가\\n동파육 맛 궁금해서 주문~ 사실 예전에 대만에서\\n유명한 동파육 맛집 찾아갔을 때\\n넘 짜고 질겨서 실망한 기억이 있는데…\\n헤이웍 by 초류향 동파육은\\n고기 부드럽게 간도 딱 맞았어요 듬뿍 올려진 날치알은\\n꼭 캐비어 같아 보이는 ^^; 날치알 톡톡 터져 식감 좋고\\n고소고소하게 넘 맛있어요!\\n다른 메뉴 다 맛있었지만 이 동파육 볶음밥은\\n진촤 내 스따~일~~  가지튀김\\n9000원\\n마늘새우만큼 추천 많은 메뉴라\\n맛을 안 볼 수가 없었던 가지튀김 큼직한 가지 조각들이\\n보기만해도 노릇노릇 바삭하게\\n잘 튀겨졌는데 특제 소스에 찍어먹으면\\n완전 겉바속촉촉촉~\\n서방이랑 둘 다 물컹거리는 가지 별로 안좋아하는데\\n이건 너어어무 맛있어서\\n또 먹고 싶을거 같다면서\\n접시 싸악 비웠답니당 ㅋㅋㅋ 여의도 더현대 맛집 헤이웍 by 초류향\\n부담없이 먹을 수 있는 여의도 중식으로\\n메뉴들 다 맛있어서\\n자주 찾아갈 것 같아요 :D * 이 글은 스토리앤미디어를 통해 본 업체에서\\n서비스만을 제공받아 솔직하게 작성된 후기입니다.'},\n",
       " 13: {'title': '여의도 더현대 맛집, 여의도중식 헤이웍by 초류향 별미네요!',\n",
       "  'nickname': '찡긋\\n(redcherry88)',\n",
       "  'datetime': '2021. 11. 15. 22:37',\n",
       "  'content': \"안녕하세요. 찡긋입니다. \\n여전히 가장 핫플레이스! 더현대서울. \\n주말에 남편이랑 슝- 가서 놀다가 다녀온 곳. \\n여의도 더현대 맛집으로 소문난 \\n헤이웍 by 초류향 을 다녀왔는데요. \\n여기 항상 궁금했던터라 먹어보고 싶었어요. \\n오늘 꼼꼼하게 리뷰 남겨볼게요.  더현대서울 지하1층에 위치하고 있는 헤이웍 입니다. \\n푸드코트 공용식탁에서도 먹을 수 있는 곳으로, \\n자리 먼저 잡고 헤이웍에 주문하러 갔습니다. \\n저는 1인정식, 짬뽕쌀국수, 가지튀김 \\n이렇게 주문을 했고요. \\n주문한 음식이 나오면 저에게 전화를 주시더라고요. \\n그러면 픽업해서 자리에서 먹으면 됩니다. \\n헤이웍은 3대째 운영하는 중식당으로 \\n올리브티비, EBS, 생생정보통 등에\\n 다수 출연한 유의융 셰프님이\\n 직접 운영하시는 매장이라고 해요.  저희는 바로 옆에 있는 다찌에 자리를 잡았어요.\\n역시 쾌적하고 깔끔한 더현대서울. \\n점심 때라서 그런지 사람들이 정말 많았습니다. \\n특히 헤이웍은 워낙 인기 매장이라 대기도 조금 했어요~  헤이웍은 '건강한 중식'을 컨셉으로\\n 꾸준히 천연소스를 개발하고, \\n시즌마다 새로운 메뉴를 선보이며\\n 보다 다채로운 중식을 제공하는 곳입니다. 헤이웍by초류향은 \\n중국 국빈을 대접하는 국연요리를 하는 사부님께\\n 배워온 레시피와 사찰음식의 레시피를 더해\\n 유의융 셰프님만의 요리를 선보입니다.  \\n여러가지 메뉴들이 있는데, 하나하나에서 \\n대만의 향기를 느낄 수 있었습니다.  주문하고 바로 조리에 들어간 후\\n뜨끈뜨끈하게 나온 메뉴들 입니다. \\n먼저 가지튀김과 특제소스, \\n그리고 짬뽕쌀국수가 나왔고요.  그리고 가성비 좋기로 소문난 \\n헤이웍 1인정식 입니다. \\n공기밥은 무한리필 된다는 것도 메리트!! \\n1인정식은 파리머리볶음, 새우마파두부,\\n마늘새우, 공깃밥 구성 입니다. \\n가성비가 아주 좋았고, 여러가지 다양하게 \\n요리를 먹을 수 있는 것도 장점이에요.  1인 정식 중에서 가장 눈에 가는 메뉴는 \\n역시 파리머리볶음 인데요.\\n마늘쫑을 볶아서 나오는 요리인데, \\n요거 먹어보니 아주 밥도둑이 따로 없더라고요.  그리고 뜨끈한 국물이 있으면 좋겠다고 \\n생각해서 주문한 빰뽕쌀국수 입니다. \\n푸짐한 해산물이 들어간 깔끔하고 얼큰한 \\n짬뽕이라고 보시면 됩니다.  그리고 워낙 중화권 대표메뉴라고 \\n할 수 있는 가지튀김도 인상적이었습니다. \\n바삭한 식감의 튀김옷, \\n그리고 속에는 부드러운 가지가 들어있어서 \\n겉바촉촉으로 먹을 수 있는 별미요리 입니다.\\n  가지 튀김은 뜨끈할 때 먹어야 \\n본연의 바삭함과 부드러움을 느낄 수 있죠. \\n그래서 음식 나오자마자 \\n가지튀김부터 옴늉뇽 하고 맛있게 먹었습니다.  소스를 찍어먹는게 차별점이 있는 것 같아요. \\n중국식 가지볶음은 끈적한 소스에 넣고 \\n볶은 것이 매력적인데요. \\n대만식 가지는 튀긴 후에 \\n소스 찍먹해서 먹는 것이 차이가 있더라고요. \\n확실히 아주 뜨끈하고 바삭해서 맛있더라고요. 특제소스에 찍어서 먹는 것 강추! \\n그리고 개인적으로는 1인정식을 \\n함께 주문한다면, 마파두부소스에 \\n찍어서 먹어보시는 것도 추천 합니다. \\n여튼 아주 바삭바삭하면서도 \\n속이 촉촉한 가지튀김을 제대로 느낄 수 있어요. 그리고 함께 곁들여 먹은 짬뽕입니다.\\n해산물이 일단 마음에 들었는데, \\n새우, 오징어 등 신선한 해산물이 들어있습니다.  오징어와 낙지가 들어가는데 \\n신선하고 통통한 식감이 마음에 들었구요.  일반 짬뽕면이 아니라 쌀국수 입니다. \\n숙주도 가득 들어있어서, 굉장히 시원 합니다, \\n너무 맵지 않고, 얼큰하다고 느낄 정도. \\n맵찔이들도 안심하고 먹을 수 있습니다. 1인 정식도 참 맛있었는데요. \\n새우마파두부 입니다. \\n개인적으로 마라소스의 맛이 느껴져서 \\n굉장히 맛있다고 생각한 메뉴 입니다. \\n밥에 슥슥 비벼 먹으면 밥도둑이 됩니다.  독특한 파리머리볶음 인데요. \\n마늘쫑, 고기, 청양고추 등의 야채와 \\n함께 짭조름하게 볶아져서 나온 메뉴 이구요. 마늘새우도 함께 나오는데, \\n요게 먹으면 먹을수록 별미 이더라고요.  바삭바삭한 새우에 크리스피한 마늘이 \\n뿌려진 메뉴 입니다. 맛있어요 :)  파리머리볶음은 넘 맛있어요. \\n덕분에 남편이랑 밥 한공기 더 리필했어요~ \\n워낙 맛있어서 계속 먹게 되는 \\n중독성이 짙은 메뉴 입니다.  더현대서울에서 맛있는 음식 찾으시면 \\n추천하고 싶은 대만 이색맛집 헤이웍 입니다. \\n주문과 동시에 조리에 들어가기 때문에 \\n딱 먹을 때 따끈따끈한 요리 맛을 \\n느낄 수 있어서 너무 좋았던 곳 입니다. \\n더현대맛집 갈 일이 있으면 헤이웍 \\n다시 가보려고요. 만족도 높았습니다 ><  FOOD   \"},\n",
       " 14: {'title': '여의도 더현대 맛집 헤이웍by초류향 중식 추천',\n",
       "  'nickname': '철새양',\n",
       "  'datetime': '2021. 11. 11. 11:42',\n",
       "  'content': \"여의도 더현대 맛집 중식 찾고 \\n계시다면 초류향 어떠세요?\\n전국의 맛집이 다 모여 있다는 \\n더현대서울 중에서도 손꼽히는 중식 맛집,\\n초류향 후기 함께 보아요:)\\n  초류향\\n헤이웍by초류향 더현대서울 백화점 \\n포토제닉한 더현대서울 속 맛있는 중식 \\n 초류향은 지하 1층에 위치해 있어요. \\n식당들이 모여 있는데, \\n고객들은 자유롭게 자리를 선택하여\\n식사할 수 있는 시스템입니다. \\n어느 자리든 인테리어가 예뻐서\\n먹기 좋은 곳이었어요. \\n초류향은 '헤이웍 by 초류향'이란\\n이름으로 자리하고 있더라구요. 건강한 중식을 컨셉으로 꾸준히 천연소스를 \\n개발하고 시즌마다 새로운 메뉴를 제공하여 \\n다채로운 중식을 경험할 수 있는 곳입니다. \\n3대째 운영하는 중식당으로 올리브티비, \\nEBS, 생생정보통 등 다수 영상에 출연한\\n유의융 셰프님이 직접 운영하시는 매장이랍니다.  바 테이블에 앉으시면 요리가 \\n만들어지는 과정도 직접 보실 수 있어요.  메뉴로는 이렇게 다채로운 선택지가 있습니다.\\n파리머리 볶음 덮밥은 마늘쫑, 돼지고기, \\n청양고추를 매콤 짭조름하게 볶은 덮밥이에요. \\n마파두부 덮밥은 올리브 기름으로 만든\\n고추기름을 쓴 마파두부 덮밥이구요. \\n마늘 새우는 마늘 플레이크 베이스의\\n건식 새우 요리입니다. \\n저는 우선 이 세 가지 메뉴를 한번에 \\n즐길 수 있는 <밥도둑 1인 정식>을 골랐어요.  이렇게 모형이 마련되어 있었는데요. \\n밥도둑 1인 정식은 이렇게 파리머리 볶음, \\n새우 마파두부, 마늘새우, 공깃밥 1공기로 구성된 메뉴입니다. \\n공깃밥이 무한리필이라던데, \\n이미 처음 제공되는 밥 양도 어마어마해요. \\n좀 이따 사진 함께 보아요!\\n그리고 짬뽕 쌀국수랑 가지튀김이 \\n맛있다고 해서 이 두 메뉴도 함께 주문했습니다.\\n자유롭게 테이블을 고르고 \\n휴대폰 번호로 연락 오면 직접 \\n음식을 가지러 가시면 되세요. \\n그럼 짬뽕쌀국수와 가지튀김, \\n밥도둑 1인 정식 함께 보실까요? 우선 소개드릴 건, \\n짬뽕쌀국수와 가지튀김입니다. \\n어마어마한 양에 압도되는 \\n훌륭한 비주얼의 메뉴들.  짬뽕쌀국수는 불맛을 살린 해물 짬뽕과 \\n쌀국수가 조화를 이룬 메뉴인데요. \\n냄새도 기가 막히고 아주 넉넉한 재료와\\n많은 양의 짬뽕 국물에 벌써 든든해지는 메뉴였어요.\\n특히 배추와 양파 등 채소들 덕분에 \\n국물이 시원하면서 불맛도 깊어 계속 손이\\n가는 훌륭한 국물이었어요. \\n해산물은 보통의 퀄리티였고, 채소가 진짜 \\n톡톡히 제 역할을 했던 짬뽕 쌀국수.  짬뽕이나 쌀국수 좋아하시면 만족하실\\n깊은 국물의 맛난 요리였습니다.  겉바속촉을 제대로 보여주는 가지튀김입니다. \\n양상추와 특제 소스가 함께 제공되는데요, \\n이 가지튀김이 정말 상상 초월로 맛있었습니다. \\n 밀가루보다는 다른 전분으로 튀긴 것 같은데\\n어쩜 이리 가지랑 잘 어우러지는지 \\n첫입부터 마지막까지 계속 감탄하며 먹었던 \\n초류향 찐 추천 메뉴였습니다.  중식치고 느끼함이 심하지 않았으나\\n튀김 때문에 물릴 것 같을 때 양상추 \\n먹어주면 다시 리프레쉬되는 신기한 경험을 할 수 있습니다. ㅎㅎ\\n양상추가 푸릇푸릇하고 아삭아삭해서\\n아주 기분 좋게 먹을 수 있었어요.  안은 정말 촉촉하고 겉은 바삭해서 \\n가지가 가지처럼 느껴지지 않는 찐 맛있는 튀김.  평소에도 중국식 가지 요리 좋아하셨으면\\n초류향 가지튀김에 정말 대만족하실 거예요!\\n튀김 요리지만 건강해지는(?) \\n착각까지 주는 메뉴예요. 그 다음 메인메뉴는 밥도둑 1인 정식입니다. \\n세상에, 이게 1인 정식 양이라니 받자마자\\n엄청난 양에 놀란 메뉴입니다. \\n먹는 양이 적으신 분들은 두 명이어서도\\n먹으실 수 있는 양이었어요.  보시는 것처럼 마파두부, 파리머리볶음, \\n새우튀김이 다 푸짐하게 들어있었거든요. \\n마늘 새우는 1pc라고 하는데 굉장히 컸어요. \\n초류향은 진짜 너무나도 배부르게 먹을 수 있는 곳. 눈이 휘둥그레 지는 이름을 갖고 있던 파리머리볶음. \\n어째서 파리머리볶음인지는 아직도 이해는 안 가나, \\n대만의 인기 메뉴답게 진짜 밥도둑인 메뉴였어요. \\n마늘쫑 싫어하시는 분들도 이 요리의\\n마늘쫑 만큼은 계속 흡입하게 될 거예요.\\n짭쪼름한 양념이 마늘쫑과 돼지고기에 \\n아주 잘 어우러져 밥과 함께 먹기 안성맞춤이었답니다. \\n마늘쫑과 돼지고기를 이렇게도 먹을 수 있다니, \\n신선한 아이디어에 감탄하며 맛나게 먹은 메뉴입니다.  밥도둑의 또 다른 구성, 마파두부입니다. \\n초류향 마파두부는 중국식 향신료가 \\n제대로 느껴지는 마파두부여서 이색적이었어요. \\n역시 여의도 더현대 맛집답게 이국적 \\n맛을 경험할 수 있도록 제대로 된 중식을\\n만들어주시는 것 같아요.  되게 커다랗던 새우 튀김입니다. \\n바삭바삭하고 고추가루 튀김 같기도 한\\n마늘 플레이크가 아주 인상적인 메뉴였어요.  밥은 실제로 보면 동그랗게 솟아오른 게 \\n보일 정도로 아주 많이 담아주셨어요. \\n여의도 더현대 맛집 중 밥이 무한리필\\n되는 곳이 초류향 말고 또 있을까요?\\n그만큼 넉넉하고 맛있게 먹을 수 있는\\n여의도중식 맛집이랍니다.\\n  계란국도 맛있었어요. \\n근데 다른 것 먹다 보면 간이 \\n안 느껴지게 되는 게 함정 ㅎㅎ 여의도 더현대 맛집 찾고 계신다면\\n꼭 초류향으로 오세요. \\n여의도중식 맛집이라고 자신있게\\n소개드릴 수 있는 곳이었어요. \\n볶음 요리부터 국물 요리, \\n튀김 요리까지 모두 맛있었던 곳이에요. \\n식사 후에 더현대서울 쇼핑할 수 \\n있는 이점도 있구요.  정갈한 한 상 차림에 맛까지 담은 초류향.\\n 깨끗하고 정성 어린 맛에 기분 좋게 \\n중식을 즐길 수 있던 곳이에요.  여의도에서 약속 잡으실 거라면, \\n이곳 여의도중식 초류향에서 즐거운 시간 보내세요.\\n정독해주셔서 감사합니다:)  전화: 02-3277-0788\\n주소: 서울시 영등포구 여의대로 108 지하 1층 #여의도더현대맛집 #여의도중식 #초류향 #더현대서울맛집 #여의도맛집\"},\n",
       " 15: {'title': '맛집;) 여의도 더현대 #에그슬럿 #카멜커피 #태극당',\n",
       "  'nickname': '북한산북극곰',\n",
       "  'datetime': '2021. 12. 26. 22:39',\n",
       "  'content': '파크원타워 오픈하고 바로 갔었던 더현대\\n그때 웨이팅이 어마어마하던 시절, 난 파크원타워에 외근을 가서 근무중에 현대식품관 어플로 예약하고 알람오면 뛰어가서 먹었다! 근데 블루보틀은 어플로 알람은 해주는데 예약은 안되서 직접 가야하는 번거로움이 있음. 블루보틀 사방팔방 많구만 더현대 웨이팅 무엇 지하 입구에 있는 에그슬럿\\n여긴 유명세에 비해 회전율이 좋아 금방금방 먹을 수 있었다. 메뉴판도 찍어옴. 정보가 없기에 노란색 형광펜 칠한 대표메뉴만 먹는다.  먼저 페어팩스 7,800원 기본메뉴인듯? 에그드랍이 더 맛있다! 이때 점심시간에 이걸 먹었는데 금방 배고픈맛 오렌지 쥬스5,500원 진짜오렌지 쥬스라고 해서 주문했는데 특별한거 없음 슬럿 6,800원 바싹 마른 바게트를 병안에 든 으깬감자를 발라먹는거다. \\n음 한번 경험으로 됐다. 경험1회로 끝 가장 대기시간이 길다는 카멜커피. 알람이 울리면 10분안에 뛰어가야 한다. 웨이팅하고 3시간걸렸나? 난 사무실에 있다 간건데 다른 사람들은 어디있다 오는거지? 백화점에 그렇게 오래있나? 파크원 근무자 아니고서야 먹기 힘들어 보인다. 그냥 커피만 사기 아쉬워서 앙버터빵도 주문해봤다. 오 맛남~ 이건 맛나다… 세명이 가서 2명이 사고 앉은 자리에서 클리어~ 코로나에 더현대는 넘 바글바글하다. 커피들고 사무실에 올라와서 찍어봤다. 3x층 꽤 높은데서 찍었는데 작게나옴. 근데 카멜커피도 왜 줄서는거지? 하프커피나 도웰커피 처럼 비슷한 느낌의 커피가 많은데 왜! 여의도 와서 줄서는지 모르겠다. 난 쉽게 먹어서 만족함~~ 나도가봤다 핫플~ 에그슬럿과 카멜커피 맞은편엔 태극당이 있다. 장충동에는 잘 안가니까 여기서 사먹어보기로!\\n지난번엔 회사사람들이 모나카를 사와서 먹었는데 모나카 보다 저 버터케익이 궁금했다. 어렸을 때 이후 먹어본적 없는 버터케익…\\n태극당은 가게도 크고 다른데도 있으니까 설마 케익이 매진될거란 생각은 못했다. 그것도 평일에!\\n점심때 이렇게 쉽게 생각했다가 3시에 다시 가보니 3호만 남았다… 누구 생일도 아닌데 3호는 부담… 어쩔수 없이 3시에 구매만 해두고 6시에 저거들고 집에갔다. 집까지 1시간반 와~ 30년만에 먹어보는 버터케익아닌가? 어렸을댄 버터케익이 넘 느끼해서 안좋아했는데 이 버터케익은 재료가 좋은건지 내 입맛이 변한건지 넘나 달고 맛나다. 이번주에 또 가는데 사와야겠음!!! '},\n",
       " 16: {'title': '여의도 더현대 맛집 헤이웍 by 초류향 중식 추천',\n",
       "  'nickname': '꿀이언니',\n",
       "  'datetime': '2021. 11. 1. 14:52',\n",
       "  'content': '헤이웍 by 초류향 더현대서울점\\n# 여의도더현대맛집 # 더현대맛집\\n# 여의도중식 안녕하세요. 꿀이언니입니다.\\n주말에 여의도 더현대 서울점에\\n다녀왔어요.\\n겨울옷 쇼핑겸 갔다가\\n여의도 더현대 맛집인 초류향이\\n여의도중식 중에서 유명하길래\\n다녀왔어요.\\n초류향은 3대째 운영하는 중식당으로\\n유의융 셰프님이 운영하는 곳이라고 해요. 넘넘 예쁜 더현대 서울 백화점의 모습이에요.\\n백화점과 몰의 중간쯤인\\n곳이라 이름도 더현대인데\\n정말 다른 백화점이랑은\\n인테리어부터가 달라서\\n가보길 잘했다고 생각했어요. 이렇게 천장도 엄청 높고\\n위에서 환하게 빛이 들어와서\\n분위기가 너무 좋아요 ㅎㅎ\\n깔끔하고 쾌적하면서\\n야외같은 느낌이라 좋았어요. 더현대에는 워낙 유명한 맛집들이\\n많이 입점해 있어서 먹고 싶은 메뉴가\\n아주 많았어요!\\n그 중에서도 지하 1층에 있는\\n헤이웍 바이 초류향으로 갔습니다.\\n건강한 중식을 컨셉으로 하고\\n새로운 중식 메뉴가 많아서\\n너무 궁금했거든요 ㅎㅎ 바 자리에 앉아서 먹을 수도 있고\\n테이블 자리도 많았어요.\\n테이블 자리가 아주 넓고 쾌적해서\\n저희는 테이블 자리를 이용했어요. 여의도 더현대 맛집인\\n헤이웍 바이 초류향의 메뉴판입니다.\\n다 너무 맛있어보여서\\n너무 고민됐어요 ㅎㅎ 일단 제일 많이 주문하는\\n밥도둑 1인 정식은\\n메뉴가 다양하게 나오는 것 같아서\\n첫 번째로 골랐어요. 아주아주 푸짐하게 나온 저희의\\n한 상입니다 ㅎㅎ\\n메뉴 세개밖에 주문 안했는데\\n엄청 거대한 한 상이 차려졌어요. 우선 제가 너무 좋아하는\\n가지 튀김은 사이드 메뉴로 시켜봤는데\\n와 이거 진짜 꼭 시키세요!\\n원래 가지 튀김은 중식 메뉴 중에서도\\n좋아하는 메뉴 중 하나인데\\n헤이웍에서 먹은 가지튀김은\\n지금까지 중에 제일 맛있는 가지튀김이었어요. 보통 가지튀김이랑 소스를\\n부어서 같이 주는 경우가 많은데\\n헤이웍 바이 초류향에서는\\n소스가 따로 나오더라구요.\\n그래서 아주아주 바삭한 가지튀김의 식감을\\n끝까지 느낄 수 있고\\n소스도 너무 짜거나 진하지 않고\\n적당히 매콤달콤해서\\n너무 맛있더라구요.\\n원하는 만큼 소스 찍어서 먹으면 되니까\\n저는 찍먹이 훨씬 좋네요 ㅎㅎ 그리고 두번째 메뉴는 동파육 볶음밥이에요.\\n워낙 동파육을 좋아하는데\\n동파육 볶음밥이 있는게 신선해서\\n주문해봤어요. 동파육 고기와 청경채\\n그리고 캐비어같은 색의 날치알이\\n함께 나오는 볶음밥이에요. 이 메뉴도 감칠맛이 너무 좋고\\n고기도 맛있어서 아주 맛있게 먹었어요 ㅎㅎ\\n그리고 볶음밥 양이 먹다보니\\n정말 많더라구요.\\n양도 많아서 더 추천입니다. 그리고 마지막 메뉴는 메뉴판 앞에\\n샘플로도 나와있던\\n밥도둑 1인 정식이에요~ 엄청 푸짐하죠 !! 밥도둑 정식에는 마라두부가\\n나오는데 안에 새우도 들어있고\\n마라향이 적당해서\\n너무 맛있었어요.\\n저는 마라 잘 못먹는 마라 초보인데\\n여기 마라두부는 마라향이\\n엄청 쎄지 않고 적당해서\\n너무 맛있더라구요 ㅎㅎ 그리고 사이드 메뉴로는 마늘새우도 같이 나왔어요.\\n이 메뉴는 사이드 토핑으로도\\n주문 가능한데 모든 덮밥, 볶음밥에 \\n다 잘 어울리고 사이드로 먹기 좋아서\\n다들 추가하시더라구요~ 마지막 메뉴는 파리머리 볶음이에요.\\n마늘쫑이랑 고기를 같이 볶은 메뉴인데\\n반찬으로 먹으니까 엄청 맛있었어요. 둘이서 세개쯤이야 하고 주문했는데\\n메뉴 하나하나 다 양이 많아서\\n엄청 배부르게 먹었어요. 마지막으로 가장 맛있었던 메뉴인\\n가지 튀김 사진 더 올립니다 ㅎㅎ\\n소스도 고기가 들어있는 소스였는데\\n너무 맛있어서 저희 둘은\\n가지튀김을 베스트 메뉴로 뽑았어요 ㅎㅎ 배부르게 잘 먹고 옆에 있던\\n에그타르트 포장해서 집으로 갔어요~\\n여의도 더현대 맛집 찾으시는 분들께\\n여의도중식 헤이웍 by 초류향 추천해요!\\n헤이웍 바이 초류향의 메인 셰프인\\n유의융 셰프님의 요리는\\n중국 국빈을 대접하는 국연요리와\\n사찰음식의 레시피가 더해져서\\n건강하면서도 새로운 중식을\\n맛볼 수 있다는 장점이 있더라구요! 평일 10:30 - 20:00 \\n금요일 10:30 - 20:30\\n주말 10:30 - 20:30 서울 영등포구 여의대로 108\\n5여의나루역 1번 출구에서446m\\n여의도 더현대서울 지하 1층 푸드스퀘어  '},\n",
       " 17: {'title': '[서울] 여의도 더현대 호우섬 (왜 맛집이죠?)',\n",
       "  'nickname': 'Eden',\n",
       "  'datetime': '23시간 전',\n",
       "  'content': '여의도 더현대 맛집으로 느므느므 유명한 곳이길래 한껏 기대하고 방문한 호우섬. 평일 점심에도 미친 웨이팅을 자랑한다. 약간의 팁이라면 현대식품관 앱을 미리 다운받으면 앱으로 줄서기 신청이 가능하다.. 그래도 웨이팅이 긴건 똑같다는 점 ..... 웨이팅을 한시간? 정도 하고 두시쯤 입장했는데 그때도 대기가 67팀 이더라....  wow... 메뉴는 많지않다.  주문하려는 메뉴를 체크해서 카운터에 가져가서 계산까지 하면 주문 완료다. 궁금해서 시켜본 밀크티는 존맛탱이다 ㅠㅠㅠ 밀크티 덕후라서 왠만한 밀크티는 다 좋아하기 하는데, 여기도 맛있었다. 다만 음식이랑은 잘 안어울려서 한두모금 마시고 나머지는 후식처럼 마셨다. 주문한 메뉴중에 제일 먼저 나왔고 제일 맛있었던 마늘칩 꿔바로우.바삭한듯 쫀득한 튀김옷과 달콤한 소스가 너무너무너무 찰떡이다. 위에 솔솔 뿌려진 마늘칩도 은은한 마늘향이 나서 좋았다. 시킬지 말지 고민하다가 모든 테이블에 있길래 주문해봤는데, 이거 주문 안했으면 큰일 날 뻔 했다. 쇼마이는 아-주 무난했다. 정말 예상가능한 정도의 맛. 크게 실패하지 않을 메뉴다. 약간 실망스러웠던 샤오롱바오.... 개인적으로 얇고 쫀득한 피를 좋아하는데, 여긴 얇은 찐빵 느낌의 피였다. 속은 그냥 고기만두에 들어있을만한.... 요즘은 딤섬을 잘하는데가 워낙 많아서 너무나도 평범하게 느껴졌다. 제일 실망스러웠던 메뉴인 홍콩식 솥밥ㅋㅋㅋㅋ 먹으면서 이게 뭔가.... 싶었다... 재료들이 어울어 진다는 느낌도 딱히 들지않고 이게 무슨맛일까 싶었다. 완자랑 밥의 조화도 조금 생뚱맞고... 라구짜장 도삭면시킬까 이거시킬까 고민하다 솥밥으로 했는데, 면 시킬껄~~~\\n아무튼 여기가 왜 이렇게나 인기가 많은지 잘 모르겠다.. '},\n",
       " 18: {'title': '여의도 맛집 콩국수 명가 진주집과 더현대 서울 블루보틀 티파니 팝업스토어 답사기 ',\n",
       "  'nickname': '아슬란',\n",
       "  'datetime': '2021. 12. 11. 17:42',\n",
       "  'content': '두번째 회사가 여의도에 있었다. \\n증권회사들이 많았던 여의도 골목들 사이에... 그당시엔 IFC가 파크원 더현대 서울이 주차장이었고\\n여의도 벗꽃놀이, 불꽃놀이는 물론이었고 여의도 MBC에 큰 공연이 있는 날엔 차가 많이 막혀 나름의 스트레스를 받고 다녔는데\\n지금은 높아진 빌딩숲 사이에 오래된 아파트만.. \\n예나 지금이나 주말엔 삭막한 느낌이 드는 것은 왜일까 하핫.\\n여의도에 오래된 노포 맛집이 너무나도 많은데 단언코 가장 인기 있는 식당을 뽑으라면 여의도 백화점 지하1층 진주집을 꼽는다.\\n진주집은 다양한 소문이 많은데 서울 콩국수 3대 식당 중 하나인 을지로에 있는 진주식당과 형제간 이라는 소문과 \\n사장님 아드님께서 미국에서 유학하고 오셨는데 식당이 너무 잘되어 이것을 물려받았다는? (이건 사실 무근일수도)\\n암튼 처음 갔을때보다 규모도 넓어지고 사람은 늘 많은 그런 여의도 대표 맛집 식당이다. \\n여의도 백화점 내부는 백화점이 아니라 쇼핑센터 정도로 보여진다. 회사를 옮기고 여의도백화점 7층이었나... 실내 골프 연습장을 끊어서 나름 처음으로 골프를 배웠던 기억이 또 새록새록.\\n그때부터 정말 열심히 했으면 지금 싱글? 수준은 되었을지도 :) \\n지하 1층에 오니 반가운 진주집 간판 \\n여름철에는 주중, 주말 할 것 없이 줄이 한바퀴 정도 돌아야 입장할 수 있다. \\n겨울에는 콩국수를 안팔았던 기억인데 오늘 가보니 겨울인데도 팔아서 나이스~ 요즘 코로나 때문인가 토요일 점심 시간에 생각보다 여유로운 모습  3명이 입장하여 콩국수, 비빔국수, 닭칼국수 3종세트를 시켰다.\\n여의도 진주집 고기 만두도 일품인데 성인 남자들 3명이면 만두까지 추천.\\n일단 앉아서 따듯하게 대워진 보리차를 마시며 기다린다. \\n예전에는 식당에서 나오는 물 아무렇지 않게 생각했는데 보리차나 옥수수차 등 차 종류가 있으면 식당의 정성이 느껴져서 기분이 더 좋아진다. \\n주문한 3종세트 입장! 겨울철 따듯하고 감칠맛 나는 육수의 닭칼국수!\\n여기에 만두가 두개 들어있어 만두를 주문하지 않아도 나름 맛볼 수 있는 장점! 매콤 달콤 새콤 비빔국수의 정석이다.\\n여의도 맛집 진주집의 비빔국수는 맛에 비해 많이 알려져 있지 않아 아쉬울 정도다. \\n개인적으로는 단맛이 조금 강한 면이 있지만 그 단맛 때문에 또 생각나고, 칼칼하게 매운 정도는 아니라 초등학생 입맛에도 잘 맞는다.  여의도 진주집 메인 음식 콩국수. \\n찐득하게 고소함을 담고 있는 콩국물에 쫄깃한 면발과 소금을 식탁에 놓지 않을 정도로 간에 자신감이 있다.\\n물론 소금은 갖다달라고 요청하면 주긴 함. 취향에 맞추어 섞어서 먹다보면 어느새 국물까지 떠먹게 되는 나를 발견.. \\n한때는 콩국물만 따로 팔아서 사서 집에서 먹기도 했는데 요즘엔 파는지 잘 모르겠다.   여의도 백화점 진주집 김치를 빼놓으면 아쉽다.\\n싱싱한 김치가 접시에 정갈하게 나오고 콩국수는 물론이고 닭칼국수와도 잘 어울린다.  만족스럽게 배부르게 먹고 다음 장소인 여의도 더현대 서울로 발걸음을 옮긴다. \\n파크원은 소송기간도 길었고, 도대체 언제 다 지어지나 싶었는데 소송 해결되니 주중, 주말, 주간, 야간 할 것 없이 휘리릭 완공. \\n대단한 스피드로 완성되어 빌딩 오피스들도 꽤 찼다는 소식이 들리던 곳.  교차로를 건너기 전에 보이는 쌍마 스튜디오.\\n얼마전에 놀면뭐하니에서 다같이 모여 사진찍는 장소로 나오는 것보니 나도 증명사진 찍은적 있었는데 했던 기억이 새록. ㅎㅎ 나름 사진찍겠다고 라이카 카메라 들고갔으니 느낌 좋은 샷들 몇장  더현대 서울 1층에서 진행된 바이올린과 하프 공연. \\n고품격 라이브 음악이 이곳 저곳에서 들리는 더현대 서울 백화점. \\n눈과 귀가 즐거워 괜히 사람들이 많은게 아니다는 생각이 :) 리빙 매거진 보면 늘 보이는 프리츠 한센, 매장이 있어 잠시 들러 사진을~ 옆에 사장님 의자인 허먼밀러 등등도 있구요~ 티파니 팝업스토어도 보이는데 \\n대기줄이 있어 티파니 팝업스토어는 밖에서만 보는 것으로~\\n안에서 아카펠라 공연도 하고 티파니 팝업스토어 알차게 구성했구나 하는 생각이 들었다.  그옆에 블루보틀~\\n더현대 서울 처음 개장 했을때는 정말 블루보틀 대기줄이 1,000명이어 대기할 엄두도 나지 않았다.\\n맛보려면 5층으로 올라가서 블루보틀 먼저 대기 걸어두고 한바퀴 돌면 된다고 할 정도였는데.. 이젠 블루보틀 바로 입장 가능하고, 잠시만 줄서면 맛 볼 수 있는 상황이 되었다.\\n접근성이 이리 좋아지니 기분 좋게 하나씩 주문~ 문제는 블루보틀 내에 앉을 자리가 없다는것~ \\n테이블에서 일어나는 분들 없나 눈치 싸움하다가 몇번 지고는 에잇 나와서 먹자하고 \\n옆에 의자에 앉아서 티파니 팝업스토어에서 나오는 아카펠라 캐럴 들으며 마시고 집으로 돌아왔다. 가까이 있어도 자주 안갔는데 더현대 서울에는 명품샵도 많고 볼거리가 다양해서 마냥 걷고 싶을때 한바퀴씩 돌면 재밌는 시간이 될 것 같다.\\n#여의도\\n#진주집\\n#콩국수\\n#더현대\\n#더현대서울\\n#블루보틀'},\n",
       " 19: {'title': \"(여의도맛집) 더현대 나이스타임 '올드페리 도넛' 후기\",\n",
       "  'nickname': '정이\\n(tlsduswjd88)',\n",
       "  'datetime': '2021. 11. 6. 9:51',\n",
       "  'content': \"더현대 나이스타임 '올드페리 도넛' 후기\\n오랜만에 다녀온 #더현대서울 \\n서울에 결혼식 있어서 갔다가 오랜만에 들렀는데\\n오픈초기보다 입점브랜드도 많이 바뀌고  #인더숲 팝업스토어도 생겨서\\n구경하다가 2층 내려갔더니 나이스타임앞애 줄이 길게 늘어서 있길래\\n#올드페리도넛 구입줄이라는걸 알고\\n나도 부랴부랴 따라 서봄 ㅋㅋㅋㅋㅋㅋㅋㅋ \\n진짜 작고 좁은 나이스타임 건물을 외관을 따라\\n길게 줄이 늘어져서 \\n이거 살수나 있나? 했는데\\n다행히 도넛재고가 많아서 구입성공! #나이스타임올드페리도넛 판매는\\n정해진 시간에 판매를 시작하는데\\n입날은 1시에 판매 시작이라\\n1시 7분정도에 줄서서 \\n20분정도 기다리고 구입할 수 있었음(주말기준) 기다리는동안 사서커피 먹으려고 웨이팅 예약하는데\\n카멜커피는 아직도 149팀 실화...?\\n#카멜커피 가실분들은 꼭 아래 현대식품관투홈 어플로\\n미리 웨이팅 걸어두시고 방문하시길\\n↓더현대 서울 웨이팅 거는 어플 \\nhttps://tohome.thehyundai.com/front/cua/front/joinStep3Hpoint.do?utm_source=kakaotalk&utm_medium=event&utm_content=friend&ReferCode=111&tcCode=0000000027&RCMM_CUST_NO=202103014823&SEARCH_RCMM_TXT=tlsduswjd88  드디어 내차례쯤 되었는데\\n지난번에도 구입했었는데\\n이번에 보니 위층에 신상도넛들이 대거 들어왔네? 기존 도넛들은 가격도 오천원대 이상이고\\n크기도 커서 부담스러웠는데\\n#올드페리신상도넛 들은 크기도 작아지고\\n가격도 3,500원이라\\n약간 노티드 도넛 같은 느낌  드디어 내차례인데 \\n뭘사야할지 고민엄청했는데\\n옆에 당도랑 맛후기, 추천이 있어서\\n신상 도넛 네개랑\\n당도가 적었던 피스타치오 도넛을 구입했다 20분 기다려서 산 도넛..뿌듯.. 도넛들고 돌아다니기 귀찮아서\\n처음으로 #더현대서울물품보관함 이용해봤는데\\n이거 무료인데 공간도 넓어서  짱좋다! 다만, 인기가 많아서 빈자리 찾기는 힘든편..\\nㅋㅋㅋㅋㅋㅋㅋㅋ\\n우리는 운좋게 바로 맡아서 이용했는데\\n쇼핑많이하고나면 #더현대물품보관함 꼭 이용해보시길 집에 와서 개시해본 도넛들\\n예전엔 4개사면 4구상자에 담아줬는데\\n빠르게 판매하기위함인지\\n다 개별 포장되서 \\n약간 종이 낭비같은 너낌.. #올드페리뉴도넛 들은\\n레몬,보스톤,카스테라,초코볼 도넛 하나씩 사왔는데 먼저 제일 궁금했던 #올드페리초코볼 도넛과\\n#올드페리카스테라 도넛먼저 시식 초코볼은 말그대로 초코가 들어있는데\\n평소 생각한느 초코맛이 아니라\\n굉장히 쌉싸름한 다크초코맛인데\\n단맛보단 쌉싸름한맛이 강해서 별로..\\n#카스테라도넛 맛은 무난무난 했는데\\n약간 노티드 따라한듯한 느낌이지만\\n개인적으론 노티드가 더맛있다... 기존 #올드페리도넛 메뉴중에 사온 #피스타치오도넛\\n개인적으론 올드페리도넛중엔 크림브뤨레랑\\n이 피스타치오 도넛이 제일 맛있는듯?! 이건 지난번에 찍었던 사진인데\\n전체적으로 너무 달았는데\\n달고 필링이 많이든 도넛을 좋아하시는 분들이라면\\n올드페리 도넛 좋아하실듯!\\n한남동 올드페리 까지 가기 먼데\\n가까운 여의도에서 판매하고 있어서\\n#올드페리 도넛 궁금하신 분들은\\n#더현대서울 나이스타임에서 구입해보시길-\\n↓더현대 주차 및 웨이팅 팁 참고\\nhttps://blog.naver.com/tlsduswjd88/222271802685  맛 ★★★☆☆\\n분위기 ★★☆☆☆\\n서비스 ★★★☆☆\\n재방문의사 ★★★☆☆\\nCopyright ⓒ jeong2 all rights reserved\\n공감과 댓글은 저에게 큰 힘이 됩니다 ♥\"},\n",
       " 20: {'title': '여의도 더현대 호우섬_딤섬맛집_내돈내산후기',\n",
       "  'nickname': '뽀또군의 유학사랑\\n(yourang5177)',\n",
       "  'datetime': '2021. 12. 22. 15:22',\n",
       "  'content': '안녕하세요!!\\n뽀또군의 유학사랑입니다^^ 서울출장을 가게되면 꼭 맛집을 다녀오려고 노력하는데요\\n이번에는 새로 오픈한 여의도 더 현대 호우섬을 다녀왔어요!!\\n여의도 더현대 지하1층에 위치하고 있는 호우섬은\\n홍콩식 음식점이랍니다\\n대기인원이 많기 때문에 미리 대기해놓고 여의도 더 현대를 구경했어요!  호우섬 식당 모습이예요\\n역시나 사람이 가득!\\n맛집 인정입니다 ㅎㅎ 메뉴판이예요\\n사진으로도 잘 나와있어서 먹고싶은 음식을 잘 고를수 있어요\\n저흰 3명이니 먹고싶은걸 최대한 시켰답니다~\\n맥주한잔도 빠질수 없죠 ㅎㅎ  소롱포\\n쇼마이\\n블랙하가우\\n쯔란 오징어 튀김\\n맑은 우육탕면\\n마파두부 도삭면\\n칭따오\\n밀크티도 유명하다해서 주문해서 먹으려했는데\\n음식을 먹다보니 잊어버렸네요 ㅎㅎ 전체 식당모습도 한번 찍어보았어요\\n사람들이 꽉차있다보니 모자이크로 사람들 얼굴을 살짝 가려주었어요~\\n사생활보호는 중요하니까요^^ 음식이 나오기전에 맥주부터 서빙해주네요^^\\n칭따오로 시원하게 한잔 시작해봅니다\\n   왼쪽은 마파두부 도삭면\\n오른쪽은 맑은 우육탕면\\n입니다^^ 오른쪽 사진이 바로 쯔란 오징어튀김이예요\\n생각보다 너무 맛있었답니다~\\n정말 맥주안주로 딱!!이였어요 ㅎㅎ 제가 좋아하는 딤섬인데요\\n사실 딤섬은...제 기대에는 못미친듯해요\\n맛있긴하지만 개인적으로는 딤딤섬의 딤섬이 제 입맛엔 더 맞더라구요^^  한상가득 차려놓고보니 괜히 뿌듯해지네요^^\\n이상 여의도 더현대 호우섬 내돈내산 후기였습니다!!  '},\n",
       " 21: {'title': '여의도 더현대 근처 맛집 한암동 ',\n",
       "  'nickname': '에일리 AILEE\\n(ahy4880)',\n",
       "  'datetime': '2021. 8. 15. 12:32',\n",
       "  'content': \"안녕하세요 에일리 입니다. \\n오늘은 여의도 더현대서울 근처 한우맛집 한암동 후기를 \\n남겨볼까 해요. \\n여의도는 회사들이 밀집해 있는 곳이잖아요.\\n그 중에서도 정갈하고 깔끔한 맛집을 찾고 있던 찰나, \\n프리미엄 전통주를 판매하고 있으면서도 \\n단독룸까지 있는 이 곳 여의도 더현대 근처 한우맛집 \\n한암동으로 왔어요.   📞 02-6747-8324\\n주차 : 여의도 파이낸스 타워 건물 \\n저희는 이 날 전통 막걸리를 먹을 계획이었기에 대중교통을 이용했어요. \\n워낙 여의도 역에서도 가까워 대중교통으로도 충분히 \\n올 수 있는 거리라는 점!\\n특히 여의도의 쇼핑메카인 더 현대서울,  IFC 몰과에서 \\n도보 5분 정도 거리에 위치하고 있어 근처에서 \\n쇼핑하고 밥먹는 코스로 딱인듯해요.   여의도 한암동 내부 인테리어도 참 깔끔한 느낌이죠. \\n단독룸도 따로 있어 미리 예약을 하면, 조용한 식사도 가능할 것으로 보여요. \\n인테리어도 식당 내부도 모두 모던한 느낌이라  \\n어르신 모시고 오면 진짜 좋겠다. 라는 생각이 들었던 그런 인테리어.   메뉴를 주문하기 위해 메뉴판을 봤어요. \\n여기 한암동 여의도점은 전통 프리미엄 술과 한우로 \\n유명하다고 하여 기대를 많이 하고 왔어요! 이 세 주류가 여기 이 한암동 여의도점의 대표 술이라고 \\n해요!\\n뭔가 패킹도 고급진 느낌 물씬.\\n저희는 육전과 함께 곁들일 담은 막걸리를 \\n주문하기로 했어요.  전통주 말고도 다양한 술들을 판매하고 있구요. \\n저희가 흔하게 먹을 수 있는 소주와 맥주 역시 판매하고 \\n있습니다. \\n지금은 코로나라 회식을 하진 못하지만 \\n근처 회사들이 회식할때 여기와도 참 좋겠다는 생각이 \\n들었어요.  여의도 한우맛집 답게 한우 암소 곰탕, 한우 육회 비빔밥, \\n암소 화로구이 등 \\n한우 요리들이 많이 있었구요. \\n저희는 한우 암소육전과 함께 먹을 도미솥밥, 미니 곰탕을 주문해 보기로 합니다. \\n그리고 빼놓을 수 없는 막걸리, 담은 막걸리를 함께 \\n주문했어요.  가격 : 27,000 정갈한 세팅과 함께 고급스러워 보이는 그릇들이 \\n세팅되었구요. \\n기대했던 프리미엄 막걸리 담은 막걸리가 먼저 등장했어요. \\n딱 패킹부터 엄청 이쁘다고 생각했는데, \\n역시나 맛도 일품이었어요. \\n오래 숙성(?)되었구나 라는 느낌이 드는 그런 막걸리.   퇴근 후 고단한 심신을 달래줄 \\n막걸리 한잔. \\n오늘 하루도 고생했는데, 막걸리로 위로를 해봅니다. ㅋ.ㅋ  가격 : 55,000 막걸리와 함께 곁들일 음식이 생각날때쯔음 한우육전이 \\n등장했어요. \\n명절때 육전을 먹어보았지만 \\n한우육전이라는 고급진 메뉴를 먹어보진 않아서 \\n맛이 궁금했거든요. \\n진짜 진짜 맛있었어요. \\n일단 전 특유의 기름진 맛이 별로 나지 않고 \\n깔끔하면서도 또 먹고 싶은 맛. \\n부추와 장아찌 함께 싸먹어도 너무 맛있구요. \\n기본 찬들과 함께 꼍들여도 진짜 맛있었어요. \\n역시 여의도 한우맛집 맞네요. 이곳  :)   가격 : 8,000 전을 먹다보면 살짝 국물이 먹고싶잖아요. \\n그럴때 딱맞게 등장한 미니곰탕이었어요. \\n남편이랑 같이 갔었는데, 곰탕을 단독으로 양이 많을 거 \\n같아 미니로 주문했는데 다 먹고 나서 참 적절한 주문이었다 \\n싶어요. \\n시원하고 뜨끈한 국물과 육전의 조화. \\n진짜 행복한 저녁식사였습니다.  가격 : 35,000 비주얼부터 예사롭지 않은 도미솥밥. \\n맛있는 향기가 솔솔 났었는데요. \\n일단 너무 이뻐, 사진으로 담아봅니다.  사진을 찍고 나면 직원분께서 직접 도미솥밥을 먹을 수 있게 섞어주십니다. \\n(직원분 센스있게 사진 찍고 다시 불러달라고 해주시고, \\n정말 친절했어요) \\n앞에 있는 참기름을 적절히 섞어 비벼주시니 \\n진짜 도미솥밥 너무 맛있고, 건강한 느낌의 맛이더라구요. \\n그리고 처음엔 양이 작을까 걱정했는데 웬걸\\n남녀 두명이서 갔는데 엄청 배불리 먹었다능...\\n밥이 끊임없이 계속 나오더라구요.  비벼진 도미솥밥과 함께 찰칵. \\n정말 만족스러운 여의도 한우맛집\\n한정식 식사였습니다.  코시국이라 요즘 외식해서 음식먹기가 쉽지 않은데 \\n정말 오랜만에 괜찮은 식당에서 대접받으며 \\n배불리 먹은 것 같아 기분이 좋았어요. \\n보기좋은 떡이 먹기도 좋다고 하잖아요. \\n사진찍어도 너무 이쁘게 나와서 또 한번 가게를 잘 왔구나\\n하는 만족감이 가득 😌\\n친절한 직원에, 깔끔한 인테리어에 모두를 충족시켜주는\\n식사였습니다.  여의도에서 일하시는 직장인들 곰탕으로 점심을 해도 \\n너무 좋을 것 같구요. \\n퇴근 후 맛있는 여의도 한우맛집인 이 곳에서 한우와 육전,\\n전통주 한잔이 그리울 때 먹어도 참 좋을 것 같아요. \\n또한 더현대서울 이나 ifc몰 구경 왔다 근처에서 식사하기도\\n너무 좋을거같구요 👏\\n'한암동 여의도점' 카톡 채널 등록 시 다양한 혜택이 \\n있다고 하니, 놓치지 마세요!\\n↘ 한암동 카톡 채널링크 : \\nhttp://pf.kakao.com/_QgbPs\\n↘ 8월 혜택 - 식사금액 10만원 초과 시, 2만원 할인 \\n막걸리 무제한 제공 서비스 (7.27~8.8)\\n이상 여의도 더현대서울 근처 한우맛집 한암동\\n 후기였습니다. \\n오늘도 글 읽어주셔서 감사해요. :) \\n* 공감과 댓글은 창작자에게 힘이 됩니다. ✌️\\n* 해당 리뷰는 업체로부터 초대를 받고 \\n솔직하게 작성하는 후기임을 알려드립니다. \"},\n",
       " 22: {'title': \"♥여의도 더현대 맛집 - '헤이웍 BY 초류향'에서 중식 1인정식 혼밥 추천♥\",\n",
       "  'nickname': '하듸',\n",
       "  'datetime': '2021. 12. 9. 22:06',\n",
       "  'content': '여의도 더현대가 생기면서\\n초창기에 방문했다가 사람 개많아서\\n더이상 안 온다 했던 나,,,🥲\\n근데 저번 평일에 오니까\\n사람이 많이 없어서 드디어\\n와볼만한 곳이 되었다 ><\\n할머니, 할아버지는 더현대에 안 와보셔서\\n이번기회에 여의도 더현대 맛집 갈 겸 들려봤당\\n헤이웍이라는 여의도중식 파는 곳인데\\n초류향이라는 유명한 중식점에서 하는곳이다\\n그럼 후기 고고🧡 헤이웍\\nBY 초류향 여의도 더현대 지하1층 푸드코너 매일 10:30 - 20:00\\n[라스트 오더  19:30] 여의도 더현대 맛집 헤이웍은\\n3대째 운영하는 중식당인 초류향의 셰프\\n유의융 셰프가 직접 운영하는 매장이라구 한다 ^.^ 이분이 올리브티비, EBS, 생생정보통 등등\\n매체에서도 많이 등장하신 분이라구 한다\\n유의융 셰프는 중국 국빈을 대접하는\\n국연요리를 하시는 사부한테 배워온 레시피를 활용해서\\n요리를 만드신다\\n그래서 맛이 너무 궁금했다🥰 헤이웍 BY 초류향은\\n더현대 지하 1층 푸드코트에 있다\\n음식점들이 다 외관이 비슷하고\\n간판도 작아서 찾기가 나름 어렵다\\nㅋㅋㅋㅋㅋㅋㅋㅋ😂\\n주문은 매장 앞에서 진행❗ 요즘 코로나 확진자수가 넘 많아서\\n백신 접종을 완료한 사람만 매장 내 이용이 가능하다\\n만약 백신 미 접종이면\\n테이크 아웃만 가능 여의도 중식 답게 다양한 대만식 음식이 있는데\\n밥도둑 1인 정식이 젤 잘 나가는 듯☺️\\n유린기도 먹고싶었지만 넘 배부를까봐\\n밥도둑 1인 정식\\n짬뽕 쌀국수\\n가지 튀김\\n을 주문했다 밥도둑 1인정식에는\\n새우마파두부, 마늘새우, 파리머리볶음이 나오구\\n밥은 무한리필이라구 한다^.^\\n뭔가 혼밥하면서 든든하게 먹고싶으면\\n밥도둑 1인정식 강추👍 신기하게 밖에 따로\\n세면대도 있어서 손을 닦을 수 있다 물은 셀프고\\n종이컵에 받아오면 된다\\n다행히 우리 자리 바로 옆에 정수기가 있어서\\n안 일어나고도 먹을 수 있었당\\n개꿀 ㅋ 드디어 등장한 우리가 시킨 메뉴들❤️ 뭔가 대만식 요리집이라 그런지\\n그릇들이 새빨개\\nㅋㅋㅋㅋㅋㅋㅋㅋㅋㅋㅋㅋ 요건 짬뽕 쌀국수인데\\n다양한 해산물에 짬뽕 육수로\\n되게 얼큰하다 난 향신료를 거의 못 먹는데\\n쌀국수이지만 국물이 짬뽕이다보니\\n맛있게 먹을 수 있었당 ^.^ 가지튀김은 양상추랑 같이 나오고\\n새콤달콤 칠리소스도 나온다\\n가지가 수분이 차 있어서\\n말랑말랑 하면서도 식감이 좋았다\\n할머니께서 생각보다 제일 맛있었던게\\n가지튀김이라구 하셨당☺️ 파리머리볶음인데\\n고기랑 고추, 마늘쫑 등을 볶은 음식이다\\n처음에 파리라고 해서 엥,,,? 설마? 했고\\n오빠도 놀려서 진짜 믿었다가 ㅡㅡ\\n고기라는걸 알게됨,,,ㅋ\\n파리머리볶음은 매콤하면서도\\n약간 짤 수 있어서 밥이랑 같이 먹는걸 추천 새우 마파두부인데\\n이건 의외로 향신료 맛이 약간 나서 놀랬당\\n근데 나도 먹을 정도로 조금 나기때문에\\n다행히(?) 먹을 수 있었당 ><\\n할아부지께서 넘 맛있다구\\n밥이랑 비벼서 드셨당 ㅎㅎ 요건 계란국이었나,,,?\\n여튼 국물도 나온당 이건 뭐지,,,? 했었다가\\n뒤늦게 새우라는걸 알게됨,,,\\nㅋㅋㅋㅋㅋㅋㅋㅋㅋㅋㅋㅋ\\n마늘새우라는 메뉴인데\\n모든 덮밥, 볶음밥이랑 어울리고 맛도 좋아서\\n단골들은 필수적으로 주문하는 메뉴라고 한당\\n나는 가지튀김에 나온\\n칠릴소스에 찍어먹었당 ㅋㅋ 진짜 구성이 너무 알차서\\n든든한 한끼를 먹을 수 있었다\\n여의도 더현대 맛집 진짜 인정 >< 사이드로 시킨 메뉴들도 너무 맛있었는데\\n여의도 중식 먹으려면 헤이웍 완전 강추👍\\n1인 정식도 있어서 더현대 혼밥하기에도\\n완전 딱인 곳 ^.^\\n더현대도 오랜만에 구경하구\\n점심도 맛있게 먹어서 넘 행복했다🧡\\n후기 끄읏 #여의도더현대맛집 #더현대중식 #여의도중식\\n#헤이웍 #헤이웍더현대 #더현대대만식\\n#더현대마파두부 #여의도혼밥 #더현대혼밥  '},\n",
       " 23: {'title': '더현대 맛집 호우섬 / 솥밥 필수 홍콩 맛집',\n",
       "  'nickname': '로디\\n(77chance77)',\n",
       "  'datetime': '2021. 7. 7. 7:09',\n",
       "  'content': '이제야 사람이 좀 적어진 더현대서울! \\n평일에 문 닫기 전에 \\n저녁 먹으러 가면 사람도 덜하구 딱이다 😊 여의도에서 일하는 언니를 만나게 되어 방문한 \\n더현대 맛집으로 유명한 호우섬!\\n여의도 맛집이니 호우섬 웨이팅도 악명이 높은데 \\n언니가 먼저 현대식품관 어플로 대기를 걸어준 덕분에 \\n우리는 도착하자마자 거의 바로 들어갔다 주문하는 디테일이 귀엽다 \\n언뜻 보면 나 대학교 앞에 있던 고른햇살이라는 분식집 이 생각나기도 한데.... 그 주문서를 또 세련되게 해석했다  호우섬에서 우리가 주문한 건 \\n소룡포 3pcs 7.0\\n마늘칩 꿔바육 18.0\\n맑은 우육탕면 9.0 - 비추\\n닭고기 조림 뽀짜이판(솥밥) 11.0 - 강추\\n(나중에 여의도 근무하는 친구한테 듣기로는\\n라구짜장 도삭면을 꼭 주문하랜다) 그린 컬러의 귀여운 물잔과 앞접시  언니가 호우섬 밀크티도 사줬어요 뀨! \\n맛은 사실 살짝 고급진 데자와와 가깝다  마늘칩 꿔바육 18.0\\n양꼬치집에서 먹는 꿔바로우랑은 살짝 다른 느낌\\n얇은 돈까스 같기도 하고 슈니첼 같기도 하고... 마늘칩이 들어가서 양념은 맛있었는데 \\n찹쌀이 강하게 느껴지지는 않았다\\n고기가 얇아서 조금 아쉬움 소룡포는 먹기 바빠서 사진도 못 찍곸ㅋㅋㅋㅋ\\n맑은 우육탕면.\\n근데 소룡포나 우육탕면이나 좀 애매했다.\\n소룡포는 여기보다 맛있는 곳이 너무 많고 \\n우육탕면도 연남동에 맛있는 곳이 너무 많고...!\\n특히 우육탕면은 면이 너무 아쉬웠다. 비추! 가장 기대했던 닭고기 조림 솥밥\\n정말정말로 맛있었다!!!! 사실 달콤짭짤한 닭고기 조림이면 뭔들이겠냐마는\\n솥밥 특유의 누룽지와 \\n재료들이 한데 어우러지는 은은한 향이랑\\n정말 잘 어울렸다 ☺️❤️ 누룽지 되기 전에 얼른얼른 먹어야 하는 게 단점!이지만 \\n충분히 맛있었음 \\n사진 더 자세히 찍어놓을걸 \\n집에서 재현하게....ㅋㅋㅋㅋㅋㅋ\\n일단 기억나는 건 \\n데리야끼 양념의 닭다리살 \\n청경채 브로콜리 표고 대나무순 물밤 기대에 비해서는 전체적으로 아쉬웠던\\n그치만 더현대 맛집 중에서는 핫한 곳이니 \\n한번쯤은 방문을 추천한다 ☺️ #더현대서울 #더현대맛집 #여의도맛집 #호우섬'},\n",
       " 24: {'title': '[여의도 더현대 맛집] 코리안 바베큐 전문점 : Sooty (수티) ',\n",
       "  'nickname': '금성키친',\n",
       "  'datetime': '2021. 9. 2. 22:09',\n",
       "  'content': '[여의도 더현대 맛집] 코리안 바베큐 전문점 : Sooty (수티)  오랜만에 잠시 여의도 더현대를 다녀왔어요. 두번째 방문인데요. \\n이전에 처음 오픈했을 때만해도 사람이 진짜 많았는데, 평일에 가서 그런지 아님 사람이 빠져서 그런지 이번에 갔을 때는 사람이 그리 많지 않았어요. \\n더현대는 지하에 진짜 맛집들이 많은데요. 이번에 제가 다녀온 곳은 수티 SOOTY입니다. \\n수티는 돼지고기로 유명한 금돼지, 삼각지에 우대 갈비로 유명한 몽탄 그리고 청담동 한우 맛집 뜨락\\n이 세가지 브랜드가 콜라보하여 만든 새로운 컨셉의 코리안 바베큐 전문점입니다.  실내 사진은 많이 못 찍었어요. 여기는 그냥 혼자 앉기 좋은 테이블이구요. 그 뒤로는 그냥 빨간 테이블로 2~3인이 앉을 수 있는 자리가 한 6~7테이블 정도 있습니다. 한 2시 20분에 가니 웨이팅은 전혀 없었고, 널럴하게 앉을 수 있었어요  메뉴는 많지 않아요. 대신 코리안 바베큐 전문점이라 오븐에서 구운 소고기, 닭을 즐길 수 있는 곳입니다.  이렇게 오븐에서 구운 닭을 미리 구경할 수 있어요.  세개 주문한 메뉴가 다 나왔습니다. \\n아 참고로 물을 따로 주지 않기 때문에 물도 따로 구매해야해요  음식은 미리 준비되어 있어서 그런지 빨리 나오더라고요  로메인 시저 샐러드입니다.  로메인이 큼지막하게 담아서 나오구요. 그 위에 드레싱과 아몬드를 곁들인 시저 샐러드입니다. \\n샐러드는 적당히 아삭하고 맛있었어요. 드레싱이 조금 느끼할 것 같았는데, 느끼하지 않고 무난했습니다.  수티 아란치니입니다. 여기 아란치니는 소고기랑 찹쌀을 완전 꽉채운 느낌이었어요  거의 미트볼을 튀긴 느낌이랄까. 그래서 그런지 크기도 생각보다 크고, 엄청 든든한 양이더라고요.\\n같이 나오는 토마토 소스도 새콤하니 조합이 괜찮았어요  그리고 오늘의 주인공이죠. 로스트 치킨입니다  초고추장 소스랑 같이 나와요. 우선 로스트 치킨이 진짜 생각보다 컸구요. 살 비닐장갑으로 막 분해하면서 먹는데 살도 엄청 많았어요. \\n그리고 먹다보니까 안건데, 안에 김치밥도 있더라고요 ㅋㅋ 뭔가 삼계탕 느낌으로 속을 꽉 채워줬습니다. \\n오븐에서 구워서 그런지 확실히 맛있었고, 가끔 밖에서 닭 먹을 때 덜 익은것 같은데? 생각 많이 했는데, 여기는 완벽히 익은 것 같아서 좋았어요  제일 맛잇었던건 로스트 치킨 > 아란치니 > 로메인 샐러드였습니다. \\n근데 사실 세 브랜드의 명성에 비해서는 막 그다지 놀라운 맛은 아니었어요. \\n엄청 맛있을걸 기대해서 그런지, 그정도는 아니였구요. 그냥 무난하게 먹을 수 있는 곳이었습니다\\n영업시간 및 오시는 길  '},\n",
       " 25: {'title': '와필레 더현대 서울 와플 맛집',\n",
       "  'nickname': '사과꽃',\n",
       "  'datetime': '2021. 7. 16. 17:21',\n",
       "  'content': \"더현대 서울 와플 맛집\\n와필레\\nWAFILLE 안녕하세요, 사과꽃입니당\\n그동안 미뤄놨던 블로그 관리하면서\\n밀렸던 포스팅도 차근차근 ㅋㅋㅋ\\n이것도 진작 쓰고 싶었는데 늦어진!\\n오늘의 포스팅은 여의도 와플 맛집 와필레 !\\n바디프로필 촬영 끝나고 다음날 더현대 갔다가\\n이것저것 열심히 구경하고 맛있는 거 사먹었어용\\n그동안 정말 먹고 싶었던 와플을 드디어 :)\\n식단 관리한다고 그 흔한 크로플과 로제 떡볶이도\\n제대로 못 먹어본 사람 ㅋ컼ㅋㅋㅋㅋ\\n로제는 심지어 아직도임... + 운영정보 +\\n평일 10:30 - 20:00\\n주말 10:30 - 20:30 백화점 안에 있는 만큼 백화점 휴무일 확인하기!\\n와필레는 이태원 맛집으로 시작했는데\\n지금은 더현대 서울 & 스타필드 안성\\n이렇게 두 곳에 입점해있습니당 XD\\n  5층은 초록초록 식물원 정원 느낌!\\n포토 스팟도 여러 곳인데 사람이 많...많...\\n5층에서 가장 유명한 가게! 블루보틀\\n블루보틀 다녀온 후기는 아래에\\n주말 웨이팅 후기 ^*^\\n블루보틀 여의도 카페 주말 웨이팅 후기\\n▼  생각보다 되게 쪼끄미한 가게에요\\n사실 저는 유명한 곳인 줄 모르고\\n그냥 와플 자체를 워낙 좋아해서 사먹었어요\\nㅋㅋㅋㅋ 사먹고 보니 이태원 맛집이었던 거시다... 젤라또 또한 여러 종류를 팔고 있어요\\n이런 저런 맛이 많았는데\\n결론부터 말하면 젤라또는 먹지 못했습니다\\n이유는 뒤에 ㅠㅠㅠㅠㅠㅠ ▲\\n와필레 더현대서울점 메뉴\\n와플은 총 다섯 종류!\\n   플레인 / 블루베리 / 초코필링 / 넛츠 / 젤라또  \\n블루베리가 베스트 메뉴라고 합니당 '-'\\n젤라또는 총 여덟 종류!\\n프렌치 바닐라 / 밀크 초콜렛 / 마스카포네 치즈 / 리조\\n딸기 밀크 / 딸기 소르베 / 요거트 / 피스타치오\\n음료 종류도 팔고 있어서 같이 즐기면 좋을 거 같아요!\\n블루보틀 웨이팅 걸어놓고 여기 온 건데\\n대기가 어마어마해서 여기서 사먹을까 싶었네요\\n하 ㅋㅋ ㅠㅠ 제가 젤라또를 먹지 못한 이유\\n먹을 수 있는 공간이 한정적이에요\\n6층에 취식 가능한 공간이 있지만\\n밀려오는 손님이 비해 좌석이 적음\\n테이블 회전률도 너무 낮음 ㅠㅠ\\n>> 금방 녹는 건 먹기 힘들다 와플만 골라서 샤샤삭 포장합니다\\n포장지가 매우 예쁘더라구요\\n체크무늬 좋아해...\\n공대생 감성..ㅎ... 와플 사고 기뻐서 열심히 사진 찍음 ㅋㅋㅋ\\n근데 저때나 지금이나 체중 별로 안 달라유..\\n많이 먹는데 운동도 그만큼 해서 그런가봐요\\n바프 끝나고 부작용 오는 사람도 꽤 많은데\\n아예 입맛이 바뀌어버린 새럼~ 플레인 / 3,800\\n제가 구매한 건 두 종류인데\\n그래도 정석부터 먹어야 하지 않겠냐고!\\n플레인부터 집어왔습니당 ㅎㅎ\\n쫀득쫀득한 와플의 맛\\n굽자마자 먹었으면 더 맛있었을텐데\\n받고 나서 시간이 쬐금 지났음에도\\n눅눅하지 않아 좋았어요! 블루베리  / 4,800\\n여기서 잘 나간다는 블루베리\\n베스트 메뉴는 또 한 번 먹어야죵\\n블루베리가 반죽 사이에 콕콕 박혀있어요\\n살짝 시럽 같은 게 발려서 달콤한데\\n단맛이 강하지 않아 좋았어요 :) IFC 잔디밭에서 먹은 건데 색감 넘 예쁘죠 ♥\\n담백하고 쫄깃한 맛이라 좋았지만\\n와플 두 개 먹었더니 거의 만원... 다소 비쌈\\n기회가 되면 다른 맛도 도전할 의향이 있지만\\n대기가 엄청 많으면 굳이 줄 서지는 않을 듯!\\n이 정도의 설명이면 감이 오시려나용 ㅎㅎㅎ\\n와플 맛집 와필레 후기 끝!\"},\n",
       " 26: {'title': '[더현대 맛집] 미쉐린 가이드에 나온 \"밀본\"에 다녀오다! 여의도 생활의달인 한식 맛집(칼국수&고기덮밥)',\n",
       "  'nickname': '야티파오',\n",
       "  'datetime': '2021. 12. 26. 7:40',\n",
       "  'content': '지난번에 포스팅했던 \"더현대서울 가볼만한 곳\" 포스팅 기억하시나요?!\\n그때 자세히 다루지 못했던 더현대 맛집 \"밀본\" 리뷰를 해보려고 합니다! 밀본은 성수동에 본점이 있는 맛집인데요! 무려 \"미슐랭 1스타\"를 받은 식당이고, SBS 생활의달인에서 고기덮밥 달인으로 출연하셨다고 해요!\\n대표메뉴는 칼국수와 고기덮밥인데, 한식을 좋아하는 저로서는 완전 가보고 싶은 식당이었어요! 더현대 서울에 마침 밀본 분점이 있다는 소식에 댕겨와보았습니다!\\n칼국수라면 바지락칼국수도 좋아하고, 사골칼국수도 좋아하지만 개인적으로는 명동칼국수 같은 진한 사골육수가 더 땡기더라고요! 밀본은 사골육수인 칼국수랍니다. 더현대 지하1층 푸드코트에 위치해있어요!\\n그럼 바로 리뷰 시작해보겠습니다! 밀본\\n더현대서울 지하1층  인테리어가 완전 깔끔하고, 세련되어서 좋았습니다! 식당 앞에는 생활의달인 명패와 미슐랭 명패가 딱! 붙어있습니다. 그런데 여러분 혹시 미슐랭과 미쉐린의 차이가 뭔지 아시나요?! 저 이거 두개가 같은 말이라는거 이번에 처음 알았어요ㅋㅋㅋㅋㅋㅋ 영어를 그대로 읽으면 미쉐린, 프랑스 발음으로 읽으면 미슐랭이라고 하더라고요! 점심시간에는 손님이 많아서 대기를 해야하는 경우가 많습니다!\\n칼국수는 10000원, 고기덮밥은 10000원, 비빔물국수 10000원, 만둣국은 12000원, 갈비탕은 16000원이었습니다.\\n군만두 한접시에는 8개가 들어있는데 14000원이었고, 녹두전은 13000원이었어요! 반찬은 요렇게 나온답니다! 저희는 고기덮밥 2개랑 비빔물국수 1개, 칼국수 1개랑 군만두 한접시를 주문했습니다! 저는 고기덮밥을 주문했어요! \\n고기덮밥위에 아스파라거스가 한개 올라가 있습니다. 칼국수 국물도 제공되어서 좋았어요!\\n친구들이ㅋㅋㅋㅋ 살짝 비주얼이 개밥같다고ㅋㅋㅋㅋ 하긴 했지만 고기에 양념이 잘 배어있었습니다!\\n전 개인적으로 군만두가 엄청 맛있었어요! 한개에 거의 2000원 꼴이어서 살짝 비싸긴 하지만 비싼 값어치를 하더라고요! 군만두 꼭 드시는 걸 추천드립니당 한상차림입니다! 칼국수 국물을 먹어봤는데 계속 땡기는 국물 맛이었습니다!\\n비빔물국수 시킨 친구도 맛있다고 하더라고요! 더현대 서울에서 적당한 가격대에 깔끔하고, 정갈한 한식을 드시고 싶다면 \"밀본\" 추천드립니다!'},\n",
       " 27: {'title': '[테일러 커피] 더현대 서울 크림모카 커피 맛집',\n",
       "  'nickname': '신지곰',\n",
       "  'datetime': '2021. 12. 16. 10:10',\n",
       "  'content': '안녕하세요. \\n지난번에 여의도에 다녀왔을때 다녀온 테일러 커피입니다. \\n처음에 더현대 서울(현대백화점)이 오픈했을때 사람들이 엄청 많았다고 했는데, 제가 방문했을때는 그정도는 아니였어요. ㅎㅎ \\n아무튼 더현대 서울에는 고급스러운 브랜드 들이 많이 입점해 있더라고요. \\n구경하다가 지쳐서 커피한잔 하려고 방문했습니다. \\n와이프가 맛있는 카페라고 해서요. \\n찾아보니 몇몇 지점을 보유한 유명한 카페네요.  메뉴판입니다. \\n시그니처 메뉴는 크림모카입니다. \\n테일러커피는 쫀득한 크림이 돋보이는 카페라고 하네요. \\n아메리카노 가격으로보면 4,500원으로 되게 비싼 느낌은 아닙니다. \\n그리고 더현대 서울이라는 고급 백화점임을 감안하면 더 그렇죠. 매장은 세련되고 깔끔하긴합니다. \\n주문한 메뉴를 기다리는 동안 매장을 둘러봅니다. \\n(사실 테일러 커피에 사람들이 좀 있는 편이더라고요. ) 요렇게 디저트류도 있네요. \\n그러나 분위기는 여유있게 디저트를 먹고 그럴만한 분위기는 아닙니다. \\n뭔가 백화점 내에 있는 매장이라 그런지, 편하게 쉬다가는 매장이라기보단 딱 커피 한잔 마시고 얼른 일어나야할거 같은 느낌까지 듭니다.  카운터쪽은  괜찮은데, 앉을 수 있는 자리가 참 불편하게 되어있달까요. \\n저희도 커피한잔 마시는 20분 정도 앉아있다가 일어난거 같아요 ㅎㅎ  테일러커피의 다양한 제품들이 전시되어있더라고요. \\n네스프레소 캡슐머신에 사용가능한 캡슐을 비롯하여 드립백도 있네요.  컵과 원두도 구매할 수 있네요. \\n그냥 구경만 합니다. ㅎㅎ  저희가 주문한 크림모카가 나왔습니다. \\n잔이 큰편은 아니라 양이 많지는 않습니다.\\n그래도 쫀쫀한 크림이 커피 위를 포옥 덮고 있네요.  크림은 쫀쫀하고 맛있긴 하더라고요 ㅎㅎㅎ\\n왜 시그니처 메뉴인지 알 수 있었어요. \\n요런 크림은 어떻게 만드는지 저도 배워보고 싶네요.  쇼핑으로 지친 몸에 카페인과 당분이 들어오니깐 다시 힘이 도는거 같습니다. \\n편하게 앉아서 쉬긴 힘들지만.... \\n딱 커피 한잔으로 체력을 보충해서, 다시 열심히 쇼핑을 !!! 하시면 좋을거 같네요.  커피 맛은 진짜 맛있네요. \\n다른 매장을 찾아가봐야겠습니다. \\n좀 여유롭게 커피를 음미하고 싶어요 ㅎㅎ \\n제가 계속 이렇게 이야기 하는 이유는 자리 때문인데요. \\n아래 사진을 보시면... ㅎㅎ \\n저희 등뒤로 또 다른 사람들이 오붓하게 등을 맞대며 안는 구조입니다.  와이프랑 마주보며 앉을수도 없지요 ㅎㅎ \\n공간적인 제약과 회전률을 고려한 세팅이겠지만 ㅎㅎ \\n좀 너무하단 생각이 듭니다. \\n자리도 돌땡이라 편하지 않아요 ㅠㅠ  매장 한편에는 더치기구들이 있네요. \\n제가 방문했을때는 인테리어용인지 잠시 쉬고 있는 중인지 더치기구를 사용하진 않더라고요 ㅎㅎ  더티 기구에서 더치 커피 한반울씩 떨어지는거 보는 재미도 있는데 말이죠 ㅎㅎ \\n아무튼 더현대 서울 방문해서 아이쇼핑도 즐기고, 맛있는 커피를 한잔 하고 왔네요. \\n더현대 서울에서 잠깐의 쉽을 느끼고 싶으신 분은 테일러 커피 방문해보시길 추천드립니다. \\n크림이 정말맛있습니다!!!  #더현대서울 #현대백화점 #테일러커피 #크림모카'},\n",
       " 28: {'title': '여의도 더현대 맛집 베트남 쌀국수 @효뜨(HIEUTU)',\n",
       "  'nickname': '맛초이\\n(kahichoi)',\n",
       "  'datetime': '2021. 12. 28. 21:45',\n",
       "  'content': '크리스마스 다음날, \\n서울에 한파주의보가 내린 주말.\\n크리스마스를 같이 즐기지 못한 남자친구와 나는\\n강추위를 뚫고 꾸역꾸역 여의도 <더 현대 서울>에 다녀왔다.\\n추위에 머리가 지끈해질 즈음\\n남자친구는 따끈한 국물을 먹자며\\n수많은 맛집 중 <효뜨>로 나를 이끌었다.\\n효뜨는 여의도 더 현대 서울 이외에도\\n신용산 본점, 정자동 효뜨관, 압구정 현대백화점 본점\\n에서도 맛볼 수 있다. 런치메뉴\\n디너에 비해 주문할 수 있는 메뉴의 가짓수가 적다. 디너메뉴\\n런치와 디너로 주문할 수 있는 메뉴가 나뉘어져 있다.\\n디너 메뉴는 4시 이후 부터 주문가능하고,\\n우리는 5시쯤 방문하여 디너메뉴를 이용했다. 넴 5,000\\n사이드 메뉴로 주문한 넴.\\n피쉬소스와 양파피클을 같이 내어주신다.\\n내용물도 알차고, 고소하다.\\n일행과 하나씩 나눠먹기에 좋다. 얼큰 소고기 쌀국수 14,000\\n남자친구의 주문메뉴.\\n최근 성수 <타논55>를 다녀온 후로 매운맛 쌀국수에 푹 빠진 사람.\\n국물맛이 깔끔하고 얼큰하니 추운 날씨에 먹기 제격.\\n면과 파채, 양파, 숙주를 같이 어울리면 아삭아삭한 식감이 좋다. 퍼싸오 23,000\\n내가 주문한 볶음면.\\n같이 주는 피시소스를 부어먹는 방식이다.\\n새우와 돼지고기 그리고 면까지 양이 꽤 많다.\\n센불에서 볶아 그런지 불향이 좋고, 짭짤한 메뉴. 고수를 추가하면 조금씩 접시에 내어주신다(+0) 홀 테이블 간격은 넓지 않은 편이었고,\\n주말 5시 이후에 방문해서 웨이팅 없이 식사가능했다.\\n(입장시 백화점 입장과는 별개로 한번 더 QR코드 체크한다.)\\n이렇게 먹는데 총 42,000원이 나왔고,\\n맛있고 배부르게 먹었지만, 쌀국수치고는 비싼편이라고 생각한다. ✔더현대 효뜨 영업시간\\n평일 10:30~20:00 (15:00~16:30 브레이크타임)\\n                                  (19:30 라스트 오더)\\n주말 10:30~20:30 (14:00~17:00 브레이크타임)\\n                                  (20:00 라스트 오더)\\n✔더현대 효뜨 위치 ✔효뜨 인스타그램 '},\n",
       " 29: {'title': '여의도 맛집 핫플 : IFC 쓰리버즈 브런치, 더현대 블루보틀, 워킹맘연차',\n",
       "  'nickname': '삐삐',\n",
       "  'datetime': '2021. 10. 30. 12:54',\n",
       "  'content': '여의도 맛집 핫플\\nIFC 쓰리버즈 브런치, 더현대 블루보틀, 워킹맘연차 \\n2021.10.07\\n와우 연차다!\\n얼마만의 연차인지\\n자부요정이랑 찐하게 만나려면 이렇게 연차정도는 써야함\\n정말 가끔은 나도 아이와 집에 집중하고 싶은 때가 많아진다.\\n뭔가 심숭생숭 드렁드렁하던 10월\\n힐링과 쉼이 필요해 - \\n요정님이랑 데이트 고고\\n이날은 연차니깐 나도 마음이 좀 느긋해져서 -\\n우리 꾸꾸 늦잠좀 재웠다.\\n매일 7시부터 부지런히 준비해서 7시 30분이면 차타는데..\\n이날은 8시까지 푹 재움 마음이 편하다.\\n등원시키고, 엄마 회사다녀올께 빠이빠이 하고 \\n엄마는 여의도로 케케\\n아 남들 출근할때 쉬는 공기 너무 좋구나\\n평일 여의도 한산하고 아주좋다.\\nIFC 오픈하자마자 옴 ㅋㅋ\\n먼저 IFC 브런치카페 쓰리버즈부터 고고 IFC몰 내부에 없고, 외부에 있다.\\n쉽게 찾는 방법은 L1에서 나가는게 제일 빠름 ㅎㅎ 지난번 가족끼리 왔던 삼거리푸줏간이랑 같은 공간을 쓰고있다.\\n그때는 밤에 왔었는데, 이번에는 낮에 ㅎ 꺅 아침에 내가 브런치라니 \\nㅠㅠㅠ감동적이야 감격적\\n우리 진짜 힐링하잣 ㅎ\\n쓰리버즈 들어오자마자 벌써 공기가 달라 ㅋㅋ 역시 출근을 안하니 때깔부터 다르네 ㅋㅋ\\n피부 아직 살아있네 ㅋㅋㅋㅋㅋㅋㅋ 연차를 쓰니 모든것이 아름다워 보이는 마법 ㅋㅋㅋ\\n브런치 메뉴는 11시가 되야된다고 했다.\\n그래서 일단 크로아상이랑 뺑오쇼콜라에 아아  라자냐\\n홈메이드 미트소스랑 모짜렐라치즈, 구운가지를 켜켜이 올려서 만든 메뉴\\n진짜 맛있었다.\\n여기 시그니처  시즈널브라타샐러드\\nㅠㅠ 샐러드도 너무 좋아 ㅠ \\n크리미한 브라타와 시즌과일, 그리고 루꼴라\\n진짜 맛있었다.  둘다 포토타임 가지고 ㅋㅋㅋ\\n이게 바로 행복이지요 ㅋㅋㅋㅋ 표정관리 못하는거봐 ㅋㅋㅋ\\n겁나 신났군 ㅋ\\n요정님이랑 함께라 더 신나고 행복해 ㅎ\\n나 근데 이제 평일연차 당분간 못써 ㅠ ㅠ 흑흑\\n1월쯤 되면 평일데이트 할수있을까 ㅠㅠㅠ  그리고 이제 빠르게 더현대로 무브무브\\n주말에 오면 박터질테니 평일에 오기 \\n정말 더현대 생긴지 반년도 넘은 것 같은데...이제서야 발을 들인다. ㅠ\\n아 슬퍼 ㅠ 너무 늦게왔쪙 ㅠ \\n블루보틀로 돌진!\\n여기는 우리 요정님 추천장소 \\n고고씽  오자마자 일단 대기번호 적고, 카톡오면 바로 대기줄 서기 ㅋ\\n평일이라 그나마 짧았던듯  헤헤\\n블루보틀 뿌셔뿌셔 남들 다 찍는 자리에서 나도 찍기 ㅎ 우리는 놀라플로트랑 뉴올리언스를 주문했다.  헤헤 맛있담 ㅎㅎ\\n이날 진짜 표정관리 안되고 신났네 ㅎㅎ 더현대 5층에서 천천히 산책하고 놀멍쉬멍\\n아니 시간 왜이렇게 잘가  역시 여사친 요정님과 함께라 사진도 많이 찍고 놀고 ㅋㅋ\\n재밌다 재밌어 ㅋㅋ 시간 너무 잘간다\\n놀다보니 정말 화살같네 시간이\\n벌써 하원시간됨 ㅠ \\n애데렐라 모드로 변신 ㅋㅋ\\n다음에 꼭 우리 꾸꾸 데리구 와야지\\n하원길에 중간에 여기와서 놀면 되겠네  정말 며칠뒤 아이랑 더현대에서 놀게됐는데...ㅋ\\n그후기는 또 언제쓰나 ㅋㅋㅋㅋ\\n아무튼 연차 덕분에 여의도에서 너무너무 신나게 잘 놀았다.\\n우리 요정님과의 자부타임은 또 언제가 될까 \\n우리 또 약속잡아보잣 ♥♥♥♥♥♥ '}}"
      ]
     },
     "execution_count": 110,
     "metadata": {},
     "output_type": "execute_result"
    }
   ],
   "source": [
    "dict"
   ]
  },
  {
   "cell_type": "code",
   "execution_count": 111,
   "metadata": {
    "id": "MP_grQXm-kvv",
    "outputId": "94e65bb2-0e12-48ea-be55-fb1731c3ac1f"
   },
   "outputs": [
    {
     "data": {
      "text/html": [
       "<div>\n",
       "<style scoped>\n",
       "    .dataframe tbody tr th:only-of-type {\n",
       "        vertical-align: middle;\n",
       "    }\n",
       "\n",
       "    .dataframe tbody tr th {\n",
       "        vertical-align: top;\n",
       "    }\n",
       "\n",
       "    .dataframe thead th {\n",
       "        text-align: right;\n",
       "    }\n",
       "</style>\n",
       "<table border=\"1\" class=\"dataframe\">\n",
       "  <thead>\n",
       "    <tr style=\"text-align: right;\">\n",
       "      <th></th>\n",
       "      <th>title</th>\n",
       "      <th>nickname</th>\n",
       "      <th>datetime</th>\n",
       "      <th>content</th>\n",
       "    </tr>\n",
       "  </thead>\n",
       "  <tbody>\n",
       "    <tr>\n",
       "      <th>0</th>\n",
       "      <td>여의도 더현대 맛집 :: 취향대로 골라 먹기, 잇샐러드</td>\n",
       "      <td>로폰</td>\n",
       "      <td>2021. 10. 21. 16:39</td>\n",
       "      <td>오늘은 일전에 비욘더로드 전시회를 관람하면서 들러본 여의도 더현대 맛집, 잇샐러드 ...</td>\n",
       "    </tr>\n",
       "    <tr>\n",
       "      <th>1</th>\n",
       "      <td>여의도 더현대 맛집 혼자 먹은 쌀국수 미쳤다</td>\n",
       "      <td>문지기</td>\n",
       "      <td>2021. 11. 30. 19:57</td>\n",
       "      <td>11월 12일 금요일 연차날, 아침부터 바쁘다 바뻐\\n난 쉬는 날 왜 집에 있지를 ...</td>\n",
       "    </tr>\n",
       "    <tr>\n",
       "      <th>2</th>\n",
       "      <td>일품이었던 여의도 더현대 맛집</td>\n",
       "      <td>심콩</td>\n",
       "      <td>2021. 10. 12. 14:03</td>\n",
       "      <td>지난 주말에 친구와 여의도에서 쇼핑하고서 여의도 더현대 맛집에서 점심을 먹었어요 :...</td>\n",
       "    </tr>\n",
       "    <tr>\n",
       "      <th>3</th>\n",
       "      <td>손꼽았던 더현대 서울 맛집</td>\n",
       "      <td>떵워닝\\n(iam_swoniii)</td>\n",
       "      <td>2021. 11. 12. 18:06</td>\n",
       "      <td>며칠전 절친과 함께 쇼핑을 갔다가 더현대 서울 맛집에서 협찬을 받아 저녁식사를 먹고...</td>\n",
       "    </tr>\n",
       "    <tr>\n",
       "      <th>4</th>\n",
       "      <td>여의도 더현대 카페 레이어드 서울 스콘 맛집 인정</td>\n",
       "      <td>바이비엥</td>\n",
       "      <td>2021. 12. 20. 15:31</td>\n",
       "      <td>얼마 전 여의도 더현대에 다녀왔습니다  \\n평일 낮 시간대의 방문이라 \\n예상한 ...</td>\n",
       "    </tr>\n",
       "    <tr>\n",
       "      <th>5</th>\n",
       "      <td>더현대 수제버거 맛집 - 번패티번 사진 및 후기</td>\n",
       "      <td>황꼬</td>\n",
       "      <td>2021. 12. 21. 15:16</td>\n",
       "      <td>안녕하세요!\\n레이첼입니다 오늘은\\n더현대 버거 맛집\\n번 패티 번\\n후기를 갖고 ...</td>\n",
       "    </tr>\n",
       "    <tr>\n",
       "      <th>6</th>\n",
       "      <td>여의도 중식 헤이웍by초류향 더현대 맛집으로 인정!</td>\n",
       "      <td>거위</td>\n",
       "      <td>2021. 10. 28. 14:00</td>\n",
       "      <td>여러분 안녕하세요:)\\n이번 주에는 아주아주 맛있는 중식을 먹고 왔습니다~\\n맛있는...</td>\n",
       "    </tr>\n",
       "    <tr>\n",
       "      <th>7</th>\n",
       "      <td>[여의도 더현대 맛집] 로바  - 회식하기 딱이야 125,000원 단독룸 디너코스B</td>\n",
       "      <td>문썬\\n(sielle83)</td>\n",
       "      <td>2021. 11. 30. 11:20</td>\n",
       "      <td>로바 / 영등포구 여의대로 108 (여의도동 22) 더현대서울 6층\\n전화번호 02...</td>\n",
       "    </tr>\n",
       "    <tr>\n",
       "      <th>8</th>\n",
       "      <td>더현대 맛집 냄비요리연구소 내돈내산</td>\n",
       "      <td>알라미\\n(ariel_0402)</td>\n",
       "      <td>2021. 12. 2. 13:00</td>\n",
       "      <td>더현대 맛집 냄비요리연구소 내돈내산\\n몇일 전 다녀온줄 알았는데\\n알고보니 열흘이나...</td>\n",
       "    </tr>\n",
       "    <tr>\n",
       "      <th>9</th>\n",
       "      <td>더현대 서울 맛집모음 \"마츠노하나, 수티, 번패티번, 카페\"</td>\n",
       "      <td>충만</td>\n",
       "      <td>2021. 12. 24. 0:00</td>\n",
       "      <td>음식점, 카페 모음\\n더현대 서울은 집에서 버스 하나만 타면 한 번에 갈 수 있어...</td>\n",
       "    </tr>\n",
       "    <tr>\n",
       "      <th>10</th>\n",
       "      <td>더현대 서울 지하 1층 맛집과 카페들(Feat. 카페 레이어드)</td>\n",
       "      <td>여행작가 Sue\\n(cutetnwls)</td>\n",
       "      <td>2021. 9. 6. 14:00</td>\n",
       "      <td>사실 인기가 좀 시들해지면 가려 했던 여의도 현대백화점, 더현대 서울.\\n그런데 좀...</td>\n",
       "    </tr>\n",
       "    <tr>\n",
       "      <th>11</th>\n",
       "      <td>더현대 맛집, 번패티번 카멜커피 아기랑 핫플투어</td>\n",
       "      <td>유이\\n(kallilogue)</td>\n",
       "      <td>2021. 11. 19. 9:57</td>\n",
       "      <td>예전부터 넘 가보고 싶었던 여의도 더현대 서울\\n외쿡 분위기가 난다고도 하고\\n각종...</td>\n",
       "    </tr>\n",
       "    <tr>\n",
       "      <th>12</th>\n",
       "      <td>여의도 더현대 맛집 중식 헤이웍 by 초류향</td>\n",
       "      <td>달달비타민</td>\n",
       "      <td>2021. 11. 18. 22:06</td>\n",
       "      <td>서방이 다시 여의도에서 일하다보니\\n여의도 맛집들 찾게 되고\\n자연스럽게 더현대를 ...</td>\n",
       "    </tr>\n",
       "    <tr>\n",
       "      <th>13</th>\n",
       "      <td>여의도 더현대 맛집, 여의도중식 헤이웍by 초류향 별미네요!</td>\n",
       "      <td>찡긋\\n(redcherry88)</td>\n",
       "      <td>2021. 11. 15. 22:37</td>\n",
       "      <td>안녕하세요. 찡긋입니다. \\n여전히 가장 핫플레이스! 더현대서울. \\n주말에 남편이...</td>\n",
       "    </tr>\n",
       "    <tr>\n",
       "      <th>14</th>\n",
       "      <td>여의도 더현대 맛집 헤이웍by초류향 중식 추천</td>\n",
       "      <td>철새양</td>\n",
       "      <td>2021. 11. 11. 11:42</td>\n",
       "      <td>여의도 더현대 맛집 중식 찾고 \\n계시다면 초류향 어떠세요?\\n전국의 맛집이 다 모...</td>\n",
       "    </tr>\n",
       "    <tr>\n",
       "      <th>15</th>\n",
       "      <td>맛집;) 여의도 더현대 #에그슬럿 #카멜커피 #태극당</td>\n",
       "      <td>북한산북극곰</td>\n",
       "      <td>2021. 12. 26. 22:39</td>\n",
       "      <td>파크원타워 오픈하고 바로 갔었던 더현대\\n그때 웨이팅이 어마어마하던 시절, 난 파크...</td>\n",
       "    </tr>\n",
       "    <tr>\n",
       "      <th>16</th>\n",
       "      <td>여의도 더현대 맛집 헤이웍 by 초류향 중식 추천</td>\n",
       "      <td>꿀이언니</td>\n",
       "      <td>2021. 11. 1. 14:52</td>\n",
       "      <td>헤이웍 by 초류향 더현대서울점\\n# 여의도더현대맛집 # 더현대맛집\\n# 여의도중식...</td>\n",
       "    </tr>\n",
       "    <tr>\n",
       "      <th>17</th>\n",
       "      <td>[서울] 여의도 더현대 호우섬 (왜 맛집이죠?)</td>\n",
       "      <td>Eden</td>\n",
       "      <td>23시간 전</td>\n",
       "      <td>여의도 더현대 맛집으로 느므느므 유명한 곳이길래 한껏 기대하고 방문한 호우섬. 평일...</td>\n",
       "    </tr>\n",
       "    <tr>\n",
       "      <th>18</th>\n",
       "      <td>여의도 맛집 콩국수 명가 진주집과 더현대 서울 블루보틀 티파니 팝업스토어 답사기</td>\n",
       "      <td>아슬란</td>\n",
       "      <td>2021. 12. 11. 17:42</td>\n",
       "      <td>두번째 회사가 여의도에 있었다. \\n증권회사들이 많았던 여의도 골목들 사이에... ...</td>\n",
       "    </tr>\n",
       "    <tr>\n",
       "      <th>19</th>\n",
       "      <td>(여의도맛집) 더현대 나이스타임 '올드페리 도넛' 후기</td>\n",
       "      <td>정이\\n(tlsduswjd88)</td>\n",
       "      <td>2021. 11. 6. 9:51</td>\n",
       "      <td>더현대 나이스타임 '올드페리 도넛' 후기\\n오랜만에 다녀온 #더현대서울 \\n서울에 ...</td>\n",
       "    </tr>\n",
       "    <tr>\n",
       "      <th>20</th>\n",
       "      <td>여의도 더현대 호우섬_딤섬맛집_내돈내산후기</td>\n",
       "      <td>뽀또군의 유학사랑\\n(yourang5177)</td>\n",
       "      <td>2021. 12. 22. 15:22</td>\n",
       "      <td>안녕하세요!!\\n뽀또군의 유학사랑입니다^^ 서울출장을 가게되면 꼭 맛집을 다녀오려고...</td>\n",
       "    </tr>\n",
       "    <tr>\n",
       "      <th>21</th>\n",
       "      <td>여의도 더현대 근처 맛집 한암동</td>\n",
       "      <td>에일리 AILEE\\n(ahy4880)</td>\n",
       "      <td>2021. 8. 15. 12:32</td>\n",
       "      <td>안녕하세요 에일리 입니다. \\n오늘은 여의도 더현대서울 근처 한우맛집 한암동 후기를...</td>\n",
       "    </tr>\n",
       "    <tr>\n",
       "      <th>22</th>\n",
       "      <td>♥여의도 더현대 맛집 - '헤이웍 BY 초류향'에서 중식 1인정식 혼밥 추천♥</td>\n",
       "      <td>하듸</td>\n",
       "      <td>2021. 12. 9. 22:06</td>\n",
       "      <td>여의도 더현대가 생기면서\\n초창기에 방문했다가 사람 개많아서\\n더이상 안 온다 했던...</td>\n",
       "    </tr>\n",
       "    <tr>\n",
       "      <th>23</th>\n",
       "      <td>더현대 맛집 호우섬 / 솥밥 필수 홍콩 맛집</td>\n",
       "      <td>로디\\n(77chance77)</td>\n",
       "      <td>2021. 7. 7. 7:09</td>\n",
       "      <td>이제야 사람이 좀 적어진 더현대서울! \\n평일에 문 닫기 전에 \\n저녁 먹으러 가면...</td>\n",
       "    </tr>\n",
       "    <tr>\n",
       "      <th>24</th>\n",
       "      <td>[여의도 더현대 맛집] 코리안 바베큐 전문점 : Sooty (수티)</td>\n",
       "      <td>금성키친</td>\n",
       "      <td>2021. 9. 2. 22:09</td>\n",
       "      <td>[여의도 더현대 맛집] 코리안 바베큐 전문점 : Sooty (수티)  오랜만에 잠시...</td>\n",
       "    </tr>\n",
       "    <tr>\n",
       "      <th>25</th>\n",
       "      <td>와필레 더현대 서울 와플 맛집</td>\n",
       "      <td>사과꽃</td>\n",
       "      <td>2021. 7. 16. 17:21</td>\n",
       "      <td>더현대 서울 와플 맛집\\n와필레\\nWAFILLE 안녕하세요, 사과꽃입니당\\n그동안 ...</td>\n",
       "    </tr>\n",
       "    <tr>\n",
       "      <th>26</th>\n",
       "      <td>[더현대 맛집] 미쉐린 가이드에 나온 \"밀본\"에 다녀오다! 여의도 생활의달인 한식 ...</td>\n",
       "      <td>야티파오</td>\n",
       "      <td>2021. 12. 26. 7:40</td>\n",
       "      <td>지난번에 포스팅했던 \"더현대서울 가볼만한 곳\" 포스팅 기억하시나요?!\\n그때 자세히...</td>\n",
       "    </tr>\n",
       "    <tr>\n",
       "      <th>27</th>\n",
       "      <td>[테일러 커피] 더현대 서울 크림모카 커피 맛집</td>\n",
       "      <td>신지곰</td>\n",
       "      <td>2021. 12. 16. 10:10</td>\n",
       "      <td>안녕하세요. \\n지난번에 여의도에 다녀왔을때 다녀온 테일러 커피입니다. \\n처음에 ...</td>\n",
       "    </tr>\n",
       "    <tr>\n",
       "      <th>28</th>\n",
       "      <td>여의도 더현대 맛집 베트남 쌀국수 @효뜨(HIEUTU)</td>\n",
       "      <td>맛초이\\n(kahichoi)</td>\n",
       "      <td>2021. 12. 28. 21:45</td>\n",
       "      <td>크리스마스 다음날, \\n서울에 한파주의보가 내린 주말.\\n크리스마스를 같이 즐기지 ...</td>\n",
       "    </tr>\n",
       "    <tr>\n",
       "      <th>29</th>\n",
       "      <td>여의도 맛집 핫플 : IFC 쓰리버즈 브런치, 더현대 블루보틀, 워킹맘연차</td>\n",
       "      <td>삐삐</td>\n",
       "      <td>2021. 10. 30. 12:54</td>\n",
       "      <td>여의도 맛집 핫플\\nIFC 쓰리버즈 브런치, 더현대 블루보틀, 워킹맘연차 \\n202...</td>\n",
       "    </tr>\n",
       "  </tbody>\n",
       "</table>\n",
       "</div>"
      ],
      "text/plain": [
       "                                                title  \\\n",
       "0                      여의도 더현대 맛집 :: 취향대로 골라 먹기, 잇샐러드   \n",
       "1                            여의도 더현대 맛집 혼자 먹은 쌀국수 미쳤다   \n",
       "2                                    일품이었던 여의도 더현대 맛집   \n",
       "3                                      손꼽았던 더현대 서울 맛집   \n",
       "4                        여의도 더현대 카페 레이어드 서울 스콘 맛집 인정    \n",
       "5                          더현대 수제버거 맛집 - 번패티번 사진 및 후기   \n",
       "6                        여의도 중식 헤이웍by초류향 더현대 맛집으로 인정!   \n",
       "7      [여의도 더현대 맛집] 로바  - 회식하기 딱이야 125,000원 단독룸 디너코스B   \n",
       "8                                 더현대 맛집 냄비요리연구소 내돈내산   \n",
       "9                   더현대 서울 맛집모음 \"마츠노하나, 수티, 번패티번, 카페\"   \n",
       "10                더현대 서울 지하 1층 맛집과 카페들(Feat. 카페 레이어드)   \n",
       "11                         더현대 맛집, 번패티번 카멜커피 아기랑 핫플투어   \n",
       "12                           여의도 더현대 맛집 중식 헤이웍 by 초류향   \n",
       "13                  여의도 더현대 맛집, 여의도중식 헤이웍by 초류향 별미네요!   \n",
       "14                          여의도 더현대 맛집 헤이웍by초류향 중식 추천   \n",
       "15                      맛집;) 여의도 더현대 #에그슬럿 #카멜커피 #태극당   \n",
       "16                        여의도 더현대 맛집 헤이웍 by 초류향 중식 추천   \n",
       "17                         [서울] 여의도 더현대 호우섬 (왜 맛집이죠?)   \n",
       "18      여의도 맛집 콩국수 명가 진주집과 더현대 서울 블루보틀 티파니 팝업스토어 답사기    \n",
       "19                     (여의도맛집) 더현대 나이스타임 '올드페리 도넛' 후기   \n",
       "20                            여의도 더현대 호우섬_딤섬맛집_내돈내산후기   \n",
       "21                                 여의도 더현대 근처 맛집 한암동    \n",
       "22        ♥여의도 더현대 맛집 - '헤이웍 BY 초류향'에서 중식 1인정식 혼밥 추천♥   \n",
       "23                           더현대 맛집 호우섬 / 솥밥 필수 홍콩 맛집   \n",
       "24             [여의도 더현대 맛집] 코리안 바베큐 전문점 : Sooty (수티)    \n",
       "25                                   와필레 더현대 서울 와플 맛집   \n",
       "26  [더현대 맛집] 미쉐린 가이드에 나온 \"밀본\"에 다녀오다! 여의도 생활의달인 한식 ...   \n",
       "27                         [테일러 커피] 더현대 서울 크림모카 커피 맛집   \n",
       "28                     여의도 더현대 맛집 베트남 쌀국수 @효뜨(HIEUTU)   \n",
       "29          여의도 맛집 핫플 : IFC 쓰리버즈 브런치, 더현대 블루보틀, 워킹맘연차   \n",
       "\n",
       "                    nickname             datetime  \\\n",
       "0                         로폰  2021. 10. 21. 16:39   \n",
       "1                        문지기  2021. 11. 30. 19:57   \n",
       "2                         심콩  2021. 10. 12. 14:03   \n",
       "3         떵워닝\\n(iam_swoniii)  2021. 11. 12. 18:06   \n",
       "4                       바이비엥  2021. 12. 20. 15:31   \n",
       "5                         황꼬  2021. 12. 21. 15:16   \n",
       "6                         거위  2021. 10. 28. 14:00   \n",
       "7             문썬\\n(sielle83)  2021. 11. 30. 11:20   \n",
       "8          알라미\\n(ariel_0402)   2021. 12. 2. 13:00   \n",
       "9                         충만   2021. 12. 24. 0:00   \n",
       "10     여행작가 Sue\\n(cutetnwls)    2021. 9. 6. 14:00   \n",
       "11          유이\\n(kallilogue)   2021. 11. 19. 9:57   \n",
       "12                     달달비타민  2021. 11. 18. 22:06   \n",
       "13         찡긋\\n(redcherry88)  2021. 11. 15. 22:37   \n",
       "14                       철새양  2021. 11. 11. 11:42   \n",
       "15                    북한산북극곰  2021. 12. 26. 22:39   \n",
       "16                      꿀이언니   2021. 11. 1. 14:52   \n",
       "17                      Eden               23시간 전   \n",
       "18                       아슬란  2021. 12. 11. 17:42   \n",
       "19         정이\\n(tlsduswjd88)    2021. 11. 6. 9:51   \n",
       "20  뽀또군의 유학사랑\\n(yourang5177)  2021. 12. 22. 15:22   \n",
       "21      에일리 AILEE\\n(ahy4880)   2021. 8. 15. 12:32   \n",
       "22                        하듸   2021. 12. 9. 22:06   \n",
       "23          로디\\n(77chance77)     2021. 7. 7. 7:09   \n",
       "24                      금성키친    2021. 9. 2. 22:09   \n",
       "25                       사과꽃   2021. 7. 16. 17:21   \n",
       "26                      야티파오   2021. 12. 26. 7:40   \n",
       "27                       신지곰  2021. 12. 16. 10:10   \n",
       "28           맛초이\\n(kahichoi)  2021. 12. 28. 21:45   \n",
       "29                        삐삐  2021. 10. 30. 12:54   \n",
       "\n",
       "                                              content  \n",
       "0   오늘은 일전에 비욘더로드 전시회를 관람하면서 들러본 여의도 더현대 맛집, 잇샐러드 ...  \n",
       "1   11월 12일 금요일 연차날, 아침부터 바쁘다 바뻐\\n난 쉬는 날 왜 집에 있지를 ...  \n",
       "2   지난 주말에 친구와 여의도에서 쇼핑하고서 여의도 더현대 맛집에서 점심을 먹었어요 :...  \n",
       "3   며칠전 절친과 함께 쇼핑을 갔다가 더현대 서울 맛집에서 협찬을 받아 저녁식사를 먹고...  \n",
       "4    얼마 전 여의도 더현대에 다녀왔습니다  \\n평일 낮 시간대의 방문이라 \\n예상한 ...  \n",
       "5   안녕하세요!\\n레이첼입니다 오늘은\\n더현대 버거 맛집\\n번 패티 번\\n후기를 갖고 ...  \n",
       "6   여러분 안녕하세요:)\\n이번 주에는 아주아주 맛있는 중식을 먹고 왔습니다~\\n맛있는...  \n",
       "7   로바 / 영등포구 여의대로 108 (여의도동 22) 더현대서울 6층\\n전화번호 02...  \n",
       "8   더현대 맛집 냄비요리연구소 내돈내산\\n몇일 전 다녀온줄 알았는데\\n알고보니 열흘이나...  \n",
       "9    음식점, 카페 모음\\n더현대 서울은 집에서 버스 하나만 타면 한 번에 갈 수 있어...  \n",
       "10  사실 인기가 좀 시들해지면 가려 했던 여의도 현대백화점, 더현대 서울.\\n그런데 좀...  \n",
       "11  예전부터 넘 가보고 싶었던 여의도 더현대 서울\\n외쿡 분위기가 난다고도 하고\\n각종...  \n",
       "12  서방이 다시 여의도에서 일하다보니\\n여의도 맛집들 찾게 되고\\n자연스럽게 더현대를 ...  \n",
       "13  안녕하세요. 찡긋입니다. \\n여전히 가장 핫플레이스! 더현대서울. \\n주말에 남편이...  \n",
       "14  여의도 더현대 맛집 중식 찾고 \\n계시다면 초류향 어떠세요?\\n전국의 맛집이 다 모...  \n",
       "15  파크원타워 오픈하고 바로 갔었던 더현대\\n그때 웨이팅이 어마어마하던 시절, 난 파크...  \n",
       "16  헤이웍 by 초류향 더현대서울점\\n# 여의도더현대맛집 # 더현대맛집\\n# 여의도중식...  \n",
       "17  여의도 더현대 맛집으로 느므느므 유명한 곳이길래 한껏 기대하고 방문한 호우섬. 평일...  \n",
       "18  두번째 회사가 여의도에 있었다. \\n증권회사들이 많았던 여의도 골목들 사이에... ...  \n",
       "19  더현대 나이스타임 '올드페리 도넛' 후기\\n오랜만에 다녀온 #더현대서울 \\n서울에 ...  \n",
       "20  안녕하세요!!\\n뽀또군의 유학사랑입니다^^ 서울출장을 가게되면 꼭 맛집을 다녀오려고...  \n",
       "21  안녕하세요 에일리 입니다. \\n오늘은 여의도 더현대서울 근처 한우맛집 한암동 후기를...  \n",
       "22  여의도 더현대가 생기면서\\n초창기에 방문했다가 사람 개많아서\\n더이상 안 온다 했던...  \n",
       "23  이제야 사람이 좀 적어진 더현대서울! \\n평일에 문 닫기 전에 \\n저녁 먹으러 가면...  \n",
       "24  [여의도 더현대 맛집] 코리안 바베큐 전문점 : Sooty (수티)  오랜만에 잠시...  \n",
       "25  더현대 서울 와플 맛집\\n와필레\\nWAFILLE 안녕하세요, 사과꽃입니당\\n그동안 ...  \n",
       "26  지난번에 포스팅했던 \"더현대서울 가볼만한 곳\" 포스팅 기억하시나요?!\\n그때 자세히...  \n",
       "27  안녕하세요. \\n지난번에 여의도에 다녀왔을때 다녀온 테일러 커피입니다. \\n처음에 ...  \n",
       "28  크리스마스 다음날, \\n서울에 한파주의보가 내린 주말.\\n크리스마스를 같이 즐기지 ...  \n",
       "29  여의도 맛집 핫플\\nIFC 쓰리버즈 브런치, 더현대 블루보틀, 워킹맘연차 \\n202...  "
      ]
     },
     "execution_count": 111,
     "metadata": {},
     "output_type": "execute_result"
    }
   ],
   "source": [
    "# 판다스로 만들기\n",
    "import pandas as pd\n",
    "result_df = pd.DataFrame.from_dict(dict, 'index')\n",
    "result_df"
   ]
  },
  {
   "cell_type": "code",
   "execution_count": 112,
   "metadata": {
    "id": "rxYCIxaE-kvv",
    "scrolled": true
   },
   "outputs": [],
   "source": [
    "# 엑셀로 저장하기\n",
    "result_df.to_excel(\"blog_content.xlsx\", encoding='utf-8-sig')"
   ]
  },
  {
   "cell_type": "code",
   "execution_count": 57,
   "metadata": {
    "id": "8tlfMsDm-kvv",
    "outputId": "4fa392b3-ae52-4762-ba70-cbc58cc0d074"
   },
   "outputs": [
    {
     "data": {
      "text/plain": [
       "'C:\\\\Users\\\\eunwon\\\\Desktop\\\\크롤링'"
      ]
     },
     "execution_count": 57,
     "metadata": {},
     "output_type": "execute_result"
    }
   ],
   "source": [
    "pwd"
   ]
  },
  {
   "cell_type": "code",
   "execution_count": null,
   "metadata": {
    "id": "lDj94wBC-kvv"
   },
   "outputs": [],
   "source": []
  },
  {
   "cell_type": "code",
   "execution_count": null,
   "metadata": {
    "id": "G9C5ou9Q-kvv"
   },
   "outputs": [],
   "source": []
  }
 ],
 "metadata": {
  "colab": {
   "name": "네이버블로그(202105)_크롤러.ipynb",
   "provenance": []
  },
  "kernelspec": {
   "display_name": "Python 3 (ipykernel)",
   "language": "python",
   "name": "python3"
  },
  "language_info": {
   "codemirror_mode": {
    "name": "ipython",
    "version": 3
   },
   "file_extension": ".py",
   "mimetype": "text/x-python",
   "name": "python",
   "nbconvert_exporter": "python",
   "pygments_lexer": "ipython3",
   "version": "3.9.7"
  },
  "toc": {
   "base_numbering": 1,
   "nav_menu": {},
   "number_sections": false,
   "sideBar": true,
   "skip_h1_title": false,
   "title_cell": "Table of Contents",
   "title_sidebar": "Contents",
   "toc_cell": false,
   "toc_position": {},
   "toc_section_display": true,
   "toc_window_display": false
  },
  "varInspector": {
   "cols": {
    "lenName": 16,
    "lenType": 16,
    "lenVar": 40
   },
   "kernels_config": {
    "python": {
     "delete_cmd_postfix": "",
     "delete_cmd_prefix": "del ",
     "library": "var_list.py",
     "varRefreshCmd": "print(var_dic_list())"
    },
    "r": {
     "delete_cmd_postfix": ") ",
     "delete_cmd_prefix": "rm(",
     "library": "var_list.r",
     "varRefreshCmd": "cat(var_dic_list()) "
    }
   },
   "position": {
    "height": "600px",
    "left": "554.76px",
    "right": "20px",
    "top": "88px",
    "width": "424px"
   },
   "types_to_exclude": [
    "module",
    "function",
    "builtin_function_or_method",
    "instance",
    "_Feature"
   ],
   "window_display": false
  }
 },
 "nbformat": 4,
 "nbformat_minor": 1
}
