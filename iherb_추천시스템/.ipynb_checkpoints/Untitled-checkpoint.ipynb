{
 "cells": [
  {
   "cell_type": "markdown",
   "id": "41b46e87",
   "metadata": {},
   "source": [
    "# 1. 아이허브 웹크롤링"
   ]
  },
  {
   "cell_type": "code",
   "execution_count": null,
   "id": "ad41f9a6",
   "metadata": {},
   "outputs": [],
   "source": []
  },
  {
   "cell_type": "markdown",
   "id": "6e06cf6f",
   "metadata": {},
   "source": [
    "## 1.1 아이템 크롤링"
   ]
  },
  {
   "cell_type": "markdown",
   "id": "3b0dff1d",
   "metadata": {},
   "source": [
    "## 1.2 유저리뷰 크롤링"
   ]
  },
  {
   "cell_type": "markdown",
   "id": "0deb2560",
   "metadata": {},
   "source": [
    "# 2. 데이터 전처리"
   ]
  },
  {
   "cell_type": "markdown",
   "id": "4321726e",
   "metadata": {},
   "source": [
    "# 3. 추천시스템"
   ]
  },
  {
   "cell_type": "markdown",
   "id": "d2d0e351",
   "metadata": {},
   "source": [
    "# 4. 평가/검증 "
   ]
  },
  {
   "cell_type": "code",
   "execution_count": null,
   "id": "a9d3dc55",
   "metadata": {},
   "outputs": [],
   "source": []
  },
  {
   "cell_type": "code",
   "execution_count": null,
   "id": "fed4d376",
   "metadata": {},
   "outputs": [],
   "source": []
  },
  {
   "cell_type": "code",
   "execution_count": null,
   "id": "2ae68884",
   "metadata": {},
   "outputs": [],
   "source": []
  },
  {
   "cell_type": "code",
   "execution_count": null,
   "id": "9c0b9991",
   "metadata": {},
   "outputs": [],
   "source": []
  },
  {
   "cell_type": "code",
   "execution_count": null,
   "id": "0fe63cbb",
   "metadata": {},
   "outputs": [],
   "source": []
  }
 ],
 "metadata": {
  "kernelspec": {
   "display_name": "Python 3 (ipykernel)",
   "language": "python",
   "name": "python3"
  },
  "language_info": {
   "codemirror_mode": {
    "name": "ipython",
    "version": 3
   },
   "file_extension": ".py",
   "mimetype": "text/x-python",
   "name": "python",
   "nbconvert_exporter": "python",
   "pygments_lexer": "ipython3",
   "version": "3.9.7"
  }
 },
 "nbformat": 4,
 "nbformat_minor": 5
}
